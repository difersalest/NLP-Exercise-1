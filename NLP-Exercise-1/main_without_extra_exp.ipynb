{
  "cells": [
    {
      "cell_type": "markdown",
      "metadata": {
        "id": "p6yklm2xWn9f"
      },
      "source": [
        "## Part I: Data Pre-processing"
      ]
    },
    {
      "cell_type": "code",
      "execution_count": 2,
      "metadata": {},
      "outputs": [],
      "source": [
        "import pandas as pd"
      ]
    },
    {
      "cell_type": "code",
      "execution_count": 3,
      "metadata": {
        "colab": {
          "base_uri": "https://localhost:8080/"
        },
        "id": "KKAXuhZIUxD8",
        "outputId": "481039e2-29b9-4727-a0bc-5ba3bfbcef1e"
      },
      "outputs": [
        {
          "name": "stdout",
          "output_type": "stream",
          "text": [
            "--2025-10-02 05:18:55--  http://download.tensorflow.org/data/questions-words.txt\n",
            "Resolving download.tensorflow.org (download.tensorflow.org)... 142.250.198.91, 142.250.66.91, 142.250.204.59, ...\n",
            "Connecting to download.tensorflow.org (download.tensorflow.org)|142.250.198.91|:80... connected.\n",
            "HTTP request sent, awaiting response... 200 OK\n",
            "Length: 603955 (590K) [text/plain]\n",
            "Saving to: ‘questions-words.txt.2’\n",
            "\n",
            "questions-words.txt 100%[===================>] 589.80K  --.-KB/s    in 0.03s   \n",
            "\n",
            "2025-10-02 05:18:55 (21.5 MB/s) - ‘questions-words.txt.2’ saved [603955/603955]\n",
            "\n"
          ]
        }
      ],
      "source": [
        "# Download the Google Analogy dataset\n",
        "!wget http://download.tensorflow.org/data/questions-words.txt"
      ]
    },
    {
      "cell_type": "code",
      "execution_count": 4,
      "metadata": {
        "id": "xue5pVFLVNQQ"
      },
      "outputs": [],
      "source": [
        "# Preprocess the dataset\n",
        "file_name = \"questions-words\"\n",
        "with open(f\"{file_name}.txt\", \"r\") as f:\n",
        "    data = f.read().splitlines()"
      ]
    },
    {
      "cell_type": "code",
      "execution_count": 5,
      "metadata": {
        "colab": {
          "base_uri": "https://localhost:8080/"
        },
        "id": "h7dOdJOsZzAF",
        "outputId": "b0fe6ffa-2282-4321-ab80-f97eeffe14ef"
      },
      "outputs": [
        {
          "name": "stdout",
          "output_type": "stream",
          "text": [
            ": capital-common-countries\n",
            "Athens Greece Baghdad Iraq\n",
            "Athens Greece Bangkok Thailand\n",
            "Athens Greece Beijing China\n",
            "Athens Greece Berlin Germany\n",
            "Athens Greece Bern Switzerland\n",
            "Athens Greece Cairo Egypt\n",
            "Athens Greece Canberra Australia\n",
            "Athens Greece Hanoi Vietnam\n",
            "Athens Greece Havana Cuba\n"
          ]
        }
      ],
      "source": [
        "# check data from the first 10 entries\n",
        "for entry in data[:10]:\n",
        "    print(entry)"
      ]
    },
    {
      "cell_type": "code",
      "execution_count": 6,
      "metadata": {
        "colab": {
          "base_uri": "https://localhost:8080/"
        },
        "id": "wmYQ0IWZZxf3",
        "outputId": "ccc32d8b-fb1d-4034-bee1-5e151a7a24cc"
      },
      "outputs": [
        {
          "name": "stdout",
          "output_type": "stream",
          "text": [
            "Entries for category Semantic and subcategory : capital-common-countries: \n",
            "507\n",
            "Entries for category Semantic and subcategory : capital-world: \n",
            "4525\n",
            "Entries for category Semantic and subcategory : currency: \n",
            "867\n",
            "Entries for category Semantic and subcategory : city-in-state: \n",
            "2468\n",
            "Entries for category Semantic and subcategory : family: \n",
            "507\n",
            "Entries for category Syntactic and subcategory : gram1-adjective-to-adverb: \n",
            "993\n",
            "Entries for category Syntactic and subcategory : gram2-opposite: \n",
            "813\n",
            "Entries for category Syntactic and subcategory : gram3-comparative: \n",
            "1333\n",
            "Entries for category Syntactic and subcategory : gram4-superlative: \n",
            "1123\n",
            "Entries for category Syntactic and subcategory : gram5-present-participle: \n",
            "1057\n",
            "Entries for category Syntactic and subcategory : gram6-nationality-adjective: \n",
            "1600\n",
            "Entries for category Syntactic and subcategory : gram7-past-tense: \n",
            "1561\n",
            "Entries for category Syntactic and subcategory : gram8-plural: \n",
            "1333\n",
            "Entries for category Syntactic and subcategory : gram9-plural-verbs: \n",
            "870\n",
            "\n",
            "Count of subcategories: 14\n"
          ]
        }
      ],
      "source": [
        "# TODO1: Write your code here for processing data to pd.DataFrame\n",
        "# Please note that the first five mentions of \": \" indicate `semantic`,\n",
        "# and the remaining nine belong to the `syntatic` category.\n",
        "count_subcat = 0\n",
        "count_entries = 0\n",
        "questions = []\n",
        "categories = []\n",
        "sub_categories = []\n",
        "current_subcat = \"\"\n",
        "current_cat = \"\"\n",
        "for entry in data:\n",
        "    count_entries += 1\n",
        "    if \": \" in entry:\n",
        "        count_subcat += 1\n",
        "        if(count_subcat >1):\n",
        "          print(f\"Entries for category {current_cat} and subcategory {current_subcat}: \\n{count_entries}\")\n",
        "        count_entries = 0\n",
        "        current_subcat = entry\n",
        "        if count_subcat <= 5:\n",
        "            current_cat = \"Semantic\"\n",
        "        elif count_subcat > 5:\n",
        "            current_cat = \"Syntactic\"\n",
        "    else:\n",
        "        categories.append(current_cat)\n",
        "        sub_categories.append(current_subcat)\n",
        "        questions.append(entry)\n",
        "\n",
        "print(f\"Entries for category {current_cat} and subcategory {current_subcat}: \\n{count_entries}\")\n",
        "print(f\"\\nCount of subcategories: {count_subcat}\")\n"
      ]
    },
    {
      "cell_type": "code",
      "execution_count": 7,
      "metadata": {
        "id": "_bKA05rVZb_i"
      },
      "outputs": [],
      "source": [
        "# Create the dataframe\n",
        "df = pd.DataFrame(\n",
        "    {\n",
        "        \"Question\": questions,\n",
        "        \"Category\": categories,\n",
        "        \"SubCategory\": sub_categories,\n",
        "    }\n",
        ")"
      ]
    },
    {
      "cell_type": "code",
      "execution_count": 8,
      "metadata": {
        "colab": {
          "base_uri": "https://localhost:8080/",
          "height": 206
        },
        "id": "UN2FBcicZmpV",
        "outputId": "ff653153-8058-4486-f8cf-3762b561a5d9"
      },
      "outputs": [
        {
          "data": {
            "text/html": [
              "<div>\n",
              "<style scoped>\n",
              "    .dataframe tbody tr th:only-of-type {\n",
              "        vertical-align: middle;\n",
              "    }\n",
              "\n",
              "    .dataframe tbody tr th {\n",
              "        vertical-align: top;\n",
              "    }\n",
              "\n",
              "    .dataframe thead th {\n",
              "        text-align: right;\n",
              "    }\n",
              "</style>\n",
              "<table border=\"1\" class=\"dataframe\">\n",
              "  <thead>\n",
              "    <tr style=\"text-align: right;\">\n",
              "      <th></th>\n",
              "      <th>Question</th>\n",
              "      <th>Category</th>\n",
              "      <th>SubCategory</th>\n",
              "    </tr>\n",
              "  </thead>\n",
              "  <tbody>\n",
              "    <tr>\n",
              "      <th>0</th>\n",
              "      <td>Athens Greece Baghdad Iraq</td>\n",
              "      <td>Semantic</td>\n",
              "      <td>: capital-common-countries</td>\n",
              "    </tr>\n",
              "    <tr>\n",
              "      <th>1</th>\n",
              "      <td>Athens Greece Bangkok Thailand</td>\n",
              "      <td>Semantic</td>\n",
              "      <td>: capital-common-countries</td>\n",
              "    </tr>\n",
              "    <tr>\n",
              "      <th>2</th>\n",
              "      <td>Athens Greece Beijing China</td>\n",
              "      <td>Semantic</td>\n",
              "      <td>: capital-common-countries</td>\n",
              "    </tr>\n",
              "    <tr>\n",
              "      <th>3</th>\n",
              "      <td>Athens Greece Berlin Germany</td>\n",
              "      <td>Semantic</td>\n",
              "      <td>: capital-common-countries</td>\n",
              "    </tr>\n",
              "    <tr>\n",
              "      <th>4</th>\n",
              "      <td>Athens Greece Bern Switzerland</td>\n",
              "      <td>Semantic</td>\n",
              "      <td>: capital-common-countries</td>\n",
              "    </tr>\n",
              "  </tbody>\n",
              "</table>\n",
              "</div>"
            ],
            "text/plain": [
              "                         Question  Category                 SubCategory\n",
              "0      Athens Greece Baghdad Iraq  Semantic  : capital-common-countries\n",
              "1  Athens Greece Bangkok Thailand  Semantic  : capital-common-countries\n",
              "2     Athens Greece Beijing China  Semantic  : capital-common-countries\n",
              "3    Athens Greece Berlin Germany  Semantic  : capital-common-countries\n",
              "4  Athens Greece Bern Switzerland  Semantic  : capital-common-countries"
            ]
          },
          "execution_count": 8,
          "metadata": {},
          "output_type": "execute_result"
        }
      ],
      "source": [
        "df.head()"
      ]
    },
    {
      "cell_type": "code",
      "execution_count": 9,
      "metadata": {
        "id": "nMGvoDeiZhbp"
      },
      "outputs": [],
      "source": [
        "df.to_csv(f\"{file_name}.csv\", index=False)"
      ]
    },
    {
      "cell_type": "markdown",
      "metadata": {
        "id": "Zi2SNNuHWiZO"
      },
      "source": [
        "## Part II: Use pre-trained word embeddings\n",
        "- After finish Part I, you can run Part II code blocks only."
      ]
    },
    {
      "cell_type": "code",
      "execution_count": 36,
      "metadata": {
        "id": "yB4rpJymXiSN"
      },
      "outputs": [],
      "source": [
        "import pandas as pd\n",
        "import numpy as np\n",
        "import gensim.downloader\n",
        "from tqdm import tqdm\n",
        "import matplotlib.pyplot as plt\n",
        "from sklearn.manifold import TSNE"
      ]
    },
    {
      "cell_type": "code",
      "execution_count": 11,
      "metadata": {
        "id": "-pGLoyKSHXuQ"
      },
      "outputs": [],
      "source": [
        "data = pd.read_csv(\"questions-words.csv\")"
      ]
    },
    {
      "cell_type": "code",
      "execution_count": 12,
      "metadata": {
        "colab": {
          "base_uri": "https://localhost:8080/"
        },
        "id": "YWa_1hF3aZHO",
        "outputId": "b3ed4ed2-9525-45c7-d6dd-c8e81fed1041"
      },
      "outputs": [
        {
          "name": "stdout",
          "output_type": "stream",
          "text": [
            "The Gensim model loaded successfully!\n"
          ]
        }
      ],
      "source": [
        "MODEL_NAME = \"glove-wiki-gigaword-100\"\n",
        "# You can try other models.\n",
        "# https://radimrehurek.com/gensim/models/word2vec.html#pretrained-models\n",
        "\n",
        "# Load the pre-trained model (using GloVe vectors here)\n",
        "model = gensim.downloader.load(MODEL_NAME)\n",
        "print(\"The Gensim model loaded successfully!\")"
      ]
    },
    {
      "cell_type": "markdown",
      "metadata": {
        "id": "igAu0bG53ULp"
      },
      "source": [
        "Exploring the data manipulation functions"
      ]
    },
    {
      "cell_type": "code",
      "execution_count": 13,
      "metadata": {
        "colab": {
          "base_uri": "https://localhost:8080/",
          "height": 36
        },
        "id": "LW7DqVHa2H4L",
        "outputId": "063db07d-7f00-44dd-e99f-91c202edad30"
      },
      "outputs": [
        {
          "data": {
            "text/plain": [
              "'Athens'"
            ]
          },
          "execution_count": 13,
          "metadata": {},
          "output_type": "execute_result"
        }
      ],
      "source": [
        "data[\"Question\"][0].split(\" \")[0]"
      ]
    },
    {
      "cell_type": "code",
      "execution_count": 14,
      "metadata": {
        "colab": {
          "base_uri": "https://localhost:8080/",
          "height": 36
        },
        "id": "CWWE_LwU2miN",
        "outputId": "3d522bf5-aef5-49cd-a7d5-9844077420c8"
      },
      "outputs": [
        {
          "data": {
            "text/plain": [
              "'Athens Greece Baghdad Iraq'"
            ]
          },
          "execution_count": 14,
          "metadata": {},
          "output_type": "execute_result"
        }
      ],
      "source": [
        "str(data[\"Question\"][0])"
      ]
    },
    {
      "cell_type": "code",
      "execution_count": 15,
      "metadata": {
        "colab": {
          "base_uri": "https://localhost:8080/"
        },
        "id": "sJgLZrQo1yqB",
        "outputId": "4d6f552d-b9e9-4ab4-ed80-43f26af910c5"
      },
      "outputs": [
        {
          "data": {
            "text/plain": [
              "array([ 1.7342e-01,  1.8416e-01,  1.0752e-01,  8.0895e-02, -6.0546e-02,\n",
              "        6.4409e-01, -6.6417e-01,  7.5784e-03,  3.2781e-01,  8.6334e-01,\n",
              "       -1.7249e-02,  1.3235e-01, -1.1111e-01,  8.2899e-02, -1.8723e+00,\n",
              "       -2.4523e-01, -3.6590e-01,  2.5461e-01, -1.0039e+00, -5.7647e-01,\n",
              "       -2.2902e-01, -1.5441e-03, -1.5344e-01,  9.8980e-01, -3.5196e-01,\n",
              "       -1.0440e+00, -7.9414e-01, -2.1094e-01,  1.5623e-01, -7.0185e-03,\n",
              "       -1.1684e+00, -2.5954e-01, -2.1237e-01,  6.5456e-01,  2.3970e-01,\n",
              "       -3.1490e-01,  3.3004e-01,  6.7173e-01, -8.0113e-01, -4.6615e-01,\n",
              "       -3.4569e-01, -7.0873e-01,  7.7523e-02, -6.8877e-01,  5.2528e-01,\n",
              "        3.3270e-01,  7.5618e-01, -9.7403e-01,  4.4714e-01,  2.8312e-01,\n",
              "        2.6373e-01, -1.3202e-02,  6.6350e-01,  3.6040e-01, -8.5813e-01,\n",
              "       -2.0277e+00, -1.3650e-01,  3.1626e-01,  5.3241e-01,  1.4066e-01,\n",
              "       -1.0242e+00,  1.9140e-01, -4.0100e-01,  6.5574e-01, -4.3107e-01,\n",
              "        4.5042e-01, -6.6581e-01,  1.3066e-01, -3.9877e-01, -1.1149e-02,\n",
              "       -9.3183e-01, -4.2668e-01, -8.6201e-01,  5.3154e-01,  2.4339e-01,\n",
              "        3.7854e-01,  7.5598e-01,  1.6480e-01, -9.2546e-01, -3.2933e-01,\n",
              "        5.3581e-01,  2.5043e-02, -3.8219e-01, -5.9597e-01, -3.8617e-02,\n",
              "        5.7619e-01, -4.3112e-01,  4.3064e-01, -8.2133e-02,  1.5894e-01,\n",
              "        3.7740e-01,  2.7829e-01,  1.2361e-01,  5.9291e-01, -3.9053e-01,\n",
              "        5.6362e-01, -4.5346e-01,  5.9624e-01,  5.3506e-01,  2.0667e-02],\n",
              "      dtype=float32)"
            ]
          },
          "execution_count": 15,
          "metadata": {},
          "output_type": "execute_result"
        }
      ],
      "source": [
        "model[data[\"Question\"][0].split(\" \")[0].lower()]"
      ]
    },
    {
      "cell_type": "code",
      "execution_count": 16,
      "metadata": {
        "colab": {
          "base_uri": "https://localhost:8080/",
          "height": 36
        },
        "id": "pMxyqpcW3zwh",
        "outputId": "527fda37-9b59-4a55-e1cb-33ccba681020"
      },
      "outputs": [
        {
          "data": {
            "text/plain": [
              "'iraq'"
            ]
          },
          "execution_count": 16,
          "metadata": {},
          "output_type": "execute_result"
        }
      ],
      "source": [
        "word_a = model[data[\"Question\"][0].split(\" \")[0].lower()]\n",
        "word_b = model[data[\"Question\"][0].split(\" \")[1].lower()]\n",
        "word_c = model[data[\"Question\"][0].split(\" \")[2].lower()]\n",
        "word_d = model[data[\"Question\"][0].split(\" \")[3].lower()]\n",
        "\n",
        "pred = word_b + word_c - word_a\n",
        "\n",
        "model.most_similar(positive = pred, topn = 1)[0][0]"
      ]
    },
    {
      "cell_type": "code",
      "execution_count": 8,
      "metadata": {
        "colab": {
          "base_uri": "https://localhost:8080/"
        },
        "id": "YTsqJcP1WSTH",
        "outputId": "a37a522b-5570-4bdf-9417-648035aba394"
      },
      "outputs": [
        {
          "name": "stderr",
          "output_type": "stream",
          "text": [
            "100%|██████████| 19544/19544 [05:40<00:00, 57.31it/s]\n"
          ]
        }
      ],
      "source": [
        "# Do predictions and preserve the gold answers (word_D)\n",
        "preds = []\n",
        "golds = []\n",
        "\n",
        "for analogy in tqdm(data[\"Question\"]):\n",
        "      # TODO2: Write your code here to use pre-trained word embeddings for getting predictions of the analogy task.\n",
        "      # You should also preserve the gold answers during iterations for evaluations later.\n",
        "      \"\"\" Hints\n",
        "      # Unpack the analogy (e.g., \"man\", \"woman\", \"king\", \"queen\")\n",
        "      # Perform vector arithmetic: word_b + word_c - word_a should be close to word_d\n",
        "      # Source: https://github.com/piskvorky/gensim/blob/develop/gensim/models/keyedvectors.py#L776\n",
        "      # Mikolov et al., 2013: big - biggest and small - smallest\n",
        "      # Mikolov et al., 2013: X = vector(”biggest”) − vector(”big”) + vector(”small”).\n",
        "      \"\"\"\n",
        "      word_a = analogy.split(\" \")[0].lower()\n",
        "      word_b = analogy.split(\" \")[1].lower()\n",
        "      word_c = analogy.split(\" \")[2].lower()\n",
        "      word_d = analogy.split(\" \")[3].lower()\n",
        "      pred = model[word_b] + model[word_c] - model[word_a]\n",
        "      preds.append(model.most_similar(positive = pred, topn = 1)[0][0])\n",
        "      golds.append(word_d)\n",
        "\n"
      ]
    },
    {
      "cell_type": "code",
      "execution_count": 9,
      "metadata": {
        "colab": {
          "base_uri": "https://localhost:8080/"
        },
        "id": "xG7vcPXAW6uT",
        "outputId": "6e3cec89-03b1-43bb-aae9-13dcdf1ff913"
      },
      "outputs": [
        {
          "name": "stdout",
          "output_type": "stream",
          "text": [
            "Category: Semantic, Accuracy: 44.31164731085804%\n",
            "Category: Syntactic, Accuracy: 27.306791569086652%\n",
            "Sub-Category: capital-common-countries, Accuracy: 79.05138339920948%\n",
            "Sub-Category: capital-world, Accuracy: 65.42882404951371%\n",
            "Sub-Category: currency, Accuracy: 9.006928406466514%\n",
            "Sub-Category: city-in-state, Accuracy: 11.795703283340089%\n",
            "Sub-Category: family, Accuracy: 39.723320158102766%\n",
            "Sub-Category: gram1-adjective-to-adverb, Accuracy: 6.048387096774194%\n",
            "Sub-Category: gram2-opposite, Accuracy: 6.280788177339902%\n",
            "Sub-Category: gram3-comparative, Accuracy: 30.705705705705704%\n",
            "Sub-Category: gram4-superlative, Accuracy: 25.49019607843137%\n",
            "Sub-Category: gram5-present-participle, Accuracy: 13.446969696969695%\n",
            "Sub-Category: gram6-nationality-adjective, Accuracy: 86.55409631019387%\n",
            "Sub-Category: gram7-past-tense, Accuracy: 11.346153846153847%\n",
            "Sub-Category: gram8-plural, Accuracy: 15.54054054054054%\n",
            "Sub-Category: gram9-plural-verbs, Accuracy: 22.873563218390807%\n"
          ]
        }
      ],
      "source": [
        "# Perform evaluations. You do not need to modify this block!!\n",
        "\n",
        "def calculate_accuracy(gold: np.ndarray, pred: np.ndarray) -> float:\n",
        "    return np.mean(gold == pred)\n",
        "\n",
        "golds_np, preds_np = np.array(golds), np.array(preds)\n",
        "data = pd.read_csv(\"questions-words.csv\")\n",
        "\n",
        "# Evaluation: categories\n",
        "for category in data[\"Category\"].unique():\n",
        "    mask = data[\"Category\"] == category\n",
        "    golds_cat, preds_cat = golds_np[mask], preds_np[mask]\n",
        "    acc_cat = calculate_accuracy(golds_cat, preds_cat)\n",
        "    print(f\"Category: {category}, Accuracy: {acc_cat * 100}%\")\n",
        "\n",
        "# Evaluation: sub-categories\n",
        "for sub_category in data[\"SubCategory\"].unique():\n",
        "    mask = data[\"SubCategory\"] == sub_category\n",
        "    golds_subcat, preds_subcat = golds_np[mask], preds_np[mask]\n",
        "    acc_subcat = calculate_accuracy(golds_subcat, preds_subcat)\n",
        "    print(f\"Sub-Category{sub_category}, Accuracy: {acc_subcat * 100}%\")"
      ]
    },
    {
      "cell_type": "markdown",
      "metadata": {
        "id": "1Q5ETecbBGPC"
      },
      "source": [
        "Exploring the data before plotting"
      ]
    },
    {
      "cell_type": "code",
      "execution_count": 20,
      "metadata": {
        "colab": {
          "base_uri": "https://localhost:8080/",
          "height": 458
        },
        "id": "3fq4Lw6Z_d9F",
        "outputId": "6e0ab6d9-2612-4325-ecef-81489a67e2c1"
      },
      "outputs": [
        {
          "data": {
            "text/html": [
              "<div>\n",
              "<style scoped>\n",
              "    .dataframe tbody tr th:only-of-type {\n",
              "        vertical-align: middle;\n",
              "    }\n",
              "\n",
              "    .dataframe tbody tr th {\n",
              "        vertical-align: top;\n",
              "    }\n",
              "\n",
              "    .dataframe thead th {\n",
              "        text-align: right;\n",
              "    }\n",
              "</style>\n",
              "<table border=\"1\" class=\"dataframe\">\n",
              "  <thead>\n",
              "    <tr style=\"text-align: right;\">\n",
              "      <th></th>\n",
              "      <th>Question</th>\n",
              "    </tr>\n",
              "  </thead>\n",
              "  <tbody>\n",
              "    <tr>\n",
              "      <th>8363</th>\n",
              "      <td>boy girl brother sister</td>\n",
              "    </tr>\n",
              "    <tr>\n",
              "      <th>8364</th>\n",
              "      <td>boy girl brothers sisters</td>\n",
              "    </tr>\n",
              "    <tr>\n",
              "      <th>8365</th>\n",
              "      <td>boy girl dad mom</td>\n",
              "    </tr>\n",
              "    <tr>\n",
              "      <th>8366</th>\n",
              "      <td>boy girl father mother</td>\n",
              "    </tr>\n",
              "    <tr>\n",
              "      <th>8367</th>\n",
              "      <td>boy girl grandfather grandmother</td>\n",
              "    </tr>\n",
              "    <tr>\n",
              "      <th>...</th>\n",
              "      <td>...</td>\n",
              "    </tr>\n",
              "    <tr>\n",
              "      <th>8864</th>\n",
              "      <td>uncle aunt son daughter</td>\n",
              "    </tr>\n",
              "    <tr>\n",
              "      <th>8865</th>\n",
              "      <td>uncle aunt sons daughters</td>\n",
              "    </tr>\n",
              "    <tr>\n",
              "      <th>8866</th>\n",
              "      <td>uncle aunt stepbrother stepsister</td>\n",
              "    </tr>\n",
              "    <tr>\n",
              "      <th>8867</th>\n",
              "      <td>uncle aunt stepfather stepmother</td>\n",
              "    </tr>\n",
              "    <tr>\n",
              "      <th>8868</th>\n",
              "      <td>uncle aunt stepson stepdaughter</td>\n",
              "    </tr>\n",
              "  </tbody>\n",
              "</table>\n",
              "<p>506 rows × 1 columns</p>\n",
              "</div><br><label><b>dtype:</b> object</label>"
            ],
            "text/plain": [
              "8363              boy girl brother sister\n",
              "8364            boy girl brothers sisters\n",
              "8365                     boy girl dad mom\n",
              "8366               boy girl father mother\n",
              "8367     boy girl grandfather grandmother\n",
              "                      ...                \n",
              "8864              uncle aunt son daughter\n",
              "8865            uncle aunt sons daughters\n",
              "8866    uncle aunt stepbrother stepsister\n",
              "8867     uncle aunt stepfather stepmother\n",
              "8868      uncle aunt stepson stepdaughter\n",
              "Name: Question, Length: 506, dtype: object"
            ]
          },
          "execution_count": 20,
          "metadata": {},
          "output_type": "execute_result"
        }
      ],
      "source": [
        "data[data['SubCategory'] == \": family\"].iloc[:][\"Question\"]"
      ]
    },
    {
      "cell_type": "code",
      "execution_count": 27,
      "metadata": {
        "colab": {
          "base_uri": "https://localhost:8080/",
          "height": 870
        },
        "id": "7_z6CybBXKZu",
        "outputId": "4c741d15-9693-434d-a342-827cdc97d8b4"
      },
      "outputs": [
        {
          "data": {
            "image/png": "[encoded data removed]",
            "text/plain": [
              "<Figure size 1000x1000 with 1 Axes>"
            ]
          },
          "metadata": {},
          "output_type": "display_data"
        },
        {
          "data": {
            "text/plain": [
              "<Figure size 640x480 with 0 Axes>"
            ]
          },
          "metadata": {},
          "output_type": "display_data"
        }
      ],
      "source": [
        "# Collect words from Google Analogy dataset\n",
        "SUB_CATEGORY = \": family\"\n",
        "\n",
        "# TODO3: Plot t-SNE for the words in the SUB_CATEGORY `: family`\n",
        "from sklearn.manifold import TSNE\n",
        "\n",
        "# Definint the t-SNE 2D representation\n",
        "tsne = TSNE(n_components=2, metric='cosine', random_state=42)\n",
        "\n",
        "family_vect_data = []\n",
        "# words_to_plot = []\n",
        "words_to_plot = set()\n",
        "\n",
        "# Obtaining all the unique words from the analogies in the 'family' subcategory\n",
        "for analogy in data[data['SubCategory'] == \": family\"].iloc[:][\"Question\"]:\n",
        "    for word in analogy.split(\" \"):\n",
        "        words_to_plot.add(word.lower())\n",
        "        # This part uncommented obtains all words, even non-unique\n",
        "        # words_to_plot.append(word.lower())\n",
        "        # family_vect_data.append(model[word.lower()])\n",
        "\n",
        "# Obtaining the embedding vectors of the unique words in the subcategory\n",
        "for word in words_to_plot:\n",
        "    family_vect_data.append(model[word.lower()])\n",
        "\n",
        "# Obtaining the tsne 2D representation of the embeddings\n",
        "converted_vec = tsne.fit_transform(np.array(family_vect_data))\n",
        "\n",
        "\n",
        "# Plotting the figure\n",
        "plt.figure(figsize=(10, 10), dpi=100)\n",
        "plt.scatter(converted_vec[:, 0], converted_vec[:, 1])\n",
        "\n",
        "# Labeling each point with the related word\n",
        "for label, x, y in zip(words_to_plot, converted_vec[:, 0], converted_vec[:, 1]):\n",
        "    plt.annotate(label, xy=(x,y), xytext=(0,0),  textcoords='offset points')\n",
        "plt.title(\"Word Relationships from Google Analogy Task\")\n",
        "plt.show()\n",
        "plt.savefig(\"word_relationships.png\", bbox_inches=\"tight\")"
      ]
    },
    {
      "cell_type": "markdown",
      "metadata": {
        "id": "DKRPJxgKXH4j"
      },
      "source": [
        "### Part III: Train your own word embeddings"
      ]
    },
    {
      "cell_type": "markdown",
      "metadata": {
        "id": "VC_0fE1UzL8T"
      },
      "source": [
        "### Get the latest English Wikipedia articles and do sampling.\n",
        "- Usually, we start from Wikipedia dump (https://dumps.wikimedia.org/enwiki/latest/enwiki-latest-pages-articles.xml.bz2). However, the downloading step will take very long. Also, the cleaning step for the Wikipedia corpus ([`gensim.corpora.wikicorpus.WikiCorpus`](https://radimrehurek.com/gensim/corpora/wikicorpus.html#gensim.corpora.wikicorpus.WikiCorpus)) will take much time. Therefore, we provide cleaned files for you."
      ]
    },
    {
      "cell_type": "code",
      "execution_count": 34,
      "metadata": {
        "colab": {
          "base_uri": "https://localhost:8080/"
        },
        "collapsed": true,
        "id": "FkubArwCCYxR",
        "outputId": "ff7cd18b-128a-4058-f864-bc2543f93efc"
      },
      "outputs": [
        {
          "name": "stdout",
          "output_type": "stream",
          "text": [
            "/usr/local/lib/python3.12/dist-packages/gdown/__main__.py:140: FutureWarning: Option `--id` was deprecated in version 4.3.1 and will be removed in 5.0. You don't need to pass it anymore to use a file ID.\n",
            "  warnings.warn(\n",
            "Failed to retrieve file url:\n",
            "\n",
            "\tToo many users have viewed or downloaded this file recently. Please\n",
            "\ttry accessing the file again later. If the file you are trying to\n",
            "\taccess is particularly large or is shared with many people, it may\n",
            "\ttake up to 24 hours to be able to view or download the file. If you\n",
            "\tstill can't access a file after 24 hours, contact your domain\n",
            "\tadministrator.\n",
            "\n",
            "You may still be able to access the file from the browser:\n",
            "\n",
            "\thttps://drive.google.com/uc?id=1jiu9E1NalT2Y8EIuWNa1xf2Tw1f1XuGd\n",
            "\n",
            "but Gdown can't. Please check connections and permissions.\n",
            "/usr/local/lib/python3.12/dist-packages/gdown/__main__.py:140: FutureWarning: Option `--id` was deprecated in version 4.3.1 and will be removed in 5.0. You don't need to pass it anymore to use a file ID.\n",
            "  warnings.warn(\n",
            "Failed to retrieve file url:\n",
            "\n",
            "\tToo many users have viewed or downloaded this file recently. Please\n",
            "\ttry accessing the file again later. If the file you are trying to\n",
            "\taccess is particularly large or is shared with many people, it may\n",
            "\ttake up to 24 hours to be able to view or download the file. If you\n",
            "\tstill can't access a file after 24 hours, contact your domain\n",
            "\tadministrator.\n",
            "\n",
            "You may still be able to access the file from the browser:\n",
            "\n",
            "\thttps://drive.google.com/uc?id=1ABblLRd9HXdXvaNv8H9fFq984bhnowoG\n",
            "\n",
            "but Gdown can't. Please check connections and permissions.\n",
            "/usr/local/lib/python3.12/dist-packages/gdown/__main__.py:140: FutureWarning: Option `--id` was deprecated in version 4.3.1 and will be removed in 5.0. You don't need to pass it anymore to use a file ID.\n",
            "  warnings.warn(\n",
            "Failed to retrieve file url:\n",
            "\n",
            "\tToo many users have viewed or downloaded this file recently. Please\n",
            "\ttry accessing the file again later. If the file you are trying to\n",
            "\taccess is particularly large or is shared with many people, it may\n",
            "\ttake up to 24 hours to be able to view or download the file. If you\n",
            "\tstill can't access a file after 24 hours, contact your domain\n",
            "\tadministrator.\n",
            "\n",
            "You may still be able to access the file from the browser:\n",
            "\n",
            "\thttps://drive.google.com/uc?id=1z2VFNhpPvCejTP5zyejzKj5YjI_Bn42M\n",
            "\n",
            "but Gdown can't. Please check connections and permissions.\n",
            "/usr/local/lib/python3.12/dist-packages/gdown/__main__.py:140: FutureWarning: Option `--id` was deprecated in version 4.3.1 and will be removed in 5.0. You don't need to pass it anymore to use a file ID.\n",
            "  warnings.warn(\n",
            "Failed to retrieve file url:\n",
            "\n",
            "\tToo many users have viewed or downloaded this file recently. Please\n",
            "\ttry accessing the file again later. If the file you are trying to\n",
            "\taccess is particularly large or is shared with many people, it may\n",
            "\ttake up to 24 hours to be able to view or download the file. If you\n",
            "\tstill can't access a file after 24 hours, contact your domain\n",
            "\tadministrator.\n",
            "\n",
            "You may still be able to access the file from the browser:\n",
            "\n",
            "\thttps://drive.google.com/uc?id=1VKjded9BxADRhIoCzXy_W8uzVOTWIf0g\n",
            "\n",
            "but Gdown can't. Please check connections and permissions.\n",
            "/usr/local/lib/python3.12/dist-packages/gdown/__main__.py:140: FutureWarning: Option `--id` was deprecated in version 4.3.1 and will be removed in 5.0. You don't need to pass it anymore to use a file ID.\n",
            "  warnings.warn(\n",
            "Failed to retrieve file url:\n",
            "\n",
            "\tToo many users have viewed or downloaded this file recently. Please\n",
            "\ttry accessing the file again later. If the file you are trying to\n",
            "\taccess is particularly large or is shared with many people, it may\n",
            "\ttake up to 24 hours to be able to view or download the file. If you\n",
            "\tstill can't access a file after 24 hours, contact your domain\n",
            "\tadministrator.\n",
            "\n",
            "You may still be able to access the file from the browser:\n",
            "\n",
            "\thttps://drive.google.com/uc?id=16mBeG26m9LzHXdPe8UrijUIc6sHxhknz\n",
            "\n",
            "but Gdown can't. Please check connections and permissions.\n"
          ]
        }
      ],
      "source": [
        "# Download the split Wikipedia files\n",
        "# Each file contain 562365 lines (articles).\n",
        "!gdown --id 1jiu9E1NalT2Y8EIuWNa1xf2Tw1f1XuGd -O wiki_texts_part_0.txt.gz\n",
        "!gdown --id 1ABblLRd9HXdXvaNv8H9fFq984bhnowoG -O wiki_texts_part_1.txt.gz\n",
        "!gdown --id 1z2VFNhpPvCejTP5zyejzKj5YjI_Bn42M -O wiki_texts_part_2.txt.gz\n",
        "!gdown --id 1VKjded9BxADRhIoCzXy_W8uzVOTWIf0g -O wiki_texts_part_3.txt.gz\n",
        "!gdown --id 16mBeG26m9LzHXdPe8UrijUIc6sHxhknz -O wiki_texts_part_4.txt.gz"
      ]
    },
    {
      "cell_type": "code",
      "execution_count": 35,
      "metadata": {
        "colab": {
          "base_uri": "https://localhost:8080/"
        },
        "collapsed": true,
        "id": "8S3ibNT3C8Xk",
        "outputId": "eb5bd584-dfc6-4a51-869c-c91b5ed9bbfe"
      },
      "outputs": [
        {
          "name": "stdout",
          "output_type": "stream",
          "text": [
            "/usr/local/lib/python3.12/dist-packages/gdown/__main__.py:140: FutureWarning: Option `--id` was deprecated in version 4.3.1 and will be removed in 5.0. You don't need to pass it anymore to use a file ID.\n",
            "  warnings.warn(\n",
            "Failed to retrieve file url:\n",
            "\n",
            "\tToo many users have viewed or downloaded this file recently. Please\n",
            "\ttry accessing the file again later. If the file you are trying to\n",
            "\taccess is particularly large or is shared with many people, it may\n",
            "\ttake up to 24 hours to be able to view or download the file. If you\n",
            "\tstill can't access a file after 24 hours, contact your domain\n",
            "\tadministrator.\n",
            "\n",
            "You may still be able to access the file from the browser:\n",
            "\n",
            "\thttps://drive.google.com/uc?id=17JFvxOH-kc-VmvGkhG7p3iSZSpsWdgJI\n",
            "\n",
            "but Gdown can't. Please check connections and permissions.\n",
            "/usr/local/lib/python3.12/dist-packages/gdown/__main__.py:140: FutureWarning: Option `--id` was deprecated in version 4.3.1 and will be removed in 5.0. You don't need to pass it anymore to use a file ID.\n",
            "  warnings.warn(\n",
            "Failed to retrieve file url:\n",
            "\n",
            "\tToo many users have viewed or downloaded this file recently. Please\n",
            "\ttry accessing the file again later. If the file you are trying to\n",
            "\taccess is particularly large or is shared with many people, it may\n",
            "\ttake up to 24 hours to be able to view or download the file. If you\n",
            "\tstill can't access a file after 24 hours, contact your domain\n",
            "\tadministrator.\n",
            "\n",
            "You may still be able to access the file from the browser:\n",
            "\n",
            "\thttps://drive.google.com/uc?id=19IvB2vOJRGlrYulnTXlZECR8zT5v550P\n",
            "\n",
            "but Gdown can't. Please check connections and permissions.\n",
            "/usr/local/lib/python3.12/dist-packages/gdown/__main__.py:140: FutureWarning: Option `--id` was deprecated in version 4.3.1 and will be removed in 5.0. You don't need to pass it anymore to use a file ID.\n",
            "  warnings.warn(\n",
            "Failed to retrieve file url:\n",
            "\n",
            "\tToo many users have viewed or downloaded this file recently. Please\n",
            "\ttry accessing the file again later. If the file you are trying to\n",
            "\taccess is particularly large or is shared with many people, it may\n",
            "\ttake up to 24 hours to be able to view or download the file. If you\n",
            "\tstill can't access a file after 24 hours, contact your domain\n",
            "\tadministrator.\n",
            "\n",
            "You may still be able to access the file from the browser:\n",
            "\n",
            "\thttps://drive.google.com/uc?id=1sjwO8A2SDOKruv6-8NEq7pEIuQ50ygVV\n",
            "\n",
            "but Gdown can't. Please check connections and permissions.\n",
            "/usr/local/lib/python3.12/dist-packages/gdown/__main__.py:140: FutureWarning: Option `--id` was deprecated in version 4.3.1 and will be removed in 5.0. You don't need to pass it anymore to use a file ID.\n",
            "  warnings.warn(\n",
            "Failed to retrieve file url:\n",
            "\n",
            "\tToo many users have viewed or downloaded this file recently. Please\n",
            "\ttry accessing the file again later. If the file you are trying to\n",
            "\taccess is particularly large or is shared with many people, it may\n",
            "\ttake up to 24 hours to be able to view or download the file. If you\n",
            "\tstill can't access a file after 24 hours, contact your domain\n",
            "\tadministrator.\n",
            "\n",
            "You may still be able to access the file from the browser:\n",
            "\n",
            "\thttps://drive.google.com/uc?id=1s7xKWJmyk98Jbq6Fi1scrHy7fr_ellUX\n",
            "\n",
            "but Gdown can't. Please check connections and permissions.\n",
            "/usr/local/lib/python3.12/dist-packages/gdown/__main__.py:140: FutureWarning: Option `--id` was deprecated in version 4.3.1 and will be removed in 5.0. You don't need to pass it anymore to use a file ID.\n",
            "  warnings.warn(\n",
            "Failed to retrieve file url:\n",
            "\n",
            "\tToo many users have viewed or downloaded this file recently. Please\n",
            "\ttry accessing the file again later. If the file you are trying to\n",
            "\taccess is particularly large or is shared with many people, it may\n",
            "\ttake up to 24 hours to be able to view or download the file. If you\n",
            "\tstill can't access a file after 24 hours, contact your domain\n",
            "\tadministrator.\n",
            "\n",
            "You may still be able to access the file from the browser:\n",
            "\n",
            "\thttps://drive.google.com/uc?id=17eQXcrvY1cfpKelLbP2BhQKrljnFNykr\n",
            "\n",
            "but Gdown can't. Please check connections and permissions.\n",
            "/usr/local/lib/python3.12/dist-packages/gdown/__main__.py:140: FutureWarning: Option `--id` was deprecated in version 4.3.1 and will be removed in 5.0. You don't need to pass it anymore to use a file ID.\n",
            "  warnings.warn(\n",
            "Downloading...\n",
            "From: https://drive.google.com/uc?id=1J5TAN6bNBiSgTIYiPwzmABvGhAF58h62\n",
            "To: /content/wiki_texts_part_10.txt.gz\n",
            "100% 2.82k/2.82k [00:00<00:00, 13.1MB/s]\n"
          ]
        }
      ],
      "source": [
        "# Download the split Wikipedia files\n",
        "# Each file contain 562365 lines (articles), except the last file.\n",
        "!gdown --id 17JFvxOH-kc-VmvGkhG7p3iSZSpsWdgJI -O wiki_texts_part_5.txt.gz\n",
        "!gdown --id 19IvB2vOJRGlrYulnTXlZECR8zT5v550P -O wiki_texts_part_6.txt.gz\n",
        "!gdown --id 1sjwO8A2SDOKruv6-8NEq7pEIuQ50ygVV -O wiki_texts_part_7.txt.gz\n",
        "!gdown --id 1s7xKWJmyk98Jbq6Fi1scrHy7fr_ellUX -O wiki_texts_part_8.txt.gz\n",
        "!gdown --id 17eQXcrvY1cfpKelLbP2BhQKrljnFNykr -O wiki_texts_part_9.txt.gz\n",
        "!gdown --id 1J5TAN6bNBiSgTIYiPwzmABvGhAF58h62 -O wiki_texts_part_10.txt.gz"
      ]
    },
    {
      "cell_type": "markdown",
      "metadata": {},
      "source": [
        "Couldn't download with the above links, so I tried the others."
      ]
    },
    {
      "cell_type": "code",
      "execution_count": 18,
      "metadata": {
        "colab": {
          "base_uri": "https://localhost:8080/"
        },
        "collapsed": true,
        "id": "UnejJDIaI716",
        "outputId": "4793ca65-64bd-4fe3-cc92-40b765afcd7d"
      },
      "outputs": [
        {
          "name": "stdout",
          "output_type": "stream",
          "text": [
            "/home/didiersalest/NLP_HW1/.venv/lib/python3.12/site-packages/gdown/__main__.py:140: FutureWarning: Option `--id` was deprecated in version 4.3.1 and will be removed in 5.0. You don't need to pass it anymore to use a file ID.\n",
            "  warnings.warn(\n",
            "Downloading...\n",
            "From (original): https://drive.google.com/uc?id=1J0os1846PQ129t720aI0wMm-5GepEwSl\n",
            "From (redirected): https://drive.google.com/uc?id=1J0os1846PQ129t720aI0wMm-5GepEwSl&confirm=t&uuid=8122646f-1755-494b-aea9-011cd8e6c7e6\n",
            "To: /home/didiersalest/NLP_HW1/wiki_texts_part_0.txt.gz\n",
            "100%|██████████████████████████████████████| 1.51G/1.51G [01:05<00:00, 23.2MB/s]\n",
            "/home/didiersalest/NLP_HW1/.venv/lib/python3.12/site-packages/gdown/__main__.py:140: FutureWarning: Option `--id` was deprecated in version 4.3.1 and will be removed in 5.0. You don't need to pass it anymore to use a file ID.\n",
            "  warnings.warn(\n",
            "Downloading...\n",
            "From (original): https://drive.google.com/uc?id=1tsI3RSKPN3b2-1IZ0N7bmjgVRf-THIkW\n",
            "From (redirected): https://drive.google.com/uc?id=1tsI3RSKPN3b2-1IZ0N7bmjgVRf-THIkW&confirm=t&uuid=9b7e5224-501b-4be3-8934-6a7c8526be97\n",
            "To: /home/didiersalest/NLP_HW1/wiki_texts_part_1.txt.gz\n",
            "100%|████████████████████████████████████████| 836M/836M [00:46<00:00, 17.8MB/s]\n",
            "/home/didiersalest/NLP_HW1/.venv/lib/python3.12/site-packages/gdown/__main__.py:140: FutureWarning: Option `--id` was deprecated in version 4.3.1 and will be removed in 5.0. You don't need to pass it anymore to use a file ID.\n",
            "  warnings.warn(\n",
            "Downloading...\n",
            "From (original): https://drive.google.com/uc?id=1koiw6RFNzDe6pe2zMTfVhsEKmpmnYyu5\n",
            "From (redirected): https://drive.google.com/uc?id=1koiw6RFNzDe6pe2zMTfVhsEKmpmnYyu5&confirm=t&uuid=0b2869e9-58de-421a-8377-363cb7eeca94\n",
            "To: /home/didiersalest/NLP_HW1/wiki_texts_part_2.txt.gz\n",
            "100%|████████████████████████████████████████| 665M/665M [00:22<00:00, 30.2MB/s]\n",
            "/home/didiersalest/NLP_HW1/.venv/lib/python3.12/site-packages/gdown/__main__.py:140: FutureWarning: Option `--id` was deprecated in version 4.3.1 and will be removed in 5.0. You don't need to pass it anymore to use a file ID.\n",
            "  warnings.warn(\n",
            "Downloading...\n",
            "From (original): https://drive.google.com/uc?id=1YSGbDqhbg2xJsWD_hYQ5z9URl0dCTC2m\n",
            "From (redirected): https://drive.google.com/uc?id=1YSGbDqhbg2xJsWD_hYQ5z9URl0dCTC2m&confirm=t&uuid=7b599617-40f2-42de-8748-6053df9124b8\n",
            "To: /home/didiersalest/NLP_HW1/wiki_texts_part_3.txt.gz\n",
            "100%|████████████████████████████████████████| 595M/595M [00:14<00:00, 40.0MB/s]\n",
            "/home/didiersalest/NLP_HW1/.venv/lib/python3.12/site-packages/gdown/__main__.py:140: FutureWarning: Option `--id` was deprecated in version 4.3.1 and will be removed in 5.0. You don't need to pass it anymore to use a file ID.\n",
            "  warnings.warn(\n",
            "Downloading...\n",
            "From (original): https://drive.google.com/uc?id=1PA3C99C8CcLFjkenT0a9iU07XEQmXyG_\n",
            "From (redirected): https://drive.google.com/uc?id=1PA3C99C8CcLFjkenT0a9iU07XEQmXyG_&confirm=t&uuid=8f24c956-35b5-48cf-80e3-7ac3d11f97e4\n",
            "To: /home/didiersalest/NLP_HW1/wiki_texts_part_4.txt.gz\n",
            "100%|████████████████████████████████████████| 568M/568M [00:15<00:00, 37.0MB/s]\n"
          ]
        }
      ],
      "source": [
        "!gdown --id 1J0os1846PQ129t720aI0wMm-5GepEwSl -O wiki_texts_part_0.txt.gz\n",
        "!gdown --id 1tsI3RSKPN3b2-1IZ0N7bmjgVRf-THIkW -O wiki_texts_part_1.txt.gz\n",
        "!gdown --id 1koiw6RFNzDe6pe2zMTfVhsEKmpmnYyu5 -O wiki_texts_part_2.txt.gz\n",
        "!gdown --id 1YSGbDqhbg2xJsWD_hYQ5z9URl0dCTC2m -O wiki_texts_part_3.txt.gz\n",
        "!gdown --id 1PA3C99C8CcLFjkenT0a9iU07XEQmXyG_ -O wiki_texts_part_4.txt.gz"
      ]
    },
    {
      "cell_type": "code",
      "execution_count": 19,
      "metadata": {
        "colab": {
          "base_uri": "https://localhost:8080/"
        },
        "collapsed": true,
        "id": "S4kF0z_FI8u7",
        "outputId": "20a78230-3be8-4c76-adfd-5e148a459f7e"
      },
      "outputs": [
        {
          "name": "stdout",
          "output_type": "stream",
          "text": [
            "/home/didiersalest/NLP_HW1/.venv/lib/python3.12/site-packages/gdown/__main__.py:140: FutureWarning: Option `--id` was deprecated in version 4.3.1 and will be removed in 5.0. You don't need to pass it anymore to use a file ID.\n",
            "  warnings.warn(\n",
            "Downloading...\n",
            "From (original): https://drive.google.com/uc?id=1sSLea4hq6Z7oT6noOU_II1ahWjNOKcDX\n",
            "From (redirected): https://drive.google.com/uc?id=1sSLea4hq6Z7oT6noOU_II1ahWjNOKcDX&confirm=t&uuid=5ced4e5e-866d-41f8-9e12-3bb62ed4567e\n",
            "To: /home/didiersalest/NLP_HW1/wiki_texts_part_5.txt.gz\n",
            "100%|████████████████████████████████████████| 578M/578M [00:19<00:00, 30.0MB/s]\n",
            "/home/didiersalest/NLP_HW1/.venv/lib/python3.12/site-packages/gdown/__main__.py:140: FutureWarning: Option `--id` was deprecated in version 4.3.1 and will be removed in 5.0. You don't need to pass it anymore to use a file ID.\n",
            "  warnings.warn(\n",
            "Downloading...\n",
            "From (original): https://drive.google.com/uc?id=1i6kXTDtZkRiivJ0mj-5GkVbE4gMFlmSb\n",
            "From (redirected): https://drive.google.com/uc?id=1i6kXTDtZkRiivJ0mj-5GkVbE4gMFlmSb&confirm=t&uuid=caed4106-8f86-4597-bef2-d1c587c0b348\n",
            "To: /home/didiersalest/NLP_HW1/wiki_texts_part_6.txt.gz\n",
            "100%|████████████████████████████████████████| 555M/555M [00:09<00:00, 57.4MB/s]\n",
            "/home/didiersalest/NLP_HW1/.venv/lib/python3.12/site-packages/gdown/__main__.py:140: FutureWarning: Option `--id` was deprecated in version 4.3.1 and will be removed in 5.0. You don't need to pass it anymore to use a file ID.\n",
            "  warnings.warn(\n",
            "Downloading...\n",
            "From (original): https://drive.google.com/uc?id=1ain2DN1nxXfsmJ2Aj9TFZlLVJSPsu9Jb\n",
            "From (redirected): https://drive.google.com/uc?id=1ain2DN1nxXfsmJ2Aj9TFZlLVJSPsu9Jb&confirm=t&uuid=edc3d9a5-23f6-46a0-96b8-b68371831542\n",
            "To: /home/didiersalest/NLP_HW1/wiki_texts_part_7.txt.gz\n",
            "100%|████████████████████████████████████████| 530M/530M [00:13<00:00, 40.1MB/s]\n",
            "/home/didiersalest/NLP_HW1/.venv/lib/python3.12/site-packages/gdown/__main__.py:140: FutureWarning: Option `--id` was deprecated in version 4.3.1 and will be removed in 5.0. You don't need to pass it anymore to use a file ID.\n",
            "  warnings.warn(\n",
            "Downloading...\n",
            "From (original): https://drive.google.com/uc?id=1UKhvielQDqQz5pMZ7J3SHv9m8_8gO-dE\n",
            "From (redirected): https://drive.google.com/uc?id=1UKhvielQDqQz5pMZ7J3SHv9m8_8gO-dE&confirm=t&uuid=c44783bb-40c9-4bef-b6ea-fffd38fadd61\n",
            "To: /home/didiersalest/NLP_HW1/wiki_texts_part_8.txt.gz\n",
            "100%|████████████████████████████████████████| 549M/549M [00:14<00:00, 37.2MB/s]\n",
            "/home/didiersalest/NLP_HW1/.venv/lib/python3.12/site-packages/gdown/__main__.py:140: FutureWarning: Option `--id` was deprecated in version 4.3.1 and will be removed in 5.0. You don't need to pass it anymore to use a file ID.\n",
            "  warnings.warn(\n",
            "Downloading...\n",
            "From (original): https://drive.google.com/uc?id=1q1zMA4hbMS7tID2GTQx-c94UPB8YQaaa\n",
            "From (redirected): https://drive.google.com/uc?id=1q1zMA4hbMS7tID2GTQx-c94UPB8YQaaa&confirm=t&uuid=ba31d75c-a462-488b-9def-ea24fcba774a\n",
            "To: /home/didiersalest/NLP_HW1/wiki_texts_part_9.txt.gz\n",
            "100%|████████████████████████████████████████| 547M/547M [00:34<00:00, 15.9MB/s]\n",
            "/home/didiersalest/NLP_HW1/.venv/lib/python3.12/site-packages/gdown/__main__.py:140: FutureWarning: Option `--id` was deprecated in version 4.3.1 and will be removed in 5.0. You don't need to pass it anymore to use a file ID.\n",
            "  warnings.warn(\n",
            "Downloading...\n",
            "From: https://drive.google.com/uc?id=1-kkGxwMxPsoGg5_2pdaOeE3Way6njLpH\n",
            "To: /home/didiersalest/NLP_HW1/wiki_texts_part_10.txt.gz\n",
            "100%|██████████████████████████████████████| 2.82k/2.82k [00:00<00:00, 18.5MB/s]\n"
          ]
        }
      ],
      "source": [
        "!gdown --id 1sSLea4hq6Z7oT6noOU_II1ahWjNOKcDX -O wiki_texts_part_5.txt.gz\n",
        "!gdown --id 1i6kXTDtZkRiivJ0mj-5GkVbE4gMFlmSb -O wiki_texts_part_6.txt.gz\n",
        "!gdown --id 1ain2DN1nxXfsmJ2Aj9TFZlLVJSPsu9Jb -O wiki_texts_part_7.txt.gz\n",
        "!gdown --id 1UKhvielQDqQz5pMZ7J3SHv9m8_8gO-dE -O wiki_texts_part_8.txt.gz\n",
        "!gdown --id 1q1zMA4hbMS7tID2GTQx-c94UPB8YQaaa -O wiki_texts_part_9.txt.gz\n",
        "!gdown --id 1-kkGxwMxPsoGg5_2pdaOeE3Way6njLpH -O wiki_texts_part_10.txt.gz"
      ]
    },
    {
      "cell_type": "code",
      "execution_count": 20,
      "metadata": {
        "id": "DUg_c79BC7OL"
      },
      "outputs": [],
      "source": [
        "# Extract the downloaded wiki_texts_parts files.\n",
        "!gunzip -k wiki_texts_part_*.gz"
      ]
    },
    {
      "cell_type": "code",
      "execution_count": 21,
      "metadata": {
        "id": "7duk2RbYDB02"
      },
      "outputs": [],
      "source": [
        "# Combine the extracted wiki_texts_parts files.\n",
        "!cat wiki_texts_part_*.txt > wiki_texts_combined.txt"
      ]
    },
    {
      "cell_type": "code",
      "execution_count": 22,
      "metadata": {
        "colab": {
          "base_uri": "https://localhost:8080/"
        },
        "id": "givLH7NrDs6X",
        "outputId": "9240163e-1eff-4085-91cb-b54fd5a89b73"
      },
      "outputs": [
        {
          "name": "stdout",
          "output_type": "stream",
          "text": [
            "anarchism is political philosophy and movement that is against all forms of authority and seeks to abolish the institutions it claims maintain unnecessary coercion and hierarchy typically including the state and capitalism anarchism advocates for the replacement of the state with stateless societies and voluntary free associations as historically left wing movement this reading of anarchism is placed on the farthest left of the political spectrum usually described as the libertarian wing of the socialist movement libertarian socialism although traces of anarchist ideas are found all throughout history modern anarchism emerged from the enlightenment during the latter half of the th and the first decades of the th century the anarchist movement flourished in most parts of the world and had significant role in workers struggles for emancipation various anarchist schools of thought formed during this period anarchists have taken part in several revolutions most notably in the paris commune the russian civil war and the spanish civil war whose end marked the end of the classical era of anarchism in the last decades of the th and into the st century the anarchist movement has been resurgent once more growing in popularity and influence within anti capitalist anti war and anti globalisation movements anarchists employ diverse approaches which may be generally divided into revolutionary and evolutionary strategies there is significant overlap between the two evolutionary methods try to simulate what an anarchist society might be like but revolutionary tactics which have historically taken violent turn aim to overthrow authority and the state many facets of human civilization have been influenced by anarchist theory critique and praxis etymology terminology and definition wilhelm weitling is an example of writer who added to anarchist theory without using the exact term the etymological origin of anarchism is from the ancient greek anarkhia ἀναρχία meaning without ruler composed of the prefix an without and the word arkhos leader or ruler the suffix ism denotes the ideological current that favours anarchy anarchism appears in english from as anarchisme and anarchy from early english usages emphasised sense of disorder various factions within the french revolution labelled their opponents as anarchists although few such accused shared many views with later anarchists many revolutionaries of the th century such as william godwin and wilhelm weitling would contribute to the anarchist doctrines of the next generation but did not use anarchist or anarchism in describing themselves or their beliefs the first political philosopher to call himself an anarchist was pierre joseph proudhon marking the formal birth of anarchism in the mid th century since the and beginning in france libertarianism has often been used as synonym for anarchism and its use as synonym is still common outside the united states some usages of libertarianism refer to individualistic free market philosophy only and free market anarchism in particular is termed libertarian anarchism while the term libertarian has been largely synonymous with anarchism its meaning has more recently been diluted by wider adoption from ideologically disparate groups including both the new left and libertarian marxists who do not associate themselves with authoritarian socialists or vanguard party and extreme cultural liberals who are primarily concerned with civil liberties additionally some anarchists use libertarian socialist to avoid anarchism negative connotations and emphasise its connections with socialism anarchism is broadly used to describe the anti authoritarian wing of the socialist movement anarchism is contrasted to socialist forms which are state oriented or from above scholars of anarchism generally highlight anarchism socialist credentials and criticise attempts at creating dichotomies between the two some scholars describe anarchism as having many influences from liberalism and being both liberal and socialist but more so many scholars reject anarcho capitalism as of anarchist principles while opposition to the state is central to anarchist thought defining anarchism is not an easy task for scholars as there is lot of discussion among scholars and anarchists on the matter and various currents perceive anarchism slightly differently major definitional elements include the will for non coercive society the rejection of the state apparatus the belief that human nature allows humans to exist in or progress toward such non coercive society and suggestion on how to act to pursue the ideal of anarchy history pre modern era zeno of citium whose republic inspired peter kropotkin the most notable precursors to anarchism in the ancient world were in china and greece in china philosophical anarchism the discussion on the legitimacy of the state was delineated by taoist philosophers zhuang zhou and laozi alongside stoicism taoism has been said to have had significant anticipations of anarchism anarchic attitudes were also articulated by tragedians and philosophers in greece aeschylus and sophocles used the myth of antigone to illustrate the conflict between laws imposed by the state and personal autonomy socrates questioned athenian authorities constantly and insisted on the right of individual freedom of conscience cynics dismissed human law nomos and associated authorities while trying to live according to nature physis stoics were supportive of society based on unofficial and friendly relations among its citizens without the presence of state in medieval europe there was no anarchistic activity except some ascetic religious movements these and other muslim movements later gave birth to religious anarchism in the sasanian empire mazdak called for an egalitarian society and the abolition of monarchy only to be soon executed by emperor kavad in basra religious sects preached against the state in europe various sects developed anti state and libertarian tendencies renewed interest in antiquity during the renaissance and in private judgment during the reformation restored elements of anti authoritarian secularism particularly in france enlightenment challenges to intellectual authority secular and religious and the revolutions of the and all spurred the ideological development of what became the era of classical anarchism modern era during the french revolution partisan groups such as the enragés and the saw turning point in the fermentation of anti state and federalist sentiments the first anarchist currents developed throughout the th century as william godwin espoused philosophical anarchism in england morally delegitimising the state max stirner thinking paved the way to individualism and pierre joseph proudhon theory of mutualism found fertile soil in france by the late various anarchist schools of thought had become well defined and wave of then unprecedented globalisation occurred from to this era of classical anarchism lasted until the end of the spanish civil war and is considered the golden age of anarchism mikhail bakunin opposed the marxist aim of dictatorship of the proletariat and allied himself with the federalists in the first international before his expulsion by the marxists drawing from mutualism mikhail bakunin founded collectivist anarchism and entered the international workingmen association class worker union later known as the first international that formed in to unite diverse revolutionary currents the international became significant political force with karl marx being leading figure and member of its general council bakunin faction the jura federation and proudhon followers the mutualists opposed state socialism advocating political abstentionism and small property holdings after bitter disputes the bakuninists were expelled from the international by the marxists at the hague congress anarchists were treated similarly in the second international being ultimately expelled in bakunin predicted that if revolutionaries gained power by marx terms they would end up the new tyrants of workers in response to their expulsion from the first international anarchists formed the st imier international under the influence of peter kropotkin russian philosopher and scientist anarcho communism overlapped with collectivism anarcho communists who drew inspiration from the paris commune advocated for free federation and for the distribution of goods according to one needs by the turn of the th century anarchism had spread all over the world it was notable feature of the international syndicalist movement in china small groups of students imported the humanistic pro science version of anarcho communism tokyo was hotspot for rebellious youth from east asian countries who moved to the japanese capital to study in latin america argentina was stronghold for anarcho syndicalism where it became the most prominent left wing ideology during this time minority of anarchists adopted tactics of revolutionary political violence known as propaganda of the deed the dismemberment of the french socialist movement into many groups and the execution and exile of many communards to penal colonies following the suppression of the paris commune favoured individualist political expression and acts even though many anarchists distanced themselves from these terrorist acts infamy came upon the movement and attempts were made to prevent anarchists immigrating to the us including the immigration act of also called the anarchist exclusion act illegalism was another strategy which some anarchists adopted during this period nestor makhno seen with members of the anarchist revolutionary insurgent army of ukraine despite concerns anarchists participated in the russian revolution in opposition to the white movement especially in the makhnovshchina however they met harsh suppression after the bolshevik government had stabilised including during the kronstadt rebellion several anarchists from petrograd and moscow fled to ukraine before the bolsheviks crushed the anarchist movement there too with the anarchists being repressed in russia two new antithetical currents emerged namely platformism and synthesis anarchism the former sought to create coherent group that would push for revolution while the latter were against anything that would resemble political party seeing the victories of the bolsheviks in the october revolution and the resulting russian civil war many workers and activists turned to communist parties which grew at the expense of anarchism and other socialist movements in france and the united states members of major syndicalist movements such as the general confederation of labour and the industrial workers of the world left their organisations and joined the communist international in the spanish civil war of anarchists and syndicalists cnt and fai once again allied themselves with various currents of leftists long tradition of spanish anarchism led to anarchists playing pivotal role in the war and particularly in the spanish revolution of in response to the army rebellion an anarchist inspired movement of peasants and workers supported by armed militias took control of barcelona and of large areas of rural spain where they collectivised the land the soviet union provided some limited assistance at the beginning of the war but the result was bitter fight between communists and other leftists in series of events known as the may days as joseph stalin asserted soviet control of the republican government ending in another defeat of anarchists at the hands of the communists post wwii rojava support efforts for workers to form cooperatives is exemplified in this sewing cooperative by the end of world war ii the anarchist movement had been severely weakened the witnessed revival of anarchism likely caused by perceived failure of marxism leninism and tensions built by the cold war during this time anarchism found presence in other movements critical towards both capitalism and the state such as the anti nuclear environmental and peace movements the counterculture of the and the new left it also saw transition from its previous revolutionary nature to provocative anti capitalist reformism anarchism became associated with punk subculture as exemplified by bands such as crass and the sex pistols the established feminist tendencies of anarcha feminism returned with vigour during the second wave of feminism black anarchism began to take form at this time and influenced anarchism move from eurocentric demographic this coincided with its failure to gain traction in northern europe and its unprecedented height in latin america around the turn of the st century anarchism grew in popularity and influence within anti capitalist anti war and anti globalisation movements anarchists became known for their involvement in protests against the world trade organization wto the group of eight and the world economic forum during the protests ad hoc leaderless anonymous cadres known as black blocs engaged in rioting property destruction and violent confrontations with the police other organisational tactics pioneered at this time include affinity groups security culture and the use of decentralised technologies such as the internet significant event of this period was the confrontations at the seattle wto conference anarchist ideas have been influential in the development of the zapatistas in mexico and the democratic federation of northern syria more commonly known as rojava de facto autonomous region in northern syria while having revolutionary aspirations many forms of anarchism are not confrontational nowadays instead they are trying to build an alternative way of social organization based on mutual interdependence and voluntary cooperation scholar carissa honeywell takes the example of food not bombs group of collectives to highlight some features of how anarchist groups work direct action working together and in solidarity with those left behind while doing so they inform about the rising rates of world hunger suggest policy to tackle hunger ranging from de funding the arms industry to addressing monsanto seed saving policies and patents helping farmers and commodification of food and housing honeywell also emphasizes that contemporary anarchists are interested in the flourishing not only of humans but non humans and the environment as well honeywell argues that escalation of problems such as continuous wars and world poverty show that the current framework not only cannot solve those pressing problems for humanity but are causal factors as well resulting in the rejection of representative democracy and the state as whole schools of thought anarchist schools of thought have been generally grouped into two main historical traditions social anarchism and individualist anarchism owing to their different origins values and evolution the individualist current emphasises negative liberty in opposing restraints upon the free individual while the social current emphasises positive liberty in aiming to achieve the free potential of society through equality and social ownership in chronological sense anarchism can be segmented by the classical currents of the late th century and the post classical currents anarcha feminism green anarchism and post anarchism developed thereafter beyond the specific factions of anarchist movements which constitute political anarchism lies philosophical anarchism which holds that the state lacks moral legitimacy without necessarily accepting the imperative of revolution to eliminate it component especially of individualist anarchism philosophical anarchism may tolerate the existence of minimal state but claims that citizens have no moral obligation to obey government when it conflicts with individual autonomy anarchism pays significant attention to moral arguments since ethics have central role in anarchist philosophy anarchism emphasis on anti capitalism egalitarianism and for the extension of community and individuality sets it apart from anarcho capitalism and other types of economic libertarianism anarchism is usually placed on the far left of the political spectrum much of its economics and legal philosophy reflect anti authoritarian anti statist libertarian and radical interpretations of left wing and socialist politics such as collectivism communism individualism mutualism and syndicalism among other libertarian socialist economic theories as anarchism does not offer fixed body of doctrine from single particular worldview many anarchist types and traditions exist and varieties of anarchy diverge widely one reaction against sectarianism within the anarchist milieu was anarchism without adjectives call for toleration and unity among anarchists first adopted by fernando tarrida del mármol in in response to the bitter debates of anarchist theory at the time belief in political nihilism has been espoused by anarchists despite separation the various anarchist schools of thought are not seen as distinct entities but rather as tendencies that intermingle and are connected through set of shared principles such as autonomy mutual aid anti and classical pierre joseph proudhon is the primary proponent of mutualism and influenced many future individualist anarchist and social anarchist thinkers inceptive currents among classical anarchist currents were mutualism and individualism they were followed by the major currents of social anarchism collectivist communist and syndicalist they differ on organisational and economic aspects of their ideal society mutualism is an th century economic theory that was developed into anarchist theory by pierre joseph proudhon its aims include abolishing the state reciprocity free association voluntary contract federation and monetary reform of both credit and currency that would be regulated by bank of the people mutualism has been retrospectively characterised as ideologically situated between individualist and collectivist forms of anarchism in what is property proudhon first characterised his goal as third form of society the synthesis of communism and property collectivist anarchism is revolutionary socialist form of anarchism commonly associated with mikhail bakunin collectivist anarchists advocate collective ownership of the means of production which is theorised to be achieved through violent revolution and that workers be paid according to time worked rather than goods being distributed according to need as in communism collectivist anarchism arose alongside marxism but rejected the dictatorship of the proletariat despite the stated marxist goal of collectivist stateless society anarcho communism is theory of anarchism that advocates communist society with common ownership of the means of production held by federal network of voluntary associations with production and consumption based on the guiding principle from each according to his ability to each according to his need anarcho communism developed from radical socialist currents after the french revolution but was first formulated as such in the italian section of the first international it was later expanded upon in the theoretical work of peter kropotkin whose specific style would go onto become the dominating view of anarchists by the late th century anarcho syndicalism is branch of anarchism that views labour syndicates as potential force for revolutionary social change replacing capitalism and the state with new society democratically self managed by workers the basic principles of anarcho syndicalism are direct action workers solidarity and workers self management individualist anarchism is set of several traditions of thought within the anarchist movement that emphasise the individual and their will over any kinds of external determinants early influences on individualist forms of anarchism include william godwin max stirner and henry david thoreau through many countries individualist anarchism attracted small yet diverse following of bohemian artists and intellectuals as well as young anarchist outlaws in what became known as illegalism and individual reclamation post classical and contemporary lawrence jarach left and john zerzan right are two prominent contemporary anarchist authors with zerzan being prominent voice within anarcho primitivism and jarach notable advocate of post left anarchy anarchist principles undergird contemporary radical social movements of the left interest in the anarchist movement developed alongside momentum in the anti globalisation movement whose leading activist networks were anarchist in orientation as the movement shaped st century radicalism wider embrace of anarchist principles signaled revival of interest anarchism has continued to generate many philosophies and movements at times eclectic drawing upon various sources and combining disparate concepts to create new philosophical approaches the anti capitalist tradition of classical anarchism has remained prominent within contemporary currents contemporary news coverage which emphasizes black bloc demonstrations has reinforced anarchism historical association with chaos and violence its publicity has also led more scholars in fields such as anthropology and history to engage with the anarchist movement although contemporary anarchism favours actions over academic theory various anarchist groups tendencies and schools of thought exist today making it difficult to describe the contemporary anarchist movement while theorists and activists have established relatively stable constellations of anarchist principles there is no consensus on which principles are core and commentators describe multiple anarchisms rather than singular anarchism in which common principles are shared between schools of anarchism while each group prioritizes those principles differently gender equality can be common principle although it ranks as higher priority to anarcha feminists than anarcho communists anarchists are generally committed against coercive authority in all forms namely all centralized and hierarchical forms of government monarchy representative democracy state socialism etc economic class systems capitalism bolshevism feudalism slavery etc autocratic religions fundamentalist islam roman catholicism etc patriarchy heterosexism white supremacy and imperialism anarchist schools disagree on the methods by which these forms should be opposed the principle of equal liberty is closer to anarchist political ethics in that it transcends both the liberal and socialist traditions this entails that liberty and equality cannot be implemented within the state resulting in the questioning of all forms of domination and hierarchy tactics anarchists tactics take various forms but in general serve two major goals namely to first oppose the establishment and secondly to promote anarchist ethics and reflect an anarchist vision of society illustrating the unity of means and ends broad categorisation can be made between aims to destroy oppressive states and institutions by revolutionary means on one hand and aims to change society through evolutionary means on the other evolutionary tactics embrace nonviolence reject violence and take gradual approach to anarchist aims although there is significant overlap between the two anarchist tactics have shifted during the course of the last century anarchists during the early th century focused more on strikes and militancy while contemporary anarchists use broader array of approaches classical era the relationship between anarchism and violence is controversial subject among anarchists as shown by anarchist leon czolgosz assassinating william mckinley during the classical era anarchists had militant tendency not only did they confront state armed forces as in spain and ukraine but some of them also employed terrorism as propaganda of the deed assassination attempts were carried out against heads of state some of which were successful anarchists also took part in revolutions many anarchists especially the galleanists believed that these attempts would be the impetus for revolution against capitalism and the state many of these attacks were done by individual assailants and the majority took place in the late the early and the with some still occurring in the early their decrease in prevalence was the result of further judicial power and targeting and cataloging by state institutions anarchist perspectives towards violence have always been controversial anarcho pacifists advocate for non violence means to achieve their stateless nonviolent ends other anarchist groups advocate direct action tactic which can include acts of sabotage or terrorism this attitude was quite prominent century ago when seeing the state as tyrant and some anarchists believing that they had every right to oppose its oppression by any means possible emma goldman and errico malatesta who were proponents of limited use of violence stated that violence is merely reaction to state violence as necessary evil anarchists took an active role in strike actions although they tended to be antipathetic to formal syndicalism seeing it as reformist they saw it as part of the movement which sought to overthrow the state and capitalism anarchists also reinforced their propaganda within the arts some of whom practiced naturism and nudism those anarchists also built communities which were based on friendship and were involved in the news media revolutionary black bloc protesters parading anarcho communism imagery such as the motto no war but the class war in the current era italian anarchist alfredo bonanno proponent of insurrectionary anarchism has reinstated the debate on violence by rejecting the nonviolence tactic adopted since the late th century by kropotkin and other prominent anarchists afterwards both bonanno and the french group the invisible committee advocate for small informal affiliation groups where each member is responsible for their own actions but works together to bring down oppression utilizing sabotage and other violent means against state capitalism and other enemies members of the invisible committee were arrested in on various charges terrorism included overall contemporary anarchists are much less violent and militant than their ideological ancestors they mostly engage in confronting the police during demonstrations and riots especially in countries such as canada greece and mexico militant black bloc protest groups are known for clashing with the police however anarchists not only clash with state operators they also engage in the struggle against fascists and racists taking anti fascist action and mobilizing to prevent hate rallies from happening evolutionary anarchists commonly employ direct action this can take the form of disrupting and protesting against unjust hierarchy or the form of self managing their lives through the creation of counter institutions such as communes and non hierarchical collectives decision making is often handled in an anti authoritarian way with everyone having equal say in each decision an approach known as horizontalism contemporary era anarchists have been engaging with various grassroots movements that are more or less based on horizontalism although not explicitly anarchist respecting personal autonomy and participating in mass activism such as strikes and demonstrations in contrast with the big anarchism of the classical era the newly coined term small anarchism signals their tendency not to base their thoughts and actions on classical era anarchism or to refer to classical anarchists such as peter kropotkin and pierre joseph proudhon to justify their opinions those anarchists would rather base their thought and praxis on their own experience which they will later theorize the decision making process of small anarchist affinity groups plays significant tactical role anarchists have employed various methods in order to build rough consensus among members of their group without the need of leader or leading group one way is for an individual from the group to play the role of facilitator to help achieve consensus without taking part in the discussion themselves or promoting specific point minorities usually accept rough consensus except when they feel the proposal contradicts anarchist ethics goals and values anarchists usually form small groups individuals to enhance autonomy and friendships among their members these kinds of groups more often than not interconnect with each other forming larger networks anarchists still support and participate in strikes especially wildcat strikes as these are leaderless strikes not organised centrally by syndicate as in the past newspapers and journals are used and anarchists have gone online in the world wide web to spread their message anarchists have found it easier to create websites because of distributional and other difficulties hosting electronic libraries and other portals anarchists were also involved in developing various software that are available for free the way these hacktivists work to develop and distribute resembles the anarchist ideals especially when it comes to preserving users privacy from state surveillance anarchists organize themselves to squat and reclaim public spaces during important events such as protests and when spaces are being occupied they are often called temporary autonomous zones taz spaces where art poetry and surrealism are blended to display the anarchist ideal as seen by anarchists squatting is way to regain urban space from the capitalist market serving pragmatical needs and also being an exemplary direct action acquiring space enables anarchists to experiment with their ideas and build social bonds adding up these tactics while having in mind that not all anarchists share the same attitudes towards them along with various forms of protesting at highly symbolic events make up carnivalesque atmosphere that is part of contemporary anarchist vividity key issues as anarchism is philosophy that embodies many diverse attitudes tendencies and schools of thought disagreement over questions of values ideology and tactics is common its diversity has led to widely different uses of identical terms among different anarchist traditions which has created number of definitional concerns in anarchist theory the compatibility of capitalism nationalism and religion with anarchism is widely disputed and anarchism enjoys complex relationships with ideologies such as communism collectivism marxism and trade unionism anarchists may be motivated by humanism divine authority enlightened self interest veganism or any number of alternative ethical doctrines phenomena such as civilisation technology within anarcho primitivism and the democratic process may be sharply criticised within some anarchist tendencies and simultaneously lauded in others the state anarchist protesters in boston opposing state waged war objection to the state and its institutions is sine qua non of anarchism anarchists consider the state as tool of domination and believe it to be illegitimate regardless of its political tendencies instead of people being able to control the aspects of their life major decisions are taken by small elite authority ultimately rests solely on power regardless of whether that power is open or transparent as it still has the ability to coerce people another anarchist argument against states is that the people constituting government even the most altruistic among officials will unavoidably seek to gain more power leading to corruption anarchists consider the idea that the state is the collective will of the people to be an unachievable fiction due to the fact that the ruling class is distinct from the rest of society specific anarchist attitudes towards the state vary robert paul wolff believed that the tension between authority and autonomy would mean the state could never be legitimate bakunin saw the state as meaning coercion domination by means of coercion camouflaged if possible but unceremonious and overt if need be john simmons and leslie green who leaned toward philosophical anarchism believed that the state could be legitimate if it is governed by consensus although they saw this as highly unlikely beliefs on how to abolish the state also differ gender sexuality and free love as gender and sexuality carry along them dynamics of hierarchy many anarchists address analyse and oppose the suppression of one autonomy imposed by gender roles collection of anarcha feminist protests symbols and flags sexuality was not often discussed by classical anarchists but the few that did felt that an anarchist society would lead to sexuality naturally developing sexual violence was concern for anarchists such as benjamin tucker who opposed age of consent laws believing they would benefit predatory men historical current that arose and flourished during and within anarchism was free love in contemporary anarchism this current survives as tendency to support polyamory relationship anarchy and queer anarchism free love advocates were against marriage which they saw as way of men imposing authority over women largely because marriage law greatly favoured the power of men the notion of free love was much broader and included critique of the established order that limited women sexual freedom and pleasure those free love movements contributed to the establishment of communal houses where large groups of travelers anarchists and other activists slept in beds together free love had roots both in europe and the united states however some anarchists struggled with the jealousy that arose from free love anarchist feminists were advocates of free love against marriage and pro choice utilising contemporary term and had similar agenda anarchist and non anarchist feminists differed on suffrage but were supportive of one another during the second half of the th century anarchism intermingled with the second wave of feminism radicalising some currents of the feminist movement and being influenced as well by the latest decades of the th century anarchists and feminists were advocating for the rights and autonomy of women gays queers and other marginalised groups with some feminist thinkers suggesting fusion of the two currents with the third wave of feminism sexual identity and compulsory heterosexuality became subject of study for anarchists yielding post structuralist critique of sexual normality some anarchists distanced themselves from this line of thinking suggesting that it leaned towards an individualism that was dropping the cause of social liberation education anarchist vs statist perspectives on education anarchist education state education concept education as self mastery education as service management community based state run methods practice based learning vocational training aims being critical member of society being productive member of society the interest of anarchists in education stretches back to the first emergence of classical anarchism anarchists consider proper education one which sets the foundations of the future autonomy of the individual and the society to be an act of mutual aid anarchist writers such as william godwin political justice and max stirner the false principle of our education attacked both state education and private education as another means by which the ruling class replicate their privileges in catalan anarchist and free thinker francisco ferrer established the escuela moderna in barcelona as an opposition to the established education system which was dictated largely by the catholic church ferrer approach was secular rejecting both state and church involvement in the educational process whilst giving pupils large amounts of autonomy in planning their work and attendance ferrer aimed to educate the working class and explicitly sought to foster class consciousness among students the school closed after constant harassment by the state and ferrer was later arrested nonetheless his ideas formed the inspiration for series of modern schools around the world christian anarchist leo tolstoy who published the essay education and culture also established similar school with its founding principle being that for education to be effective it had to be free in similar token neill founded what became the summerhill school in also declaring being free from coercion anarchist education is based largely on the idea that child right to develop freely and without manipulation ought to be respected and that rationality would lead children to morally good conclusions however there has been little consensus among anarchist figures as to what constitutes manipulation ferrer believed that moral indoctrination was necessary and explicitly taught pupils that equality liberty and social justice were not possible under capitalism along with other critiques of government and nationalism late th century and contemporary anarchist writers paul goodman herbert read and colin ward intensified and expanded the anarchist critique of state education largely focusing on the need for system that focuses on children creativity rather than on their ability to attain career or participate in consumerism as part of consumer society contemporary anarchists such as ward claim that state education serves to perpetuate socioeconomic inequality while few anarchist education institutions have survived to the modern day major tenets of anarchist schools among them respect for child autonomy and relying on reasoning rather than indoctrination as teaching method have spread among mainstream educational institutions judith suissa names three schools as explicitly anarchists schools namely the free skool santa cruz in the united states which is part of wider american canadian network of schools the self managed learning college in brighton england and the paideia school in spain the arts les chataigniers osny by anarchist painter camille pissarro is notable example of blending anarchism and the arts the connection between anarchism and art was quite profound during the classical era of anarchism especially among artistic currents that were developing during that era such as futurists surrealists and others in literature anarchism was mostly associated with the new apocalyptics and the neo romanticism movement in music anarchism has been associated with music scenes such as punk anarchists such as leo tolstoy and herbert read stated that the border between the artist and the non artist what separates art from daily act is construct produced by the alienation caused by capitalism and it prevents humans from living joyful life other anarchists advocated for or used art as means to achieve anarchist ends in his book breaking the spell history of anarchist filmmakers videotape guerrillas and digital ninjas chris robé claims that anarchist inflected practices have increasingly structured movement based video activism throughout the th century many prominent anarchists peter kropotkin emma goldman gustav landauer and camillo berneri and publications such as anarchy wrote about matters pertaining to the arts three overlapping properties made art useful to anarchists it could depict critique of existing society and hierarchies serve as prefigurative tool to reflect the anarchist ideal society and even turn into means of direct action such as in protests as it appeals to both emotion and reason art could appeal to the whole human and have powerful effect the th century neo impressionist movement had an ecological aesthetic and offered an example of an anarchist perception of the road towards socialism in les chataigniers osny by anarchist painter camille pissarro the blending of aesthetic and social harmony is prefiguring an ideal anarchistic agrarian community criticism the most common critique of anarchism is the assertion that humans cannot self govern and so state is necessary for human survival philosopher bertrand russell supported this critique stating that peace and war tariffs regulations of sanitary conditions and the sale of noxious drugs the preservation of just system of distribution these among others are functions which could hardly be performed in community in which there was no central government another common criticism of anarchism is that it fits world of isolation in which only the small enough entities can be self governing response would be that major anarchist thinkers advocated anarchist federalism another criticism of anarchism is the belief that it is inherently unstable that an anarchist society would inevitably evolve back into state thomas hobbes and other early social contract theorists argued that the state emerges in response to natural anarchy in order to protect the people interests and keep order philosopher robert nozick argued that night watchman state or minarchy would emerge from anarchy through the process of an invisible hand in which people would exercise their liberty and buy protection from protection agencies evolving into minimal state anarchists reject these criticisms by arguing that humans in state of nature would not just be in state of war anarcho primitivists in particular argue that humans were better off in state of nature in small tribes living close to the land while anarchists in general argue that the negatives of state organization such as hierarchies monopolies and inequality outweigh the benefits philosophy lecturer andrew fiala composed list of common arguments against anarchism which includes critiques such as that anarchism is innately related to violence and destruction not only in the pragmatic world such as at protests but in the world of ethics as well secondly anarchism is evaluated as unfeasible or utopian since the state cannot be defeated practically this line of arguments most often calls for political action within the system to reform it the third argument is that anarchism is self contradictory as ruling theory that has no ruling theory anarchism also calls for collective action whilst endorsing the autonomy of the individual hence no collective action can be taken lastly fiala mentions critique towards philosophical anarchism of being ineffective all talk and thoughts and in the meantime capitalism and bourgeois class remains strong philosophical anarchism has met the criticism of members of academia following the release of pro anarchist books such as john simmons moral principles and political obligations law professor william edmundson authored an essay to argue against three major philosophical anarchist principles which he finds fallacious edmundson says that while the individual does not owe the state duty of obedience this does not imply that anarchism is the inevitable conclusion and the state is still morally legitimate in the problem of political authority michael huemer defends philosophical anarchism claiming that political authority is moral illusion one of the earliest criticisms is that anarchism defies and fails to understand the biological inclination to authority joseph raz states that the acceptance of authority implies the belief that following their instructions will afford more success raz believes that this argument is true in following both authorities successful and mistaken instruction anarchists reject this criticism because challenging or disobeying authority does not entail the disappearance of its advantages by acknowledging authority such as doctors or lawyers as reliable nor does it involve complete surrender of independent judgment anarchist perception of human nature rejection of the state and commitment to social revolution has been criticised by academics as naive overly simplistic and unrealistic respectively classical anarchism has been criticised for relying too heavily on the belief that the abolition of the state will lead to human cooperation prospering friedrich engels considered to be one of the principal founders of marxism criticised anarchism anti as inherently counter revolutionary because in his view revolution is by itself authoritarian academic john molyneux writes in his book anarchism marxist criticism that anarchism cannot win believing that it lacks the ability to properly implement its ideas the marxist criticism of anarchism is that it has utopian character because all individuals should have anarchist views and values according to the marxist view that social idea would follow directly from this human ideal and out of the free will of every individual formed its essence marxists state that this contradiction was responsible for their inability to act in the anarchist vision the conflict between liberty and equality was resolved through coexistence and intertwining see also outline of anarchism list of anarchist movements by region list of anarchist political ideologies list of books about anarchism list of films dealing with anarchism anarchist communities list of stateless societies list of intentional communities list of self managed social centers references explanatory notes citations general and cited sources primary sources secondary sources tertiary sources further reading criticism of philosophical anarchism defence of philosophical anarchism stating that both kinds of anarchism philosophical and political anarchism are philosophical and political claims anarchistic popular fiction novel an argument for philosophical anarchism external links anarchy archives an online research center on the history and theory of anarchism\n",
            "albedo change in greenland the map shows the difference between the amount of sunlight greenland reflected in the summer of versus the average percent it reflected between and some areas reflect close to percent less light than decade ago albedo is the fraction of sunlight that is diffusely reflected by body it is measured on scale from corresponding to black body that absorbs all incident radiation to corresponding to body that reflects all incident radiation surface albedo is defined as the ratio of radiosity to the irradiance flux per unit area received by surface the proportion reflected is not only determined by properties of the surface itself but also by the spectral and angular distribution of solar radiation reaching the earth surface these factors vary with atmospheric composition geographic location and time see position of the sun while bi hemispherical reflectance is calculated for single angle of incidence for given position of the sun albedo is the directional integration of reflectance over all solar angles in given period the temporal resolution may range from seconds as obtained from flux measurements to daily monthly or annual averages unless given for specific wavelength spectral albedo albedo refers to the entire spectrum of solar radiation due to measurement constraints it is often given for the spectrum in which most solar energy reaches the surface between and μm this spectrum includes visible light μm which explains why surfaces with low albedo appear dark trees absorb most radiation whereas surfaces with high albedo appear bright snow reflects most radiation ice albedo feedback is positive feedback climate process where change in the area of ice caps glaciers and sea ice alters the albedo and surface temperature of planet ice is very reflective therefore it reflects far more solar energy back to space than the other types of land area or open water ice albedo feedback plays an important role in global climate change albedo is an important concept in climate science terrestrial albedo sample albedos surface typical albedo fresh asphalt open ocean worn asphalt conifer forest summer to deciduous forest to bare soil green grass desert sand new concrete ocean ice to fresh snow aluminium any albedo in visible light falls within range of about for fresh snow to about for charcoal one of the darkest substances deeply shadowed cavities can achieve an effective albedo approaching the zero of black body when seen from distance the ocean surface has low albedo as do most forests whereas desert areas have some of the highest albedos among landforms most land areas are in an albedo range of to the average albedo of earth is about this is far higher than for the ocean primarily because of the contribution of clouds earth surface albedo is regularly estimated via earth observation satellite sensors such as nasa modis instruments on board the terra and aqua satellites and the ceres instrument on the suomi npp and jpss as the amount of reflected radiation is only measured for single direction by satellite not all directions mathematical model is used to translate sample set of satellite reflectance measurements into estimates of directional hemispherical reflectance and bi hemispherical reflectance these calculations are based on the bidirectional reflectance distribution function brdf which describes how the reflectance of given surface depends on the view angle of the observer and the solar angle bdrf can facilitate translations of observations of reflectance into albedo earth average surface temperature due to its albedo and the greenhouse effect is currently about if earth were frozen entirely and hence be more reflective the average temperature of the planet would drop below if only the continental land masses became covered by glaciers the mean temperature of the planet would drop to about in contrast if the entire earth was covered by water so called ocean planet the average temperature on the planet would rise to almost in scientists reported that earth dimmed by over two decades as measured by earthshine using modern photometric techniques this may have both been co caused by climate change as well as substantial increase in global warming however the link to climate change has not been explored to date and it is unclear whether or not this represents an ongoing trend white sky black sky and blue sky albedo for land surfaces it has been shown that the albedo at particular solar zenith angle can be approximated by the proportionate sum of two terms the directional hemispherical reflectance at that solar zenith angle sometimes referred to as black sky albedo and the bi hemispherical reflectance sometimes referred to as white sky albedo with being the proportion of direct radiation from given solar angle and being the proportion of diffuse illumination the actual albedo also called blue sky albedo can then be given as this formula is important because it allows the albedo to be calculated for any given illumination conditions from knowledge of the intrinsic properties of the surface changes to albedo due to human activities greenhouses of almería spain human activities deforestation farming and urbanization change the albedo of various areas around the globe human impacts to the physical properties of the land surface can perturb the climate by altering the earth radiative energy balance even on small scale or when undetected by satellites urbanization generally decreases albedo commonly being lower than adjacent croplands which contributes to global warming deliberately increasing albedo in urban areas can mitigate urban heat island an estimate in found that on global scale an albedo increase of in worldwide urban areas would result in cooling effect that is equivalent to absorbing gt of co emissions intentionally enhancing the albedo of the earth surface along with its daytime thermal emittance has been proposed as solar radiation management strategy to mitigate energy crises and global warming known as passive daytime radiative cooling pdrc efforts toward widespread implementation of pdrcs may focus on maximizing the albedo of surfaces from very low to high values so long as thermal emittance of at least can be achieved the tens of thousands of hectares of greenhouses in almería spain form large expanse of whitened plastic roofs study found that this anthropogenic change lowered the local surface area temperature of the high albedo area although changes were localized follow up study found that co eq emissions associated to changes in surface albedo are consequence of land transformation and can reduce surface temperature increases associated with climate change examples of terrestrial albedo effects diffusely reflected sunlight relative to various surface conditions illumination albedo is not directly dependent on the illumination because changing the amount of incoming light proportionally changes the amount of reflected light except in circumstances where change in illumination induces change in the earth surface at that location through melting of reflective ice however albedo and illumination both vary by latitude albedo is highest near the poles and lowest in the subtropics with local maximum in the tropics insolation effects the intensity of albedo temperature effects depends on the amount of albedo and the level of local insolation solar irradiance high albedo areas in the arctic and antarctic regions are cold due to low insolation whereas areas such as the sahara desert which also have relatively high albedo will be hotter due to high insolation tropical and sub tropical rainforest areas have low albedo and are much hotter than their temperate forest counterparts which have lower insolation because insolation plays such big role in the heating and cooling effects of albedo high insolation areas like the tropics will tend to show more pronounced fluctuation in local temperature when local albedo changes arctic regions notably release more heat back into space than what they absorb effectively cooling the earth this has been concern since arctic ice and snow has been melting at higher rates due to higher temperatures creating regions in the arctic that are notably darker being water or ground which is darker color and reflects less heat back into space this feedback loop results in reduced albedo effect climate and weather some effects of global warming can either enhance positive feedbacks such as the ice albedo feedback or inhibit negative feedbacks warming albedo affects climate by determining how much radiation planet absorbs the uneven heating of earth from albedo variations between land ice or ocean surfaces can drive weather the response of the climate system to an initial forcing is modified by feedbacks increased by self reinforcing or positive feedbacks and reduced by balancing or negative feedbacks the main reinforcing feedbacks are the water vapour feedback the ice albedo feedback and the net effect of clouds albedo temperature feedback when an area albedo changes due to snowfall snow temperature feedback results layer of snowfall increases local albedo reflecting away sunlight leading to local cooling in principle if no outside temperature change affects this area warm air mass the raised albedo and lower temperature would maintain the current snow and invite further snowfall deepening the snow temperature feedback however because local weather is dynamic due to the change of seasons eventually warm air masses and more direct angle of sunlight higher insolation cause melting when the melted area reveals surfaces with lower albedo such as grass soil or ocean the effect is reversed the darkening surface lowers albedo increasing local temperatures which induces more melting and thus reducing the albedo further resulting in still more heating snow snow albedo is highly variable ranging from as high as for freshly fallen snow to about for melting snow and as low as for dirty snow over antarctica snow albedo averages little more than if marginally snow covered area warms snow tends to melt lowering the albedo and hence leading to more snowmelt because more radiation is being absorbed by the snowpack the ice albedo positive feedback in switzerland the citizens have been protecting their glaciers with large white tarpaulins to slow down the ice melt these large white sheets are helping to reject the rays from the sun and defecting the heat although that this method is very expensive it has shown to work by reducing snow and ice melt by just as fresh snow has higher albedo than does dirty snow the albedo of snow covered sea ice is far higher than that of sea water sea water absorbs more solar radiation than would the same surface covered with reflective snow when sea ice melts either due to rise in sea temperature or in response to increased solar radiation from above the snow covered surface is reduced and more surface of sea water is exposed so the rate of energy absorption increases the extra absorbed energy heats the sea water which in turn increases the rate at which sea ice melts as with the preceding example of snowmelt the process of melting of sea ice is thus another example of positive feedback both positive feedback loops have long been recognized as important for global warming cryoconite powdery windblown dust containing soot sometimes reduces albedo on glaciers and ice sheets the dynamical nature of albedo in response to positive feedback together with the effects of small errors in the measurement of albedo can lead to large errors in energy estimates because of this in order to reduce the error of energy estimates it is important to measure the albedo of snow covered areas through remote sensing techniques rather than applying single value for albedo over broad regions small scale effects albedo works on smaller scale too in sunlight dark clothes absorb more heat and light coloured clothes reflect it better thus allowing some control over body temperature by exploiting the albedo effect of the colour of external clothing solar photovoltaic effects albedo can affect the electrical energy output of solar photovoltaic devices for example the effects of spectrally responsive albedo are illustrated by the differences between the spectrally weighted albedo of solar photovoltaic technology based on hydrogenated amorphous silicon si and crystalline silicon si based compared to traditional spectral integrated albedo predictions research showed impacts of over for vertically mounted systems but such effects were substantially lower for systems with lower surface tilts spectral albedo strongly affects the performance of bifacial solar cells where rear surface performance gains of over have been observed for si cells installed above healthy vegetation an analysis on the bias due to the specular reflectivity of commonly occurring surface materials both human made and natural provided effective albedo values for simulating the performance of seven photovoltaic materials mounted on three common photovoltaic system topologies industrial solar farms commercial flat rooftops and residential pitched roof applications trees forests generally have low albedo because the majority of the ultraviolet and visible spectrum is absorbed through photosynthesis for this reason the greater heat absorption by trees could offset some of the carbon benefits of afforestation or offset the negative climate impacts of deforestation in other words the climate change mitigation effect of carbon sequestration by forests is partially counterbalanced in that reforestation can decrease the reflection of sunlight albedo in the case of evergreen forests with seasonal snow cover albedo reduction may be significant enough for deforestation to cause net cooling effect trees also impact climate in extremely complicated ways through the water vapor causes cooling on the land surface causes heating where it condenses acts as strong greenhouse gas and can increase albedo when it condenses into clouds scientists generally treat as net cooling impact and the net climate impact of albedo and changes from deforestation depends greatly on local climate mid to high latitude forests have much lower albedo during snow seasons than flat ground thus contributing to warming modeling that compares the effects of albedo differences between forests and grasslands suggests that expanding the land area of forests in temperate zones offers only temporary mitigation benefit in seasonally snow covered zones winter albedos of treeless areas are to higher than nearby forested areas because snow does not cover the trees as readily deciduous trees have an albedo value of about to whereas coniferous trees have value of about to variation in summer albedo across both forest types is associated with maximum rates of photosynthesis because plants with high growth capacity display greater fraction of their foliage for direct interception of incoming radiation in the upper canopy the result is that wavelengths of light not used in photosynthesis are more likely to be reflected back to space rather than being absorbed by other surfaces lower in the canopy studies by the hadley centre have investigated the relative generally warming effect of albedo change and cooling effect of carbon sequestration on planting forests they found that new forests in tropical and midlatitude areas tended to cool new forests in high latitudes siberia were neutral or perhaps warming research in drawing from flux stations globally revealed climate trade off increased carbon uptake from afforestation results in reduced albedo initially this reduction may lead to moderate global warming over span of approximately years but it is expected to transition into significant cooling thereafter water reflectivity of smooth water at refractive index water reflects light very differently from typical terrestrial materials the reflectivity of water surface is calculated using the fresnel equations at the scale of the wavelength of light even wavy water is always smooth so the light is reflected in locally specular manner not diffusely the glint of light off water is commonplace effect of this at small angles of incident light waviness results in reduced reflectivity because of the steepness of the reflectivity vs incident angle curve and locally increased average incident angle although the reflectivity of water is very low at low and medium angles of incident light it becomes very high at high angles of incident light such as those that occur on the illuminated side of earth near the terminator early morning late afternoon and near the poles however as mentioned above waviness causes an appreciable reduction because light specularly reflected from water does not usually reach the viewer water is usually considered to have very low albedo in spite of its high reflectivity at high angles of incident light note that white caps on waves look white and have high albedo because the water is foamed up so there are many superimposed bubble surfaces which reflect adding up their reflectivities fresh black ice exhibits fresnel reflection snow on top of this sea ice increases the albedo to clouds cloud albedo has substantial influence over atmospheric temperatures different types of clouds exhibit different reflectivity theoretically ranging in albedo from minimum of near to maximum approaching on any given day about half of earth is covered by clouds which reflect more sunlight than land and water clouds keep earth cool by reflecting sunlight but they can also serve as blankets to trap warmth albedo and climate in some areas are affected by artificial clouds such as those created by the contrails of heavy commercial airliner traffic study following the burning of the kuwaiti oil fields during iraqi occupation showed that temperatures under the burning oil fires were as much as colder than temperatures several miles away under clear skies aerosol effects aerosols very fine particles droplets in the atmosphere have both direct and indirect effects on earth radiative balance the direct albedo effect is generally to cool the planet the indirect effect the particles act as cloud condensation nuclei and thereby change cloud properties is less certain black carbon another albedo related effect on the climate is from black carbon particles the size of this effect is difficult to quantify the panel on climate change estimates that the global mean radiative forcing for black carbon aerosols from fossil fuels is with range to black carbon is bigger cause of the melting of the polar ice cap in the arctic than carbon dioxide due to its effect on the albedo astronomical albedo titan is darker than saturn even though they receive the same amount of sunlight this is due to difference in albedo versus in geometric albedo in astronomy the term albedo can be defined in several different ways depending upon the application and the wavelength of electromagnetic radiation involved optical or visual albedo the albedos of planets satellites and minor planets such as asteroids can be used to infer much about their properties the study of albedos their dependence on wavelength lighting angle phase angle and variation in time composes major part of the astronomical field of photometry for small and far objects that cannot be resolved by telescopes much of what we know comes from the study of their albedos for example the absolute albedo can indicate the surface ice content of outer solar system objects the variation of albedo with phase angle gives information about regolith properties whereas unusually high radar albedo is indicative of high metal content in asteroids enceladus moon of saturn has one of the highest known optical albedos of any body in the solar system with an albedo of another notable high albedo body is eris with an albedo of many small objects in the outer solar system and asteroid belt have low albedos down to about typical comet nucleus has an albedo of such dark surface is thought to be indicative of primitive and heavily space weathered surface containing some organic compounds the overall albedo of the moon is measured to be around but it is strongly directional and non lambertian displaying also strong opposition effect although such reflectance properties are different from those of any terrestrial terrains they are typical of the regolith surfaces of airless solar system bodies two common optical albedos that are used in astronomy are the band geometric albedo measuring brightness when illumination comes from directly behind the observer and the bond albedo measuring total proportion of electromagnetic energy reflected their values can differ significantly which is common source of confusion planet geometric bond mercury or venus or earth mars jupiter and also saturn uranus neptune in detailed studies the directional reflectance properties of astronomical bodies are often expressed in terms of the five hapke parameters which semi empirically describe the variation of albedo with phase angle including of the opposition effect of regolith surfaces one of these five parameters is yet another type of albedo called the single scattering albedo it is used to define scattering of electromagnetic waves on small particles it depends on properties of the material refractive index the size of the particle and the wavelength of the incoming radiation an important relationship between an object astronomical geometric albedo absolute magnitude and diameter is given by where is the astronomical albedo is the diameter in kilometers and is the absolute magnitude radar albedo in planetary radar astronomy microwave or radar pulse is transmitted toward planetary target moon asteroid etc and the echo from the target is measured in most instances the transmitted pulse is circularly polarized and the received pulse is measured in the same sense of polarization as the transmitted pulse sc and the opposite sense oc the echo power is measured in terms of radar cross section or total power sc oc and is equal to the cross sectional area of metallic sphere perfect reflector at the same distance as the target that would return the same echo power those components of the received echo that return from first surface reflections as from smooth or mirror like surface are dominated by the oc component as there is reversal in polarization upon reflection if the surface is rough at the wavelength scale or there is significant penetration into the regolith there will be significant sc component in the echo caused by multiple scattering for most objects in the solar system the oc echo dominates and the most commonly reported radar albedo parameter is the normalized oc radar albedo often shortened to radar albedo where the denominator is the effective cross sectional area of the target object with mean radius smooth metallic sphere would have radar albedos of solar system objects object moon mercury venus mars avg type asteroid avg type asteroid avg type asteroid comet jq the values reported for the moon mercury mars venus and comet jq are derived from the total oc sc radar albedo reported in those references relationship to surface bulk density in the event that most of the echo is from first surface reflections or so the oc radar albedo is first order approximation of the fresnel reflection coefficient aka reflectivity and can be used to estimate the bulk density of planetary surface to depth of meter or so few wavelengths of the radar wavelength which is typically at the decimeter scale using the following empirical relationships history the term albedo was introduced into optics by johann heinrich lambert in his work photometria see also bio geoengineering cool roof daisyworld emissivity exitance global dimming ice albedo feedback irradiance kirchhoff law of thermal radiation opposition surge polar see saw radar astronomy solar radiation management references external links albedo project albedo encyclopedia of earth nasa modis brdf albedo product site ocean surface albedo look up table surface albedo derived from meteosat observations discussion of lunar albedos reflectivity of metals chart\n",
            "or is the first letter and the first vowel letter of the latin alphabet used in the modern english alphabet and others worldwide its name in english is pronounced plural aes it is similar in shape to the ancient greek letter alpha from which it derives the uppercase version consists of the two slanting sides of triangle crossed in the middle by horizontal bar the lowercase version is often written in one of two forms the double storey and single storey the latter is commonly used in handwriting and fonts based on it especially fonts intended to be read by children and is also found in italic type in english is the indefinite article with the alternative form an name in english the name of the letter is the long sound pronounced its name in most other languages matches the letter pronunciation in open syllables history the earliest known ancestor of is aleph the first letter of the phoenician alphabet where it represented glottal stop as phoenician only used consonantal letters in turn the ancestor of aleph may have been pictogram of an ox head in proto sinaitic script influenced by egyptian hieroglyphs styled as triangular head with two horns extended when the ancient greeks adopted the alphabet they had no use for letter representing glottal stop so they adapted sign to represent the vowel calling the letter by the similar name alpha in the earliest greek inscriptions dating to the th century bc following the greek dark ages the letter rests upon its side however in the later greek alphabet it generally resembles the modern capital form though many local varieties can be distinguished by the shortening of one leg or by the angle at which the cross line is set the etruscans brought the greek alphabet to the italian peninsula and left the form of alpha unchanged when the romans adopted the etruscan alphabet to write latin the resulting form used in the latin script would come to be used to write many other languages including english egyptian proto sinaitic proto canaanite phoenician western greek etruscan latin egyptian hieroglyphic ox head boeotian semitic version phoenician aleph greek alpha version etruscan version latin typographic variants different glyphs of the lowercase letter allographs include double storey and single storey during roman times there were many variant forms of the letter first was the monumental or lapidary style which was used when inscribing on stone or other more permanent media there was also cursive style used for everyday or utilitarian writing which was done on more perishable surfaces due to the perishable nature of these surfaces there are not as many examples of this style as there are of the monumental but there are still many surviving examples of different types of cursive such as majuscule cursive minuscule cursive and semi cursive minuscule variants also existed that were intermediate between the monumental and cursive styles the known variants include the early semi uncial the uncial and the later semi uncial uncial uncial modern roman roman modern italic italic modern script script at the end of the roman empire th century ad several variants of the cursive minuscule developed through western europe among these were the semi cursive minuscule of italy the merovingian script in france the visigothic script in spain and the insular or anglo irish semi uncial or anglo saxon majuscule of great britain by the ninth century the caroline script which was very similar to the present day form was the principal form used in book making before the advent of the printing press this form was derived through combining of prior forms road sign in ireland showing the irish latin alpha form of in lower and upper case forms th century italy saw the formation of the two main variants that are known today these variants the italic and roman forms were derived from the caroline script version the italic form also called script is often used in handwriting it consists of circle with vertical stroke on its right in the hands of medieval irish and english writers this form gradually developed from th century form resembling the greek letter tau the roman form is found in most printed material and consists of small loop with an arc over it both derive from the majuscule form in greek handwriting it was common to join the left leg and horizontal stroke into single loop as demonstrated by the uncial version shown many fonts then made the right leg vertical in some of these the serif that began the right leg stroke developed into an arc resulting in the printed form while in others it was dropped resulting in the modern handwritten form graphic designers refer to the italic and roman forms as single decker and double decker respectively italic type is commonly used to mark emphasis or more generally to distinguish one part of text from the rest set in roman type there are some other cases aside from italic type where script also called latin alpha is used in contrast with latin such as in the international phonetic alphabet use in writing systems pronunciation of by language orthography phonemes pinyin english french german portuguese saanich spanish turkish cross linguistic variation of pronunciation phone orthography chuvash french german indonesian italian malay polish portuguese spanish stavangersk norwegian swedish tagalog turkish utrecht dutch dutch doubled german afrikaans bulgarian spanish new zealand english lithuanian limburgish doubled luxembourgish catalan czech french northern england english terengganu malay polish west frisian doubled bashkir spanish dutch finnish french kaingang limburgish norwegian russian west frisian afrikaans doubled danish german southern england english kurdish norwegian azerbaijani kazakh luxembourgish southern england english hungarian kedah malay hungarian swedish maastrichtian limburgish ulster irish danish english russian zeta raška serbo croatian australian english bulgarian central catalan emilian galician lithuanian portuguese tagalog ukrainian mapudungun new zealand english perak malay chemnitz german transylvanian romanian chemnitz german southern england english english eastern catalan saanich english english in english language education the word apple is consistently associated with the letter in modern english orthography the letter represents at least seven different vowel sounds here represented using the vowels of received pronunciation with effects of ignored and mergers in general american mentioned where relevant the near open front unrounded vowel as in pad the open back unrounded vowel as in father merged with as in general american which is closer to its original latin and greek sound the open back rounded vowel merged with as in general american in was and what the open mid back rounded vowel in water the diphthong as in ace and major usually when is followed by one or occasionally two consonants and then another vowel letter this results from middle english lengthening followed by the great vowel shift schwa in many unstressed syllables as in about comma solar the double sequence does not occur in native english words but is found in some words derived from foreign languages such as aaron and aardvark however occurs in many common digraphs all with their own sound or sounds particularly and is the third most commonly used letter in english after and as well as in french it is the second most common in spanish and the most common in portuguese represents approximately of letters as used in english texts the figure is around in french in spanish and in portuguese other languages in most languages that use the latin alphabet denotes an open unrounded vowel such as or an exception is saanich in which and the glyph stands for close mid front unrounded vowel other systems in the international phonetic alphabet is used for the open front unrounded vowel is used for the open central unrounded vowel and is used for the open back unrounded vowel in sampa is used for the open front unrounded vowel and is used for the open back unrounded vowel other uses when using base notation is the conventional numeral corresponding to the number in algebra the letter along with various other letters of the alphabet is often used to denote variable with various conventional meanings in different areas of mathematics in rené descartes invented the convention of representing unknowns in equations by and and knowns by and and this convention is still often followed especially in elementary algebra in geometry capital latin letters are used to denote objects including line segments lines and rays capital is also typically used as one of the letters to represent an angle in triangle the lowercase representing the side opposite angle is often used to denote something or someone of better or more prestigious quality or status or the best grade that can be assigned by teachers for students schoolwork grade for clean restaurants list celebrities etc such associations can have motivating effect as exposure to the letter has been found to improve performance when compared with other letters is used to denote size as in narrow size shoe or small cup size in brassiere related characters latin alphabet ligature of originally used in latin with diacritics phonetic alphabet symbols related to the international phonetic alphabet only uses lowercase but uppercase forms are used in some other writing systems latin alpha represents an open back unrounded vowel in the ipa latin small alpha with retroflex hook turned represents near open central vowel in the ipa turned represents an open mid back unrounded vowel in ipa turned alpha or script represents an open back rounded vowel in the ipa modifier letter small turned alpha small capital an obsolete or non standard symbol in the international phonetic alphabet used to represent various sounds mainly open vowels modifier letters are used in the uralic phonetic alphabet upa sometimes encoded with unicode subscripts and superscripts subscript small is used in indo european studies small letter reversed schwa is used in the teuthonista phonetic transcription system glottal used in the transliteration of ugaritic derived signs symbols and abbreviations ordinal indicator ångström sign turned capital letter used in predicate logic to specify universal quantification for all at sign argentine austral anarchy symbol ancestor and sibling letters phoenician aleph from which the following symbols originally derive greek letter alpha from which the following letters derive cyrillic letter coptic letter alpha old italic which is the ancestor of modern latin runic letter ansuz which probably derives from old italic gothic letter aza armenian letter ayb other representations computing the latin letters and have unicode encodings and these are the same code points as those used in ascii and iso there are also precomposed character encodings for and with diacritics for most of those listed above the remainder are produced using combining diacritics variant forms of the letter have unique code points for specialist use the alphanumeric symbols set in mathematics and science latin alpha in linguistics and halfwidth and fullwidth forms for legacy cjk font compatibility the cyrillic and greek homoglyphs of the latin have separate encodings and other notes references bibliography external links history of the alphabet\n",
            "alabama is state in the southeastern region of the united states it borders tennessee to the north georgia to the east florida and the gulf of mexico to the south and mississippi to the west alabama is the th largest by area and the th most populous of the states alabama is nicknamed the yellowhammer state after the state bird alabama is also known as the heart of dixie and the cotton state the state has diverse geography with the north dominated by the mountainous tennessee valley and the south by mobile bay historically significant port alabama capital is montgomery and its largest city by population and area is huntsville its oldest city is mobile founded by french colonists alabama creoles in as the capital of french louisiana greater birmingham is alabama largest metropolitan area and its economic center politically as part of the deep south alabama is predominantly conservative state and is known for its southern culture within alabama american football particularly at the college level plays major part of the state culture originally home to many native tribes present day alabama was spanish territory beginning in the sixteenth century until the french acquired it in the early eighteenth century the british won the territory in until losing it in the american revolutionary war spain held mobile as part of spanish west florida until in december alabama was recognized as state during the antebellum period alabama was major producer of cotton and widely used african american slave labor in the state seceded from the united states to become part of the confederate states of america with montgomery acting as its first capital and rejoined the union in following the american civil war alabama would suffer decades of economic hardship in part due to agriculture and few cash crops being the main driver of the state economy similar to other former slave states alabamian legislators employed jim crow laws from the late th century up until the high profile events such as the selma to montgomery marches made the state major focal point of the civil rights movement in the and during and after world war ii alabama grew as the state economy diversified with new industries in the establishment of nasa marshall space flight center in huntsville helped boost alabama economic growth by developing local aerospace industry alabama economy in the st century is based on automotive finance tourism manufacturing aerospace mineral extraction healthcare education retail and technology etymology the name of the alabama river and state is derived from the alabama people muskogean speaking tribe whose members lived just below the confluence of the coosa and tallapoosa rivers on the upper reaches of the river in the alabama language the word for person of alabama lineage is or variously or in different dialects the plural form is the word spelling varies significantly among historical sources the first usage appears in three accounts of the hernando de soto expedition of garcilaso de la vega used while the knight of elvas and rodrigo ranjel wrote alibamu and limamu respectively in of the term as early as the french called the tribe the with french maps identifying the river as other spellings of the name have included alibamu alabamo albama alebamon alibama alibamou alabamu and allibamou the use of state names derived from native american languages is common in the an estimated states have names of native american origin sources disagree on the word meaning some scholars suggest the word comes from the choctaw meaning plants or weeds and meaning to cut to trim or to gather the meaning may have been clearers of the thicket or herb gatherers referring to clearing land for cultivation or collecting medicinal plants the state has numerous place names of native american origin an article in the jacksonville republican proposed it meant here we rest this notion was popularized in the through the writings of alexander beaufort meek experts in the muskogean languages have not found any evidence to support such translation history pre european settlement the moundville archaeological site in hale county it was occupied by native americans of the mississippian culture from to ce indigenous peoples of varying cultures lived in the area for thousands of years before the advent of european colonization trade with the northeastern tribes by the ohio river began during the burial mound period bce ce and continued until european contact the agrarian mississippian culture covered most of the state from to ce with one of its major centers built at what is now the moundville archaeological site in moundville alabama this is the second largest complex of the classic middle mississippian era after cahokia in present day illinois which was the center of the culture analysis of artifacts from archaeological excavations at moundville were the basis of scholars formulating the characteristics of the southeastern ceremonial complex secc contrary to popular belief the secc appears to have no direct links to mesoamerican culture but developed independently the ceremonial complex represents major component of the religion of the mississippian peoples it is one of the primary means by which their religion is understood among the historical tribes of native american people living in present day alabama at the time of european contact were the cherokee an iroquoian language people and the muskogean speaking alabama alibamu chickasaw choctaw creek and koasati while part of the same large language family the muskogee tribes developed distinct cultures and languages european settlement the spanish were the first europeans to reach alabama during their exploration of north america in the th century the expedition of hernando de soto passed through mabila and other parts of the state in more than years later the french founded the region first european settlement at old mobile in the city was moved to the current site of mobile in this area was claimed by the french from to as part of la louisiane after the french lost to the british in the seven years war it became part of british west florida from to after the victory in the american revolutionary war the territory was divided between the united states and spain the latter retained control of this western territory from until the surrender of the spanish garrison at mobile to forces on april thomas bassett loyalist to the british monarchy during the revolutionary era was one of the earliest white settlers in the state outside mobile he settled in the tombigbee district during the early the district boundaries were roughly limited to the area within few miles of the tombigbee river and included portions of what is today southern clarke county northernmost mobile county and most of washington county what are now baldwin and mobile counties became part of spanish west florida in part of the independent republic of west florida in and finally part of the mississippi territory in most of what is now the northern two thirds of alabama was known as the yazoo lands beginning during the british colonial period it was claimed by the province of georgia from onwards following the revolutionary war it remained part of georgia although heavily disputed with the exception of the area around mobile and the yazoo lands what is now the lower one third of alabama was made part of the mississippi territory when it was organized in the yazoo lands were added to the territory in following the yazoo land scandal spain kept claim on its former spanish west florida territory in what would become the coastal counties until the adams onís treaty officially ceded it to the in th century upright before mississippi admission to statehood on december the more sparsely settled eastern half of the territory was separated and named the alabama territory the united states congress created the alabama territory on march st stephens now abandoned served as the territorial capital from to alabama was admitted as the nd state on december with congress selecting huntsville as the site for the first constitutional convention from july to august delegates met to prepare the new state constitution huntsville served as temporary capital from to when the seat of government moved to cahaba in dallas county cahaba now ghost town was the first permanent state capital from to the alabama fever land rush was underway when the state was admitted to the union with settlers and land speculators pouring into the state to take advantage of fertile land suitable for cotton cultivation part of the frontier in the and its constitution provided for universal suffrage for white men thornhill in greene county it is former black belt plantation southeastern planters and traders from the upper south brought slaves with them as the cotton plantations in alabama expanded the economy of the central black belt named for its dark productive soil was built around large cotton plantations whose owners wealth grew mainly from slave labor the area also drew many poor disenfranchised people who became subsistence farmers alabama had an estimated population of under people in but it increased to more than people by most native american tribes were completely removed from the state within few years of the passage of the indian removal act by congress in from to tuscaloosa served as alabama capital on january the alabama legislature announced it had voted to move the capital city from tuscaloosa to montgomery the first legislative session in the new capital met in december new capitol building was erected under the direction of stephen decatur button of philadelphia the first structure burned down in but was rebuilt on the same site in this second capitol building in montgomery remains to the present day it was designed by barachias holt of exeter maine civil war and reconstruction by the population had increased to people of which nearly half were enslaved african americans and were free people of color on january alabama declared its secession from the union after remaining an independent republic for few days it joined the confederate states of america the confederacy capital was initially at montgomery alabama was heavily involved in the american civil war although comparatively few battles were fought in the state alabama contributed about soldiers to the war effort union army troops occupying courthouse square in huntsville following its capture and occupation by federal forces in company of cavalry soldiers from huntsville alabama joined nathan bedford forrest battalion in hopkinsville kentucky the company wore new uniforms with yellow trim on the sleeves collar and coattails this led to them being greeted with yellowhammer and the name later was applied to all alabama troops in the confederate army alabama slaves were freed by the th amendment in alabama was under military rule from the end of the war in may until its official restoration to the union in from to with most white citizens barred temporarily from voting and freedmen enfranchised many african americans emerged as political leaders in the state alabama was represented in congress during this period by three african american congressmen jeremiah haralson benjamin turner and james rapier following the war the state remained chiefly agricultural with an economy tied to cotton during reconstruction state legislators ratified new state constitution in which created the state first public school system and expanded women rights legislators funded numerous public road and railroad projects although these were plagued with allegations of fraud and organized insurgent resistance groups tried to suppress the freedmen and republicans these groups included the ku klux klan the pale faces knights of the white camellia red shirts and the white league reconstruction in alabama ended in when the democrats regained control of the legislature and governor office through an election dominated by fraud and violence they wrote another constitution in and the legislature passed the blaine amendment prohibiting public money from being used to finance religious affiliated schools the same year legislation was approved that called for racially segregated schools railroad passenger cars were segregated in th century the developing skyline of birmingham in the new constitution of alabama included provisions for voter registration that effectively disenfranchised large portions of the population including nearly all african americans and native americans and tens of thousands of poor european americans through making voter registration difficult requiring poll tax and literacy test the constitution required racial segregation of public schools by only african americans were registered in alabama although at least were literate this compared to more than african americans eligible to vote in the numbers dropped even more in later decades the state legislature passed additional racial segregation laws related to public facilities into the jails were segregated in hospitals in toilets hotels and restaurants in and bus stop waiting rooms in while the planter class had persuaded poor whites to vote for this legislative effort to suppress black voting the new restrictions resulted in their as well due mostly to the imposition of cumulative poll tax by whites constituted slight majority of those disenfranchised by these laws whites vs african americans nearly all blacks had lost the ability to vote despite numerous legal challenges which succeeded in overturning certain provisions the state legislature would create new ones to maintain the exclusion of blacks from the political system persisted until after passage of federal civil rights legislation in to enforce their constitutional rights as citizens the rural dominated alabama legislature consistently underfunded schools and services for the disenfranchised african americans but it did not relieve them of paying taxes partially as response to chronic underfunding of education for african americans in the south the rosenwald fund began funding the construction of what came to be known as rosenwald schools in alabama these schools were designed and the construction partially financed with rosenwald funds which paid one third of the construction costs the fund required the local community and state to raise matching funds to pay the rest black residents effectively taxed themselves twice by raising additional monies to supply matching funds for such schools which were built in many rural areas they often donated land and labor as well the former mount sinai school in rural autauga county completed in it was one of the rosenwald schools built in the state beginning in the first rosenwald schools were built in alabama for african american children total of schools seven teachers houses and several vocational buildings were completed by in the state several of the surviving school buildings in the state are now listed on the national register of historic places continued racial discrimination and lynchings agricultural depression and the failure of the cotton crops due to boll weevil infestation led tens of thousands of african americans from rural alabama and other states to seek opportunities in northern and midwestern cities during the early decades of the th century as part of the great migration out of the south reflecting this emigration the population growth rate in alabama see historical populations table below dropped by nearly half from to at the same time many rural people migrated to the city of birmingham to work in new industrial jobs birmingham experienced such rapid growth it was called the magic city by birmingham was the th largest city in the united states heavy industry and mining were the basis of its economy its residents were under represented for decades in the state legislature which refused to redistrict after each decennial census according to population changes as it was required by the state constitution this did not change until the late following lawsuit and court order industrial development related to the demands of world war ii brought level of prosperity to the state not seen since before the civil war rural workers poured into the largest cities in the state for better jobs and higher standard of living one example of this massive influx of workers occurred in mobile between and more than people moved into the city to work for war related industries cotton and other cash crops faded in importance as the state developed manufacturing and service base despite massive population changes in the state from to the rural dominated legislature refused to reapportion house and senate seats based on population as required by the state constitution to follow the results of decennial censuses they held on to old representation to maintain political and economic power in agricultural areas one result was that jefferson county containing birmingham industrial and economic powerhouse contributed more than one third of all tax revenue to the state but did not receive proportional amount in services urban interests were consistently in the legislature study noted that because of rural domination minority of about of the total state population is in majority control of the alabama legislature in the united states supreme court cases of baker carr and reynolds sims the court ruled that the principle of one man one vote needed to be the basis of both houses of state legislatures and that their districts had to be based on population rather than geographic counties african americans continued to press in the and to end and segregation in the state through the civil rights movement including legal challenges in the supreme court ruled in brown board of education that public schools had to be desegregated but alabama was slow to comply during the under governor george wallace alabama resisted compliance with federal demands for desegregation the civil rights movement had notable events in alabama including the montgomery bus boycott freedom rides in and selma to montgomery marches these contributed to congressional passage and enactment of the civil rights act of and voting rights act of by the congress legal segregation ended in the states in but jim crow customs often continued until specifically challenged in court according to the new york times by many of alabama african americans were living in alabama cities such as birmingham and montgomery also the black belt region across central alabama is home to largely poor counties that are predominantly african american these counties include dallas lowndes marengo and perry in for the first time since the legislature completed the congressional redistricting based on the decennial census this benefited the urban areas that had developed as well as all in the population who had been for more than sixty years other changes were made to implement representative state house and senate districts alabama has made some changes since the late th century and has used new types of voting to increase representation in the an omnibus redistricting case dillard crenshaw county challenged the at large voting for representative seats of alabama jurisdictions including counties and school boards at large voting had diluted the votes of any minority in county as the majority tended to take all seats despite african americans making up significant minority in the state they had been unable to elect any representatives in most of the at large jurisdictions as part of settlement of this case five alabama cities and counties including chilton county adopted system of cumulative voting for election of representatives in multi seat jurisdictions this has resulted in more proportional representation for voters in another form of proportional representation jurisdictions use limited voting as in conecuh county in limited voting was first tested in conecuh county together use of these systems has increased the number of african americans and women being elected to local offices resulting in governments that are more representative of their citizens beginning in the the state economy shifted away from its traditional lumber steel and textile industries because of increased foreign competition steel jobs for instance declined from in to in however the state particularly huntsville benefited from the opening of the george marshall space flight center in major facility in the development of the saturn rocket program and the space shuttle technology and manufacturing industries such as automobile assembly replaced some the state older industries in the late twentieth century but the state economy and growth lagged behind other states in the area such as georgia and florida st century in alabama supreme court chief justice roy moore installed statue of the ten commandments in the capitol in montgomery in the th us circuit court ordered the statue removed but moore refused to follow the court order which led to protests around the capitol in favor of keeping the monument the monument was removed in august few natural disasters have occurred in the state in the twenty first century in hurricane ivan category storm upon landfall struck the state and caused over billion of damage it was among the most destructive storms to strike the state in its modern history super outbreak of tornadoes hit the state in april and killed people devastating many communities geography map of alabama from the national atlas of the united states ono island in baldwin county monte sano state park in huntsville cathedral caverns in marshall county alabama is the thirtieth largest state in the united states with of total area of the area is water making alabama rd in the amount of surface water also giving it the second largest inland waterway system in the united states about three fifths of the land area is part of the gulf coastal plain gentle plain with general descent towards the mississippi river and the gulf of mexico the north alabama region is mostly mountainous with the tennessee river cutting large valley and creating numerous creeks streams rivers mountains and lakes alabama is bordered by the states of tennessee to the north georgia to the east florida to the south and mississippi to the west alabama has coastline at the gulf of mexico in the extreme southern edge of the state the state ranges in elevation from sea level at mobile bay to more than in the northeast to mount cheaha at alabama land consists of of forest or of the state total land area suburban baldwin county along the gulf coast is the largest county in the state in both land area and water area winston county is the longest natural bridge east of the rockies areas in alabama administered by the national park service include horseshoe bend national military park near alexander city little river canyon national preserve near fort payne russell cave national monument in bridgeport tuskegee airmen national historic site in tuskegee and tuskegee institute national historic site near tuskegee additionally alabama has four national forests conecuh talladega tuskegee and william bankhead alabama also contains the natchez trace parkway the selma to montgomery national historic trail and the trail of tears national historic trail natural wonders include the natural bridge rock the longest natural bridge east of the rockies just south of haleyville cathedral caverns in marshall county named for its cathedral like appearance which features one of the largest cave entrances and one of the largest stalagmites in the world ecor rouge in fairhope the highest coastline point between maine and mexico desoto caverns in childersburg the first officially recorded cave in the united states noccalula falls in gadsden which has foot waterfall dismals canyon near phil campbell which is home to two waterfalls and six natural bridges and is said to have been hideout of jesse james stephens gap cave in jackson county which has foot pit and two waterfalls and is one of the most photographed wild cave scenes in america little river canyon near fort payne one of the nation longest mountaintop rivers rickwood caverns near warrior which has an underground pool blind cave fish and million year old limestone formations and the walls of jericho canyon on the alabama tennessee border wetumpka meteorite crater wide meteorite impact crater is located in elmore county just north of montgomery this is the wetumpka crater the site of alabama greatest natural disaster wide meteorite hit the area about million years ago the hills just east of downtown wetumpka showcase the eroded remains of the impact crater that was blasted into the bedrock with the area labeled the wetumpka crater or astrobleme star wound because of the concentric rings of fractures and zones of shattered rock that can be found beneath the surface in christian koeberl with the institute of geochemistry university of vienna published evidence and established the site as the th recognized impact crater on earth climate the state is classified as humid subtropical cfa under the koppen climate classification the average annual temperature is temperatures tend to be warmer in the southern part of the state with its proximity to the gulf of mexico while the northern parts of the state especially in the appalachian mountains in the northeast tend to be slightly cooler generally alabama has very hot summers and mild winters with copious precipitation throughout the year alabama receives an average of of rainfall annually and enjoys lengthy growing season of up to days in the southern part of the state summers in alabama are among the hottest in the with high temperatures averaging over throughout the summer in some parts of the state alabama is also prone to tropical storms and hurricanes areas of the state far away from the gulf are not immune to the effects of the storms which often dump tremendous amounts of rain as they move inland and weaken south alabama reports many thunderstorms the gulf coast around mobile bay averages between and days per year with thunder reported this activity decreases somewhat further north in the state but even the far north of the state reports thunder on about days per year occasionally thunderstorms are severe with frequent lightning and large hail the central and northern parts of the state are most vulnerable to this type of storm alabama ranks ninth in the number of deaths from lightning and tenth in the number of deaths from lightning strikes per capita phil campbell following the statewide april tornado outbreak alabama along with oklahoma and iowa has the most confirmed and ef tornadoes of any state according to statistics from the national climatic data center for the period january to june several long tracked ef tornadoes have contributed to alabama reporting more tornado fatalities since than any other state the state was affected by the super outbreak and was devastated tremendously by the super outbreak the super outbreak produced record amount of tornadoes in the state the tally reached the peak season for tornadoes varies from the northern to southern parts of the state alabama is one of the few places in the world that has secondary tornado season in november and december besides the typically severe spring the northern part along the tennessee river valley is most vulnerable the area of alabama and mississippi most affected by tornadoes is sometimes referred to as dixie alley as distinct from the tornado alley of the southern plains winters are generally mild in alabama as they are throughout most of the southeastern united states with average january low temperatures around in mobile and around in birmingham although snow is rare event in much of alabama areas of the state north of montgomery may receive dusting of snow few times every winter with an occasional moderately heavy snowfall every few years historic snowfall events include new year eve snowstorm and the storm of the century the annual average snowfall for the birmingham area is per year in the southern gulf coast snowfall is less frequent sometimes going several years without any snowfall alabama highest temperature of was recorded on september in the unincorporated community of centerville the record low of occurred on january in new market flora and fauna cahaba lilies hymenocallis coronaria in the cahaba river within the cahaba river national wildlife refuge alabama is home to diverse array of flora and fauna in habitats that range from the tennessee valley appalachian plateau and ridge and valley appalachians of the north to the piedmont canebrake and black belt of the central region to the gulf coastal plain and beaches along the gulf of mexico in the south the state is usually ranked among the top in nation for its range of overall biodiversity alabama is in the subtropical coniferous forest biome and once boasted huge expanses of pine forest which still form the largest proportion of forests in the state it currently ranks fifth in the nation for the diversity of its flora it is home to nearly pteridophyte and spermatophyte plant species indigenous animal species in the state include mammal species reptile species amphibian species roughly native freshwater fish species and bird species that spend at least part of their year within the state invertebrates include crayfish species and mollusk species of these mollusk species have never been collected outside the state census designated and metropolitan areas combined statistical areas rank combined statistical area population estimate population census birmingham hoover talladega chattanooga cleveland dalton mobile daphne fairhope huntsville decatur albertville columbus auburn opelika dothan enterprise ozark metropolitan areas rank metropolitan area population estimate population census birmingham hoover huntsville mobile montgomery tuscaloosa daphne fairhope foley auburn opelika decatur dothan florence muscle shoals anniston oxford jacksonville gadsden cities statue of liberty replica at liberty park in vestavia hills dauphin street in mobile lighthouse on guntersville lake largest cities rank city population census county ies huntsville madison limestone morgan montgomery montgomery birmingham jefferson shelby mobile mobile tuscaloosa tuscaloosa hoover jefferson shelby auburn lee dothan houston dale henry madison madison limestone decatur morgan limestone florence lauderdale prattville autauga elmore vestavia hills jefferson shelby phenix city russell alabaster shelby demographics alabama population density ethnic origins in alabama map of counties in alabama by racial plurality per the census according to the united states census the population of alabama was on april which represents an increase of or since the census this includes natural increase since the last census of births minus deaths and an increase due to net migration of into the state immigration from outside the resulted in net increase of people and migration within the country produced net gain of people the state had foreign born of the state population of which an estimated were undocumented the top countries of origin for immigrants were mexico china india germany and guatemala in the center of population of alabama is located in chilton county outside the town of jemison according to hud annual homeless assessment report there were an estimated homeless people in alabama ancestry racial and ethnic composition as of the census race and ethnicity alone total white non hispanic african american non hispanic hispanic or latino asian native american pacific islander other historical racial demographics racial and ethnic composition white black asian native native hawaiian andother pacific islander other race two or more races those citing american ancestry in alabama are of overwhelmingly english extraction demographers estimate that minimum of of people in alabama are of predominantly english ancestry and state that the figure is probably much higher in the census people in alabama cited that they were of english ancestry out of total state population of making them of the state at the time and the largest ethnic group alabama has the th highest african american population among us states at as of in of alabama population younger than age were minorities the largest reported ancestry groups in alabama are american irish english german and scots irish based on census data the scots irish were the largest non english immigrant group from the british isles before the american revolution and many settled in the south later moving into the deep south as it was developed in under the davis strong act the state legislature established the alabama indian affairs commission native american groups within the state had increasingly been demanding recognition as ethnic groups and seeking an end to discrimination given the long history of slavery and associated racial segregation the native american peoples who have sometimes been of mixed race have insisted on having their cultural identification respected in the past their self identification was often overlooked as the state tried to impose binary breakdown of society into white and black the state has officially recognized nine american indian tribes in the state descended mostly from the five civilized tribes of the american southeast these are the following poarch band of creek indians who also have federal recognition mowa band of choctaw indians star clan of muscogee creeks echota cherokee tribe of alabama cherokee tribe of northeast alabama cher creek intra tribal indians ma chis lower creek indian tribe piqua shawnee tribe ani yun wiya nation the state government has promoted recognition of native american contributions to the state including the designation in for columbus day to be jointly celebrated as american indian heritage day language most alabama residents of those five and older spoke only english at home in minor decrease from in top non english languages spoken in alabama language percentage of population spanish german french incl patois cajun chinese vietnamese korean arabic african languages japanese and italian tied religion highlands united methodist church in birmingham part of the five points south historic district temple nai sholom in huntsville established in it is the oldest synagogue building in continuous use in the state the islamic center of tuscaloosa in the american religious identification survey of alabama respondents reported their religion as christian including catholic with as having no religion the composition of other traditions is mormon jewish muslim buddhist and hindu religious affiliation in alabama affiliation of population christian protestant evangelical protestant mainline protestant black church catholic mormon jehovah witnesses eastern orthodox other christian unaffiliated nothing in particular agnostic atheist non christian faiths jewish muslim buddhist hindu other non christian faiths don know refused answer total alabama is located in the middle of the bible belt region of numerous protestant christians alabama has been identified as one of the most religious states in the united states with about of the population attending church regularly majority of people in the state identify as evangelical protestant the three largest denominational groups in alabama are the southern baptist convention the united methodist church and non denominational evangelical protestant in alabama the southern baptist convention has the highest number of adherents with this is followed by the united methodist church with adherents non denominational evangelical protestant with adherents and the catholic church with adherents many baptist and methodist congregations became established in the great awakening of the early th century when preachers proselytized across the south the assemblies of god had almost members the churches of christ had nearly members the presbyterian churches strongly associated with scots irish immigrants of the th century and their descendants had combined membership around pca members in congregations pc usa members in congregations the cumberland presbyterian church members in congregations the cumberland presbyterian church in america members and fifty congregations plus the epc and associate reformed presbyterians with members and nine congregations in survey nearly of respondents could name all four of the christian gospels of those who indicated religious preference said they possessed full understanding of their faith and needed no further learning in poll of alabamians reported having at least some confidence in churches in the state although in much smaller numbers many other religious faiths are represented in the state as well including judaism islam hinduism buddhism sikhism the baháʼí faith and unitarian universalism jews have been present in what is now alabama since during the colonial era of mobile when sephardic jews immigrated from london the oldest jewish congregation in the state is congregation sha arai shomayim in mobile it was formally recognized by the state legislature on january later immigrants in the nineteenth and twentieth centuries tended to be ashkenazi jews from eastern europe jewish denominations in the state include two orthodox four conservative ten reform and one humanistic synagogue muslims have been increasing in alabama with mosques built by many by african american converts several hindu temples and cultural centers in the state have been founded by indian immigrants and their descendants the best known being the shri swaminarayan mandir in birmingham the hindu temple and cultural center of birmingham in pelham the hindu cultural center of north alabama in capshaw and the hindu mandir and cultural center in tuscaloosa there are six dharma centers and organizations for theravada buddhists most monastic buddhist temples are concentrated in southern mobile county near bayou la batre this area has attracted an influx of refugees from cambodia laos and vietnam during the and thereafter the four temples within ten mile radius of bayou la batre include chua chanh giac wat buddharaksa and wat lao phoutthavihan the first community of adherents of the baháʼí faith in alabama was founded in by paul dealy who moved from chicago to fairhope baháʼí centers in alabama exist in birmingham huntsville and florence health in life expectancy in alabama was years below the national average of years and is the third lowest life expectancy in the country factors that can cause lower life expectancy are maternal mortality suicide and gun crimes centers for disease control and prevention study in showed that obesity in alabama is problem with most counties having more than of adults obese except for ten which had rate between and residents of the state along with those in five other states were least likely in the nation to be physically active during leisure time alabama and the southeastern in general has one of the highest incidences of adult onset diabetes in the country exceeding of adults native american tribes the largest native american tribes in alabama according to the census are listed in the table below tribal groupings with over members in alabama in census tribal grouping american indian and alaska native alone aian in combination with one or more other races total aian alone or in any combination total aian population cherokee muscogee choctaw mexican american indian blackfeet sioux tribe not specified economy the state has invested in aerospace education health care banking and various heavy industries including automobile manufacturing mineral extraction steel production and fabrication by crop and animal production in alabama was valued at billion in contrast to the primarily agricultural economy of the previous century this was only about one percent of the state gross domestic product the number of private farms has declined at steady rate since the as land has been sold to developers timber companies and large farming conglomerates the robert trent jones golf trail has large economic impact on the state non agricultural employment in was in management occupations in business and financial operations in computer related and mathematical occupation in architecture and engineering in life physical and social sciences in community and social services in legal occupations in education training and library services in art design and media occupations in healthcare in fire fighting law enforcement and security in food preparation and serving in building and grounds cleaning and maintenance in personal care and services in sales in office and administration support in farming fishing and forestry in construction and mining gas and oil extraction in installation maintenance and repair in production and in transportation and material moving the riverchase galleria in hoover one of the largest shopping centers in the southeast according to the bureau of economic analysis the total gross state product was billion or per capita alabama gdp increased from the previous year the single largest increase came in the area of information in per capita income for the state was the state seasonally adjusted unemployment rate was in april this compared to nationwide seasonally adjusted rate of alabama has no minimum wage and in february passed legislation preventing municipalities from setting one birmingham city ordinance would have raised theirs to alabama has the sixth highest poverty rate among states in the in united nations special rapporteur philip alston toured parts of rural alabama and observed environmental conditions he said were poorer than anywhere he had seen in the developed world largest employers space shuttle enterprise being tested at marshall space flight center in hyundai motor manufacturing alabama in montgomery in shelby hall school of computing at the university of south alabama in mobile the five employers that employed the most employees in alabama in april were employer employees redstone arsenal university of alabama at birmingham includes uab hospital maxwell air force base state of alabama mobile county public school system the next twenty largest employers included employer location anniston army depot anniston at multiple auburn university auburn baptist medical center south montgomery birmingham city schools birmingham city of birmingham birmingham dch health system tuscaloosa huntsville city schools huntsville huntsville hospital system huntsville hyundai motor manufacturing alabama montgomery infirmary health system mobile jefferson county board of education birmingham marshall space flight center huntsville mercedes benz international vance montgomery public schools montgomery regions financial corporation multiple boeing multiple university of alabama tuscaloosa university of south alabama mobile walmart multiple agriculture alabama agricultural outputs include poultry and eggs cattle fish plant nursery items peanuts cotton grains such as corn and sorghum vegetables milk soybeans and peaches although known as the cotton state alabama ranks between eighth and tenth in national cotton production according to various reports with texas georgia and mississippi comprising the top three aquaculture aquaculture is large part of the economy of alabama alabamians began to practice aquaculture in the early farm raised catfish is the th most popular seafood product in america by approximately people in alabama were employed by the catfish industry and alabama produced million pounds of catfish in alabama produced of the united states farm raised catfish the total sales of catfish raised in alabama equaled million but by the total employment of alabamians fell to from the early to the alabamian catfish industry has declined from farms and processors to farms and processors reasons for this decline include increased feed prices catfish alternatives covid impact on restaurant sales disease and fish size industry alabama industrial outputs include iron and steel products including cast iron and steel pipe paper lumber and wood products mining mostly coal plastic products cars and trucks and apparel in addition alabama produces aerospace and electronic products mostly in the huntsville area the location of nasa george marshall space flight center and the army materiel command headquartered at redstone arsenal mercedes benz international in tuscaloosa county was the first automotive facility to locate within the state great deal of alabama economic growth since the has been due to the state expanding automotive manufacturing industry located in the state are honda manufacturing of alabama hyundai motor manufacturing alabama mercedes benz international and toyota motor manufacturing alabama as well as their various suppliers since the automobile industry has generated more than new jobs in the state alabama currently ranks th in the nation for vehicle exports automakers accounted for approximately third of the industrial expansion in the state in the eight models produced at the state auto factories totaled combined sales of vehicles for the strongest model sales during this period were the hyundai elantra compact car the mercedes benz gl class sport utility vehicle and the honda ridgeline sport utility truck airbus mobile engineering center at the brookley aeroplex in mobile steel producers outokumpu nucor ssab thyssenkrupp and steel have facilities in alabama and employ more than people in may german steelmaker thyssenkrupp selected calvert in mobile county for billion combined stainless and carbon steel processing facility thyssenkrupp stainless steel division inoxum including the stainless portion of the calvert plant was sold to finnish stainless steel company outokumpu in the remaining portion of the thyssenkrupp plant had final bids submitted by arcelormittal and nippon steel for billion in march companhia siderúrgica nacional submitted combined bid for the mill at calvert plus majority stake in the thyssenkrupp mill in brazil for billion in july the plant was sold to arcelormittal and nippon steel the hunt refining company subsidiary of hunt consolidated inc is based in tuscaloosa and operates refinery there the company also operates terminals in mobile melvin and moundville jvc america inc operates an optical disc replication and packaging plant in tuscaloosa the goodyear tire and rubber company operates large plant in gadsden which employs about people it has been in operation since construction of an airbus family aircraft assembly plant in mobile was formally announced by airbus ceo fabrice brégier from the mobile convention center on july the plans include million factory at the brookley aeroplex for the assembly of the and aircraft construction began in with plans for it to become operable by and produce up to aircraft per year by the assembly plant is the company first factory to be built within the united states it was announced on february that airbus had hired alabama based hoar construction to oversee construction of the facility the factory officially opened on september covering one million square feet on acres of flat grassland tourism and entertainment alabama beaches are one of the state major tourist destinations according to business insider alabama ranked th in most popular states to visit in an estimated million tourists visited the state in and spent billion providing directly or indirectly jobs in the state which includes international tourists spending million the state is home to various attractions natural features parks and events that attract visitors from around the globe notably the annual hangout music festival held on the public beaches of gulf shores the alabama shakespeare festival one of the ten largest shakespeare festivals in the world the robert trent jones golf trail collection of championship caliber golf courses distributed across the state casinos such as victoryland amusement parks such as alabama splash adventure the riverchase galleria one of the largest shopping centers in the southeast guntersville lake voted the best lake in alabama by southern living magazine readers and the alabama museum of natural history the oldest museum in the state mobile is the birthplace of mardi gras in the mobile is known for having the oldest organized mardi gras celebration in the united states beginning in it was also host to the first formally organized mardi gras parade in the in tradition that continues to this day mardi gras is an official state holiday in mobile and baldwin counties in mobile mardi gras parade was the state top event producing the most tourists with an attendance of the top attraction was the space rocket center in huntsville with an attendance of followed by the birmingham zoo with of the parks and natural destinations alabama gulf coast topped the list with visitors alabama has historically been popular region for film shoots due to its diverse landscapes and contrast of environments movies filmed in alabama include close encounters of the third kind get out selma big fish the final destination due date and need for speed healthcare uab hospital usa health university hospital huntsville hospital and children hospital of alabama are the only leveli trauma centers in alabama uab is the largest state government employer in alabama with workforce of about study found that alabama had the least competitive health insurance market in the country with blue cross and blue shield of alabama having market share of followed by unitedhealth group at banking regions harbert plaza regions center and wells fargo tower in birmingham financial district regions financial corporation is the largest bank headquartered in or operating in alabama pnc financial services and wells fargo also have major presence in alabama wells fargo has regional headquarters an operations center campus and million data center in birmingham many smaller banks are also headquartered in the birmingham area including servisfirst and new south federal savings bank birmingham also serves as the headquarters for several large investment management companies including harbert management corporation electronics and communications provider at formerly bellsouth has major presence in alabama with several large offices in birmingham many technology companies are headquartered in huntsville such as adtran network access company intergraph computer graphics company and avocent an it infrastructure company construction brasfield gorrie be hoar construction and harbert international based in alabama and subsidiaries of urs corporation are all routinely are included in the engineering news record lists of top design international construction and engineering firms law and government state government state capitol building in montgomery completed in the foundational document for alabama government is the alabama constitution the current one having been adopted in the alabama constitution adopted in was with over amendments and almost words by some accounts the world longest constitution and roughly forty times the length of the united states constitution there has been significant movement to rewrite and modernize alabama constitution critics have argued that alabama constitution maintains highly centralized power with the state legislature leaving practically no power in local hands most counties do not have home rule any policy changes proposed in different areas of the state must be approved by the entire alabama legislature and frequently by state referendum the former constitution was particularly criticized for its complexity and length intentionally codifying segregation and racism heflin torbert judicial building in montgomery it houses the supreme court of alabama alabama court of civil appeals and alabama court of criminal appeals alabama government is divided into three coequal branches the legislative branch is the alabama legislature bicameral assembly composed of the alabama house of representatives with members and the alabama senate with members the legislature is responsible for writing debating passing or defeating state legislation the republican party currently holds majority in both houses of the legislature the legislature has the power to override gubernatorial veto by simple majority most state legislatures require two thirds majority to override veto until the state elected state senators on geographic basis by county with one per county it had not redistricted congressional districts since passage of its constitution in as result urbanized areas were grossly it had not changed legislative districts to reflect the decennial censuses either in reynolds sims the supreme court implemented the principle of one man one vote ruling that congressional districts had to be reapportioned based on censuses as the state already included in its constitution but had not implemented further the court ruled that both houses of bicameral state legislatures had to be apportioned by population as there was no constitutional basis for states to have geographically based systems at that time alabama and many other states had to change their legislative districting as many across the country had systems that urban areas and districts this had caused decades of underinvestment in such areas for instance birmingham and jefferson county taxes had supplied one third of the state budget but jefferson county received only th of state services in funding through the legislative delegations the alabama legislature kept control of county governments republican kay ivey is the governor of alabama as of the executive branch is responsible for the execution and oversight of laws it is headed by the governor of alabama other members of the executive branch include the cabinet the lieutenant governor of alabama the attorney general of alabama the alabama secretary of state the alabama state treasurer and the state auditor of alabama the current governor is republican kay ivey the members of the legislature take office immediately after the november elections statewide officials such as the governor lieutenant governor attorney general and other constitutional officers take office the following january the judiciary is responsible for interpreting the constitution of alabama and applying the law in state criminal and civil cases the state highest court is the supreme court of alabama alabama uses partisan elections to select judges since the judicial campaigns have become increasingly politicized the current chief justice of the alabama supreme court is republican tom parker all sitting justices on the alabama supreme court are members of the republican party there are two intermediate appellate courts the court of civil appeals and the court of criminal appeals and four trial courts the circuit court trial court of general jurisdiction and the district probate and municipal courts alabama has the death penalty with authorized methods of execution that include the electric chair and the gas chamber some critics believe the election of judges has contributed to an exceedingly high rate of executions alabama has the highest per capita death penalty rate in the country in some years it imposes more death sentences than does texas state which has population five times larger however executions per capita are significantly higher in texas some of its cases have been highly controversial the supreme court has overturned convictions in death penalty cases it was the only state to allow judges to override jury decisions in whether or not to use death sentence in cases judges overturned sentences of life imprisonment without parole that were voted unanimously by juries this judicial authority was removed in april on may alabama passed the human life protection act banning abortion at any stage of pregnancy unless there is serious health risk with no exceptions for rape and incest the law subjects doctors who perform abortions with to years imprisonment the law was originally supposed to take effect the following november but on october district judge myron thompson blocked the law from taking effect due to it being in conflict with the supreme court case roe wade on june after the supreme court overturned roe wade in dobbs jackson women health organization judge thompson lifted the injunction allowing the law to go into effect alabama is one of the very few states that does not allow the creation of state lotteries taxes taxes are collected by the alabama department of revenue alabama levies or personal income tax depending on the amount earned and filing status taxpayers are allowed to deduct their federal income tax from their alabama state tax even if taking the standard deduction those who itemize can also deduct fica the social security and medicare tax the state general sales tax rate is sales tax rates for cities and counties are also added to purchases for example the total sales tax rate in mobile county alabama is and there is an additional restaurant tax of which means diner in mobile county alabama would pay an tax on meal in sales and excise taxes in alabama accounted for of all state and local revenue only alabama mississippi and south dakota tax groceries at the full state sales tax rate the corporate income tax rate in alabama is the overall federal state and local tax burden in alabama ranks the state as the second least tax burdened state in the country property taxes of of assessed value per year are the second lowest in the after hawaii the state constitution currently requires voter referendum to raise property taxes historically an alabama excise tax on the storage use or other consumption in this state of tangible personal property purchased at retail for storage use or other consumption in this state was the focus of supreme court ruling curry united states county and local governments alabama has counties each county has its own elected legislative branch usually called the county commission it also has limited executive authority in the county because of the constraints of the alabama constitution which centralizes power in the state legislature only seven counties jefferson lee mobile madison montgomery shelby and tuscaloosa in the state have limited home rule instead most counties in the state must lobby the local legislation committee of the state legislature to get simple local policies approved ranging from waste disposal to land use zoning the state legislature has retained power over local governments by refusing to pass constitutional amendment establishing home rule for counties as recommended by the alabama constitutional commission legislative delegations retain certain powers over each county united states supreme court decisions in baker carr required that both houses have districts established on the basis of population and redistricted after each census to implement the principle of one man one vote before that each county was represented by one state senator leading to under representation in the state senate for more urbanized populous counties the rural bias of the state legislature which had also failed to redistrict seats in the state house affected politics well into the th century failing to recognize the rise of industrial cities and urbanized areas the lack of home rule for counties in alabama has resulted in the proliferation of local legislation permitting counties to do things not authorized by the state constitution alabama constitution has been amended more than times and almost one third of the amendments are local in nature applying to only one county or city significant part of each legislative session is spent on local legislation taking away time and attention of legislators from issues of statewide importance alabama is an alcoholic beverage control state meaning the state government holds monopoly on the sale of alcohol the alabama alcoholic beverage control board controls the sale and distribution of alcoholic beverages in the state total of of the counties are dry counties which ban the sale of alcohol and there are many dry municipalities in counties which permit alcohol sales rank county population estimate population census seat largest city jefferson birmingham birmingham mobile mobile mobile madison huntsville huntsville montgomery montgomery montgomery shelby columbiana hoover part alabaster baldwin bay minette daphne tuscaloosa tuscaloosa tuscaloosa lee opelika auburn morgan decatur decatur calhoun anniston anniston houston dothan dothan etowah gadsden gadsden limestone athens athens marshall guntersville albertville lauderdale florence florence politics during reconstruction following the american civil war alabama was occupied by federal troops of the third military district under general john pope in the political coalition of white democrats known as the redeemers took control of the state government from the republicans in part by suppressing the black vote through violence fraud and intimidation after coalition of white democratic politicians passed laws to segregate and disenfranchise african american residents process completed in provisions of the constitution provisions which disenfranchised blacks resulted in excluding many poor whites by more whites than blacks had been disenfranchised to the total effects were greater on the black community as almost all its citizens were disfranchised and relegated to separate and unequal treatment under the law from through the the state did not redraw election districts as population grew and shifted within the state during urbanization and of certain areas as counties were the basis of election districts the result was rural minority that dominated state politics through nearly three quarters of the century until series of federal court cases required redistricting in to meet equal representation alabama state politics gained nationwide and international attention in the and during the civil rights movement when whites and at times violently resisted protests for electoral and social reform governor george wallace the state only four term governor was controversial figure who vowed to maintain segregation only after passage of the federal civil rights act of and voting rights act of did african americans regain the ability to exercise suffrage among other civil rights in many jurisdictions they continued to be excluded from representation by at large electoral systems which allowed the majority of the population to dominate elections some changes at the county level have occurred following court challenges to establish single member districts that enable more diverse representation among county boards in the alabama legislature passed and republican governor bob riley signed resolution expressing profound regret over slavery and its lingering impact in symbolic ceremony the bill was signed in the alabama state capitol which housed congress of the confederate states of america in republicans won control of both houses of the legislature for the first time in years there are total of registered voters with active and the others inactive in the state the american values atlas by public religion research institute found that majority of alabama residents support same sex marriage elections doug jones won special election in state elections with the of blacks in the state became part of the solid south system in which the democratic party operated as effectively the only viable political party in every southern state for nearly hundred years local and state elections in alabama were decided in the democratic party primary with generally only token republican challengers running in the general election since the mid to late th century however white conservatives started shifting to the republican party in alabama majority white districts are now expected to regularly elect republican candidates to federal state and local office members of the nine seats on the supreme court of alabama and all ten seats on the state appellate courts are elected to office until no republicans held any of the court seats in that general election the then incumbent chief justice ernest hornsby refused to leave office after losing the election by approximately votes to republican perry hooper sr hornsby sued alabama and defiantly remained in office for nearly year before finally giving up the seat after losing in court the democrats lost the last of the nineteen court seats in august with the resignation of the last democrat on the bench in the early st century republicans hold all seven of the statewide elected executive branch offices republicans hold six of the eight elected seats on the alabama state board of education in republicans took large majorities of both chambers of the state legislature giving them control of that body for the first time in years the last remaining statewide democrat who served on the alabama public service commission was defeated in only three republican lieutenant governors have been elected since the end of reconstruction when republicans generally represented reconstruction government including the newly emancipated freedmen who had gained the franchise the three gop lieutenant governors are steve windom kay ivey and will ainsworth present local elections many local offices county commissioners boards of education tax assessors mayors etc in the state are still held by democrats many metropolitan and suburban counties have voters who are majority democrats resulting in local elections being decided in the democratic primary similarly most rural counties are majority republican and elections are effectively decided in the republican primary however since local governments in alabama are weaker than in other parts of the country republicans have the upper hand in government alabama county sheriffs are elected in partisan at large races and republicans retain the vast majority of those posts the current split is democrats and republicans as of however most of the democratic sheriffs preside over urban and more populated counties the majority of republican sheriffs have been elected in the more rural counties with lower population the state of alabama has and african american sheriffs federal elections the state two senators are katie britt and tommy tuberville both of whom are republican in the house of representatives the state is represented by seven members six of whom are republicans jerry carl mike rogers robert aderholt dale strong barry moore and gary palmer and one democrat terri sewell who represents the black belt as well as most of the predominantly black portions of birmingham tuscaloosa and montgomery education primary and secondary education vestavia hills high school in the suburbs of birmingham public primary and secondary education in alabama is under the purview of the alabama state board of education as well as local oversight by county school boards and city boards of education together individual schools provide education for elementary and secondary students public school funding is appropriated through the alabama legislature through the education trust fund in fy alabama appropriated for primary and secondary education that represented an increase of over the previous fiscal year in more than percent of schools made adequate yearly progress ayp toward student proficiency under the national no child left behind law using measures determined by the state of alabama while alabama public education system has improved in recent decades it lags behind in achievement compared to other states according to census data alabama high school graduation rate is the fourth lowest in the after kentucky louisiana and mississippi the largest educational gains were among people with some college education but without degrees according to national assessment of educational progress neap alabama ranks in reading and in math among fourth grade students in the rankings from generally prohibited in the west at large school corporal punishment is not unusual in alabama with public school students paddled at least one time according to government data for the school year the rate of school corporal punishment in alabama is surpassed by only mississippi and arkansas colleges and universities harrison plaza at the university of north alabama in florence the school was chartered as lagrange college by the alabama legislature in alabama programs of higher education include four year public universities two year community colleges and private undergraduate and graduate universities in the state are four medical schools as of fall uab heersink school of medicine university of south alabama and alabama college of osteopathic medicine and the edward via college of osteopathic medicine auburn campus two veterinary colleges auburn university and tuskegee university dental school uab school of dentistry an optometry college uab school of optometry two pharmacy schools auburn university and samford university and five law schools university of alabama school of law birmingham school of law cumberland school of law miles law school and the thomas goode jones school of law public post secondary education in alabama is overseen by the alabama commission on higher education and the alabama department of postsecondary education colleges and universities in alabama offer degree programs from two year associate degrees to multitude of doctoral level programs william samford hall at auburn university the largest single campus is the university of alabama located in tuscaloosa with enrolled for fall troy university was the largest institution in the state in with an enrollment of students across four alabama campuses troy dothan montgomery and phenix city as well as sixty learning sites in seventeen other states and eleven other countries the oldest institutions are the public university of north alabama in florence and the catholic church affiliated spring hill college in mobile both founded in accreditation of academic programs is through the southern association of colleges and schools sacs as well as other subject focused national and international accreditation agencies such as the association for biblical higher education abhe the council on occupational education coe and the accrediting council for independent colleges and schools acics according to the news world report alabama had three universities ranked in the top public schools in america auburn university at university of alabama at birmingham uab at and university of alabama at according to the news world report alabama had four tier one universities auburn university university of alabama at birmingham uab university of alabama and university of alabama in huntsville media major newspapers include birmingham news mobile press register and montgomery advertiser major television network affiliates in alabama include abc wgww abc anniston wbma wabm abc birmingham wdhn abc dothan waay abc huntsville wear abc pensacola florida mobile wncf abc montgomery wdbb abc tuscaloosa cbs wiat cbs birmingham wtvy cbs dothan whnt cbs huntsville wkrg cbs mobile waka cbs selma montgomery fox wbrc fox birmingham wzdx fox huntsville wala fox mobile wcov fox montgomery wdfx fox ozark dothan nbc wvtm nbc birmingham wrgx nbc dothan waff nbc huntsville wpmi nbc mobile wsfa nbc montgomery pbs alabama public television wbiq pbs birmingham wiiq pbs demopolis wdiq pbs dozier wfiq pbs florence whiq pbs huntsville wgiq pbs louisville weiq pbs mobile waiq pbs montgomery wciq pbs mount cheaha the cw wtto homewood birmingham wtvy dothan whdf florence huntsville wfna gulf shores mobile pensacola fl wdbb tuscaloosa wbmm tuskegee montgomery culture literature alabama literature is characterized by themes of race and issues of gender and war and is influenced by events such as the american civil war the reconstruction era the civil rights movement and the vietnam war some notable examples of alabama literature include harper lee to kill mockingbird winston groom forrest gump fannie flagg fried green tomatoes at the whistlestop cafe and the biographies of rosa parks and martin luther king jr sports bryant denny stadium at the university of alabama in tuscaloosa regions field in birmingham von braun center in huntsville birmingham jefferson convention complex in birmingham professional sports alabama has several professional and semi professional sports teams including three minor league baseball teams club city sport league venue afc mobile mobile soccer gulf coast premier league archbishop lipscomb athletic complex birmingham bulls pelham ice hockey southern professional hockey league pelham civic center birmingham legion fc birmingham soccer usl championship pnc field birmingham barons birmingham baseball southern league double regions field birmingham stallions birmingham football united football league protective stadium huntsville havoc huntsville ice hockey southern professional hockey league von braun center montgomery biscuits montgomery baseball southern league double montgomery riverwalk stadium rocket city trash pandas madison baseball southern league double toyota field tennessee valley tigers huntsville football independent women football league milton frank stadium the talladega superspeedway motorsports complex hosts series of nascar events it has seating capacity of and is the thirteenth largest stadium in the world and sixth largest stadium in america also the barber motorsports park has hosted indycar series and rolex sports car series races the atp birmingham was world championship tennis tournament held from to alabama has hosted several professional golf tournaments such as the and pga championship at shoal creek the barbasol championship pga tour the mobile lpga tournament of champions airbus lpga classic and yokohama tire lpga classic lpga tour and the tradition champions tour college sports college football is extremely popular in alabama particularly the university of alabama crimson tide and auburn university tigers rivals in the southeastern conference alabama averages over fans per game and auburn averages over both numbers among the top twenty in the nation bryant denny stadium is the home of the alabama football team and has seating capacity of and is the fifth largest stadium in america jordan hare stadium is the home field of the auburn football team and seats up to protective stadium is home of the uab blazers football program and the birmingham bowl it seats ladd peebles stadium in mobile is the home of the university of south alabama football team and serves as the home of the ncaa senior bowl lendingtree bowl and alabama mississippi all star classic the stadium seats in bryant denny stadium and jordan hare stadium became the homes of the alabama high school athletic association state football championship games after previously being held at legion field in birmingham transportation terminal at the montgomery regional airport in montgomery interstate co signed with interstate approaching interstate in downtown birmingham aerial view of the port of mobile aviation major airports with sustained operations in alabama include birmingham shuttlesworth international airport bhm huntsville international airport hsv dothan regional airport dhn mobile regional airport mob montgomery regional airport mgm northwest alabama regional airport msl and northeast alabama regional airport gad rail for rail transport amtrak schedules the crescent daily passenger train running from new york to new orleans with station stops at anniston birmingham and tuscaloosa roads alabama has six major interstate routes interstate travels north south roughly through the middle of the state travel from the central west mississippi state line to birmingham where continues to the north east corner of the state and continues east towards atlanta originates in montgomery and travels east northeast to the georgia state line providing main thoroughfare to atlanta and traverses the southernmost portion of the state traveling from west to east through mobile enters the state from mississippi and connects birmingham with memphis tennessee in addition there are currently five auxiliary interstate routes in the state in mobile in tuscaloosa around birmingham in decatur and huntsville and in gadsden sixth route will be formed when is rerouted along new southern bypass of montgomery proposed northern bypass of birmingham will be designated as since direct connection from to will not be possible has been proposed as well several highways also pass through the state such as route us us us us us us us us us us us us us us us us us and us there are four toll roads in the state montgomery expressway in montgomery northport tuscaloosa western bypass in tuscaloosa and northport emerald mountain expressway in wetumpka and beach express in orange beach ports the port of mobile alabama only saltwater port is large seaport on the gulf of mexico with inland waterway access to the midwest by way of the tennessee tombigbee waterway the port of mobile was ranked th by tons of traffic in the united states during the newly expanded container terminal at the port of mobile was ranked as the th busiest for container traffic in the nation during the state other ports are on rivers with access to the gulf of mexico water ports of alabama listed from north to south port name location connected to port of florence florence muscle shoals on pickwick lake tennessee river port of decatur decatur on wheeler lake tennessee river port of demopolis demopolis on tombigbee river tennessee tombigbee waterway port of guntersville guntersville on lake guntersville tennessee river port of birmingham birmingham on black warrior river tennessee tombigbee waterway port of tuscaloosa tuscaloosa on black warrior river tennessee tombigbee waterway port of montgomery montgomery on woodruff lake alabama river port of mobile mobile on mobile bay gulf of mexico see also index of alabama related articles outline of alabama organized list of topics about alabama uss alabama ships notes subnotes other notes references further reading atkins leah rawls wayne flynt william warren rogers and david ward alabama the history of deep south state flynt wayne alabama in the twentieth century owen thomas history of alabama and dictionary of alabama biography vols jackson harvey inside alabama personal history of my state mohl raymond latinization in the heart of dixie hispanics in late twentieth century alabama alabama review peirce neal the deep south states of america people politics and power in the seven deep south states williams benjamin buford literary history of alabama the nineteenth century wpa guide to alabama external links alabama state guide from the library of congress your not so ordinary alabama tourist guide all about alabama at the alabama department of archives and history code of alabama usgs real time geographic and other scientific resources of alabama alabama quickfacts from the census bureau alabama state fact sheet\n",
            "in greek mythology achilles or achilleus was hero of the trojan war who was known as being the greatest of all the greek warriors the central character in homer iliad he was the son of the nereid thetis and peleus king of phthia and famous argonaut achilles was raised in phthia along with his childhood companion patroclus and received his education by the centaur chiron in the iliad he is presented as the commander of the mythical tribe of the myrmidons achilles most notable feat during the trojan war was the slaying of the trojan prince hector outside the gates of troy although the death of achilles is not presented in the iliad other sources concur that he was killed near the end of the trojan war by paris who shot him with an arrow later legends beginning with statius unfinished epic achilleid written in the st century ad state that achilles was invulnerable in all of his body except for one heel according to that myth when his mother thetis dipped him in the river styx as an infant she held him by one of his heels leaving it untouched by the waters and thus his only vulnerable body part alluding to these legends the term achilles heel has come to mean point of weakness which can lead to downfall especially in someone or something with an otherwise strong constitution the achilles tendon is named after him following the same legend etymology linear tablets attest to the personal name achilleus in the forms ki re and ki re we the latter being the dative of the former the name grew more popular becoming common soon after the seventh century bc and was also turned into the female form achilleía attested in attica in the fourth century bc ig ii² and in the form achillia on stele in halicarnassus as the name of female gladiator fighting an amazon achilles name can be analyzed as combination of distress pain sorrow grief and people soldiers nation resulting in proto form akhí lāu os he who has the people distressed or he whose people have distress the grief or distress of the people is theme raised numerous times in the iliad and frequently by achilles himself achilles role as the hero of grief or distress forms an ironic juxtaposition with the conventional view of him as the hero of glory usually in war furthermore laós has been construed by gregory nagy following leonard palmer to mean corps of soldiers muster with this derivation the name obtains double meaning in the poem when the hero is functioning rightly his men bring distress to the enemy but when wrongly his men get the grief of war the poem is in part about the misdirection of anger on the part of leadership some researchers deem the name loan word possibly from pre greek language achilles descent from the nereid thetis and similarity of his name with those of river deities such as acheron and achelous have led to speculations about his being an old water divinity robert beekes has suggested pre greek origin of the name based among other things on the coexistence of λλ and in epic language which may account for palatalized phoneme ly in the original language birth and early years thetis dipping the infant achilles into the river styx by peter paul rubens museum boijmans van beuningen rotterdam left px achilles was the son of thetisa nereid and daughter of the old man of the seaand peleus the king of the myrmidons zeus and poseidon had been rivals for thetis hand in marriage until prometheus the fore thinker warned zeus of prophecy originally uttered by themis goddess of divine law that thetis would bear son greater than his father for this reason the two gods withdrew their pursuit and had her wed peleus there is tale which offers an alternative version of these events in the argonautica zeus sister and wife hera alludes to thetis chaste resistance to the advances of zeus pointing out that thetis was so loyal to hera marriage bond that she coolly rejected the father of gods thetis although daughter of the sea god nereus was also brought up by hera further explaining her resistance to the advances of zeus zeus was furious and decreed that she would never marry an immortal the education of achilles by eugène delacroix pastel on paper getty center los angeles according to the achilleid written by statius in the st century ad and to non surviving previous sources when achilles was born thetis tried to make him immortal by dipping him in the river styx however he was left vulnerable at the part of the body by which she held him his left heel it is not clear if this version of events was known earlier in another version of this story thetis anointed the boy in ambrosia and put him on top of fire in order to burn away the mortal parts of his body she was interrupted by peleus and abandoned both father and son in rage james barry yale center for british art none of the sources before statius make any reference to this general invulnerability to the contrary in the iliad homer mentions achilles being wounded in book the paeonian hero asteropaios son of pelagon challenged achilles by the river scamander he was ambidextrous and cast spear from each hand one grazed achilles elbow drawing spurt of blood in the few fragmentary poems of the epic cycle which describe the hero death the cypria the little iliad by lesches of pyrrha the aethiopis and iliupersis by arctinus of miletus there is no trace of any reference to his general invulnerability or his famous weakness at the heel in the later vase paintings presenting the death of achilles the arrow or in many cases arrows hit his torso peleus entrusted achilles to chiron who lived on mount pelion and was known as the most righteous of the centaurs to be reared in some accounts achilles original name was ligyron and he was later named achilles by his tutor chiron according to homer achilles grew up in phthia with his childhood companion patroclus homer further writes that achilles taught patroclus what he himself had been taught by chiron including the medical arts thetis foretold that her son fate was either to gain glory and die young or to live long but uneventful life in obscurity achilles chose the former and decided to take part in the trojan war chiron teaching achilles how to play the lyre roman fresco from herculaneum st century ad according to photius the sixth book of the new history by ptolemy hephaestion reported that thetis burned in secret place the children she had by peleus when she had achilles peleus noticed tore him from the flames with only burnt foot and confided him to the centaur chiron later chiron exhumed the body of the damysus who was the fastest of all the giants removed the ankle and incorporated it into achilles burnt foot physical description in homer iliad achilles is portrayed as tall and striking with strength and looks that were unmatched among the greek warriors homer describes him as having long hair or mane along with other characters his hair is described with the word xanthḗ which meant yellow or at times shades thereof such as brown or auburn and was used mostly for fair hair later latin account probably from the th century ad falsely attributed to dares phrygius described achilles as having large chest fine mouth and powerfully formed arms and legs his head was covered with long wavy chestnut colored hair though mild in manner he was very fierce in battle his face showed the joy of man richly endowed other names among the appellations under which achilles is generally known are the following pyrisous saved from the fire his first name which seems to favour the tradition in which his mortal parts were burned by his mother thetis aeacides from his grandfather aeacus aemonius from aemonia country which afterwards acquired the name of thessaly aspetos inimitable or vast his name at epirus larissaeus from larissa also called cremaste town of achaia phthiotis in thessaly ligyron his original name nereius from his mother thetis one of the nereids pelides from his father peleus phthius from his birthplace phthia podarkes swift footed literally defending with the foot from the verb ἀρκέω to defend ward off ptolemy hephaestion alternatively says that it was due to the wings of arke being attached to his feet hidden on skyros roman mosaic from the poseidon villa in zeugma commagene now in the zeugma mosaic museum depicting achilles disguised as woman and odysseus tricking him into revealing himself some post homeric sources claim that in order to keep achilles safe from the war thetis or in some versions peleus hid the young man dressed as princess or at least girl at the court of lycomedes king of skyros there achilles properly disguised lived among lycomedes daughters perhaps under the name pyrrha the red haired girl cercysera or aissa swift with lycomedes daughter deidamia with whom he had begun relationship achilles there fathered two sons neoptolemus also called pyrrhus after his father possible alias and oneiros according to this story odysseus learned from the prophet calchas that the achaeans would be unable to capture troy without achilles aid odysseus went to skyros in the guise of pedlar selling women clothes and jewellery and placed shield and spear among his goods when achilles instantly took up the spear odysseus saw through his disguise and convinced him to join the greek campaign in another version of the story odysseus arranged for trumpet alarm to be sounded while he was with lycomedes women while the women fled in panic achilles prepared to defend the court thus giving his identity away in the trojan war marble representation of achilles at the court of king px according to the iliad achilles arrived at troy with ships each carrying myrmidons he appointed five leaders each leader commanding myrmidons menesthius eudorus peisander phoenix and alcimedon telephus when the greeks left for the trojan war they accidentally stopped in mysia ruled by king telephus in the resulting battle achilles gave telephus wound that would not heal telephus consulted an oracle who stated that he that wounded shall heal guided by the oracle he arrived at argos where achilles healed him in order that he might become their guide for the voyage to troy according to other reports in euripides lost play about telephus he went to aulis pretending to be beggar and asked achilles to heal his wound achilles refused claiming to have no medical knowledge alternatively telephus held orestes for ransom the ransom being achilles aid in healing the wound odysseus reasoned that the spear had inflicted the wound therefore the spear must be able to heal it pieces of the spear were scraped off onto the wound and telephus was healed troilus achilles slaying troilus red figure kylix signed by euphronios according to the cypria the part of the epic cycle that tells the events of the trojan war before achilles wrath when the achaeans desired to return home they were restrained by achilles who afterwards attacked the cattle of aeneas sacked neighbouring cities like pedasus and lyrnessus where the greeks capture the queen briseis and killed tenes son of apollo as well as priam son troilus in the sanctuary of apollo thymbraios however the romance between troilus and chryseis described in geoffrey chaucer troilus and criseyde and in william shakespeare troilus and cressida is medieval invention in dares phrygius account of the destruction of troy the latin summary through which the story of achilles was transmitted to medieval europe as well as in older accounts troilus was young trojan prince the youngest of king priam and hecuba five legitimate sons or according other sources another son of apollo despite his youth he was one of the main trojan war leaders horse fighter or chariot fighter according to homer prophecies linked troilus fate to that of troy and so he was ambushed in an attempt to capture him yet achilles struck by the beauty of both troilus and his sister polyxena and overcome with lust directed his sexual attentions on the youth who refusing to yield instead found himself decapitated upon an altar omphalos of apollo thymbraios later versions of the story suggested troilus was accidentally killed by achilles in an over ardent lovers embrace in this version of the myth achilles death therefore came in retribution for this sacrilege ancient writers treated troilus as the epitome of dead child mourned by his parents had troilus lived to adulthood the first vatican mythographer claimed troy would have been invincible however the motif is older and found already in plautus bacchides in the iliad achilles and agamemnon from mosaic from pompeii st century ad homer iliad is the most famous narrative of achilles deeds in the trojan war achilles wrath μῆνις ἀχιλλέως mênis achilléōs is the central theme of the poem the first two lines of the iliad read μῆνιν ἄειδε θεὰ πηληιάδεω ἀχιλῆος οὐλομένην μυρί ἀχαιοῖς ἄλγε ἔθηκε sing goddess of the rage of peleus son achilles the accursed rage that brought great suffering to the achaeans achilles cedes briseis to agamemnon from the house of the tragic poet in pompeii fresco st century ad naples national archaeological museum the homeric epic only covers few weeks of the decade long war and does not narrate achilles death it begins with achilles withdrawal from battle after being dishonoured by agamemnon the commander of the achaean forces agamemnon has taken woman named chryseis as his slave her father chryses priest of apollo begs agamemnon to return her to him agamemnon refuses and apollo sends plague amongst the greeks the prophet calchas correctly determines the source of the troubles but will not speak unless achilles vows to protect him achilles does so and calchas declares that chryseis must be returned to her father agamemnon consents but then commands that achilles slave briseis the daughter of briseus be brought to him to replace chryseis angry at the dishonour of having his plunder and glory taken away and as he says later because he loves briseis with the urging of his mother thetis achilles refuses to fight or lead his troops alongside the other greek forces at the same time burning with rage over agamemnon theft achilles prays to thetis to convince zeus to help the trojans gain ground in the war so that he may regain his honour as the battle turns against the greeks thanks to the influence of zeus nestor declares that the trojans are winning because agamemnon has angered achilles and urges the king to appease the warrior agamemnon agrees and sends odysseus and two other chieftains ajax and phoenix they promise that if achilles returns to battle agamemnon will return the captive briseis and other gifts achilles rejects all agamemnon offers him and simply urges the greeks to sail home as he is planning to do the rage of achilles fresco by giovanni battista tiepolo villa valmarana ai nani vicenza the trojans led by hector subsequently push the greek army back toward the beaches and assault the greek ships with the greek forces on the verge of absolute destruction patroclus leads the myrmidons into battle wearing achilles armour though achilles remains at his camp patroclus succeeds in pushing the trojans back from the beaches but is killed by hector before he can lead proper assault on the city of troy after receiving the news of the death of patroclus from antilochus the son of nestor achilles grieves over his beloved companion death his mother thetis comes to comfort the distraught achilles she persuades hephaestus to make new armour for him in place of the armour that patroclus had been wearing which was taken by hector the new armour includes the shield of achilles described in great detail in the poem enraged over the death of patroclus achilles ends his refusal to fight and takes the field killing many men in his rage but always seeking out hector achilles even engages in battle with the river god scamander who has become angry that achilles is choking his waters with all the men he has killed the god tries to drown achilles but is stopped by hera and hephaestus zeus himself takes note of achilles rage and sends the gods to restrain him so that he will not go on to sack troy itself before the time allotted for its destruction seeming to show that the unhindered rage of achilles can defy fate itself finally achilles finds his prey the triumph of achilles fresco by franz von matsch in the achilleion greece achilles chases hector around the wall of troy three times before athena in the form of hector favorite and dearest brother deiphobus persuades hector to stop running and fight achilles face to face after hector realizes the trick he knows the battle is inevitable wanting to go down fighting he charges at achilles with his only weapon his sword but misses accepting his fate hector begs achilles not to spare his life but to treat his body with respect after killing him achilles tells hector it is hopeless to expect that of him declaring that my rage my fury would drive me now to hack your flesh away and eat you raw such agonies you have caused me achilles then kills hector and drags his corpse by its heels behind his chariot after having dream where patroclus begs achilles to hold his funeral achilles hosts series of funeral games in honour of his companion at the onset of his duel with hector achilles is referred to as the brightest star in the sky which comes on in the autumn orion dog sirius sign of evil during the cremation of patroclus he is compared to hesperus the evening western star venus while the burning of the funeral pyre lasts until phosphorus the morning eastern star also venus has set descended with the assistance of the god hermes argeiphontes hector father priam goes to achilles tent to plead with achilles for the return of hector body so that he can be buried achilles relents and promises truce for the duration of the funeral lasting days with burial on the th in the tradition of niobe offspring the poem ends with description of hector funeral with the doom of troy and achilles himself still to come later epic accounts fighting penthesilea and memnon achilles and memnon fighting between thetis and eos attic black figure amphora from vulci the aethiopis th century bc and work named posthomerica composed by quintus of smyrna in the fourth century ce relate further events from the trojan war when penthesilea queen of the amazons and daughter of ares arrives in troy priam hopes that she will defeat achilles after his temporary truce with priam achilles fights and kills the warrior queen only to grieve over her death later initially taken aback he did not fight as intensely as usual once he realized that his distraction was endangering his life he refocused and killed her following the death of patroclus nestor son antilochus becomes achilles closest companion when memnon son of the dawn goddess eos and king of ethiopia slays antilochus achilles once more obtains revenge on the battlefield killing memnon consequently eos will not let the sun rise until zeus persuades her the fight between achilles and memnon over antilochus echoes that of achilles and hector over patroclus except that memnon unlike hector was also the son of goddess many homeric scholars argued that episode inspired many details in the iliad description of the death of patroclus and achilles reaction to it the episode then formed the basis of the cyclic epic aethiopis which was composed after the iliad possibly in the th century bc the aethiopis is now lost except for scattered fragments quoted by later authors achilles and patroclus achilles tending patroclus wounded by an arrow attic red figure kylix altes museum berlin the exact nature of achilles relationship with patroclus has been subject of dispute in both the classical period and modern times in the iliad it appears to be the model of deep and loyal friendship homer does not suggest that achilles and his close friend patroclus had sexual relations although there is no direct evidence in the text of the iliad that achilles and patroclus were lovers this theory was expressed by some later authors commentators from classical antiquity to the present have often interpreted the relationship through the lens of their own cultures in th century bc athens the intense bond was often viewed in light of the greek custom of paiderasteia which is the relationship between an older male and younger one usually teenager in patroclus and achilles case achilles would have been the younger as patroclus is usually seen as his elder in plato symposium the participants in dialogue about love assume that achilles and patroclus were couple phaedrus argues that achilles was the younger and more beautiful one so he was the beloved and patroclus was the lover however ancient greek had no words to distinguish heterosexual and homosexual and it was assumed that man could both desire handsome young men and have sex with women many pairs of men throughout history have been compared to achilles and patroclus to imply homosexual relationship death dying achilles achilleas thniskon in the gardens of the achilleion the death of achilles even if considered solely as it occurred in the oldest sources is complex one with many different versions starting with the oldest account in book of the iliad hector predicts with his last dying breath that paris and apollo will slay him at the scaean gates leading to troy with an arrow to the heel according to statius in book the sad spirit of dead patroclus visits achilles just as he drifts off into slumber requesting that his bones be placed with those of achilles in his golden vase gift of his mother attic black figure lekythos from sicily staatliche munich in book of the odyssey odysseus sails to the underworld and converses with the shades one of these is achilles who when greeted as blessed in life blessed in death responds that he would rather be slave to the worst of masters than be king of all the dead but achilles then asks odysseus of his son exploits in the trojan war and odysseus tells him of neoptolemus actions book of odyssey gives dead king agamemnon ghostly account of achilles death the bleached bones from achilles funeral pyre had been mixed with those of patroclus and put into his mother golden vase also the bones of antilochus who had become closer to achilles than any other following patroclus death were separately enclosed the customary funeral games of hero were performed and massive tomb or mound was built on the hellespont for approaching seagoers to celebrate achilles was represented in the aethiopis as living after his death in the island of leuke at the mouth of the river danube another version of achilles death is that he fell deeply in love with one of the trojan princesses polyxena achilles asks priam for polyxena hand in marriage priam is willing because it would mean the end of the war and an alliance with the world greatest warrior but while priam is overseeing the private marriage of polyxena and achilles paris who would have to give up helen if achilles married his sister hides in the bushes and shoots achilles with divine arrow killing him according to some accounts he had married medea in life so that after both their deaths they were united in the elysian fields of hades as hera promised thetis in apollonius argonautica rd century bc fate of achilles armour ajax and odysseus fighting over the armour of achilles achilles armour was the object of feud between odysseus and telamonian ajax ajax the greater they competed for it by giving speeches on why they were the bravest after achilles to their trojan prisoners who after considering both men presentations decided odysseus was more deserving of the armour furious ajax cursed odysseus which earned him the ire of athena who temporarily made ajax so mad with grief and anguish that he began killing sheep thinking them his comrades after while when athena lifted his madness and ajax realized that he had actually been killing sheep he was so ashamed that he committed suicide odysseus eventually gave the armour to neoptolemus the son of achilles when odysseus encounters the shade of ajax much later in the house of hades odyssey ajax is still so angry about the outcome of the competition that he refuses to speak to odysseus the armour they fought for was made by hephaestus and thus much stronger and more beautiful than any armour mortal could craft thetis had the gear made for achilles because his first set was worn by patroclus when he went to battle and taken by hector when he killed patroclus the shield of achilles was also made by the fire god his legendary spear was given to him by his mentor chiron before he participated in the trojan war it was called the pelian spear which allegedly no other man could wield relic claimed to be achilles bronze headed spear was preserved for centuries in the temple of athena on the acropolis of phaselis lycia port on the pamphylian gulf the city was visited in bc by alexander the great who envisioned himself as the new achilles and carried the iliad with him but his court biographers do not mention the spear however it was shown in the time of pausanias in the nd century ce achilles ajax and game of petteia numerous paintings on pottery have suggested tale not mentioned in the literary traditions at some point in the war achilles and ajax were playing board game petteia they were absorbed in the game and oblivious to the surrounding battle the trojans attacked and reached the heroes who were saved only by an intervention of athena worship and heroic cult tripod in front on the polyxena sarcophagus bc roman statue of man with the dead body of boy identified as achilles and troilus nd century ad naples national archaeological museum the tomb of achilles extant throughout antiquity in troad was venerated by thessalians but also by persian expeditionary forces as well as by alexander the great and the roman emperor caracalla achilles cult was also to be found at other places on the island of astypalaea in the sporades in sparta which had sanctuary in elis and in achilles homeland thessaly as well as in the magna graecia cities of tarentum locri and croton accounting for an almost panhellenic cult to the hero the cult of achilles is illustrated in the bc polyxena sarcophagus which depicts the sacrifice of polyxena near the tumulus of achilles strabo also suggested that such cult of achilles existed in troad the spread and intensity of the hero veneration among the greeks that had settled on the northern coast of the pontus euxinus today black sea appears to have been remarkable an archaic cult is attested for the milesian colony of olbia as well as for an island in the middle of the black sea today identified with snake island ukrainian зміїний zmiinyi near kiliya ukraine early dedicatory inscriptions from the greek colonies on the black sea graffiti and inscribed clay disks these possibly being votive offerings from olbia the area of berezan island and the tauric chersonese attest the existence of heroic cult of achilles from the sixth century bc onwards the cult was still thriving in the third century ce when dedicatory stelae from olbia refer to an achilles pontárchēs ποντάρχης roughly lord of the sea or of the pontus euxinus who was invoked as protector of the city of olbia venerated on par with olympian gods such as the local apollo prostates hermes agoraeus or poseidon pliny the elder ad in his natural history mentions port of the achæi and an island of achilles famous for the tomb of that man situated somewhat nearby olbia and the dnieper bug estuary furthermore at roman miles from this island he places peninsula which stretches forth in the shape of sword obliquely called dromos achilleos ἀχιλλέως δρόμος achilléōs drómos the race course of achilles and considered the place of the hero exercise or of games instituted by him this last feature of pliny account is considered to be the iconic spit called today tendra or kosa tendra and kosa djarilgatch situated between the mouth of the dnieper and karkinit bay but which is hardly roman miles km away from the dnieper bug estuary as pliny states to the race course he gives length of miles km whereas the spit measures km today in the following chapter of his book pliny refers to the same island as achillea and introduces two further names for it leuce or macaron from greek νῆσος μακαρῶν island of the blest the present day measures he gives at this point seem to account for an identification of achillea or leuce with today snake island pliny contemporary pomponius mela tells that achilles was buried on an island named achillea situated between the borysthenes and the ister adding to the geographical confusion ruins of square temple measuring meters to side possibly that dedicated to achilles were discovered by captain kritzikly in on snake island second exploration in showed that the construction of lighthouse had destroyed all traces of this temple fifth century bc black glazed lekythos inscription found on the island in reads glaukos son of poseidon dedicated me to achilles lord of leuke in another inscription from the fifth or fourth century bc statue is dedicated to achilles lord of leuke by citizen of olbia while in further dedication the city of olbia confirms its continuous maintenance of the island cult again suggesting its quality as place of supra regional hero veneration the heroic cult dedicated to achilles on leuce seems to go back to an account from the lost epic aethiopis according to which after his untimely death thetis had snatched her son from the funeral pyre and removed him to mythical leúkē nêsos white island already in the fifth century bc pindar had mentioned cult of achilles on bright island φαεννά νᾶσος phaenná nâsos of the black sea while in another of his works pindar would retell the story of the immortalized achilles living on geographically indefinite island of the blest together with other heroes such as his father peleus and cadmus well known is the connection of these mythological fortunate isles μακαρῶν νῆσοι makárôn nêsoi or the homeric elysium with the stream oceanus which according to greek mythology surrounds the inhabited world which should have accounted for the identification of the northern strands of the euxine with it guy hedreen has found further evidence for this connection of achilles with the northern margin of the inhabited world in poem by alcaeus speaking of achilles lord of scythia and the opposition of north and south as evoked by achilles fight against the aethiopian prince memnon who in his turn would be removed to his homeland by his mother eos after his death the periplus of the euxine sea gives the following details the greek geographer dionysius periegetes who likely lived during the first century ce wrote that the island was called leuce because the wild animals which live there are white it is said that there in leuce island reside the souls of achilles and other heroes and that they wander through the uninhabited valleys of this island this is how jove rewarded the men who had distinguished themselves through their virtues because through virtue they had acquired everlasting honour similarly others relate the island name to its white cliffs snakes or birds dwelling there pausanias has been told that the island is covered with forests and full of animals some wild some tame in this island there is also achilles temple and his statue leuce had also reputation as place of healing pausanias reports that the delphic pythia sent lord of croton to be cured of chest wound ammianus marcellinus attributes the healing to waters aquae on the island strabo mentioned that the cape of the racecourse of achilles was sacred to achilles and although it was treeless was called alsos ἄλσος alsos in greek means grove number of important commercial port cities of the greek waters were dedicated to achilles herodotus pliny the elder and strabo reported on the existence of town achílleion ἀχίλλειον built by settlers from mytilene in the sixth century bc close to the hero presumed burial mound in the troad later attestations point to an achílleion in messenia according to stephanus byzantinus and an achílleios ἀχίλλειος in laconia nicolae densuşianu recognized connection to achilles in the names of aquileia and of the northern arm of the danube delta called chilia presumably from an older achileii though his conclusion that leuce had sovereign rights over the black sea evokes modern rather than archaic sea law the kings of epirus claimed to be descended from achilles through his son neoptolemus alexander the great son of the epirote princess olympias could therefore also claim this descent and in many ways strove to be like his great ancestor he is said to have visited the tomb of achilles at achilleion while passing troy in ad the roman emperor caracalla while on his way to war against parthia emulated alexander by holding games around achilles tumulus reception during antiquity in greek tragedy the greek tragedian aeschylus wrote trilogy of plays about achilles given the title achilleis by modern scholars the tragedies relate the deeds of achilles during the trojan war including his defeat of hector and eventual death when an arrow shot by paris and guided by apollo punctures his heel extant fragments of the achilleis and other aeschylean fragments have been assembled to produce workable modern play the first part of the achilleis trilogy the myrmidons focused on the relationship between achilles and chorus who represent the achaean army and try to convince achilles to give up his quarrel with agamemnon only few lines survive today in plato symposium phaedrus points out that aeschylus portrayed achilles as the lover and patroclus as the beloved phaedrus argues that this is incorrect because achilles being the younger and more beautiful of the two was the beloved who loved his lover so much that he chose to die to avenge him the tragedian sophocles also wrote the lovers of achilles play with achilles as the main character only few fragments survive towards the end of the th century bc more negative view of achilles emerges in greek drama euripides refers to achilles in bitter or ironic tone in hecuba electra and iphigenia in aulis other contemporary tragedians such as astydamas wrote works on achilles that are completely lost today in greek philosophy zeno the philosopher zeno of elea centred one of his paradoxes on an imaginary footrace between swift footed achilles and tortoise by which he attempted to show that achilles could not catch up to tortoise with head start and therefore that motion and change were impossible as student of the monist parmenides and member of the eleatic school zeno believed time and motion to be illusions plato in hippias minor socratic dialogue attributed to plato an arrogant man named hippias argues with socrates the two get into discussion about lying they decide that person who is intentionally false must be better than person who is unintentionally false on the basis that someone who lies intentionally must understand the subject about which they are lying socrates uses various analogies discussing athletics and the sciences to prove his point the two also reference homer extensively socrates and hippias agree that odysseus who concocted number of lies throughout the odyssey and other stories in the trojan war cycle was false intentionally achilles like odysseus told numerous falsehoods hippias believes that achilles was generally honest man while socrates believes that achilles lied for his own benefit the two argue over whether it is better to lie on purpose or by accident socrates eventually abandons homeric arguments and makes sports analogies to drive home the point someone who does wrong on purpose is better person than someone who does wrong unintentionally in roman and medieval literature the romans who traditionally traced their lineage to troy took highly negative view of achilles virgil refers to achilles as savage and merciless butcher of men while horace portrays achilles ruthlessly slaying women and children other writers such as catullus propertius and ovid represent second strand of disparagement with an emphasis on achilles erotic career this strand continues in latin accounts of the trojan war by writers such as dictys cretensis and dares phrygius and in benoît de sainte maure and guido delle colonne historia destructionis troiae which remained the most widely read and retold versions of the matter of troy until the th century achilles was described by the byzantine chronicler leo the deacon not as hellene but as scythian while according to the byzantine author john malalas his army was made up of tribe previously known as myrmidons and later as bulgars in modern literature and arts briseis and achilles engraving by wenceslaus hollar the wrath of achilles painting by peter paul rubens the death of hector unfinished oil painting by peter paul rubens achilles and agamemnon by gottlieb schick the wrath of achilles by françois léon benouville musée fabre literature achilles appears in dante inferno composed he is seen in hell second circle that of lust achilles is portrayed as former hero who has become lazy and devoted to the love of patroclus in william shakespeare troilus and cressida despicably he has his myrmidons murder the unarmed hector and then gets them to announce that achilles himself has slain hector as if it had been in fair fight act the french dramatist thomas corneille wrote tragedy la mort achille achilles is the subject of the poem achilleis fragment by johann wolfgang von goethe in the polish playwright painter and poet stanisław wyspiański published national drama based on polish history named achilles in edward shanks published the island of youth and other poems concerned among others with achilles the novel kassandra by christa wolf also treats the death of achilles long poem helen in egypt features achilles prominently as figure whose irrational hatred of helen traumatizes her the bulk of the poem plot being about her recovery akhilles is killed by poisoned kentaur arrow shot by kassandra in marion zimmer bradley novel the firebrand achilles is one of various narrators in colleen mccullough novel the song of troy the death of achilles смерть ахиллеса is an historical detective novel by russian writer boris akunin that alludes to various figures and motifs from the iliad the character achilles in ender shadow by orson scott card shares his namesake cunning mind and ruthless attitude achilles is one of the main characters in dan simmons novels ilium and olympos achilles is major supporting character in david gemmell troy series of books achilles is the main character in david malouf novel ransom the ghost of achilles appears in rick riordan the last olympian he warns percy jackson about the curse of achilles and its side effects achilles is main character in terence hawkins novel the rage of achilles achilles is major character in madeline miller debut novel the song of achilles which won the orange prize for fiction the novel explores the relationship between patroclus and achilles from boyhood to the fateful events of the iliad achilles appears in the light novel series fate apocrypha as the rider of red achilles is main character in pat barker novel the silence of the girls much of which is narrated by his slave briseis visual arts achilles with the daughters of lycomedes is subject treated in paintings by anthony van dyck before museo del prado madrid and nicolas poussin museum of fine arts boston among others peter paul rubens has authored series of works on the life of achilles comprising the titles thetis dipping the infant achilles into the river styx achilles educated by the centaur chiron achilles recognized among the daughters of lycomedes the wrath of achilles the death of hector thetis receiving the arms of achilles from vulcanus the death of achilles museum boijmans van beuningen rotterdam and briseis restored to achilles detroit institute of arts all pieter van lint achilles discovered among the daughters of lycomedes at the israel museum jerusalem dying achilles is sculpture created by christophe veyrier victoria and albert museum london the rage of achilles is fresco by giovanni battista tiepolo villa valmarana ai nani vicenza eugène delacroix painted version of the education of achilles for the ceiling of the paris palais bourbon one of the seats of the french parliament created statue group achilles and penthesilea vienna achilleus is lithography by max slevogt music achilles has been frequently the subject of operas ballets and related genres operas titled deidamia were composed by francesco cavalli and george frideric handel achille et polyxène paris is an opera begun by jean baptiste lully and finished by pascal collasse achille et déidamie paris is an opera composed by andré campra achilles london is ballad opera written by john gay parodied by thomas arne as achilles in petticoats in achille in sciro is libretto by metastasio composed by domenico sarro for the inauguration of the teatro di san carlo naples november an even earlier composition is from antonio caldara vienna later operas on the same libretto were composed by leonardo leo turin niccolò jommelli vienna and rome giuseppe sarti copenhagen and florence johann adolph hasse naples giovanni paisiello st petersburg giuseppe gazzaniga palermo and many others it has also been set to music as il trionfo della gloria achille vienna is an opera by ferdinando paër on libretto by giovanni de gamerra achille scyros paris is ballet by pierre gardel composed by luigi cherubini achilles oder das zerstörte troja achilles or troy destroyed bonn is an oratorio by the german composer max bruch achilles auf skyros stuttgart is ballet by the austrian british composer and musicologist egon wellesz achilles wrath is concert piece by sean loughlin temporary like achilles is track on the double album blonde on blonde by bob dylan achilles last stand is track on the led zeppelin album presence achilles agony and ecstasy in eight parts is the first song on the manowar album the triumph of steel achilles come down is song on the gang of youths album go farther in lightness film and television achilles has been portrayed in the following films and television series the film helena by carlo aldini the film ulysses by piero lulli the film helen of troy by stanley baker the film the trojan horse by arturo dominici the film the fury of achilles by gordon mitchell the television miniseries the odyssey by richard trewett the television miniseries helen of troy by joe montana the film troy starring brad pitt the tv series troy fall of city by david gyasi architecture in elisabeth of bavaria empress of austria had summer palace built in corfu the building is named the achilleion after achilles its paintings and statuary depict scenes from the trojan war with particular focus on achilles the wellington monument is statue representing achilles erected in as memorial to arthur wellesley the first duke of wellington and his victories in the peninsular war and the latter stages of the napoleonic wars namesakes the name of achilles has been used for at least nine royal navy warships since both as and with the french spelling gun ship of that name served at the battle of belleisle in while gun ship served at the battle of trafalgar other battle honours include walcheren an armored cruiser of that name served in the royal navy during the first world war was which served with the royal new zealand navy in world war ii it became famous for its part in the battle of the river plate alongside and in addition to earning the battle honour river plate hmnzs achilles also served at guadalcanal and okinawa in after returning to the royal navy the ship was sold to the indian navy in but when she was scrapped parts of the ship were saved and preserved in new zealand species of lizard anolis achilles which has widened heel plates is named for achilles gallery file achilles departure eretria painter cdm paris jpg achilles and the nereid cymothoe attic red figure kantharos from volci cabinet des médailles bibliothèque nationale paris file akhilleus embassy staatliche jpg the embassy to achilles attic red figure hydria bc staatliche berlin file achilles jpg achilles sacrificing to zeus for patroclus safe return from the ambrosian iliad th century illuminated manuscript file bell krater akhilleus penthesileia man jpg achilles and penthesilea fighting lucanian red figure bell krater late th century bc file akhilleus penthesileia staatliche jpg achilles killing penthesilea tondo of an attic red figure kylix bc from vulci file mourning of akhilleus louvre jpg thetis and the nereids mourning achilles corinthian black figure hydria bc louvre paris file aias achilles game musei capitolini mc jpg achilles and ajax playing the board game petteia black figure oinochoe bc capitoline museums rome file achilles jpg head of achilles depicted on th century bc coin from kremaste phthia reverse thetis wearing and holding the shield of achilles with his ax monogram file getty villa collection jpg achilles on roman mosaic with the removal of briseis nd century references further reading ileana chirassi colombo heroes achilleus theos apollon in il mito greco edd bruno gentili and giuseppe paione rome edizione dell ateneo bizzarri anthony edwards achilles in the underworld iliad odyssey and æthiopis greek roman and byzantine studies pp anthony edwards achilles in the odyssey ideologies of heroism in the homeric epic beiträge zur klassischen philologie graves robert the greek myths harmondsworth london england penguin books graves robert the greek myths the complete and definitive edition penguin books limited hélène monsacré les larmes achille le héros la femme et la souffrance dans la poésie homère paris albin michel gregory nagy the name of achilles questions of etymology and folk etymology illinois classical studies gregory nagy the best of the acheans concepts of the hero in archaic greek poetry johns hopkins university press revised edition online dale sinos the entry of achilles into greek epic phd thesis johns hopkins university ann arbor michigan university microfilms international jonathan burgess the death and afterlife of achilles baltimore johns hopkins university press abrantes themes of the trojan cycle contribution to the study of the greek mythological tradition coimbra external links trojan war resources gallery of the ancient art achilles poem by florence earle coates\n",
            "abraham lincoln february april was an american lawyer politician and statesman who served as the th president of the united states from until his assassination in he led the united states through the american civil war defending the nation as constitutional union defeating the insurgent confederacy playing major role in the abolition of slavery expanding the power of the federal government and modernizing the economy lincoln was born into poverty in log cabin in kentucky and was raised on the frontier mainly in indiana he was self educated and became lawyer whig party leader illinois state legislator and representative from illinois in he returned to his successful law practice in springfield illinois in angered by the kansas nebraska act which opened the territories to slavery he re entered politics he soon became leader of the new republican party he reached national audience in the senate campaign debates against stephen douglas lincoln ran for president in sweeping the north to gain victory pro slavery elements in the south viewed his election as threat to slavery and southern states began seceding from the nation they formed the confederate states of america which began seizing federal military bases in the south little over one month after lincoln assumed the presidency confederate forces attacked fort sumter fort in south carolina following the bombardment lincoln mobilized forces to suppress the rebellion and restore the union lincoln moderate republican had to navigate contentious array of factions with friends and opponents from both the democratic and republican parties his allies the war democrats and the radical republicans demanded harsh treatment of the southern confederates he managed the factions by exploiting their mutual enmity carefully distributing political patronage and by appealing to the american people anti war democrats called copperheads despised lincoln and some irreconcilable pro confederate elements went so far as to plot his assassination his gettysburg address came to be seen as one of the greatest and most influential statements of american national purpose lincoln closely supervised the strategy and tactics in the war effort including the selection of generals and implemented naval blockade of the south trade he suspended habeas corpus in maryland and elsewhere and he averted war with britain by defusing the trent affair in he issued the emancipation proclamation which declared the slaves in the states in rebellion to be free it also directed the army and navy to recognize and maintain the freedom of said persons and to receive them into the armed service of the united states lincoln unsuccessfully pressured border states to outlaw slavery and he promoted the thirteenth amendment to the constitution which abolished slavery except as punishment for crime lincoln managed his own successful re election campaign he sought to heal the war torn nation through reconciliation on april just five days after the confederate surrender at appomattox he was attending play at ford theatre in washington with his wife mary when he was fatally shot by confederate sympathizer john wilkes booth lincoln is remembered as martyr and national hero for his wartime leadership and for his efforts to preserve the union and abolish slavery lincoln is often ranked in both popular and scholarly polls as the greatest president in american history family and childhood early life abraham lincoln was born on february the second child of thomas lincoln and nancy hanks lincoln in log cabin on sinking spring farm near hodgenville kentucky he was descendant of samuel lincoln an englishman who migrated from hingham norfolk to its namesake hingham massachusetts in the family then migrated west passing through new jersey pennsylvania and virginia lincoln was also descendant of the harrison family of virginia his paternal grandfather and namesake captain abraham lincoln and wife bathsheba née herring moved the family from virginia to jefferson county kentucky the captain was killed in an indian raid in his children including eight year old thomas abraham father witnessed the attack thomas then worked at odd jobs in kentucky and tennessee before the family settled in hardin county kentucky in the early the farm site where lincoln grew up in spencer county indiana lincoln mother nancy lincoln is widely assumed to be the daughter of lucy hanks thomas and nancy married on june in washington county and moved to elizabethtown kentucky they had three children sarah abraham and thomas who died as an infant thomas lincoln bought multiple farms in kentucky but could not get clear titles to any losing hundreds of acres of land in property disputes in the family moved to indiana where the land surveys and titles were more reliable they settled in an unbroken forest in hurricane township perry county indiana when the lincolns moved to indiana it had just been admitted to the union as free non slaveholding state except that though no new enslaved people were allowed currently enslaved individuals remained so in lincoln noted that the family move to indiana was partly on account of slavery but mainly due to land title difficulties in kentucky and indiana thomas worked as farmer cabinetmaker and carpenter at various times he owned farms livestock and town lots paid taxes sat on juries appraised estates and served on county patrols thomas and nancy were members of separate baptists church which forbade alcohol dancing and slavery overcoming financial challenges thomas in obtained clear title to in indiana an area which became known as little pigeon creek community mother death on october nancy lincoln died from milk sickness leaving year old sarah in charge of household including her father nine year old abraham and nancy year old orphan cousin dennis hanks ten years later on january sarah died while giving birth to stillborn son devastating lincoln on december thomas married sarah bush johnston widow from elizabethtown kentucky with three children of her own abraham became close to his stepmother and called her mother dennis hanks said he was lazy for all his reading scribbling writing ciphering writing poetry his stepmother acknowledged he did not enjoy physical labor but loved to read education and move to illinois lincoln was largely self educated his formal schooling was from itinerant teachers it included two short stints in kentucky where he learned to read but probably not to write in indiana at age seven due to farm chores he attended school only sporadically for total of fewer than months in aggregate by age nonetheless he remained an avid reader and retained lifelong interest in learning family neighbors and schoolmates recalled that his readings included the king james bible aesop fables john bunyan the pilgrim progress daniel defoe robinson crusoe and the autobiography of benjamin franklin despite being self educated lincoln was the recipient of honorary degrees later in life including an honorary doctor of laws from columbia university in june when lincoln was teen his father grew more and more to depend on him for the farming grubbing hoeing making fences necessary to keep the family afloat he also regularly hired his son out to work and by law he was entitled to everything the boy earned until he came of age lincoln was tall strong and athletic and became adept at using an ax he was an active wrestler during his youth and trained in the rough catch as catch can style also known as catch wrestling he became county wrestling champion at the age of he gained reputation for his strength and audacity after winning wrestling match with the renowned leader of ruffians known as the clary grove boys in march fearing another milk sickness outbreak several members of the extended lincoln family including abraham moved west to illinois free state and settled in macon county abraham then became increasingly distant from thomas in part due to his father lack of interest in education in as thomas and other family members prepared to move to new homestead in coles county illinois abraham struck out on his own he made his home in new salem illinois for six years lincoln and some friends took goods including live hogs by flatboat to new orleans louisiana where he first witnessed slavery marriage and children speculation persists that lincoln first romantic interest was ann rutledge whom he met when he moved to new salem however witness testimony given decades afterward showed lack of any specific recollection of romance between the two rutledge died on august most likely of typhoid fever lincoln took the death very hard saying that he could not bear the idea of rain falling on ann grave lincoln sank into serious episode of depression and this gave rise to speculation that he had been in love with her in the early he met mary owens from kentucky late in lincoln agreed to match with owens if she returned to new salem owens arrived that november and he courted her however they both had second thoughts on august he wrote owens letter saying he would not blame her if she ended the relationship and she never replied in lincoln met mary todd in springfield illinois and the following year they became engaged she was the daughter of robert smith todd wealthy lawyer and businessman in lexington kentucky their wedding which was set for january was canceled because lincoln did not appear but they reconciled and married on november in the springfield home of mary sister while anxiously preparing for the nuptials he was asked where he was going and replied to hell suppose in the couple bought house in springfield near his law office mary kept house with the help of hired servant and relative lincoln was an affectionate husband and father of four sons though his work regularly kept him away from home the eldest robert todd lincoln was born in and was the only child to live to maturity edward baker lincoln eddie born in died february probably of tuberculosis lincoln third son willie lincoln was born on december and died of fever at the white house on february the youngest thomas tad lincoln was born on april and survived his father but died of heart failure at age on july lincoln was remarkably fond of children and the lincolns were not considered to be strict with their own in fact lincoln law partner william herndon would grow irritated when lincoln brought his children to the law office their father it seemed was often too absorbed in his work to notice his children behavior herndon recounted have felt many and many time that wanted to wring their little necks and yet out of respect for lincoln kept my mouth shut lincoln did not note what his children were doing or had done the deaths of their sons eddie and willie had profound effects on both parents lincoln suffered from melancholy condition now thought to be clinical depression later in life mary struggled with the stresses of losing her husband and sons and in robert committed her to an asylum early career and militia service during and lincoln worked at general store in new salem illinois in he declared his candidacy for the illinois house of representatives but interrupted his campaign to serve as captain in the illinois militia during the black hawk war when lincoln returned home from the war he planned to become blacksmith but instead formed partnership with year old william berry with whom he purchased new salem general store on credit because license was required to sell customers beverages berry obtained bartending licenses for each for lincoln and himself and in the lincoln berry general store became tavern as well as licensed bartenders lincoln and berry were able to sell spirits including liquor for cents pint they offered wide range of alcoholic beverages as well as food including takeout dinners but berry became an alcoholic was often too drunk to work and lincoln ended up running the store by himself although the economy was booming the business struggled and went into debt causing lincoln to sell his share to berry in his first campaign speech after returning from his military service lincoln observed supporter in the crowd under attack grabbed the assailant by his neck and the seat of his trousers and tossed him in the campaign lincoln advocated for navigational improvements on the sangamon river he could draw crowds as raconteur but lacked the requisite formal education powerful friends and money and lost the election lincoln finished eighth out of candidates the top four were elected though he received of the votes cast in the new salem precinct lincoln served as new salem postmaster and later as county surveyor but continued his voracious reading and decided to become lawyer rather than studying in the office of an established attorney as was the custom lincoln borrowed legal texts from attorneys john todd stuart and thomas drummond purchased books including blackstone commentaries and chitty pleadings and read law on his own he later said of his legal education that studied with nobody illinois state legislature lincoln home in springfield illinois lincoln second state house campaign in this time as whig was success over powerful whig opponent then followed his four terms in the illinois house of representatives for sangamon county he championed construction of the illinois and michigan canal and later was canal commissioner he voted to expand suffrage beyond white landowners to all white males but adopted free soil stance opposing both slavery and abolition in he declared the institution of slavery is founded on both injustice and bad policy but the promulgation of abolition doctrines tends rather to increase than abate its evils he echoed henry clay support for the american colonization society which advocated program of abolition in conjunction with settling freed slaves in liberia he was admitted to the illinois bar on september and moved to springfield and began to practice law under john stuart mary todd cousin lincoln emerged as formidable trial combatant during cross examinations and closing arguments he partnered several years with stephen logan and in began his practice with william herndon studious young man on january abraham lincoln then years old delivered his first major speech at the lyceum in springfield illinois after the murder of newspaper editor elijah parish lovejoy in alton lincoln warned that no trans atlantic military giant could ever crush the as nation it cannot come from abroad if destruction be our lot we must ourselves be its author and finisher said lincoln prior to that on april black man francis mcintosh was burned alive in st louis missouri zann gill describes how these two murders set off chain reaction that ultimately prompted abraham lincoln to run for president house of representatives house of representatives around illinois house district results by county true to his record lincoln professed to friends in to be an old line whig disciple of henry clay their party favored economic modernization in banking tariffs to fund internal improvements including railroads and urbanization in lincoln sought the whig nomination for illinois th district seat in the house of representatives he was defeated by john hardin though he prevailed with the party in limiting hardin to one term lincoln not only pulled off his strategy of gaining the nomination in but also won the election he was the only whig in the illinois delegation but as dutiful as any participated in almost all votes and made speeches that toed the party line he was assigned to the committee on post office and post roads and the committee on expenditures in the war department lincoln teamed with joshua giddings on bill to abolish slavery in the district of columbia with compensation for the owners enforcement to capture fugitive slaves and popular vote on the matter he dropped the bill when it eluded whig support political views on foreign and military policy lincoln spoke against the mexican american war which he imputed president james polk desire for military glory that attractive rainbow that rises in showers of blood he supported the wilmot proviso failed proposal to ban slavery in any territory won from mexico lincoln emphasized his opposition to polk by drafting and introducing his spot resolutions the war had begun with killing of american soldiers by mexican cavalry patrol in disputed territory and polk insisted that mexican soldiers had invaded our territory and shed the blood of our fellow citizens on our own soil lincoln demanded that polk show congress the exact spot on which blood had been shed and prove that the spot was on american soil the resolution was ignored in both congress and the national papers and it cost lincoln political support in his district one illinois newspaper derisively nicknamed him spotty lincoln lincoln later regretted some of his statements especially his attack on presidential war making powers lincoln had pledged in to serve only one term in the house realizing clay was unlikely to win the presidency he supported general zachary taylor for the whig nomination in the presidential election taylor won and lincoln hoped in vain to be appointed commissioner of the united states general land office the administration offered to appoint him secretary or governor of the oregon territory as consolation this distant territory was democratic stronghold and acceptance of the post would have disrupted his legal and political career in illinois so he declined and resumed his law practice prairie lawyer lincoln in in his springfield practice lincoln handled every kind of business that could come before prairie lawyer twice year he appeared for consecutive weeks in county seats in the midstate county courts this continued for years lincoln handled transportation cases in the midst of the nation western expansion particularly river barge conflicts under the many new railroad bridges as riverboat man lincoln initially favored those interests but ultimately represented whoever hired him he later represented bridge company against riverboat company in hurd rock island bridge company landmark case involving canal boat that sank after hitting bridge in he received patent for flotation device for the movement of boats in shallow water the idea was never commercialized but it made lincoln the only president to hold patent lincoln appeared before the illinois supreme court in cases he was sole counsel in cases of which were decided in his favor from to one of his largest clients was the illinois central railroad his legal reputation gave rise to the nickname honest abe in an criminal trial lincoln represented william duff armstrong who was on trial for the murder of james preston metzker the case is famous for lincoln use of fact established by judicial notice to challenge the credibility of an eyewitness after an opposing witness testified to seeing the crime in the moonlight lincoln produced farmers almanac showing the moon was at low angle drastically reducing visibility armstrong was acquitted in an murder case leading up to his presidential campaign lincoln elevated his profile with his defense of simeon quinn peachy harrison who was third cousin harrison was also the grandson of lincoln political opponent rev peter cartwright harrison was charged with the murder of greek crafton who as he lay dying of his wounds confessed to cartwright that he had provoked harrison lincoln angrily protested the judge initial decision to exclude cartwright testimony about the confession as inadmissible hearsay lincoln argued that the testimony involved dying declaration and was not subject to the hearsay rule instead of holding lincoln in contempt of court as expected the judge democrat reversed his ruling and admitted the testimony into evidence resulting in harrison acquittal republican politics emergence as republican leader his debates with stephen douglas over slavery the debate over the status of slavery in the territories failed to alleviate tensions between the slave holding south and the free north with the failure of the compromise of legislative package designed to address the issue in his eulogy for clay lincoln highlighted the latter support for gradual emancipation and opposition to both extremes on the slavery issue as the slavery debate in the nebraska and kansas territories became particularly acrimonious illinois senator stephen douglas proposed popular sovereignty as compromise the measure would allow the electorate of each territory to decide the status of slavery the legislation alarmed many northerners who sought to prevent the spread of slavery that could result but douglas kansas nebraska act narrowly passed congress in may lincoln did not comment on the act until months later in his peoria speech of october lincoln then declared his opposition to slavery which he repeated en route to the presidency he said the kansas act had declared indifference but as must think covert real zeal for the spread of slavery cannot but hate it hate it because of the monstrous injustice of slavery itself hate it because it deprives our republican example of its just influence in the world lincoln attacks on the kansas nebraska act marked his return to political life nationally the whigs were irreparably split by the kansas nebraska act and other efforts to compromise on the slavery issue reflecting on the demise of his party lincoln wrote in think am whig but others say there are no whigs and that am an abolitionist do no more than oppose the extension of slavery the new republican party was formed as northern party dedicated to antislavery drawing from the antislavery wing of the whig party and combining free soil liberty and antislavery democratic party members lincoln resisted early republican entreaties fearing that the new party would become platform for extreme abolitionists lincoln held out hope for rejuvenating the whigs though he lamented his party growing closeness with the nativist know nothing movement in lincoln was elected to the illinois legislature but before the term began in january he declined to take his seat so that he would be eligible to be candidate in the upcoming senate election the year elections showed the strong opposition to the kansas nebraska act and in the aftermath lincoln sought election to the senate at that time senators were elected by state legislatures after leading in the first six rounds of voting he was unable to obtain majority lincoln instructed his backers to vote for lyman trumbull trumbull was an antislavery democrat and had received few votes in the earlier ballots his supporters also antislavery democrats had vowed not to support any whig lincoln decision to withdraw enabled his whig supporters and trumbull antislavery democrats to combine and defeat the mainstream democratic candidate joel aldrich matteson campaign violent political confrontations in kansas continued and opposition to the kansas nebraska act remained strong throughout the north as the elections approached lincoln joined the republicans and attended the bloomington convention which formally established the illinois republican party the convention platform endorsed congress right to regulate slavery in the territories and backed the admission of kansas as free state lincoln gave the final speech of the convention supporting the party platform and called for the preservation of the union at the june republican national convention though lincoln received support to run as vice president john frémont and william dayton were on the ticket which lincoln supported throughout illinois the democrats nominated former secretary of state james buchanan and the know nothings nominated former whig president millard fillmore buchanan prevailed while republican william henry bissell won election as governor of illinois and lincoln became leading republican in illinois dred scott sandford dred scott was slave whose master took him from slave state to territory that was free as result of the missouri compromise after scott was returned to the slave state he petitioned federal court for his freedom his petition was denied in dred scott sandford in his opinion supreme court chief justice roger taney wrote that black people were not citizens and derived no rights from the constitution and that the missouri compromise was for infringing upon slave owners property rights while many democrats hoped that dred scott would end the dispute over slavery in the territories the decision sparked further outrage in the north lincoln denounced it as the product of conspiracy of democrats to support the slave power he argued the decision was at variance with the declaration of independence he said that while the founding fathers did not believe all men equal in every respect they believed all men were equal in certain inalienable rights among which are life liberty and the pursuit of happiness lincoln douglas debates and cooper union speech in douglas was up for re election in the senate and lincoln hoped to defeat him many in the party felt that former whig should be nominated in and lincoln campaigning and support of trumbull had earned him favor some eastern republicans supported douglas for his opposition to the lecompton constitution and admission of kansas as slave state many illinois republicans resented this eastern interference for the first time illinois republicans held convention to agree upon senate candidate and lincoln won the nomination with little opposition abraham lincoln portrait by mathew brady taken february the day of lincoln cooper union speech in new york city lincoln accepted the nomination with great enthusiasm and zeal after his nomination he delivered his house divided speech with the biblical reference mark house divided against itself cannot stand believe this government cannot endure permanently half slave and half free do not expect the union to be dissolved do not expect the house to fall but do expect it will cease to be divided it will become all one thing or all the other the speech created stark image of the danger of disunion the stage was then set for the election of the illinois legislature which would in turn select lincoln or douglas when informed of lincoln nomination douglas stated lincoln is the strong man of the party and if beat him my victory will be hardly won the senate campaign featured seven debates between lincoln and douglas these were the most famous political debates in american history they had an atmosphere akin to prizefight and drew crowds in the thousands the principals stood in stark contrast both physically and politically lincoln warned that the slave power was threatening the values of republicanism and he accused douglas of distorting the founding fathers premise that all men are created equal in his freeport doctrine douglas argued that despite the dred scott decision which he claimed to support local settlers under the doctrine of popular sovereignty should be free to choose whether to allow slavery within their territory and he accused lincoln of having joined the abolitionists lincoln argument assumed moral tone as he claimed that douglas represented conspiracy to promote slavery douglas argument was more legal in nature claiming that lincoln was defying the authority of the supreme court as exercised in the dred scott decision though the republican legislative candidates won more popular votes the democrats won more seats and the legislature re elected douglas however lincoln articulation of the issues had given him national political presence in may lincoln purchased the illinois staats anzeiger german language newspaper that was consistently supportive most of the state german americans voted for democrats but the german language paper mobilized republican support in the aftermath of the election newspapers frequently mentioned lincoln as potential republican presidential candidate rivaled by william seward salmon chase edward bates and simon cameron while lincoln was popular in the midwest he lacked support in the northeast and was unsure whether to seek the office in january lincoln told group of political allies that he would accept the presidential nomination if offered and in the following months several local papers endorsed his candidacy over the coming months lincoln was tireless making nearly fifty speeches along the campaign trail by the quality and simplicity of his rhetoric he quickly became the champion of the republican party however despite his overwhelming support in the midwestern united states he was less appreciated in the east horace greeley editor of the new york tribune at that time wrote up an unflattering account of lincoln compromising position on slavery and his reluctance to challenge the court dred scott ruling which was promptly used against him by his political rivals on february powerful new york republicans invited lincoln to give speech at cooper union in which he argued that the founding fathers of the united states had little use for popular sovereignty and had repeatedly sought to restrict slavery he insisted that morality required opposition to slavery and rejected any groping for some middle ground between the right and the wrong many in the audience thought he appeared awkward and even ugly but lincoln demonstrated intellectual leadership which brought him into contention journalist noah brooks reported no man ever before made such an impression on his first appeal to new york audience historian david herbert donald described the speech as superb political move for an unannounced presidential aspirant appearing in seward home state sponsored by group largely loyal to chase lincoln shrewdly made no reference to either of these republican rivals for the nomination in response to an inquiry about his ambitions lincoln said the taste is in my mouth little presidential election on may the illinois republican state convention was held in decatur lincoln followers organized campaign team led by david davis norman judd leonard swett and jesse dubois and lincoln received his first endorsement exploiting his embellished frontier legend clearing land and splitting fence rails lincoln supporters adopted the label of the rail candidate in lincoln described himself am in height six feet four inches nearly lean in flesh weighing on an average one hundred and eighty pounds dark complexion with coarse black hair and gray eyes michael martinez wrote about the effective imaging of lincoln by his campaign at times he was presented as the plain talking rail splitter and at other times he was honest abe unpolished but trustworthy on may at the republican national convention in chicago lincoln won the nomination on the third ballot beating candidates such as seward and chase former democrat hannibal hamlin of maine was nominated for vice president to balance the ticket lincoln success depended on his campaign team his reputation as moderate on the slavery issue and his strong support for internal improvements and the tariff pennsylvania put him over the top led by the state iron interests who were reassured by his tariff support lincoln managers had focused on this delegation while honoring lincoln dictate to make no contracts that will bind me as the slave power tightened its grip on the national government most republicans agreed with lincoln that the north was the aggrieved party throughout the lincoln had doubted the prospects of civil war and his supporters rejected claims that his election would incite secession when douglas was selected as the candidate of the northern democrats delegates from eleven slave states walked out of the democratic convention they opposed douglas position on popular sovereignty and selected incumbent vice president john breckinridge as their candidate group of former whigs and know nothings formed the constitutional union party and nominated john bell of tennessee lincoln and douglas competed for votes in the north while bell and breckinridge primarily found support in the south before the republican convention the lincoln campaign began cultivating nationwide youth organization the wide awakes which it used to generate popular support throughout the country to spearhead voter registration drives thinking that new voters and young voters tended to embrace new parties people of the northern states knew the southern states would vote against lincoln and rallied supporters for lincoln as douglas and the other candidates campaigned lincoln gave no speeches relying on the enthusiasm of the republican party the party did the leg work that produced majorities across the north and produced an abundance of campaign posters leaflets and newspaper editorials republican speakers focused first on the party platform and second on lincoln life story emphasizing his childhood poverty the goal was to demonstrate the power of free labor which allowed common farm boy to work his way to the top by his own efforts the republican party production of campaign literature dwarfed the combined opposition chicago tribune writer produced pamphlet that detailed lincoln life and sold copies though he did not give public appearances many sought to visit him and write him in the runup to the election he took an office in the illinois state capitol to deal with the influx of attention he also hired john george nicolay as his personal secretary who would remain in that role during the presidency on november lincoln was elected the th president he was the first republican president and his victory was entirely due to his support in the north and west no ballots were cast for him in of the southern slave states and he won only two of counties in all the southern states an omen of the impending civil war lincoln received votes or of the total in four way race carrying the free northern states as well as california and oregon his victory in the electoral college was decisive lincoln had votes to for his opponents presidency secession and inauguration the south was outraged by lincoln election and in response secessionists implemented plans to leave the union before he took office in march on december south carolina took the lead by adopting an ordinance of secession by february florida mississippi alabama georgia louisiana and texas followed six of these states declared themselves to be sovereign nation the confederate states of america and adopted constitution the upper south and border states delaware maryland virginia north carolina tennessee kentucky missouri and arkansas initially rejected the secessionist appeal president buchanan and president elect lincoln refused to recognize the confederacy declaring secession illegal the confederacy selected jefferson davis as its provisional president on february attempts at compromise followed but lincoln and the republicans rejected the proposed crittenden compromise as contrary to the party platform of free soil in the territories lincoln said will suffer death before consent to any concession or compromise which looks like buying the privilege to take possession of this government to which we have constitutional right lincoln supported the corwin amendment to the constitution which passed congress and was awaiting ratification by the states when lincoln took office that doomed amendment would have protected slavery in states where it already existed on march in his first inaugural address lincoln said that because he holds such provision to now be implied constitutional law have no objection to its being made express and irrevocable few weeks before the war lincoln sent letter to every governor informing them congress had passed joint resolution to amend the constitution on february lincoln gave particularly emotional farewell address upon leaving springfield he would never again return to springfield alive lincoln traveled east in special train due to secessionist plots then unprecedented attention to security was given to him and his train en route to his inauguration lincoln addressed crowds and legislatures across the north the president elect evaded suspected assassins in baltimore he traveled in disguise wearing soft felt hat instead of his customary stovepipe hat and draping an overcoat over his shoulders while hunching slightly to conceal his height his friend congressman elihu washburne recognized him on the platform upon arrival and loudly called out to him on february he arrived in washington which was placed under substantial military guard lincoln directed his inaugural address to the south proclaiming once again that he had no inclination to abolish slavery in the southern states lincoln cited his plans for banning the expansion of slavery as the key source of conflict between north and south stating one section of our country believes slavery is right and ought to be extended while the other believes it is wrong and ought not to be extended this is the only substantial dispute the president ended his address with an appeal to the people of the south we are not enemies but friends we must not be enemies the mystic chords of memory stretching from every battlefield and patriot grave to every living heart and hearthstone all over this broad land will yet swell the chorus of the union when again touched as surely they will be by the better angels of our nature the failure of the peace conference of signaled that legislative compromise was impossible by march no leaders of the insurrection had proposed rejoining the union on any terms meanwhile lincoln and the republican leadership agreed that the dismantling of the union could not be tolerated in his second inaugural address lincoln looked back on the situation at the time and said both parties deprecated war but one of them would make war rather than let the nation survive and the other would accept war rather than let it perish and the war came civil war president lincoln in major robert anderson commander of the union fort sumter in charleston south carolina sent request for provisions to washington and lincoln order to meet that request was seen by the secessionists as an act of war on april confederate forces fired on union troops at fort sumter and began the fight historian allan nevins argued that the newly inaugurated lincoln made three miscalculations underestimating the gravity of the crisis exaggerating the strength of unionist sentiment in the south and overlooking southern unionist opposition to an invasion william tecumseh sherman talked to lincoln during inauguration week and was sadly disappointed at his failure to realize that the country was sleeping on volcano and that the south was preparing for war donald concludes his repeated efforts to avoid collision in the months between inauguration and the firing on fort sumter showed he adhered to his vow not to be the first to shed fraternal blood but he had also vowed not to surrender the forts the only resolution of these contradictory positions was for the confederates to fire the first shot they did just that on april lincoln called on the states to send total of volunteer troops to recapture forts protect washington and preserve the union which in his view remained intact despite the seceding states this call forced states to choose sides virginia seceded and was rewarded with the designation of richmond as the confederate capital despite its exposure to union lines north carolina tennessee and arkansas followed over the following two months secession sentiment was strong in missouri and maryland but did not prevail kentucky remained neutral the fort sumter attack rallied americans north of the mason dixon line to defend the nation as states sent union regiments south on april baltimore mobs in control of the rail links attacked union troops who were changing trains local leaders groups later burned critical rail bridges to the capital and the army responded by arresting local maryland officials lincoln suspended the writ of habeas corpus in an effort to protect the troops trying to reach washington john merryman one maryland official hindering the troop movements petitioned supreme court chief justice roger taney to issue writ of habeas corpus in june in ex parte merryman taney not ruling on behalf of the supreme court issued the writ believing that article section of the constitution authorized only congress and not the president to suspend it but lincoln invoked nonacquiescence and persisted with the policy of suspension in select areas union military strategy lincoln took executive control of the war and shaped the union military strategy he responded to the unprecedented political and military crisis as commander in chief by exercising unprecedented authority he expanded his war powers imposed blockade on confederate ports disbursed funds before appropriation by congress suspended habeas corpus and arrested and imprisoned thousands of suspected confederate sympathizers lincoln gained the support of congress and the northern public for these actions lincoln also had to reinforce union sympathies in the border slave states and keep the war from becoming an international conflict running the machine an political cartoon satirizing lincoln administration featuring william fessenden edwin stanton william seward gideon welles lincoln and others it was clear from the outset that bipartisan support was essential to success and that any compromise alienated factions on both sides of the aisle such as the appointment of republicans and democrats to command positions copperheads criticized lincoln for refusing to compromise on slavery the radical republicans criticized him for moving too slowly in abolishing slavery on august lincoln signed the confiscation act of which authorized judicial proceedings to confiscate and free slaves who were used to support the confederates the law had little practical effect but it signaled political support for abolishing slavery in august general john frémont the republican presidential nominee without consulting washington issued martial edict freeing slaves of the rebels lincoln canceled the proclamation as violating the confiscation act of and beyond frémont authority to issue as result union enlistments from maryland kentucky and missouri increased by over internationally lincoln wanted to forestall foreign military aid to the confederacy he relied on his combative secretary of state william seward while working closely with senate foreign relations committee chairman charles sumner in the trent affair which threatened war with great britain the navy illegally intercepted british mail ship the trent on the high seas and seized two confederate envoys britain protested vehemently while the cheered lincoln ended the crisis by releasing the two diplomats biographer james randall dissected lincoln successful techniques lincoln painstakingly monitored the telegraph reports coming into the war department he tracked all phases of the effort consulting with governors and selecting generals based on their success their state and their party in january after complaints of inefficiency and profiteering in the war department lincoln replaced war secretary simon cameron with edwin stanton stanton centralized the war department activities auditing and canceling contracts saving the federal government stanton was staunch unionist pro business conservative democrat who gravitated toward the radical republican faction he worked more often and more closely with lincoln than did any other senior official stanton and lincoln virtually conducted the war together say thomas and hyman lincoln war strategy had two priorities ensuring that washington was well defended and conducting an aggressive war effort for prompt decisive victory twice week lincoln met with his cabinet in the afternoon occasionally mary prevailed on him to take carriage ride concerned that he was working too hard for his edification lincoln relied upon book by his chief of staff general henry halleck entitled elements of military art and science halleck was disciple of the european strategist antoine henri jomini lincoln began to appreciate the critical need to control strategic points such as the mississippi river lincoln saw the importance of vicksburg and understood the necessity of defeating the enemy army rather than merely capturing territory in directing the union war strategy lincoln valued the advice of gen winfield scott even after his retirement as commanding general of the united states army on june lincoln made an unannounced visit to west point where he spent five hours consulting with scott regarding the handling of the civil war and the staffing of the war department general mcclellan after the union rout at bull run and winfield scott retirement lincoln appointed major general george mcclellan general in chief mcclellan then took months to plan his virginia peninsula campaign mcclellan slow progress frustrated lincoln as did his position that no troops were needed to defend washington mcclellan in turn blamed the failure of the campaign on lincoln reservation of troops for the capital in lincoln removed mcclellan for the general continued inaction he elevated henry halleck in july and appointed john pope as head of the new army of virginia pope satisfied lincoln desire to advance on richmond from the north thereby protecting washington from counterattack but in the summer of pope was soundly defeated at the second battle of bull run forcing the army of the potomac back to defend washington despite his dissatisfaction with mcclellan failure to reinforce pope lincoln restored him to command of all forces around washington two days after mcclellan return to command general robert lee forces crossed the potomac river into maryland leading to the battle of antietam that battle union victory was among the bloodiest in american history it facilitated lincoln emancipation proclamation in january mcclellan then resisted the president demand that he pursue lee withdrawing army while general don carlos buell likewise refused orders to move the army of the ohio against rebel forces in eastern tennessee lincoln replaced buell with william rosecrans and after the midterm elections he replaced mcclellan with ambrose burnside the appointments were both politically neutral and adroit on lincoln part against presidential advice burnside launched an offensive across the rappahannock river and was defeated by lee at fredericksburg in december desertions during came in the thousands and only increased after fredericksburg so lincoln replaced burnside with joseph hooker in the midterm elections the republicans suffered severe losses due to rising inflation high taxes rumors of corruption suspension of habeas corpus military draft law and fears that freed slaves would come north and undermine the labor market the emancipation proclamation gained votes for republicans in rural new england and the upper midwest but cost votes in the irish and german strongholds and in the lower midwest where many southerners had lived for generations in the spring of lincoln was sufficiently optimistic about upcoming military campaigns to think the end of the war could be near the plans included attacks by hooker on lee north of richmond rosecrans on chattanooga grant on vicksburg and naval assault on charleston hooker was routed by lee at the battle of in may then resigned and was replaced by george meade meade followed lee north into pennsylvania and beat him in the gettysburg campaign but then failed to follow up despite lincoln demands at the same time grant captured vicksburg and gained control of the mississippi river splitting the far western rebel states emancipation proclamation file emancipation proclamation jpg thumb upright first reading of the emancipation proclamation of president lincoln by francis bicknell carpenter clickable image use cursor to identify alt dark haired bearded middle aged man holding documents is seated among seven other men poly edwin stanton poly salmon chase poly abraham lincoln poly gideon welles poly william seward poly caleb smith poly montgomery blair poly edward bates poly emancipation proclamation poly portrait of simon cameron poly portrait of andrew jackson the federal government power to end slavery was limited by the constitution which before was understood to reserve the issue to the individual states lincoln believed that slavery would be rendered obsolete if its expansion into new territories were prevented because these territories would be admitted to the union as free states and free states would come to outnumber slave states he sought to persuade the states to agree to compensation for emancipating their slaves lincoln rejected major general john frémont august emancipation attempt as well as one by major general david hunter in may on the grounds that it was not within their power and might upset loyal border states enough for them to secede in june congress passed an act banning slavery on all federal territory which lincoln signed in july the confiscation act of was enacted providing court procedures to free the slaves of those convicted of aiding the rebellion lincoln approved the bill despite his belief that it was he felt such action could be taken only within the war powers of the commander in chief which he planned to exercise on july lincoln reviewed draft of the emancipation proclamation with his cabinet peace democrats copperheads argued that emancipation was stumbling block to peace and reunification but republican editor horace greeley of the new york tribune in his public letter the prayer of twenty millions implored lincoln to embrace emancipation in public letter of august lincoln replied to greeley writing that while he personally wished all men could be free his first obligation as president was to preserve the union when lincoln published his reply to greeley he had already decided to issue the preliminary emancipation proclamation and therefore had already chosen the third option he mentioned in his letter to greeley to free some of the slaves namely those in the states in rebellion some scholars therefore believe that his reply to greeley was disingenuous and was intended to reassure white people who would have opposed war for emancipation that emancipation was merely means to preserve the union on september lincoln issued the preliminary emancipation proclamation which announced that in states still in rebellion on january the slaves would be freed he spent the next days between september and january preparing the army and the nation for emancipation while democrats rallied their voters by warning of the threat that freed slaves posed to northern whites at the same time during those days lincoln made efforts to end the war with slavery intact suggesting that he still took seriously the first option he mentioned in his letter to greeley saving the union without freeing any slave but on january keeping his word lincoln issued the emancipation proclamation freeing the slaves in states not then under union control with exemptions specified for areas under such control lincoln comment on signing the proclamation was never in my life felt more certain that was doing right than do in signing this paper with the abolition of slavery in the rebel states now military objective union armies advancing south enabled thousands of slaves to escape to freedom the emancipation proclamation having stated that freedmen would be received into the armed service of the united states enlisting these freedmen became official policy by the spring of lincoln was ready to recruit black troops in more than token numbers in letter to tennessee military governor andrew johnson encouraging him to lead the way in raising black troops lincoln wrote the bare sight of fifty thousand armed and drilled black soldiers on the banks of the mississippi would end the rebellion at once by the end of at lincoln direction general lorenzo thomas had enrolled twenty regiments of african americans from the mississippi valley gettysburg address lincoln absent his usual top hat and highlighted in red at gettysburg on november roughly three hours later he delivered the gettysburg address one of the best known speeches in american history alt large group of people lincoln spoke at the dedication of the gettysburg battlefield cemetery on november in words and three minutes lincoln asserted that the nation was born not in but in conceived in liberty and dedicated to the proposition that all men are created equal he defined the war as dedicated to the principles of liberty and equality for all he declared that the deaths of so many brave soldiers would not be in vain that the future of democracy would be assured and that government of the people by the people for the people shall not perish from the earth defying his prediction that the world will little note nor long remember what we say here the address became the most quoted speech in american history promoting general grant image the peacemakers jpg thumb upright the peacemakers an painting by george healy of events aboard the river queen in march clickable image use cursor to identify alt painting of four men conferring in ship cabin entitled the peacemakers poly general sherman poly general grant poly president lincoln poly admiral porter general ulysses grant victories at the battle of shiloh and in the vicksburg campaign impressed lincoln responding to criticism of grant after shiloh lincoln had said can spare this man he fights with grant in command lincoln felt the union army could advance in multiple theaters while also including black troops meade failure to capture lee army after gettysburg and the continued passivity of the army of the potomac persuaded lincoln to promote grant to supreme commander grant then assumed command of meade army lincoln was concerned that grant might be considering presidential candidacy in he arranged for an intermediary to inquire into grant political intentions and once assured that he had none lincoln promoted grant to the newly revived rank of lieutenant general rank which had been unoccupied since george washington authorization for such promotion with the advice and consent of the senate was provided by new bill which lincoln signed the same day he submitted grant name to the senate his nomination was confirmed by the senate on march grant in waged the bloody overland campaign which exacted heavy losses on both sides when lincoln asked what grant plans were the persistent general replied propose to fight it out on this line if it takes all summer grant army moved steadily south lincoln traveled to grant headquarters at city point virginia to confer with grant and william tecumseh sherman lincoln reacted to union losses by mobilizing support throughout the north lincoln authorized grant to target infrastructure plantations railroads and bridges hoping to weaken the south morale and fighting ability he emphasized defeat of the confederate armies over destruction which was considerable for its own sake lincoln engagement became distinctly personal on one occasion in when confederate general jubal early raided washington legend has it that while lincoln watched from an exposed position union captain and future supreme court justice oliver wendell holmes jr shouted at him get down you damn fool before you get shot but this story is commonly regarded as apocryphal as grant continued to weaken lee forces efforts to discuss peace began confederate vice president stephens led group meeting with lincoln seward and others at hampton roads lincoln refused to negotiate with the confederacy as coequal his objective to end the fighting was not realized on april grant nearly encircled petersburg in siege the confederate government evacuated richmond and lincoln visited the conquered capital on april lee surrendered to grant at appomattox officially ending the war reelection electoral landslide for lincoln in red in the election southern states brown and territories gray not in play poster of the election campaign with andrew johnson as the candidate for vice president lincoln ran for reelection in while uniting the main republican factions along with war democrats edwin stanton and andrew johnson lincoln used conversation and his patronage powers greatly expanded from peacetime to build support and fend off the radicals efforts to replace him at its convention the republican party selected johnson as his running mate to broaden his coalition to include war democrats as well as republicans lincoln ran under the label of the new union party grant bloody stalemates damaged lincoln re election prospects and many republicans feared defeat lincoln confidentially pledged in writing that if he should lose the election he would still defeat the confederacy before turning over the white house lincoln did not show the pledge to his cabinet but asked them to sign the sealed envelope the pledge read as follows the democratic platform followed the peace wing of the party and called the war failure but their candidate mcclellan supported the war and repudiated the platform meanwhile lincoln emboldened grant with more troops and republican party support sherman capture of atlanta in september and david farragut capture of mobile ended defeatism the democratic party was deeply split with some leaders and most soldiers openly for lincoln the national union party was united by lincoln support for emancipation state republican parties stressed the perfidy of the copperheads on november lincoln carried all but three states including percent of union soldiers second inaugural address at the almost completed capitol building march on march lincoln delivered his second inaugural address in it he deemed the war casualties to be god will historian mark noll places the speech among the small handful of semi sacred texts by which americans conceive their place in the world it is inscribed in the lincoln memorial lincoln said among those present for this speech was actor john wilkes booth who on april just over month after lincoln second inauguration assassinated him reconstruction reconstruction preceded the war end as lincoln and his associates considered the reintegration of the nation and the fates of confederate leaders and freed slaves when general asked lincoln how the defeated confederates were to be treated lincoln replied let em up easy lincoln was determined to find meaning in the war in its aftermath and did not want to continue to outcast the southern states his main goal was to keep the union together so he proceeded by focusing not on whom to blame but on how to rebuild the nation as one lincoln led the moderates in reconstruction policy and was opposed by the radicals under rep thaddeus stevens sen charles sumner and sen benjamin wade who otherwise remained lincoln allies determined to reunite the nation and not alienate the south lincoln urged that speedy elections under generous terms be held his amnesty proclamation of december offered pardons to those who had not held confederate civil office and had not mistreated union prisoners if they were willing to sign an oath of allegiance political cartoon of vice president andrew johnson former tailor and lincoln entitled the rail splitter at work repairing the union the caption reads johnson take it quietly uncle abe and will draw it closer than ever lincoln few more stitches andy and the good old union will be mended as southern states fell they needed leaders while their administrations were restored in tennessee and arkansas lincoln respectively appointed johnson and frederick steele as military governors in louisiana lincoln ordered general nathaniel banks to promote plan that would reestablish statehood when percent of the voters agreed and only if the reconstructed states abolished slavery democratic opponents accused lincoln of using the military to ensure his and the republicans political aspirations the radicals denounced his policy as too lenient and passed their own plan the wade davis bill which lincoln vetoed the radicals retaliated by refusing to seat elected representatives from louisiana arkansas and tennessee lincoln appointments were designed to harness both moderates and radicals to fill chief justice taney seat on the supreme court he named the radicals choice salmon chase whom lincoln believed would uphold his emancipation and paper money policies after implementing the emancipation proclamation lincoln increased pressure on congress to outlaw slavery throughout the nation with constitutional amendment he declared that such an amendment would clinch the whole subject and by december an amendment was brought to congress the senate passed it on april but the first vote in the house of representatives fell short of the required two thirds majority passage became part of lincoln reelection platform and after his successful reelection the second attempt in the house passed on january with ratification it became the thirteenth amendment to the united states constitution on december lincoln believed the federal government had limited responsibility to the millions of freedmen he signed senator charles sumner freedmen bureau bill that set up temporary federal agency designed to meet the immediate needs of former slaves the law opened land for lease of three years with the ability to purchase title for the freedmen lincoln announced reconstruction plan that involved short term military control pending readmission under the control of southern unionists historians agree that it is impossible to predict how reconstruction would have proceeded had lincoln lived biographers james randall and richard current according to david lincove argue that eric foner argues that native americans lincoln relationship with native americans started before he was born with their killing of his grandfather in front of his sons including lincoln father thomas lincoln himself served as captain in the state militia during the black hawk war but saw no combat lincoln used appointments to the indian bureau as reward to supporters from minnesota and wisconsin while in office his administration faced difficulties guarding western settlers railroads and telegraphs from indian attacks on august the dakota war broke out in minnesota hundreds of settlers were killed were displaced from their homes and washington was deeply alarmed some feared incorrectly that it might represent confederate conspiracy to start war on the northwestern frontier lincoln ordered thousands of confederate prisoners of war sent by railroad to put down the uprising when the confederates protested forcing confederate prisoners to fight indians lincoln revoked the policy and none arrived in minnesota lincoln sent general john pope as commander of the new department of the northwest two weeks into the hostilities before he arrived the fond du lac band of chippewa sent lincoln letter asking to go to war for the united states against the sioux so lincoln could send minnesota troops to fight the south shortly after mille lacs band chief offered the same at st cloud minnesota in it the chippewa specified they wanted to use the indigenous rules of warfare that meant there would be no prisoners of war no surrender no peace agreement lincoln did not accept the chippewa offer as he could not control the chippewa and women and children were considered legitimate casualties in native american warfare serving under gen pope was minnesota congressman henry sibley minnesota governor had made sibley colonel united states volunteers to command the force tasked with fighting the war and that eventually defeated little crow forces at the battle of wood lake the day the mdewakanton force surrendered at camp release chippewa war council met at minnesota capitol with another chippewa offer to lincoln to fight the sioux sibley ordered military commission to review the actions of the captured to try those that had committed war crimes the legitimacy of military commissions trying opposing combatants had been established during the mexican war sibley thought he had of the men he wanted for trial while gen pope ordered all detained be tried were given death sentences that were subject to presidential review lincoln ordered pope send all trial transcripts to washington where lincoln and two of his staff examined them lincoln realized the trials could be divided into two groups combat between combatants and combat against civilians the groups could be identified by their transcripts the first group all had three pages in length while the second group had more some up to twelve pages he placed cases into the first group and commuted their sentences in the second group were forty cases one he commuted for becoming state witness sibley dismissed another when proof surfaced exonerating the defendant the remaining were executed in the largest mass hanging in history questions arose concerning three executions that have not been answered less than months afterwards lincoln issued the lieber code which governed wartime conduct of the union army by defining command responsibility for war crimes and crimes against humanity congressman alexander ramsey told lincoln in he would have gotten more re election support in minnesota had he executed all of the mdewakanton lincoln responded could not afford to hang men for votes the men whose sentences he commuted were sent to military prison at davenport iowa some he released due to the efforts of bishop henry whipple whig theory of presidency lincoln adhered to the whig theory of presidency focused on executing laws while deferring to congress responsibility for legislating under this philosophy lincoln vetoed only four bills during his presidency including the wade davis bill with its harsh reconstruction program the homestead act made millions of acres of western government held land available for purchase at low cost the morrill land grant colleges act provided government grants for agricultural colleges in each state the pacific railway acts of and granted federal support for the construction of the united states first railroad which was completed in the passage of the homestead act and the pacific railway acts was enabled by the absence of southern congressmen and senators who had opposed the measures in the in the selection and use of his cabinet lincoln employed the strengths of his opponents in manner that emboldened his presidency lincoln commented on his thought process we need the strongest men of the party in the cabinet we needed to hold our own people together had looked the party over and concluded that these were the very strongest men then had no right to deprive the country of their services goodwin described the group in her biography as team of rivals there were two measures passed to raise revenues for the federal government tariffs policy with long precedent and federal income tax in lincoln signed the second and third morrill tariffs following the first enacted by buchanan he also signed the revenue act of creating the first income tax flat tax of percent on incomes above the revenue act of adopted rates that increased with income the lincoln administration presided over the expansion of the federal government economic influence in other areas the national banking act created the system of national banks the issued paper currency for the first time known as greenbacks printed in green on the reverse side in congress created the department of agriculture in response to rumors of renewed draft the editors of the new york world and the journal of commerce published false draft proclamation that created an opportunity for the editors and others to corner the gold market lincoln attacked the media for such behavior and ordered military seizure of the two papers which lasted for two days lincoln is largely responsible for the thanksgiving holiday thanksgiving had become regional holiday in new england in the th century it had been sporadically proclaimed by the federal government on irregular dates the prior proclamation had been during james madison presidency years earlier in lincoln declared the final thursday in november of that year to be day of thanksgiving in june lincoln approved the yosemite grant enacted by congress which provided unprecedented federal protection for the area now known as yosemite national park supreme court appointments supreme court justices justice nominated appointed noah haynes swayne january january samuel freeman miller july july david davis december december stephen johnson field march march salmon portland chase chief justice december december lincoln philosophy on court nominations was that we cannot ask man what he will do and if we should and he should answer us we should despise him for it therefore we must take man whose opinions are known lincoln made five appointments to the supreme court noah haynes swayne was an anti slavery lawyer who was committed to the union samuel freeman miller supported lincoln in the election and was an avowed abolitionist david davis was lincoln campaign manager in and had served as judge in the illinois court circuit where lincoln practiced democrat stephen johnson field previous california supreme court justice provided geographic and political balance finally lincoln treasury secretary salmon chase became chief justice lincoln believed chase was an able jurist would support reconstruction legislation and that his appointment united the republican party foreign policy lincoln named his main political rival william seward as secretary of state and left most diplomatic issues in seward portfolio however lincoln did select some top diplomats as part of his patronage policy he also closely watched the handling of the trent affair in late to make sure the situation did not escalate into war with britain seward main role was to keep britain and france from supporting the confederacy he was successful after indicating to britain and france that the union would declare war on them if they supported the south assassination shown in the presidential booth of ford theatre from left to right are assassin john wilkes booth abraham lincoln mary todd lincoln clara harris and henry rathbone john wilkes booth was well known actor and confederate spy from maryland though he never joined the confederate army he had contacts with the confederate secret service after attending lincoln last public address on april in which lincoln stated his preference that the franchise be conferred on some black men specifically on the very intelligent and on those who serve our cause as soldiers booth hatched plot to assassinate the president when booth learned of the lincolns intent to attend play with general grant he planned to assassinate lincoln and grant at ford theatre lincoln and his wife attended the play our american cousin on the evening of april just five days after the union victory at the battle of appomattox courthouse at the last minute grant decided to go to new jersey to visit his children instead of attending the play at in the evening booth entered the back of lincoln theater box crept up from behind and fired at the back of lincoln head mortally wounding him lincoln guest major henry rathbone momentarily grappled with booth but booth stabbed him and escaped after being attended by doctor charles leale and two other doctors lincoln was taken across the street to petersen house after remaining in coma for eight hours lincoln died at in the morning on april stanton saluted and said now he belongs to the ages lincoln body was placed in flag wrapped coffin which was loaded into hearse and escorted to the white house by union soldiers president johnson was sworn in later that same day two weeks later booth refusing to surrender was tracked to farm in virginia he was mortally shot by sergeant boston corbett and died on april secretary of war stanton had issued orders that booth be taken alive so corbett was initially arrested to be court martialed after brief interview stanton declared him patriot and dismissed the charge funeral and burial the late president lay in state first in the east room of the white house and then in the capitol rotunda from april to the caskets containing lincoln body and the body of his son willie traveled for three weeks on the lincoln special funeral train the train followed circuitous route from washington to springfield illinois stopping at many cities for memorials attended by hundreds of thousands many others gathered along the tracks as the train passed with bands bonfires and hymn singing or in silent grief poet walt whitman composed when lilacs last in the dooryard bloom to eulogize him one of four poems he wrote about lincoln african americans were especially moved they had lost their moses in larger sense the reaction was in response to the deaths of so many men in the war historians emphasized the widespread shock and sorrow but noted that some lincoln haters celebrated his death lincoln body was buried at oak ridge cemetery in springfield and now lies within the lincoln tomb religious and philosophical beliefs abraham lincoln painting by george peter alexander healy in as young man lincoln was religious skeptic he was deeply familiar with the bible quoting and praising it he was private about his position on organized religion and respected the beliefs of others he never made clear profession of christian beliefs throughout his public career lincoln often quoted scripture his three most famous speeches the house divided speech the gettysburg address and his second inaugural all contain direct allusions to providence and quote from scripture in the lincoln subscribed to the doctrine of necessity belief that the human mind was controlled by higher power with the death of his son edward in he more frequently expressed dependence on god he never joined church although he frequently attended first presbyterian church with his wife beginning in in the lincoln asserted his belief in providence in general way and rarely used the language or imagery of the evangelicals instead he regarded the republicanism of the founding fathers with an almost religious reverence the death of his son willie in february may have caused him to look toward religion for solace after willie death he questioned the divine necessity of the war severity he wrote at this time that god could have either saved or destroyed the union without human contest yet the contest began and having begun he could give the final victory to either side any day yet the contest proceeds lincoln did believe in an all powerful god that shaped events and by was expressing that belief in major speeches by the end of the war he increasingly appealed to the almighty for solace and to explain events writing on april to newspaper editor in kentucky this spirituality can best be seen in his second inaugural address considered by some scholars as the greatest such address in american history and by lincoln himself as his own greatest speech or one of them at the very least lincoln explains therein that the cause purpose and result of the war was god will lincoln frequent use of religious imagery and language toward the end of his life may have reflected his own personal beliefs or might have been device to reach his audiences who were mostly evangelical protestants on the day lincoln was assassinated he reportedly told his wife he desired to visit the holy land health lincoln in february two months before his death lincoln is believed to have had depression smallpox and malaria he took blue mass pills which contained mercury to treat constipation it is unknown to what extent this may have resulted in mercury poisoning several claims have been made that lincoln health was declining before the assassination these are often based on photographs of lincoln appearing to show weight loss and muscle wasting it is also suspected that he might have had rare genetic disease such as marfan syndrome or multiple endocrine neoplasia type legacy republican values lincoln redefinition of republican values has been stressed by historians such as john patrick diggins harry jaffa vernon burton eric foner and herman belz lincoln called the declaration of independence which emphasized freedom and equality for all the sheet anchor of republicanism beginning in the he did this at time when the constitution which tolerated slavery was the focus of most political discourse diggins notes lincoln presented americans theory of history that offers profound contribution to the theory and destiny of republicanism itself in the cooper union speech instead of focusing on the legality of an argument he focused on the moral basis of republicanism his position on war was founded on legal argument regarding the constitution as essentially contract among the states and all parties must agree to pull out of the contract furthermore it was national duty to ensure the republic stands in every state many soldiers and religious leaders from the north though felt the fight for liberty and freedom of slaves was ordained by their moral and religious beliefs as whig activist lincoln was spokesman for business interests favoring high tariffs banks infrastructure improvements and railroads in opposition to jacksonian democrats lincoln shared the sympathies that the jacksonians professed for the common man but he disagreed with the jacksonian view that the government should be divorced from economic enterprise nevertheless lincoln admired andrew jackson steeliness as well as his patriotism according to historian sean wilentz william harris found that lincoln reverence for the founding fathers the constitution the laws under it and the preservation of the republic and its institutions strengthened his conservatism james randall emphasizes his tolerance and moderation in his preference for orderly progress his distrust of dangerous agitation and his reluctance toward ill digested schemes of reform randall concludes that he was conservative in his complete avoidance of that type of so called radicalism which involved abuse of the south hatred for the slaveholder thirst for vengeance partisan plotting and ungenerous demands that southern institutions be transformed overnight by outsiders reunification of the states in lincoln first inaugural address he explored the nature of democracy he denounced secession as anarchy and he explained that majority rule had to be balanced by constitutional restraints he said majority held in restraint by constitutional checks and limitations and always changing easily with deliberate changes of popular opinions and sentiments is the only true sovereign of free people the successful reunification of the states had consequences for how people viewed the country the term the united states has historically been used sometimes in the plural these united states and other times in the singular the civil war was significant force in the eventual dominance of the singular usage by the end of the th century historical reputation in surveys of scholars ranking presidents conducted since the top three presidents are generally lincoln washington and franklin delano roosevelt although the order varies between and lincoln john kennedy and ronald reagan were the top ranked presidents in eight public opinion surveys according to gallup study found that scholars in the fields of history and politics ranked lincoln number one while legal scholars placed him second after george washington lincoln assassination left him national martyr he was viewed by abolitionists as champion of human liberty republicans linked lincoln name to their party many though not all in the south considered lincoln as man of outstanding ability historians have said he was classical liberal in the th century sense allen guelzo states that lincoln was classical liberal democrat an enemy of artificial hierarchy friend to trade and business as ennobling and enabling and an american counterpart to mill cobden and bright whose portrait lincoln hung in his white house office sociologist barry schwartz argues that lincoln american reputation grew slowly from the late th century until the progressive era when he emerged as one of america most venerated heroes even among white southerners the high point came in with the dedication of the lincoln memorial on the national mall in washington union nationalism as envisioned by lincoln helped lead america to the nationalism of theodore roosevelt woodrow wilson and franklin delano roosevelt in the new deal era liberals honored lincoln not so much as the self made man or the great war president but as the advocate of the common man who they claimed would have supported the welfare state schwartz argues that in the and the memory of abraham lincoln was practically sacred and provided the nation with moral symbol inspiring and guiding american life during the great depression he argues lincoln served as means for seeing the world disappointments for making its sufferings not so much explicable as meaningful franklin roosevelt preparing america for war used the words of the civil war president to clarify the threat posed by germany and japan americans asked what would lincoln do however schwartz also finds that since world war ii lincoln symbolic power has lost relevance and this fading hero is symptomatic of fading confidence in national greatness he suggested that postmodernism and have diluted greatness as concept in the cold war years lincoln image shifted to symbol of freedom who brought hope to those oppressed by communist regimes he had long been known as the great emancipator but by the late some african american intellectuals led by lerone bennett jr denied that lincoln deserved that title bennett won wide attention when he called lincoln white supremacist in he noted that lincoln used ethnic slurs and told jokes that ridiculed blacks bennett argued that lincoln opposed social equality and proposed that freed slaves voluntarily move to another country the emphasis shifted away from lincoln the emancipator to an argument that blacks had freed themselves from slavery or at least were responsible for pressuring the government to emancipate them defenders of lincoln retorted that he was moral visionary who deftly advanced the abolitionist cause as fast as politically possible brian dirck stated that few civil war scholars take bennett or thomas dilorenzo seriously pointing to their narrow political agendas and faulty research by the lincoln had become hero to political conservatives apart from neo confederates such as mel bradford who denounced his treatment of the white south for his intense nationalism his support for business his insistence on stopping the spread of slavery his acting on lockean and burkean principles on behalf of both liberty and tradition and his devotion to the principles of the founding fathers lincoln became favorite of liberal intellectuals across the world barry schwartz wrote in that lincoln image suffered erosion fading prestige benign ridicule in the late th century on the other hand donald opined in his biography that lincoln was distinctly endowed with the personality trait of negative capability defined by the poet john keats and attributed to extraordinary leaders who were content in the midst of uncertainties and doubts and not compelled toward fact or reason in the st century president barack obama named lincoln his favorite president and insisted on using the lincoln bible for his inaugural ceremonies lincoln has often been portrayed by hollywood almost always in flattering light lincoln has also been admired by political figures outside the including german political theorist karl marx indian independence leader mahatma gandhi former liberian president ellen johnson sirleaf leader of the italian risorgimento giuseppe garibaldi and libyan revolutionary muammar gaddafi memory and memorials lincoln portrait appears on two denominations of united states currency the penny and the bill he appears on postage stamps across the world while he is usually portrayed bearded he did not grow beard until at the suggestion of year old grace bedell he was the first of five presidents to do so he has been memorialized in many town city and county names including the capital of nebraska the united states navy is named after lincoln the second navy ship to bear his name the lincoln memorial is one of the most visited monuments in the nation capital and is one of the most visited national park service sites in the country ford theatre among the most visited sites in washington is across the street from petersen house where lincoln died memorials in springfield illinois include the abraham lincoln presidential library and museum lincoln home and his tomb portrait carving of lincoln appears with those of three other presidents on mount rushmore which receives about million visitors year an influential statue of lincoln stands in lincoln park chicago with recastings given as diplomatic gifts standing in parliament square london and parque lincoln mexico city in congress officially dedicated room in the united states capitol to abraham lincoln the room is located off national statuary hall and served as the post office of the house while then representative abraham lincoln served in congress from to file head of abraham lincoln at mount rushmore jpg alt see caption lincoln image carved into the stone of mount rushmore file lincoln heritage scenic highway adolph weinman abraham lincoln statue nara cropped jpg alt see caption abraham lincoln bronze statue by adolph weinman sits before historic church in hodgenville kentucky file lincoln issue jpg the lincoln memorial postage stamp of was issued by the post office exactly one year after lincoln death file aerial view of lincoln memorial west side jpg alt an aerial photo large white building with big pillars lincoln memorial in washington file united states penny obverse png the lincoln cent an american coin portraying lincoln see also lincoln film from by steven spielberg linconia proposed colony in central america named for lincoln list of civil rights leaders outline of abraham lincoln the towers ohio state lincoln tower notes references bibliography vols one volume edition edited and abridged by jonathan white carpenter six months at the white house with abraham lincoln the story of picture new york hurd and houghton also published as the inner life of abraham lincoln six months at the white house new york hurd and houghton pubdate ellenberg essay is adapted from his book shape the hidden geometry of information biology strategy democracy and everything else penguin press isbn second edition wm eerdmans publishing company external links official abraham lincoln presidential library and museum the lincoln presidential library ongoing digitization of all documents written by or to abraham lincoln during his lifetime collected works of abraham lincoln complete collected works as edited by basler et al an online edition available through university of michigan library digital collections organizations abraham lincoln association abraham lincoln bicentennial foundation media coverage other abraham lincoln resource guide from the library of congress life portrait of abraham lincoln from span american presidents life portraits june writings of abraham lincoln from span american writers journey through history abraham lincoln original letters and manuscripts shapell manuscript foundation lincoln net abraham lincoln historical digitization project northern illinois university libraries teaching abraham lincoln national endowment for the humanities in popular song our noble chief has passed away by cooper thomas abraham lincoln recollections and newspaper articles collection mclean county museum of history digitized items in the alfred whital stern collection of lincolniana in the rare book and special collections division in the library of congress\n",
            "aristotle aristotélēs bc was an ancient greek philosopher and polymath his writings cover broad range of subjects spanning the natural sciences philosophy linguistics economics politics psychology and the arts as the founder of the peripatetic school of philosophy in the lyceum in athens he began the wider aristotelian tradition that followed which set the groundwork for the development of modern science little is known about aristotle life he was born in the city of stagira in northern greece during the classical period his father nicomachus died when aristotle was child and he was brought up by guardian at or he joined plato academy in athens and remained there until the age of shortly after plato died aristotle left athens and at the request of philip ii of macedon tutored his son alexander the great beginning in bc he established library in the lyceum which helped him to produce many of his hundreds of books on papyrus scrolls though aristotle wrote many treatises and dialogues for publication only around third of his original output has survived none of it intended for publication aristotle provided complex synthesis of the various philosophies existing prior to him his teachings and methods of inquiry have had significant impact across the world and remain subject of contemporary philosophical discussion aristotle views profoundly shaped medieval scholarship the influence of his physical science extended from late antiquity and the early middle ages into the renaissance and was not replaced systematically until the enlightenment and theories such as classical mechanics were developed he influenced judeo islamic philosophies during the middle ages as well as christian theology especially the neoplatonism of the early church and the scholastic tradition of the catholic church aristotle was revered among medieval muslim scholars as the first teacher and among medieval christians like thomas aquinas as simply the philosopher while the poet dante called him the master of those who know his works contain the earliest known formal study of logic and were studied by medieval scholars such as peter abelard and jean buridan aristotle influence on logic continued well into the th century in addition his ethics although always influential gained renewed interest with the modern advent of virtue ethics life in general the details of aristotle life are not well established the biographies written in ancient times are often speculative and historians only agree on few salient points aristotle was born in bc in stagira chalcidice about km miles east of modern day thessaloniki his father nicomachus was the personal physician to king amyntas of macedon while he was young aristotle learned about biology and medical information which was taught by his father both of aristotle parents died when he was about thirteen and proxenus of atarneus became his guardian although little information about aristotle childhood has survived he probably spent some time within the macedonian palace making his first connections with the macedonian monarchy mieza macedonia greece at the age of seventeen or eighteen aristotle moved to athens to continue his education at plato academy he probably experienced the eleusinian mysteries as he wrote when describing the sights one viewed at the eleusinian mysteries to experience is to learn παθείν μαθεĩν aristotle remained in athens for nearly twenty years before leaving in bc the traditional story about his departure records that he was disappointed with the academy direction after control passed to plato nephew speusippus although it is possible that he feared the anti macedonian sentiments in athens at that time and left before plato died aristotle then accompanied xenocrates to the court of his friend hermias of atarneus in asia minor after the death of hermias aristotle travelled with his pupil theophrastus to the island of lesbos where together they researched the botany and zoology of the island and its sheltered lagoon while in lesbos aristotle married pythias either hermias adoptive daughter or niece they had daughter whom they also named pythias in bc aristotle was invited by philip ii of macedon to become the tutor to his son alexander aristotle tutoring alexander by jean leon gerome ferris aristotle was appointed as the head of the royal academy of macedon during aristotle time in the macedonian court he gave lessons not only to alexander but also to two other future kings ptolemy and cassander aristotle encouraged alexander toward eastern conquest and aristotle own attitude towards persia was unabashedly ethnocentric in one famous example he counsels alexander to be leader to the greeks and despot to the barbarians to look after the former as after friends and relatives and to deal with the latter as with beasts or plants by bc aristotle had returned to athens establishing his own school there known as the lyceum aristotle conducted courses at the school for the next twelve years while in athens his wife pythias died and aristotle became involved with herpyllis of stagira they had son whom aristotle named after his father nicomachus if the suda an uncritical compilation from the middle ages is accurate he may also have had an erômenos palaephatus of abydus portrait bust of aristotle an imperial roman st or nd century ad copy of lost bronze sculpture made by lysippos this period in athens between and bc is when aristotle is believed to have composed many of his works he wrote many dialogues of which only fragments have survived those works that have survived are in treatise form and were not for the most part intended for widespread publication they are generally thought to be lecture aids for his students his most important treatises include physics metaphysics nicomachean ethics politics on the soul and poetics aristotle studied and made significant contributions to logic metaphysics mathematics physics biology botany ethics politics agriculture medicine dance and theatre near the end of his life alexander and aristotle became estranged over alexander relationship with persia and persians widespread tradition in antiquity suspected aristotle of playing role in alexander death but the only evidence of this is an unlikely claim made some six years after the death following alexander death anti macedonian sentiment in athens was rekindled in bc demophilus and eurymedon the hierophant reportedly denounced aristotle for impiety prompting him to flee to his mother family estate in chalcis on euboea at which occasion he was said to have stated will not allow the athenians to sin twice against philosophy reference to athens trial and execution of socrates he died in chalcis euboea of natural causes later that same year having named his student antipater as his chief executor and leaving will in which he asked to be buried next to his wife theoretical philosophy logic with the prior analytics aristotle is credited with the earliest study of formal logic and his conception of it was the dominant form of western logic until th century advances in mathematical logic kant stated in the critique of pure reason that with aristotle logic reached its completion organon plato left and aristotle in raphael fresco the school of athens aristotle holds his nicomachean ethics and gestures to the earth representing his view in immanent realism whilst plato gestures to the heavens indicating his theory of forms and holds his timaeus most of aristotle work is probably not in its original form because it was most likely edited by students and later lecturers the logical works of aristotle were compiled into set of six books called the organon around bc by andronicus of rhodes or others among his followers the books are categories on interpretation prior analytics posterior analytics topics on sophistical refutations the order of the books or the teachings from which they are composed is not certain but this list was derived from analysis of aristotle writings it goes from the basics the analysis of simple terms in the categories the analysis of propositions and their elementary relations in on interpretation to the study of more complex forms namely syllogisms in the analytics and dialectics in the topics and sophistical refutations the first three treatises form the core of the logical theory stricto sensu the grammar of the language of logic and the correct rules of reasoning the rhetoric is not conventionally included but it states that it relies on the topics one of aristotle types of syllogism in words in terms in equations all men are mortal all greeks are men all greeks are mortal ps ms px what is today called aristotelian logic with its types of syllogism methods of logical argument aristotle himself would have labelled analytics the term logic he reserved to mean dialectics metaphysics the word metaphysics appears to have been coined by the first century ad editor who assembled various small selections of aristotle works to the treatise we know by the name metaphysics aristotle called it first philosophy and distinguished it from mathematics and natural science physics as the contemplative theoretikē philosophy which is theological and studies the divine he wrote in his metaphysics substance aristotle examines the concepts of substance ousia and essence to ti ên einai the what it was to be in his metaphysics book vii and he concludes that particular substance is combination of both matter and form philosophical theory called hylomorphism in book viii he distinguishes the matter of the substance as the substratum or the stuff of which it is composed for example the matter of house is the bricks stones timbers etc or whatever constitutes the potential house while the form of the substance is the actual house namely covering for bodies and chattels or any other differentia that let us define something as house the formula that gives the components is the account of the matter and the formula that gives the differentia is the account of the form immanent realism plato forms exist as universals like the ideal form of an apple for aristotle both matter and form belong to the individual thing hylomorphism like his teacher plato aristotle philosophy aims at the universal aristotle ontology places the universal katholou in particulars kath hekaston things in the world whereas for plato the universal is separately existing form which actual things imitate for aristotle form is still what phenomena are based on but is instantiated in particular substance plato argued that all things have universal form which could be either property or relation to other things when one looks at an apple for example one sees an apple and one can also analyse form of an apple in this distinction there is particular apple and universal form of an apple moreover one can place an apple next to book so that one can speak of both the book and apple as being next to each other plato argued that there are some universal forms that are not part of particular things for example it is possible that there is no particular good in existence but good is still proper universal form aristotle disagreed with plato on this point arguing that all universals are instantiated at some period of time and that there are no universals that are unattached to existing things in addition aristotle disagreed with plato about the location of universals where plato spoke of the forms as existing separately from the things that participate in them aristotle maintained that universals exist within each thing on which each universal is predicated so according to aristotle the form of apple exists within each apple rather than in the world of the forms potentiality and actuality concerning the nature of change kinesis and its causes as he outlines in his physics and on generation and corruption he distinguishes coming to be genesis also translated as generation from growth and diminution which is change in quantity locomotion which is change in space and alteration which is change in quality the potential made actual by learning coming to be is change where the substrate of the thing that has undergone the change has itself changed in that particular change he introduces the concept of potentiality dynamis and actuality entelecheia in association with the matter and the form referring to potentiality this is what thing is capable of doing or being acted upon if the conditions are right and it is not prevented by something else for example the seed of plant in the soil is potentially dynamei plant and if it is not prevented by something it will become plant potentially beings can either act poiein or be acted upon paschein which can be either innate or learned for example the eyes possess the potentiality of sight innate being acted upon while the capability of playing the flute can be possessed by learning exercise acting actuality is the fulfilment of the end of the potentiality because the end telos is the principle of every change and potentiality exists for the sake of the end actuality accordingly is the end referring then to the previous example it can be said that an actuality is when plant does one of the activities that plants do in summary the matter used to make house has potentiality to be house and both the activity of building and the form of the final house are actualities which is also final cause or end then aristotle proceeds and concludes that the actuality is prior to potentiality in formula in time and in substantiality with this definition of the particular substance matter and form aristotle tries to solve the problem of the unity of the beings for example what is it that makes man one since according to plato there are two ideas animal and biped how then is man unity however according to aristotle the potential being matter and the actual one form are one and the same epistemology aristotle immanent realism means his epistemology is based on the study of things that exist or happen in the world and rises to knowledge of the universal whereas for plato epistemology begins with knowledge of universal forms or ideas and descends to knowledge of particular imitations of these aristotle uses induction from examples alongside deduction whereas plato relies on deduction from priori principles natural philosophy aristotle natural philosophy spans wide range of natural phenomena including those now covered by physics biology and other natural sciences in aristotle terminology natural philosophy is branch of philosophy examining the phenomena of the natural world and includes fields that would be regarded today as physics biology and other natural sciences aristotle work encompassed virtually all facets of intellectual inquiry aristotle makes philosophy in the broad sense coextensive with reasoning which he also would describe as science however his use of the term science carries different meaning than that covered by the term scientific method for aristotle all science dianoia is either practical poetical or theoretical metaphysics his practical science includes ethics and politics his poetical science means the study of fine arts including poetry his theoretical science covers physics mathematics and metaphysics physics the four classical elements fire air water earth of empedocles and aristotle illustrated with burning log the log releases all four elements as it is destroyed five elements in his on generation and corruption aristotle related each of the four elements proposed earlier by empedocles earth water air and fire to two of the four sensible qualities hot cold wet and dry in the empedoclean scheme all matter was made of the four elements in differing proportions aristotle scheme added the heavenly aether the divine substance of the heavenly spheres stars and planets aristotle elements element motion modern stateof matter earth down solid water down liquid air up gas fire up plasma aether divinesubstance circular in heavens vacuum motion aristotle describes two kinds of motion violent or unnatural motion such as that of thrown stone in the physics and natural motion such as of falling object in on the heavens in violent motion as soon as the agent stops causing it the motion stops also in other words the natural state of an object is to be at rest since aristotle does not address friction with this understanding it can be observed that as aristotle stated heavy objects on the ground say require more force to make them move and objects pushed with greater force move faster this would imply the equation incorrect in modern physics natural motion depends on the element concerned the aether naturally moves in circle around the heavens while the empedoclean elements move vertically up like fire as is observed or down like earth towards their natural resting places physics he states that objects fall at speed proportional to their weight and inversely proportional to the density of the fluid they are immersed in this is correct approximation for objects in earth gravitational field moving in air or water in the physics aristotle effectively states quantitative law that the speed of falling body is proportional say with constant to its weight and inversely proportional to the density of the fluid in which it is falling aristotle implies that in vacuum the speed of fall would become infinite and concludes from this apparent absurdity that vacuum is not possible opinions have varied on whether aristotle intended to state quantitative laws henri carteron held the extreme view that aristotle concept of force was basically qualitative but other authors reject this archimedes corrected aristotle theory that bodies move towards their natural resting places metal boats can float if they displace enough water floating depends in archimedes scheme on the mass and volume of the object not as aristotle thought its elementary composition aristotle writings on motion remained influential until the early modern period john philoponus in late antiquity and galileo in early modern period are said to have shown by experiment that aristotle claim that heavier object falls faster than lighter object is incorrect contrary opinion is given by carlo rovelli who argues that aristotle physics of motion is correct within its domain of validity that of objects in the earth gravitational field immersed in fluid such as air in this system heavy bodies in steady fall indeed travel faster than light ones whether friction is ignored or not and they do fall more slowly in denser medium newton forced motion corresponds to aristotle violent motion with its external agent but aristotle assumption that the agent effect stops immediately it stops acting the ball leaves the thrower hand has awkward consequences he has to suppose that surrounding fluid helps to push the ball along to make it continue to rise even though the hand is no longer acting on it resulting in the medieval theory of impetus four causes aristotle argued by analogy with woodwork that thing takes its form from four causes in the case of table the wood used material cause its design formal cause the tools and techniques used efficient cause and its decorative or practical purpose final cause aristotle suggested that the reason for anything coming about can be attributed to four different types of simultaneously active factors his term aitia is traditionally translated as cause but it does not always refer to temporal sequence it might be better translated as explanation but the traditional rendering will be employed here material cause describes the material out of which something is composed thus the material cause of table is wood it is not about action it does not mean that one domino knocks over another domino the formal cause is its form the arrangement of that matter it tells one what thing is that thing is determined by the definition form pattern essence whole synthesis or archetype it embraces the account of causes in terms of fundamental principles or general laws as the whole macrostructure is the cause of its parts relationship known as the whole part causation plainly put the formal cause is the idea in the mind of the sculptor that brings the sculpture into being simple example of the formal cause is the mental image or idea that allows an artist architect or engineer to create drawing the efficient cause is the primary source or that from which the change under consideration proceeds it identifies what makes of what is made and what causes change of what is changed and so suggests all sorts of agents non living or living acting as the sources of change or movement or rest representing the current understanding of causality as the relation of cause and effect this covers the modern definitions of cause as either the agent or agency or particular events or states of affairs in the case of two dominoes when the first is knocked over it causes the second also to fall over in the case of animals this agency is combination of how it develops from the egg and how its body functions the final cause telos is its purpose the reason why thing exists or is done including both purposeful and instrumental actions and activities the final cause is the purpose or function that something is supposed to serve this covers modern ideas of motivating causes such as volition in the case of living things it implies adaptation to particular way of life optics aristotle describes experiments in optics using camera obscura in problems book the apparatus consisted of dark chamber with small aperture that let light in with it he saw that whatever shape he made the hole the sun image always remained circular he also noted that increasing the distance between the aperture and the image surface magnified the image chance and spontaneity according to aristotle spontaneity and chance are causes of some things distinguishable from other types of cause such as simple necessity chance as an incidental cause lies in the realm of accidental things from what is spontaneous there is also more specific kind of chance which aristotle names luck that only applies to people moral choices astronomy in astronomy aristotle refuted democritus claim that the milky way was made up of those stars which are shaded by the earth from the sun rays pointing out partly correctly that if the size of the sun is greater than that of the earth and the distance of the stars from the earth many times greater than that of the sun then the sun shines on all the stars and the earth screens none of them he also wrote descriptions of comets including the great comet of bc geology and natural sciences aristotle noted that the ground level of the aeolian islands changed before volcanic eruption aristotle was one of the first people to record any geological observations he stated that geological change was too slow to be observed in one person lifetime the geologist charles lyell noted that aristotle described such change including lakes that had dried up and deserts that had become watered by rivers giving as examples the growth of the nile delta since the time of homer and the upheaving of one of the aeolian islands previous to volcanic eruption meteorologica lends its name to the modern study of meteorology but its modern usage diverges from the content of aristotle ancient treatise on meteors the ancient greeks did use the term for range of atmospheric phenomena but also for earthquakes and volcanic eruptions aristotle proposed that the cause of earthquakes was gas or vapor anathymiaseis that was trapped inside the earth and trying to escape following other greek authors anaxagoras empedocles and democritus aristotle also made many observations about the hydrologic cycle for example he made some of the earliest observations about desalination he observed early and correctly that when seawater is heated freshwater evaporates and that the oceans are then replenished by the cycle of rainfall and river runoff have proved by experiment that salt water evaporated forms fresh and the vapor does not when it condenses condense into sea water again biology hectocotyl arm of the octopus bottom left empirical research aristotle was the first person to study biology systematically and biology forms large part of his writings he spent two years observing and describing the zoology of lesbos and the surrounding seas including in particular the pyrrha lagoon in the centre of lesbos his data in history of animals generation of animals movement of animals and parts of animals are assembled from his own observations statements given by people with specialized knowledge such as beekeepers and fishermen and less accurate accounts provided by travellers from overseas his apparent emphasis on animals rather than plants is historical accident his works on botany have been lost but two books on plants by his pupil theophrastus have survived aristotle reports on the sea life visible from observation on lesbos and the catches of fishermen he describes the catfish electric ray and frogfish in detail as well as cephalopods such as the octopus and paper nautilus his description of the hectocotyl arm of cephalopods used in sexual reproduction was widely disbelieved until the th century he gives accurate descriptions of the four chambered fore stomachs of ruminants and of the ovoviviparous embryological development of the hound shark he notes that an animal structure is well matched to function so birds like the heron which live in marshes with soft mud and live by catching fish have long neck long legs and sharp spear like beak whereas ducks that swim have short legs and webbed feet darwin too noted these sorts of differences between similar kinds of animal but unlike aristotle used the data to come to the theory of evolution aristotle writings can seem to modern readers close to implying evolution but while aristotle was aware that new mutations or hybridizations could occur he saw these as rare accidents for aristotle accidents like heat waves in winter must be considered distinct from natural causes he was thus critical of empedocles materialist theory of survival of the fittest origin of living things and their organs and ridiculed the idea that accidents could lead to orderly results to put his views into modern terms he nowhere says that different species can have common ancestor or that one kind can change into another or that kinds can become extinct scientific style aristotle inferred growth laws from his observations on animals including that brood size decreases with body mass whereas gestation period increases he was correct in these predictions at least for mammals data are shown for mouse and elephant aristotle did not do experiments in the modern sense he used the ancient greek term pepeiramenoi to mean observations or at most investigative procedures like dissection in generation of animals he finds fertilized hen egg of suitable stage and opens it to see the embryo heart beating inside instead he practiced different style of science systematically gathering data discovering patterns common to whole groups of animals and inferring possible causal explanations from these this style is common in modern biology when large amounts of data become available in new field such as genomics it does not result in the same certainty as experimental science but it sets out testable hypotheses and constructs narrative explanation of what is observed in this sense aristotle biology is scientific from the data he collected and documented aristotle inferred quite number of rules relating the life history features of the live bearing tetrapods terrestrial placental mammals that he studied among these correct predictions are the following brood size decreases with adult body mass so that an elephant has fewer young usually just one per brood than mouse lifespan increases with gestation period and also with body mass so that elephants live longer than mice have longer period of gestation and are heavier as final example fecundity decreases with lifespan so long lived kinds like elephants have fewer young in total than short lived kinds like mice classification of living things aristotle recorded that the embryo of dogfish was attached by cord to kind of placenta the yolk sac like higher animal this formed an exception to the linear scale from highest to lowest aristotle distinguished about species of animals arranging these in the history of animals in graded scale of perfection nonreligious version of the scala naturae with man at the top his system had eleven grades of animal from highest potential to lowest expressed in their form at birth the highest gave live birth to hot and wet creatures the lowest laid cold dry mineral like eggs animals came above plants and these in turn were above minerals he grouped what the modern zoologist would call vertebrates as the hotter animals with blood and below them the colder invertebrates as animals without blood those with blood were divided into the live bearing mammals and the egg laying birds reptiles fish those without blood were insects crustacea non shelled cephalopods and shelled and the hard shelled molluscs bivalves and gastropods he recognised that animals did not exactly fit into linear scale and noted various exceptions such as that sharks had placenta like the tetrapods to modern biologist the explanation not available to aristotle is convergent evolution philosophers of science have generally concluded that aristotle was not interested in taxonomy but zoologists who studied this question in the early st century think otherwise he believed that purposive final causes guided all natural processes this teleological view justified his observed data as an expression of formal design aristotle scala naturae highest to lowest group examples given by aristotle blood legs souls rational sensitive vegetative qualities man man with blood legs live bearing tetrapods cat hare with blood legs cetaceans dolphin whale with blood none birds bee eater nightjar with blood legs except eggs egg laying tetrapods chameleon crocodile with blood legs except scales eggs snakes water snake ottoman viper with blood none except scales eggs egg laying fishes sea bass parrotfish with blood none including eggs among the egg laying fishes placental selachians shark skate with blood none but placenta like tetrapods crustaceans shrimp crab without many legs except shell cephalopods squid octopus without tentacles hard shelled animals cockle trumpet snail without none mineral shell larva bearing insects ant cicada without legs spontaneously generating sponges worms without none or from earth plants fig without none minerals iron without none none psychology soul structure for souls of plants animals and humans making humans unique in having all three types of soul aristotle psychology given in his treatise on the soul peri psychēs posits three kinds of soul psyches the vegetative soul the sensitive soul and the rational soul humans have all three the vegetative soul is concerned with growth and nourishment the sensitive soul experiences sensations and movement the unique part of the human rational soul is its ability to receive forms of other things and to compare them using the nous intellect and logos reason for aristotle the soul is the form of living being because all beings are composites of form and matter the form of living beings is that which endows them with what is specific to living beings the ability to initiate movement or in the case of plants growth and transformations which aristotle considers types of movement in contrast to earlier philosophers but in accordance with the egyptians he placed the rational soul in the heart rather than the brain notable is aristotle division of sensation and thought which generally differed from the concepts of previous philosophers with the exception of alcmaeon in on the soul aristotle famously criticizes plato theory of the soul and develops his own in response the first criticism is against plato view of the soul in the timaeus that the soul takes up space and is able to come into physical contact with bodies th century scholarship overwhelmingly opposed aristotle interpretation of plato and maintained that he had misunderstood him today scholars have tended to re assess aristotle interpretation and been more positive about it aristotle other criticism is that plato view of reincarnation entails that it is possible for soul and its body to be mis matched in principle aristotle alleges any soul can go with any body according to plato theory aristotle claim that the soul is the form of living being eliminates that possibility and thus rules out reincarnation memory according to aristotle in on the soul memory is the ability to hold perceived experience in the mind and to distinguish between the internal appearance and an occurrence in the past in other words memory is mental picture phantasm that can be recovered aristotle believed an impression is left on semi fluid bodily organ that undergoes several changes in order to make memory memory occurs when stimuli such as sights or sounds are so complex that the nervous system cannot receive all the impressions at once these changes are the same as those involved in the operations of sensation aristotelian and thinking aristotle uses the term memory for the actual retaining of an experience in the impression that can develop from sensation and for the intellectual anxiety that comes with the impression because it is formed at particular time and processing specific contents memory is of the past prediction is of the future and sensation is of the present retrieval of impressions cannot be performed suddenly transitional channel is needed and located in past experiences both for previous experience and present experience because aristotle believes people receive all kinds of sense perceptions and perceive them as impressions people are continually weaving together new impressions of experiences to search for these impressions people search the memory itself within the memory if one experience is offered instead of specific memory that person will reject this experience until they find what they are looking for recollection occurs when one retrieved experience naturally follows another if the chain of images is needed one memory will stimulate the next when people recall experiences they stimulate certain previous experiences until they reach the one that is needed recollection is thus the self directed activity of retrieving the information stored in memory impression only humans can remember impressions of intellectual activity such as numbers and words animals that have perception of time can retrieve memories of their past observations remembering involves only perception of the things remembered and of the time passed senses perception memory dreams action in aristotle psychology impressions are stored in the sensorium the heart linked by his laws of association similarity contrast and contiguity aristotle believed the chain of thought which ends in recollection of certain impressions was connected systematically in relationships such as similarity contrast and contiguity described in his laws of association aristotle believed that past experiences are hidden within the mind force operates to awaken the hidden material to bring up the actual experience according to aristotle association is the power innate in mental state which operates upon the unexpressed remains of former experiences allowing them to rise and be recalled dreams aristotle describes sleep in on sleep and wakefulness sleep takes place as result of overuse of the senses or of digestion so it is vital to the body while person is asleep the critical activities which include thinking sensing recalling and remembering do not function as they do during wakefulness since person cannot sense during sleep they cannot have desire which is the result of sensation however the senses are able to work during sleep albeit differently unless they are weary dreams do not involve actually sensing stimulus in dreams sensation is still involved but in an altered manner aristotle explains that when person stares at moving stimulus such as the waves in body of water and then looks away the next thing they look at appears to have wavelike motion when person perceives stimulus and the stimulus is no longer the focus of their attention it leaves an impression when the body is awake and the senses are functioning properly person constantly encounters new stimuli to sense and so the impressions of previously perceived stimuli are ignored however during sleep the impressions made throughout the day are noticed as there are no new distracting sensory experiences so dreams result from these lasting impressions since impressions are all that are left and not the exact stimuli dreams do not resemble the actual waking experience during sleep person is in an altered state of mind aristotle compares sleeping person to person who is overtaken by strong feelings toward stimulus for example person who has strong infatuation with someone may begin to think they see that person everywhere because they are so overtaken by their feelings since person sleeping is in suggestible state and unable to make judgements they become easily deceived by what appears in their dreams like the infatuated person this leads the person to believe the dream is real even when the dreams are absurd in nature in de anima iii aristotle ascribes the ability to create to store and to recall images in the absence of perception to the faculty of imagination phantasia one component of aristotle theory of dreams disagrees with previously held beliefs he claimed that dreams are not foretelling and not sent by divine being aristotle reasoned that instances in which dreams do resemble future events are simply coincidences aristotle claimed that dream is first established by the fact that the person is asleep when they experience it if person had an image appear for moment after waking up or if they see something in the dark it is not considered dream because they were awake when it occurred secondly any sensory experience that is perceived while person is asleep does not qualify as part of dream for example if while person is sleeping door shuts and in their dream they hear door is shut this sensory experience is not part of the dream lastly the images of dreams must be result of lasting impressions of waking sensory experiences practical philosophy aristotle practical philosophy covers areas such as ethics politics economics and rhetoric virtues and their accompanying vices too little virtuous mean too much humbleness high mindedness vainglory lack of purpose right ambition over ambition spiritlessness good temper irascibility rudeness civility obsequiousness cowardice courage rashness insensibility self control intemperance sarcasm sincerity boastfulness boorishness wit buffoonery shamelessness modesty shyness callousness just resentment spitefulness pettiness generosity vulgarity meanness liberality wastefulness ethics aristotle considered ethics to be practical rather than theoretical study one aimed at becoming good and doing good rather than knowing for its own sake he wrote several treatises on ethics most notably including the nicomachean ethics aristotle taught that virtue has to do with the proper function ergon of thing an eye is only good eye in so much as it can see because the proper function of an eye is sight aristotle reasoned that humans must have function specific to humans and that this function must be an activity of the psuchē soul in accordance with reason logos aristotle identified such an optimum activity the virtuous mean between the accompanying vices of excess or deficiency of the soul as the aim of all human deliberate action eudaimonia generally translated as happiness or sometimes well being to have the potential of ever being happy in this way necessarily requires good character ēthikē aretē often translated as moral or ethical virtue or excellence aristotle taught that to achieve virtuous and potentially happy character requires first stage of having the fortune to be habituated not deliberately but by teachers and experience leading to later stage in which one consciously chooses to do the best things when the best people come to live life this way their practical wisdom phronesis and their intellect nous can develop with each other towards the highest possible human virtue the wisdom of an accomplished theoretical or speculative thinker or in other words philosopher politics in addition to his works on ethics which address the individual aristotle addressed the city in his work titled politics aristotle considered the city to be natural community moreover he considered the city to be prior in importance to the family which in turn is prior to the individual for the whole must of necessity be prior to the part he famously stated that man is by nature political animal and argued that humanity defining factor among others in the animal kingdom is its rationality aristotle conceived of politics as being like an organism rather than like machine and as collection of parts none of which can exist without the others aristotle conception of the city is organic and he is considered one of the first to conceive of the city in this manner aristotle classifications of political constitutions the common modern understanding of political community as modern state is quite different from aristotle understanding although he was aware of the existence and potential of larger empires the natural community according to aristotle was the city polis which functions as political community or partnership koinōnia the aim of the city is not just to avoid injustice or for economic stability but rather to allow at least some citizens the possibility to live good life and to perform beautiful acts the political partnership must be regarded therefore as being for the sake of noble actions not for the sake of living together this is distinguished from modern approaches beginning with social contract theory according to which individuals leave the state of nature because of fear of violent death or its inconveniences in protrepticus the character aristotle states as plato disciple aristotle was rather critical concerning democracy and following the outline of certain ideas from plato statesman he developed coherent theory of integrating various forms of power into so called mixed state economics aristotle made substantial contributions to economic thought especially to thought in the middle ages in politics aristotle addresses the city property and trade his response to criticisms of private property in lionel robbins view anticipated later proponents of private property among philosophers and economists as it related to the overall utility of social arrangements aristotle believed that although communal arrangements may seem beneficial to society and that although private property is often blamed for social strife such evils in fact come from human nature in politics aristotle offers one of the earliest accounts of the origin of money money came into use because people became dependent on one another importing what they needed and exporting the surplus for the sake of convenience people then agreed to deal in something that is intrinsically useful and easily applicable such as iron or silver aristotle discussions on retail and interest was major influence on economic thought in the middle ages he had low opinion of retail believing that contrary to using money to procure things one needs in managing the household retail trade seeks to make profit it thus uses goods as means to an end rather than as an end unto itself he believed that retail trade was in this way unnatural similarly aristotle considered making profit through interest unnatural as it makes gain out of the money itself and not from its use aristotle gave summary of the function of money that was perhaps remarkably precocious for his time he wrote that because it is impossible to determine the value of every good through count of the number of other goods it is worth the necessity arises of single universal standard of measurement money thus allows for the association of different goods and makes them commensurable he goes on to state that money is also useful for future exchange making it sort of security that is if we do not want thing now we shall be able to get it when we do want it rhetoric aristotle rhetoric proposes that speaker can use three basic kinds of appeals to persuade his audience ethos an appeal to the speaker character pathos an appeal to the audience emotion and logos an appeal to logical reasoning he also categorizes rhetoric into three genres epideictic ceremonial speeches dealing with praise or blame forensic judicial speeches over guilt or innocence and deliberative speeches calling on an audience to make decision on an issue aristotle also outlines two kinds of rhetorical proofs enthymeme proof by syllogism and paradeigma proof by example poetics aristotle writes in his poetics that epic poetry tragedy comedy dithyrambic poetry painting sculpture music and dance are all fundamentally acts of mimesis imitation each varying in imitation by medium object and manner he applies the term mimesis both as property of work of art and also as the product of the artist intention and contends that the audience realisation of the mimesis is vital to understanding the work itself aristotle states that mimesis is natural instinct of humanity that separates humans from animals and that all human artistry follows the pattern of nature because of this aristotle believed that each of the mimetic arts possesses what stephen halliwell calls highly structured procedures for the achievement of their purposes for example music imitates with the media of rhythm and harmony whereas dance imitates with rhythm alone and poetry with language the forms also differ in their object of imitation comedy for instance is dramatic imitation of men worse than average whereas tragedy imitates men slightly better than average lastly the forms differ in their manner of imitation through narrative or character through change or no change and through drama or no drama the blind oedipus commending his children to the gods by bénigne gagneraux in his poetics aristotle uses the tragedy oedipus tyrannus by sophocles as an example of how the perfect tragedy should be structured with generally good protagonist who starts the play prosperous but loses everything through some hamartia fault while it is believed that aristotle poetics originally comprised two books one on comedy and one on tragedy only the portion that focuses on tragedy has survived aristotle taught that tragedy is composed of six elements plot structure character style thought spectacle and lyric poetry the characters in tragedy are merely means of driving the story and the plot not the characters is the chief focus of tragedy tragedy is the imitation of action arousing pity and fear and is meant to effect the catharsis of those same emotions aristotle concludes poetics with discussion on which if either is superior epic or tragic mimesis he suggests that because tragedy possesses all the attributes of an epic possibly possesses additional attributes such as spectacle and music is more unified and achieves the aim of its mimesis in shorter scope it can be considered superior to epic aristotle was keen systematic collector of riddles folklore and proverbs he and his school had special interest in the riddles of the delphic oracle and studied the fables of aesop gender and sexuality aristotle asserted that men were superior to women writing the male is by nature superior and the female inferior the male ruler and the female subject on this ground proponents of feminist metaphysics have accused aristotle of misogyny and sexism however aristotle gave equal weight to women happiness as he did to men and commented in his rhetoric that the things that lead to happiness need to be in women as well as men aristotle like other greek philosophers such plato and xenophon rejected the homosexuality believing that it could lead people to become immoral due to the fact that he believed it went against nature purpose transmission more than years after his death aristotle remains one of the most influential people who ever lived he contributed to almost every field of human knowledge then in existence and he was the founder of many new fields according to the philosopher bryan magee it is doubtful whether any human being has ever known as much as he did among countless other achievements aristotle was the founder of formal logic pioneered the study of zoology and left every future scientist and philosopher in his debt through his contributions to the scientific method taneli kukkonen observes that his achievement in founding two sciences is unmatched and his reach in influencing every branch of intellectual enterprise including western ethical and political theory theology rhetoric and literary analysis is equally long as result kukkonen argues any analysis of reality today will almost certainly carry aristotelian overtones evidence of an exceptionally forceful mind jonathan barnes wrote that an account of aristotle intellectual afterlife would be little less than history of european thought aristotle has been called the father of logic biology political science zoology embryology natural law scientific method rhetoric psychology realism criticism individualism teleology and meteorology the scholar taneli kukkonen notes that in the best th century scholarship aristotle comes alive as thinker wrestling with the full weight of the greek philosophical tradition what follows is an overview of the transmission and influence of his texts and ideas into the modern era his successor theophrastus frontispiece to version of theophrastus historia plantarum originally written around bc aristotle pupil and successor theophrastus wrote the history of plants pioneering work in botany some of his technical terms remain in use such as carpel from carpos fruit and pericarp from pericarpion seed chamber theophrastus was much less concerned with formal causes than aristotle was instead pragmatically describing how plants functioned later greek philosophy the immediate influence of aristotle work was felt as the lyceum grew into the peripatetic school aristotle students included aristoxenus dicaearchus demetrius of phalerum eudemos of rhodes harpalus hephaestion mnason of phocis nicomachus and theophrastus aristotle influence over alexander the great is seen in the latter bringing with him on his expedition host of zoologists botanists and researchers he had also learned great deal about persian customs and traditions from his teacher although his respect for aristotle was diminished as his travels made it clear that much of aristotle geography was clearly wrong when the old philosopher released his works to the public alexander complained thou hast not done well to publish thy acroamatic doctrines for in what shall surpass other men if those doctrines wherein have been trained are to be all men common property hellenistic science after theophrastus the lyceum failed to produce any original work though interest in aristotle ideas survived they were generally taken unquestioningly it is not until the age of alexandria under the ptolemies that advances in biology can be again found the first medical teacher at alexandria herophilus of chalcedon corrected aristotle placing intelligence in the brain and connected the nervous system to motion and sensation herophilus also distinguished between veins and arteries noting that the latter pulse while the former do not though few ancient atomists such as lucretius challenged the teleological viewpoint of aristotelian ideas about life teleology and after the rise of christianity natural theology would remain central to biological thought essentially until the th and th centuries ernst mayr states that there was nothing of any real consequence in biology after lucretius and galen until the renaissance revival following the decline of the roman empire aristotle vast philosophical and scientific corpus lay largely dormant in the west however his works underwent remarkable revival in the abbasid caliphate translated into arabic alongside other greek classics aristotle logic ethics and natural philosophy ignited the minds of early islamic scholars through meticulous commentaries and critical engagements figures like al farabi and ibn sina avicenna breathed new life into aristotle ideas they harmonized his logic with islamic theology employed his scientific methodologies to explore the natural world and even reinterpreted his ethics within the framework of islamic morality this revival was not mere imitation islamic thinkers embraced aristotle rigorous methods while simultaneously challenging his conclusions where they diverged from their own religious beliefs byzantine scholars greek christian scribes played crucial role in the preservation of aristotle by copying all the extant greek language manuscripts of the corpus the first greek christians to comment extensively on aristotle were philoponus elias and david in the sixth century and stephen of alexandria in the early seventh century john philoponus stands out for having attempted fundamental critique of aristotle views on the eternity of the world movement and other elements of aristotelian thought philoponus questioned aristotle teaching of physics noting its flaws and introducing the theory of impetus to explain his observations after hiatus of several centuries formal commentary by eustratius and michael of ephesus reappeared in the late eleventh and early twelfth centuries apparently sponsored by anna comnena medieval islamic world islamic portrayal of aristotle right in the kitāb naʿt al ḥayawān aristotle was one of the most revered thinkers in early islamic theology most of the still extant works of aristotle as well as number of the original greek commentaries were translated into arabic and studied by muslim philosophers scientists and scholars averroes avicenna and alpharabius who wrote on aristotle in great depth also influenced thomas aquinas and other western christian scholastic philosophers alkindus greatly admired aristotle philosophy and averroes spoke of aristotle as the exemplar for all future philosophers medieval muslim scholars regularly described aristotle as the first teacher the title was later used by western philosophers as in the famous poem of dante who were influenced by the tradition of islamic philosophy medieval europe with the loss of the study of ancient greek in the early medieval latin west aristotle was practically unknown there from to except through the latin translation of the organon made by boethius in the twelfth and thirteenth centuries interest in aristotle revived and latin christians had translations made both from arabic translations such as those by gerard of cremona and from the original greek such as those by james of venice and william of moerbeke after the scholastic thomas aquinas wrote his summa theologica working from moerbeke translations and calling aristotle the philosopher the demand for aristotle writings grew and the greek manuscripts returned to the west stimulating revival of aristotelianism in europe that continued into the renaissance these thinkers blended aristotelian philosophy with christianity bringing the thought of ancient greece into the middle ages scholars such as boethius peter abelard and john buridan worked on aristotelian logic according to scholar roger theodore lafferty dante built up the philosophy of the comedy with the works of aristotle as foundation just as the scholastics used aristotle as the basis for their thinking dante knew aristotle directly from latin translations of his works and indirectly through quotations in the works of albert magnus dante even acknowledges aristotle influence explicitly in the poem specifically when virgil justifies the inferno structure by citing the nicomachean ethics dante famously refers to him as he who is acknowledged master of those who know medieval judaism moses maimonides considered to be the foremost intellectual figure of medieval judaism adopted aristotelianism from the islamic scholars and based his guide for the perplexed on it and that became the basis of jewish scholastic philosophy maimonides also considered aristotle to be the greatest philosopher that ever lived and styled him as the chief of the philosophers also in his letter to samuel ibn tibbon maimonides observes that there is no need for samuel to study the writings of philosophers who preceded aristotle because the works of the latter are sufficient by themselves and superior to all that were written before them his intellect aristotle is the extreme limit of human intellect apart from him upon whom the divine emanation has flowed forth to such an extent that they reach the level of prophecy there being no level higher early modern science william harvey de motu cordis showed that the blood circulated contrary to classical era thinking in the early modern period scientists such as william harvey in england and galileo galilei in italy reacted against the theories of aristotle and other classical era thinkers like galen establishing new theories based to some degree on observation and experiment harvey demonstrated the circulation of the blood establishing that the heart functioned as pump rather than being the seat of the soul and the controller of the body heat as aristotle thought galileo used more doubtful arguments to displace aristotle physics proposing that bodies all fall at the same speed whatever their weight th and th century science the english mathematician george boole fully accepted aristotle logic but decided to go under over and beyond it with his system of algebraic logic in his book the laws of thought this gives logic mathematical foundation with equations enables it to solve equations as well as check validity and allows it to handle wider class of problems by expanding propositions of any number of terms not just two charles darwin regarded aristotle as the most important contributor to the subject of biology in an letter he wrote that linnaeus and cuvier have been my two gods though in very different ways but they were mere schoolboys to old aristotle also in later editions of the book on the origin of species darwin traced evolutionary ideas as far back as aristotle the text he cites is summary by aristotle of the ideas of the earlier greek philosopher empedocles present science the philosopher bertrand russell claims that almost every serious intellectual advance has had to begin with an attack on some aristotelian doctrine russell calls aristotle ethics repulsive and labelled his logic as definitely antiquated as ptolemaic astronomy russell states that these errors make it difficult to do historical justice to aristotle until one remembers what an advance he made upon all of his predecessors the dutch historian of science eduard jan dijksterhuis writes that aristotle and his predecessors showed the difficulty of science by proceeding so readily to frame theory of such general character on limited evidence from their senses in the biologist peter medawar could still state in pure seventeenth century tones that aristotle had assembled strange and generally speaking rather tiresome farrago of hearsay imperfect observation wishful thinking and credulity amounting to downright gullibility zoologists have frequently mocked aristotle for errors and unverified secondhand reports however modern observation has confirmed several of his more surprising claims aristotle work remains largely unknown to modern scientists though zoologists sometimes mention him as the father of biology or in particular of marine biology practising zoologists are unlikely to adhere to aristotle chain of being but its influence is still perceptible in the use of the terms lower and upper to designate taxa such as groups of plants the evolutionary biologist armand marie leroi has reconstructed aristotle biology while niko tinbergen four questions based on aristotle four causes are used to analyse animal behaviour they examine function phylogeny mechanism and ontogeny the concept of homology began with aristotle the evolutionary developmental biologist lewis held commented that he would be interested in the concept of deep homology surviving works corpus aristotelicum first page of edition of the nicomachean ethics in greek and latin the works of aristotle that have survived from antiquity through medieval manuscript transmission are collected in the corpus aristotelicum these texts as opposed to aristotle lost works are technical philosophical treatises from within aristotle school reference to them is made according to the organization of immanuel bekker royal prussian academy edition aristotelis opera edidit academia regia borussica berlin which in turn is based on ancient classifications of these works loss and preservation aristotle wrote his works on papyrus scrolls the common writing medium of that era his writings are divisible into two groups the exoteric intended for the public and the esoteric for use within the lyceum school aristotle lost works stray considerably in from the surviving aristotelian corpus whereas the lost works appear to have been originally written with view to subsequent publication the surviving works mostly resemble lecture notes not intended for publication cicero description of aristotle literary style as river of gold must have applied to the published works not the surviving notes major question in the history of aristotle works is how the exoteric writings were all lost and how the ones now possessed came to be found the consensus is that andronicus of rhodes collected the esoteric works of aristotle school which existed in the form of smaller separate works distinguished them from those of theophrastus and other peripatetics edited them and finally compiled them into the more cohesive larger works as they are known today according to strabo and plutarch after aristotle death his library and writings went to theophrastus aristotle successor as head of the lycaeum and the peripatetic school after the death of theophrastus the peripatetic library went to neleus of scepsis some time later the kingdom of pergamon began conscripting books for royal library and the heirs of neleus hid their collection in cellar to prevent it from being seized for that purpose the library was stored there for about century and half in conditions that were not ideal for document preservation on the death of attalus iii which also ended the royal library ambitions the existence of aristotelian library was disclosed and it was purchased by apellicon and returned to athens in about bc apellicon sought to recover the texts many of which were seriously degraded at this point due to the conditions in which they were stored he had them copied out into new manuscripts and used his best guesswork to fill in the gaps where the originals were unreadable when sulla seized athens in bc he seized the library and transferred it to rome there andronicus of rhodes organized the texts into the first complete edition of aristotle works and works attributed to him the aristotelian texts we have today are based on these depictions in art paintings aristotle has been depicted by major artists including lucas cranach the elder justus van gent raphael paolo veronese jusepe de ribera rembrandt and francesco hayez over the centuries among the best known depictions is raphael fresco the school of athens in the vatican apostolic palace where the figures of plato and aristotle are central to the image at the architectural vanishing point reflecting their importance rembrandt aristotle with bust of homer too is celebrated work showing the knowing philosopher and the blind homer from an earlier age as the art critic jonathan jones writes this painting will remain one of the greatest and most mysterious in the world ensnaring us in its musty glowing pitch black terrible knowledge of time köln aristoteles jpg aristotle mosaic from roman villa in cologne aristotle in nuremberg chronicle jpg nuremberg chronicle shows aristotle in medieval scholar clothing ink and watercolour on paper gent justus van aristotle jpg aristotle by justus van gent oil on panel lucas cranach phyllis und aristotle jpg phyllis and aristotle by lucas cranach the elder oil on panel biblioteka marciana aristotel jpg aristotle by paolo veronese biblioteka marciana oil on canvas turchi aristoteimg jpg aristotle and campaspe alessandro turchi attrib oil on canvas aristotle by jusepe de ribera jpg aristotle by jusepe de ribera oil on canvas rembrandt aristotle with bust of homer wga jpg aristotle with bust of homer by rembrandt oil on canvas johann jakob dorner attr aristoteles jpg aristotle by johann jakob dorner the elder oil on canvas venice aristide francesco hayez gallerie accademia venice jpg aristotle by francesco hayez oil on canvas alexander and aristotle jpg by that most enduring of romantic images aristotle tutoring the future conqueror alexander sculptures aristoteles louvre jpg roman copy of st or nd century from original bronze by lysippos louvre museum dsc aristotele copia romana del dc foto di dall orto jpg roman copy of ad of greek original palermo regional archeology museum formella platone aristotele la filosofia luca della robbia jpg relief of aristotle and plato by luca della robbia florence cathedral llyfrgell sant deiniol and gladstone library hawarden penarlâg jpg stone statue in niche gladstone library hawarden wales uni freiburg philosophen jpg bronze statue university of freiburg germany eponyms the aristotle mountains in antarctica are named after aristotle he was the first person known to conjecture in his book meteorology the existence of landmass in the southern high latitude region which he called antarctica aristoteles is crater on the moon bearing the classical form of aristotle name aristoteles an asteroid in the main asteroid belt is also bearing the classical form of his name see also aristotelian society conimbricenses perfectionism references notes citations sources further reading the secondary literature on aristotle is vast the following is only small selection ackrill essays on plato and aristotle oxford university press these translations are available in several places online see external links bakalis nikolaos handbook of greek philosophy from thales to the stoics analysis and fragments trafford publishing bolotin david an approach to aristotle physics with particular attention to the role of his manner of writing albany suny press contribution to our understanding of how to read aristotle scientific works burnyeat myles et al notes on book zeta of aristotle metaphysics oxford sub faculty of philosophy code alan potentiality in aristotle science and metaphysics pacific philosophical quarterly de groot jean aristotle empiricism experience and mechanics in the th century bc parmenides publishing frede michael essays in ancient philosophy minneapolis university of minnesota press gendlin eugene line by line commentary on aristotle de anima volume books ii volume book iii the focusing institute gill mary louise aristotle on substance the paradox of unity princeton university press jori alberto aristotele bruno mondadori prize of the international academy of the history of science knight kelvin aristotelian philosophy ethics and politics from aristotle to macintyre polity press lewis frank substance and predication in aristotle cambridge university press lord carnes introduction to the politics by aristotle chicago university press loux michael primary ousia an essay on aristotle metaphysics and ithaca ny cornell university press maso stefano ed natali carlo ed seel gerhard ed reading aristotle physics vii what is alteration proceedings of the international esap hyele conference parmenides publishing reprinted in barnes schofield and sorabji eds articles on aristotle vol science london duckworth reeve substantial knowledge aristotle metaphysics hackett scaltsas substances and universals in aristotle metaphysics cornell university press strauss leo on aristotle politics in the city and man rand mcnally external links at the internet encyclopedia of philosophy at the internet classics archive from the stanford encyclopedia of philosophy collections of works at massachusetts institute of technology perseus project at tufts university at the university of adelaide remacle the volume bekker edition of aristotle works in greek pdf djvu\n",
            "an american in paris is jazz influenced symphonic poem or tone poem for orchestra by american composer george gershwin first performed in it was inspired by the time that gershwin had spent in paris and evokes the sights and energy of the french capital during the gershwin scored the piece for the standard instruments of the symphony orchestra plus celesta saxophones and automobile horns he brought back four parisian taxi horns for the new york premiere of the composition which took place on december in carnegie hall with walter damrosch conducting the new york philharmonic it was damrosch who had commissioned gershwin to write his concerto in following the earlier success of rhapsody in blue he completed the orchestration on november less than four weeks before the work premiere he collaborated on the original program notes with critic and composer deems taylor background although the story is likely apocryphal gershwin is said to have been attracted by maurice ravel unusual chords and gershwin went on his first trip to paris in ready to study with ravel after his initial student audition with ravel turned into sharing of musical theories ravel said he could not teach him saying why be second rate ravel when you can be first rate gershwin gershwin strongly encouraged ravel to come to the united states for tour to this end upon his return to new york gershwin joined the efforts of ravel friend robert schmitz pianist ravel had met during the war to urge ravel to tour the schmitz was the head of pro musica promoting franco american musical relations and was able to offer ravel fee for the tour an enticement gershwin knew would be important to ravel gershwin greeted ravel in new york in march during party held for ravel birthday by éva gauthier ravel tour reignited gershwin desire to return to paris which he and his brother ira did after meeting ravel ravel high praise of gershwin in an introductory letter to nadia boulanger caused gershwin to seriously consider taking much more time to study abroad in paris yet after he played for her she told him she could not teach him boulanger gave gershwin basically the same advice she gave all her accomplished master students what could give you that you haven already got this did not set gershwin back as his real intent abroad was to complete new work based on paris and perhaps second rhapsody for piano and orchestra to follow his rhapsody in blue paris at this time hosted many expatriate writers among them ezra pound yeats ernest hemingway scott fitzgerald and artist pablo picasso composition gershwin based an american in paris on melodic fragment called very parisienne written in on his first visit to paris as gift to his hosts robert and mabel schirmer gershwin called it rhapsodic ballet it is written freely and in much more modern idiom than his prior works gershwin explained in musical america my purpose here is to portray the impressions of an american visitor in paris as he strolls about the city listens to the various street noises and absorbs the french atmosphere the piece is structured into five sections which culminate in loose format gershwin first episode introduces the two main walking themes in the allegretto grazioso and develops third theme in the subito con brio the style of this section is written in the typical french style of composers claude debussy and les six this section featured duple meter singsong rhythms and diatonic melodies with the sounds of oboe english horn and taxi horns the section andante ma con ritmo deciso introduces the american blues and spasms of homesickness the allegro that follows continues to express homesickness in faster twelve bar blues in the section gershwin uses common time syncopated rhythms and bluesy melodies with the sounds of trumpet saxophone and snare drum moderato con grazia is the last section that returns to the themes set in after recapitulating the walking themes gershwin overlays the slow blues theme from section in the final grandioso response gershwin did not particularly like walter damrosch interpretation at the world premiere of an american in paris he stated that damrosch sluggish dragging tempo caused him to walk out of the hall during matinee performance of this work the audience according to edward cushing responded with demonstration of enthusiasm impressively genuine in contrast to the conventional applause which new music good and bad ordinarily arouses critics believed that an american in paris was better crafted than gershwin concerto in evening post did not think it belonged in program with classical composers césar franck richard wagner or guillaume lekeu on its premiere gershwin responded to the critics instrumentation an american in paris was originally scored for flutes rd doubling on piccolo oboes english horn clarinets in flat bass clarinet in flat bassoons horns in trumpets in flat trombones tuba timpani snare drum bass drum triangle wood block ratchet cymbals low and high tom toms xylophone glockenspiel celesta taxi horns labeled as and with circles around them alto saxophone tenor saxophone baritone saxophone all doubling soprano and alto saxophones and strings although most modern audiences have heard the taxi horns using the notes and it had been gershwin intention to use the notes and it is likely that in labeling the taxi horns as and with circles he was referring to the four horns and not the notes that they played major revision of the work by composer and arranger campbell watson simplified the instrumentation by reducing the saxophones to only three instruments alto tenor and baritone the soprano and alto saxophone doublings were eliminated to avoid changing instruments this became the standard performing edition until when gershwin specialist jack gibbons made his own restoration of the original orchestration of an american in paris working directly from gershwin original manuscript including the restoration of gershwin soprano saxophone parts removed in campbell watson revision gibbons restored orchestration of an american in paris was performed at london queen elizabeth hall on july by the city of oxford orchestra conducted by levon parikian william daly arranged the score for piano solo this was published by new world music in preservation status on september it was announced that musicological critical edition of the full orchestral score would be eventually released the gershwin family working in conjunction with the library of congress and the university of michigan were working to make scores available to the public that represent gershwin true intent it was unknown whether the critical score would include the four minutes of material gershwin later deleted from the work such as the restatement of the blues theme after the faster bar blues section or if the score would document changes in the orchestration during gershwin composition process the score to an american in paris was scheduled to be issued first in series of scores to be released the entire project was expected to take to years to complete but an american in paris was planned to be an early volume in the series two urtext editions of the work were published by the german publisher note music in the changes made by campbell watson were withdrawn in both editions in the extended urtext bars of music were re integrated conductor walter damrosch had cut them shortly before the first performance on september the cincinnati symphony orchestra gave the world premiere of the long awaited critical edition of the piece prepared by mark clague director of the gershwin initiative at the university of michigan this performance was of the original orchestration recordings an american in paris has been frequently recorded the first recording was made for the victor talking machine company in with nathaniel shilkret conducting the victor symphony orchestra drawn from members of the philadelphia orchestra gershwin was on hand to supervise the recording however shilkret was reported to be in charge and eventually asked the composer to leave the recording studio then little later shilkret discovered there was no one to play the brief celesta solo during the slow section so he hastily asked gershwin if he might play the solo gershwin said he could and so he briefly participated in the actual recording this recording is believed to use the taxi horns in the way that gershwin had intended using the notes flat flat higher and lower the radio broadcast of the september hollywood bowl george gershwin memorial concert in which an american in paris also conducted by shilkret was second on the program was recorded and was released in in two cd set arthur fiedler and the boston pops orchestra recorded the work for rca victor including one of the first stereo recordings of the music in arturo toscanini conducting the nbc symphony orchestra recorded the piece for rca victor one of the few commercial recordings toscanini made of music by an american composer the seattle symphony also recorded version in of gershwin original score before numerous edits were made resulting in the score as we hear it today the blues section of an american in paris has been recorded separately by number of artists ralph flanagan his orchestra released it as single in which reached no on the billboard chart harry james released version of the blues section on his album one night stand recorded live at the aragon ballroom in chicago columbia gl and cl use in film in metro goldwyn mayer released the musical film an american in paris featuring gene kelly and leslie caron and directed by vincente minnelli winning the best picture oscar and numerous other awards the film featured many tunes of gershwin and concluded with an extensive elaborate dance sequence built around the symphonic poem an american in paris arranged for the film by johnny green which at the time was the most expensive musical number ever filmed costing notes and references further reading external links scores marked by leonard bernstein andre kostelanetz erich leinsdorf new york philharmonic archives recording by the new york philharmonic conducted by artur rodziński new york philharmonic leonard bernstein archive\n",
            "the academy award for best production design recognizes achievement for art direction in film the category original name was best art direction but was changed to its current name in for the th academy awards this change resulted from the art directors branch of the academy of motion picture arts and sciences ampas being renamed the designers branch since the award is shared with the set decorators it is awarded to the best interior design in film the films below are listed with their production year for example the academy award for best art direction is given to film from in the lists below the winner of the award for each year is shown first followed by the other nominees in alphabetical order superlatives category name superlative notes most awards cedric gibbons awards awards resulted from nominations most nominations nominations nominations resulted in awards most nominations without ever winning roland anderson nominations nominations resulted in no awards winners and nominees year film art director the dove william cameron menzies tempest th heaven harry oliver sunrise song of two humans rochus gliese the bridge of san luis rey cedric gibbons alibi william cameron menzies the awakening dynamite mitchell leisen the patriot hans dreier street angel harry oliver year film art director king of jazz herman rosse bulldog drummond william cameron menzies the love parade hans dreier sally jack okey the vagabond king hans dreier cimarron max rée just imagine stephen goosson and ralph hammeras morocco hans dreier svengali anton grot whoopee richard day transatlantic gordon wiles arrowsmith richard day nous la liberté lazare meerson cavalcade william darling farewell to arms hans dreier and roland anderson when ladies meet cedric gibbons the merry widow cedric gibbons and fredric hope the affairs of cellini richard day the gay divorcee van nest polglase and carroll clark the dark angel richard day the lives of bengal lancer hans dreier and roland anderson top hat carroll clark and van nest polglase dodsworth richard day anthony adverse anton grot the great ziegfeld cedric gibbons eddie imazu and edwin willis lloyd of london william darling the magnificent brute albert agostino and jack otterson romeo and juliet cedric gibbons fredric hope and edwin willis winterset perry ferguson lost horizon stephen goosson conquest cedric gibbons and william horning damsel in distress carroll clark dead end richard day every day holiday wiard ihnen the life of emile zola anton grot manhattan merry go round john victor mackay the prisoner of zenda lyle wheeler souls at sea hans dreier and roland anderson walter wanger vogues of alexander toluboff wee willie winkie william darling and david hall you re sweetheart jack otterson the adventures of robin hood carl jules weyl the adventures of tom sawyer lyle wheeler alexander ragtime band bernard herzbrun and boris leven algiers alexander toluboff carefree van nest polglase the goldwyn follies richard day holiday stephen goosson and lionel banks if were king hans dreier and john goodman mad about music jack otterson marie antoinette cedric gibbons merrily we live charles hall gone with the wind lyle wheeler beau geste hans dreier and robert odell captain fury charles hall first love jack otterson and martin obzina love affair van nest polglase and alfred herman man of conquest john victor mackay mr smith goes to washington lionel banks the private lives of elizabeth and essex anton grot the rains came william darling and george dudley stagecoach alexander toluboff the wizard of oz cedric gibbons and william horning wuthering heights james basevi year film art director interior decorator black and white pride and prejudice cedric gibbons and paul groesse arise my love hans dreier and robert usher arizona lionel banks and robert peterson the boys from syracuse jack otterson dark command john victor mackay foreign correspondent alexander golitzen lillian russell richard day and joseph wright my favorite wife van nest polglase and mark lee kirk my son my son john ducasse schulze our town lewis rachmil rebecca lyle wheeler the sea hawk anton grot the westerner james basevi color the thief of bagdad vincent korda bitter sweet cedric gibbons and john detlie down argentine way richard day and joseph wright north west mounted police hans dreier and roland anderson black and white how green was my valley richard day and nathan juran thomas little citizen kane perry ferguson and van nest polglase roland fields and darrell silvera the flame of new orleans martin obzina and jack otterson russell gausman hold back the dawn hans dreier and robert usher samuel comer ladies in retirement lionel banks george montgomery the little foxes stephen goosson howard bristol sergeant york john hughes fred maclean the son of monte cristo john ducasse schulze edward boyle sundown alexander golitzen richard irvine that hamilton woman vincent korda julia heron when ladies meet cedric gibbons and randall duell edwin willis color blossoms in the dust cedric gibbons and urie mccleary edwin willis blood and sand richard day and joseph wright thomas little louisiana purchase raoul pene du bois stephen seymour black and white this above all richard day and joseph wright thomas little george washington slept here max parker and mark lee kirk casey roberts the magnificent ambersons albert agostino roland fields and darrell silvera the pride of the yankees perry ferguson howard bristol random harvest cedric gibbons and randall duell edwin willis and jack moore the shanghai gesture boris leven silver queen ralph berger emile kuri the spoilers john goodman and jack otterson russell gausman and edward ray robinson take letter darling hans dreier and roland anderson samuel comer the talk of the town lionel banks and rudolph sternad fay babcock color my gal sal richard day and joseph wright thomas little arabian nights alexander golitzen and jack otterson russell gausman and ira webb captains of the clouds ted smith casey roberts jungle book vincent korda julia heron reap the wild wind hans dreier and roland anderson george sawley black and white the song of bernadette james basevi and william darling thomas little five graves to cairo hans dreier and ernst fegté bertram granger flight for freedom albert agostino and carroll clark darrell silvera and harley miller madame curie cedric gibbons and paul groesse edwin willis and hugh hunt mission to moscow carl jules weyl george james hopkins the north star perry ferguson howard bristol color phantom of the opera alexander golitzen and john goodman russell gausman and ira webb for whom the bell tolls hans dreier and haldane douglas bertram granger the gang all here james basevi and joseph wright thomas little this is the army john hughes george james hopkins thousands cheer cedric gibbons and daniel cathcart edwin willis and jacques mersereau black and white gaslight cedric gibbons and william ferrari paul huldschinsky and edwin willis address unknown lionel banks and walter holscher joseph kish the adventures of mark twain john hughes fred maclean casanova brown perry ferguson julia heron laura lyle wheeler and leland fuller thomas little no time for love hans dreier and robert usher samuel comer since you went away mark lee kirk victor gangelin step lively albert agostino and carroll clark darrell silvera and claude carpenter color wilson wiard ihnen thomas little the climax john goodman and alexander golitzen russell gausman and ira webb cover girl lionel banks and cary odell fay babcock the desert song charles novi jack mcconaghy kismet cedric gibbons and daniel cathcart edwin willis and richard pefferle lady in the dark hans dreier and raoul pene du bois ray moyer the princess and the pirate ernst fegté howard bristol black and white blood on the sun wiard ihnen roland fields experiment perilous albert agostino and jack okey darrell silvera and claude carpenter the keys of the kingdom james basevi and william darling thomas little and frank hughes love letters hans dreier and roland anderson samuel comer and ray moyer the picture of dorian gray cedric gibbons and hans peters edwin willis and john bonar and hugh hunt color frenchman creek hans dreier and ernst fegté samuel comer leave her to heaven lyle wheeler and maurice ransford thomas little national velvet cedric gibbons and urie mccleary edwin willis and mildred griffiths san antonio ted smith jack mcconaghy thousand and one nights stephen goosson and rudolph sternad frank tuttle black and white anna and the king of siam william darling and lyle wheeler thomas little and frank hughes kitty hans dreier and walter tyler samuel comer and ray moyer the razor edge richard day and nathan juran thomas little and paul fox color the yearling cedric gibbons and paul groesse edwin willis caesar and cleopatra john bryan henry paul sheriff and carmen dillon black and white great expectations wilfred shingleton john bryan the foxes of harrow lyle wheeler and maurice ransford thomas little and paul fox color black narcissus alfred junge life with father robert haas george james hopkins black and white hamlet roger furse carmen dillon johnny belinda robert haas william wallace color the red shoes hein heckroth arthur lawson joan of arc richard day edwin casey roberts and joseph kish black and white the heiress harry horner and john meehan emile kuri come to the stable lyle wheeler and joseph wright thomas little and paul fox madame bovary cedric gibbons and jack martin smith edwin willis and richard pefferle color little women cedric gibbons and paul groesse edwin willis and jack moore adventures of don juan edward carrere lyle reifsnider saraband jim morahan and william kellner michael relph year film art director set decorator black and white sunset boulevard hans dreier and john meehan samuel comer and ray moyer all about eve george davis and lyle wheeler thomas little and walter scott the red danube cedric gibbons and hans peters edwin willis and hugh hunt color samson and delilah hans dreier and walter tyler samuel comer and ray moyer annie get your gun cedric gibbons and paul groesse edwin willis and richard pefferle destination moon ernst fegté george sawley black and white streetcar named desire richard day george james hopkins fourteen hours leland fuller and lyle wheeler thomas little and fred rode the house on telegraph hill john decuir and lyle wheeler paul fox and thomas little la ronde eaubonne too young to kiss cedric gibbons and paul groesse edwin willis and jack moore color an american in paris preston ames and cedric gibbons edwin willis and keogh gleason david and bathsheba george davis and lyle wheeler paul fox and thomas little on the riviera leland fuller lyle wheeler and joseph wright musical settings thomas little and walter scott quo vadis edward carfagno cedric gibbons and william horning hugh hunt the tales of hoffmann hein heckroth black and white the bad and the beautiful edward carfagno and cedric gibbons keogh gleason and edwin willis carrie roland anderson and hal pereira emile kuri my cousin rachel john decuir and lyle wheeler walter scott rashomon so matsuyama motsumoto viva zapata leland fuller and lyle wheeler claude carpenter and thomas little color moulin rouge paul sheriff marcel vertès hans christian andersen clavé and richard day howard bristol the merry widow cedric gibbons and paul groesse arthur krams and edwin willis the quiet man frank hotaling john mccarthy jr and charles thompson the snows of kilimanjaro john decuir and lyle wheeler paul fox and thomas little black and white julius caesar edward carfagno and cedric gibbons hugh hunt and edwin willis martin luther paul markwitz and fritz maurischat the president lady leland fuller and lyle wheeler paul fox roman holiday hal pereira and walter tyler titanic maurice ransford and lyle wheeler stuart reiss color the robe george davis and lyle wheeler paul fox and walter scott knights of the round table alfred junge and hans peters john jarvis lili cedric gibbons and paul groesse arthur krams and edwin willis the story of three loves preston ames edward carfagno cedric gibbons and gabriel scognamillo keogh gleason arthur krams jack moore and edwin willis young bess cedric gibbons and urie mccleary jack moore and edwin willis black and white on the waterfront richard day the country girl roland anderson and hal pereira samuel comer and grace gregory executive suite cedric gibbons and edward carfagno edwin willis and emile kuri le plaisir max ophüls sabrina hal pereira and walter tyler samuel comer and ray moyer color leagues under the sea john meehan emile kuri brigadoon cedric gibbons and preston ames edwin willis and keogh gleason desiree lyle wheeler and leland fuller walter scott and paul fox red garters hal pereira and roland anderson samuel comer and ray moyer star is born malcolm bert and gene allen irene sharaff and george james hopkins black and white the rose tattoo hal pereira and tambi larsen samuel comer and arthur krams blackboard jungle cedric gibbons and randall duell edwin willis and henry grace ll cry tomorrow cedric gibbons and malcolm brown edwin willis and hugh hunt the man with the golden arm joseph wright darrell silvera marty edward haworth and walter simonds robert priestley color picnic william flannery jo mielziner and robert priestley daddy long legs lyle wheeler and john decuir walter scott and paul fox guys and dolls oliver smith and joseph wright howard bristol love is many splendored thing lyle wheeler and george davis walter scott and jack stubbs to catch thief hal pereira and joseph mcmillan johnson samuel comer and arthur krams black and white somebody up there likes me cedric gibbons and malcolm brown edwin willis and keogh gleason seven samurai so matsuyama the proud and profane hal pereira and earl hedrick samuel comer and frank mckelvy the solid gold cadillac ross bellah william kiernan and louis diage teenage rebel lyle wheeler and jack martin smith walter scott and stuart reiss color the king and lyle wheeler and john decuir walter scott and paul fox around the world in days james sullivan and ken adam ross dowd giant boris leven ralph hurst lust for life cedric gibbons and hans peters and preston ames edwin willis and keogh gleason the ten commandments walter tyler and albert nozaki samuel comer and ray moyer sayonara ted haworth robert priestley funny face hal pereira and george davis samuel comer and ray moyer les girls william horning and gene allen edwin willis and richard pefferle pal joey walter holscher william kiernan and louis diage raintree county william horning and urie mccleary edwin willis and hugh hunt gigi william horning and preston ames henry grace and keogh gleason auntie mame malcolm bert george james hopkins bell book and candle cary odell louis diage certain smile lyle wheeler and john decuir walter scott and paul fox vertigo hal pereira and henry bumstead samuel comer and frank mckelvy black and white the diary of anne frank lyle wheeler and george davis walter scott and stuart reiss career hal pereira and walter tyler samuel comer and arthur krams the last angry man carl anderson william kiernan some like it hot ted haworth edward boyle suddenly last summer oliver messel and william kellner scott slimon color ben hur william horning and edward carfagno hugh hunt the big fisherman john decuir julia heron journey to the center of the earth lyle wheeler franz bachelin and herman blumenthal walter scott and joseph kish north by northwest william horning robert boyle and merrill pye henry grace and frank mckelvy pillow talk richard riedel russell gausman and ruby levitt year film art director set decorator black and white the apartment alexandre trauner edward boyle the facts of life joseph mcmillan johnson and kenneth reid ross dowd psycho joseph hurley and robert clatworthy george milo sons and lovers tom morahan lionel couch visit to small planet hal pereira and walter tyler samuel comer and arthur krams color spartacus alexander golitzen and eric orbom russell gausman and julia heron cimarron george davis and addison hehr henry grace hugh hunt and otto siegel it started in naples hal pereira and roland anderson samuel comer and arrigo breschi pepe ted haworth william kiernan sunrise at campobello edward carrere george james hopkins black and white the hustler harry horner gene callahan the absent minded professor carroll clark emile kuri and hal gausman the children hour fernando carrere edward boyle judgment at nuremberg rudolph sternad george milo la dolce vita piero gherardi color west side story boris leven victor gangelin breakfast at tiffany hal pereira and roland anderson samuel comer and ray moyer el cid veniero colasanti and john moore flower drum song alexander golitzen and joseph wright howard bristol summer and smoke hal pereira and walter tyler samuel comer and arthur krams black and white to kill mockingbird alexander golitzen and henry bumstead oliver emert days of wine and roses joseph wright george james hopkins the longest day ted haworth léon barsacq and vincent korda gabriel béchir period of adjustment george davis and edward carfagno henry grace and richard pefferle the pigeon that took rome hal pereira and roland anderson samuel comer and frank mckelvy color lawrence of arabia john box and john stoll dario simoni the music man paul groesse george james hopkins mutiny on the bounty george davis and joseph mcmillan johnson henry grace and hugh hunt that touch of mink alexander golitzen and robert clatworthy george milo the wonderful world of the brothers grimm george davis and edward carfagno henry grace and richard pefferle black and white america america gene callahan piero gherardi hud hal pereira and tambi larsen samuel comer and robert benton love with the proper stranger hal pereira and roland anderson samuel comer and grace gregory twilight of honor george davis and paul groesse henry grace and hugh hunt color cleopatra john decuir jack martin smith hilyard brown herman blumenthal elven webb maurice pelling and boris juraga walter scott paul fox and ray moyer the cardinal lyle wheeler gene callahan come blow your horn hal pereira and roland anderson samuel comer and james payne how the west was won george davis william ferrari and addison hehr henry grace don greenwood jr and jack mills tom jones ralph brinton jocelyn herbert and ted marshall josie macavin black and white zorba the greek vassilis photopoulos the americanization of emily george davis hans peters and elliot scott henry grace and robert benton hush hush sweet charlotte william glasgow raphaël bretton the night of the iguana stephen grimes seven days in may cary odell edward boyle color my fair lady gene allen and cecil beaton george james hopkins becket john bryan and maurice carter patrick mcloughlin and robert cartwright mary poppins carroll clark and william tuntke emile kuri and hal gausman the unsinkable molly brown george davis and preston ames henry grace and hugh hunt what way to go jack martin smith and ted haworth walter scott and stuart reiss black and white ship of fools robert clatworthy joseph kish king rat robert emmet smith frank tuttle patch of blue george davis and urie mccleary henry grace and charles thompson the slender thread hal pereira and jack poplin robert benton and joseph kish the spy who came in from the cold hal pereira and tambi larsen ted marshall and josie macavin color doctor zhivago john box and terence marsh dario simoni the agony and the ecstasy john decuir and jack martin smith dario simoni the greatest story ever told richard day william creber and david hall ray moyer and fred maclean and norman rockett inside daisy clover robert clatworthy george james hopkins the sound of music boris leven walter scott and ruby levitt black and white who afraid of virginia woolf richard sylbert george james hopkins the fortune cookie robert luthardt edward boyle the gospel according to st matthew luigi scaccianoce is paris burning willy holt marc frédérix and pierre guffroy mister buddwing george davis and paul groesse henry grace and hugh hunt color fantastic voyage jack martin smith and dale hennesy walter scott and stuart reiss gambit alexander golitzen and george webb john mccarthy jr and john austin juliet of the spirits piero gherardi the oscar hal pereira and arthur lonergan robert benton and james payne the sand pebbles boris leven walter scott john sturtevant and william kiernan camelot john truscott and edward carrere john brown doctor dolittle mario chiari jack martin smith and ed graves walter scott and stuart reiss guess who coming to dinner robert clatworthy frank tuttle the taming of the shrew renzo mongiardino john decuir elven webb and giuseppe mariani dario simoni and luigi gervasi thoroughly modern millie alexander golitzen and george webb howard bristol oliver john box and terence marsh vernon dixon and ken muggleston space odyssey anthony masters harry lange and ernest archer the shoes of the fisherman george davis and edward carfagno star boris leven walter scott and howard bristol war and peace mikhail bogdanov and gennady myasnikov georgi koshelev and vladimir uvarov hello dolly john decuir jack martin smith and herman blumenthal walter scott george james hopkins and raphaël bretton anne of the thousand days maurice carter and lionel couch patrick mcloughlin gaily gaily robert boyle and george chan edward boyle and carl biddiscombe sweet charity alexander golitzen and george webb jack moore they shoot horses don they harry horner frank mckelvy year film art director set decorator patton urie mccleary and gil parrondo antonio mateos and pierre louis thévenet airport alexander golitzen and preston ames jack moore and mickey michaels the molly maguires tambi larsen darrell silvera scrooge terence marsh and robert cartwright pamela cornell tora tora tora jack martin smith yoshirō muraki richard day and taizô kawashima walter scott norman rockett and carl biddiscombe nicholas and alexandra john box ernest archer jack maxsted and gil parrondo vernon dixon the andromeda strain boris leven and william tuntke ruby levitt bedknobs and broomsticks john mansbridge and peter ellenshaw emile kuri and hal gausman fiddler on the roof robert boyle and michael stringer peter lamont mary queen of scots terence marsh and robert cartwright peter howitt cabaret rolf zehetbauer and hans jürgen kiebach herbert strabel lady sings the blues carl anderson reg allen the poseidon adventure william creber raphaël bretton travels with my aunt john box gil parrondo and robert laing young winston donald ashton and geoffrey drake john graysmark william hutchinson and peter james the sting henry bumstead james payne brother sun sister moon lorenzo mongiardino and gianni quaranta carmelo patrono the exorcist bill malley jerry wunderlich tom sawyer philip jefferies robert de vestel the way we were stephen grimes william kiernan the godfather part ii dean tavoularis and angelo graham george nelson chinatown richard sylbert and stewart campbell ruby levitt earthquake alexander golitzen and preston ames frank mckelvy the island at the top of the world peter ellenshaw john mansbridge walter tyler and al roelofs hal gausman the towering inferno william creber and ward preston raphaël bretton barry lyndon ken adam and roy walker vernon dixon the hindenburg edward carfagno frank mckelvy the man who would be king alexandre trauner and tony inglis peter james shampoo richard sylbert and stewart campbell george gaines the sunshine boys albert brenner marvin march all the president men george jenkins george gaines the incredible sarah elliot scott norman reynolds the last tycoon gene callahan and jack collis jerry wunderlich logan run dale hennesy robert de vestel the shootist robert boyle arthur jeph parker star wars john barry norman reynolds and leslie dilley roger christian airport george webb mickey michaels close encounters of the third kind joe alves and dan lomino phil abramson the spy who loved me ken adam and peter lamont hugh scaife the turning point albert brenner marvin march heaven can wait paul sylbert and edwin donovan george gaines the brink job dean tavoularis and angelo graham george nelson and bruce kay california suite albert brenner marvin march interiors mel bourne daniel robert the wiz tony walton and philip rosenberg edward stewart and robert drumheller all that jazz philip rosenberg and tony walton edward stewart and gary brink alien michael seymour leslie dilley and roger christian ian whittaker apocalypse now dean tavoularis and angelo graham george nelson the china syndrome george jenkins arthur jeph parker star trek the motion picture harold michelson joe jennings leon harris and john vallone linda descenna year film art director set decorator tess pierre guffroy and jack stephens coal miner daughter john corso john dwyer the elephant man stuart craig and robert cartwright hugh scaife star wars episode the empire strikes back norman reynolds leslie dilley harry lange and alan tomkins michael ford kagemusha yoshirō muraki raiders of the lost ark norman reynolds and leslie dilley michael ford the french lieutenant woman assheton gorton ann mollo heaven gate tambi larsen james berkey ragtime john graysmark patrizia von brandenstein and tony reading george detitta sr george detitta jr and peter howitt reds richard sylbert michael seirton gandhi stuart craig and robert laing michael seirton annie dale hennesy marvin march blade runner lawrence paull and david snyder linda descenna la traviata franco zeffirelli and gianni quaranta victor victoria rodger maus tim hutchinson and william craig smith harry cordwell fanny and alexander anna asp return of the jedi norman reynolds fred hole and james schoppe michael ford the right stuff geoffrey kirkland richard lawrence stewart campbell and peter romero jim poynter and george nelson terms of endearment polly platt and harold michelson tom pedigo and anthony mondell yentl roy walker and leslie tomkins tessa davies amadeus patrizia von brandenstein and karel černý albert brenner rick simpson the cotton club richard sylbert george gaines the natural mel bourne and angelo graham bruce weintraub passage to india john box hugh scaife out of africa stephen grimes josie macavin brazil norman garwood maggie gray the color purple michael riva and bo welch linda descenna ran yoshirō muraki and shinobu muraki witness stan jolley john anderson room with view gianni quaranta and brian ackland snow brian savegar and elio altramura aliens peter lamont crispian sallis the color of money boris leven karen hara hannah and her sisters stuart wurtzel carol joffe the mission stuart craig jack stephens the last emperor ferdinando scarfiotti bruno cesari and osvaldo desideri empire of the sun norman reynolds harry cordwell hope and glory anthony pratt joanne woollard radio days santo loquasto carol joffe leslie bloom and george detitta jr the untouchables patrizia von brandenstein and william elliott hal gausman dangerous liaisons stuart craig gérard james beaches albert brenner garrett lewis rain man ida random linda descenna tucker the man and his dream dean tavoularis armin ganz who framed roger rabbit elliot scott peter howitt batman anton furst peter young the abyss leslie dilley anne kuljian the adventures of baron munchausen dante ferretti francesca lo schiavo driving miss daisy bruno rubeo crispian sallis glory norman garwood garrett lewis year film art director set decorator rd dick tracy richard sylbert rick simpson cyrano de bergerac ezio frigerio jacques rouxel dances with wolves jeffrey beecroft lisa dean the godfather part iii dean tavoularis gary fettis hamlet dante ferretti francesca lo schiavo th bugsy dennis gassner nancy haigh barton fink dennis gassner nancy haigh the fisher king mel bourne cindy carr hook norman garwood garrett lewis the prince of tides paul sylbert caryl heller th howards end luciana arrighi ian whittaker bram stoker dracula thomas sanders garrett lewis chaplin stuart craig chris butler toys ferdinando scarfiotti linda descenna unforgiven henry bumstead janice blackie goodine th schindler list allan starski ewa braun addams family values ken adam marvin march the age of innocence dante ferretti robert franco orlando ben van os and jan roelfs the remains of the day luciana arrighi ian whittaker th the madness of king george ken adam carolyn scott bullets over broadway santo loquasto susan bode forrest gump rick carter nancy haigh interview with the vampire dante ferretti francesca lo schiavo legends of the fall lilly kilvert dorree cooper th restoration eugenio zanetti apollo michael corenblith merideth boswell babe roger ford kerrie brown little princess bo welch cheryl carasik richard iii tony burrough th the english patient stuart craig stephenie mcmillan the birdcage bo welch cheryl carasik evita brian morris philippe turlure hamlet tim harvey romeo juliet catherine martin brigitte broch th titanic peter lamont michael ford gattaca jan roelfs nancy nye kundun dante ferretti francesca lo schiavo confidential jeannine oppewall jay hart men in black bo welch cheryl carasik st shakespeare in love martin childs jill quertier elizabeth john myhre peter howitt pleasantville jeannine oppewall jay hart saving private ryan tom sanders lisa dean kavanaugh what dreams may come eugenio zanetti cindy carr nd sleepy hollow rick heinrichs peter young anna and the king luciana arrighi ian whittaker the cider house rules david gropman beth rubino the talented mr ripley roy walker bruno cesari topsy turvy eve stewart john bush year film art director set decorator rd crouching tiger hidden dragon timmy yip gladiator arthur max crispian sallis how the grinch stole christmas michael corenblith merideth boswell quills martin childs jill quertier vatel jean rabasse françoise benoît fresco th moulin rouge catherine martin brigitte broch amélie aline bonetto marie laure valla gosford park stephen altman anna pinnock harry potter and the sorcerer stone stuart craig stephenie mcmillan the lord of the rings the fellowship of the ring grant major dan hennah th chicago john myhre gordon sim frida felipe fernández del paso hania robledo gangs of new york dante ferretti francesca lo schiavo the lord of the rings the two towers grant major dan hennah and alan lee road to perdition dennis gassner nancy haigh th the lord of the rings the return of the king grant major dan hennah and alan lee girl with pearl earring ben van os cecile heideman the last samurai lilly kilvert gretchen rau master and commander the far side of the world william sandell robert gould seabiscuit jeannine oppewall leslie pope th the aviator dante ferretti francesca lo schiavo finding neverland gemma jackson trisha edwards lemony snicket series of unfortunate events rick heinrichs cheryl carasik the phantom of the opera anthony pratt celia bobak very long engagement aline bonetto th memoirs of geisha john myhre gretchen rau good night and good luck jim bissell jan pascale harry potter and the goblet of fire stuart craig stephenie mcmillan king kong grant major dan hennah and simon bright pride prejudice sarah greenwood katie spencer th pan labyrinth eugenio caballero pilar revuelta dreamgirls john myhre nancy haigh the good shepherd jeannine claudia oppewall gretchen rau and leslie rollins pirates of the caribbean dead man chest rick heinrichs cheryl carasik the prestige nathan crowley julie ochipinti th sweeney todd the demon barber of fleet street dante ferretti francesca lo schiavo american gangster arthur max beth rubino atonement sarah greenwood katie spencer the golden compass dennis gassner anna pinnock there will be blood jack fisk jim erickson st the curious case of benjamin button donald graham burt victor zolfo changeling james murakami gary fettis the dark knight nathan crowley peter lando the duchess michael carlin rebecca alleway revolutionary road kristi zea debra schutt nd avatar rick carter and robert stromberg kim sinclair the imaginarium of doctor parnassus dave warren and anastasia masaro caroline smith nine john myhre gordon sim sherlock holmes sarah greenwood katie spencer the young victoria patrice vermette maggie gray year film production designer set decorator rd alice in wonderland robert stromberg karen hara harry potter and the deathly hallows part stuart craig stephenie mcmillan inception guy hendrix dyas larry dias and doug mowat the king speech eve stewart judy farr true grit jess gonchor nancy haigh th hugo dante ferretti francesca lo schiavo the artist laurence bennett robert gould harry potter and the deathly hallows part stuart craig stephenie mcmillan midnight in paris anne seibel hélène dubreuil war horse rick carter lee sandales th lincoln rick carter jim erickson anna karenina sarah greenwood katie spencer the hobbit an unexpected journey dan hennah ra vincent and simon bright les misérables eve stewart anna lynch robinson life of pi david gropman anna pinnock th the great gatsby catherine martin beverley dunn years slave adam stockhausen alice baker american hustle judy becker heather loeffler gravity andy nicholson rosie goodwin and joanne woollard her barrett gene serdena th the grand budapest hotel adam stockhausen anna pinnock the imitation game maria djurkovic tatiana macdonald interstellar nathan crowley gary fettis into the woods dennis gassner anna pinnock mr turner suzie davies charlotte watts th mad max fury road colin gibson lisa thompson bridge of spies adam stockhausen rena deangelo and bernhard henrich the danish girl eve stewart michael standish the martian arthur max celia bobak the revenant jack fisk hamish purdy th la la land david wasco sandy reynolds wasco arrival patrice vermette paul hotte fantastic beasts and where to find them stuart craig anna pinnock hail caesar jess gonchor nancy haigh passengers guy hendrix dyas gene serdena th the shape of water paul denham austerberry shane vieau and jeff melvin beauty and the beast sarah greenwood katie spencer blade runner dennis gassner alessandra querzola darkest hour sarah greenwood katie spencer dunkirk nathan crowley gary fettis st black panther hannah beachler jay hart the favourite fiona crombie alice felton first man nathan crowley kathy lucas mary poppins returns john myhre gordon sim roma eugenio caballero bárbara enrı quez nd once upon time in hollywood barbara ling nancy haigh the irishman bob shaw regina graves jojo rabbit ra vincent nora sopková dennis gassner lee sandales parasite lee ha jun cho won woo year film production designer set decorator rd mank donald graham burt jan pascale the father peter francis cathy featherstone ma rainey black bottom mark ricker karen hara and diana stoughton news of the world david crank elizabeth keenan tenet nathan crowley kathy lucas th dune patrice vermette zsuzsanna sipos nightmare alley tamara deverell shane vieau the power of the dog grant major amber richards the tragedy of macbeth stefan dechant nancy haigh west side story adam stockhausen rena deangelo th all quiet on the western front christian goldbeck ernestine hipper avatar the way of water dylan cole and ben procter vanessa cole babylon florencia martin anthony carlino elvis catherine martin and karen murphy bev dunn the fabelmans rick carter karen hara th poor things james price and shona heath zsuzsa mihalek barbie sarah greenwood katie spencer killers of the flower moon jack fisk adam willis napoleon arthur max elli griff oppenheimer ruth de jong claire kaufman see also bafta award for best production design critics choice movie award for best production design list of academy award nominated films individuals with multiple wins wins cedric gibbons wins edwin willis wins richard day wins thomas little walter scott wins lyle wheeler wins john box samuel comer keogh gleason george james hopkins wins edward carfagno stuart craig william darling john decuir vernon dixon hans dreier dante ferretti paul fox alexander golitzen paul groesse john meehan ray moyer francesca lo schiavo jack martin smith wins ken adam preston ames herman blumenthal henry bumstead donald graham burt gene callahan rick carter george davis leslie dilley michael ford george gaines russell gausman nancy haigh harry horner william horning hugh hunt wiard ihnen emile kuri terence marsh catherine martin william cameron menzies urie mccleary john myhre gil parrondo robert priestley stuart reiss norman reynolds dario simoni robert stromberg richard sylbert joseph wright peter young notes references\n",
            "the academy awards of merit commonly known as the oscars or academy awards are awards for artistic and technical merit given for excellence within the american and international film industry they are presented annually by the academy of motion picture arts and sciences ampas in the united states in recognition of excellence in cinematic achievements as assessed by the academy voting membership the oscars are widely considered to be the most prestigious awards in the film industry the major award categories are presented during live televised hollywood ceremony in february or march it is the oldest worldwide entertainment awards ceremony the st academy awards were held in the second ceremony in was the first one broadcast by radio the ceremony was the first one televised it is the oldest of the four major annual american entertainment awards its equivalents the emmy awards for television the tony awards for theater and the grammy awards for music are modeled after the academy awards the oscar statuette depicts knight rendered in the art deco style history the first academy awards presentation was held on may at private dinner function at the hollywood roosevelt hotel with an audience of about people the post awards party was held at the mayfair hotel the cost of guest tickets for that night ceremony was at prices fifteen statuettes were awarded honoring artists directors and other participants in the film making industry of the time for their works during the period the ceremony ran for minutes for this first ceremony winners were announced to the media three months earlier for the second ceremony in and the rest of the first decade the results were given to newspapers for publication at pm on the night of the awards in the los angeles times announced the winners before the ceremony began as result in the academy started using sealed envelope to reveal the names of the winners the term oscar is registered trademark of the ampas in the italian language it is used generically to refer to any award or award ceremony regardless of which field milestones the first best actor awarded was emil jannings for his performances in the last command and the way of all flesh he had to return to europe before the ceremony so the academy agreed to give him the prize earlier this made him the first academy award winner in history at that time winners were recognized for the entirety of their work done in certain category during the qualifying period for example jannings received the award for two movies in which he starred during that period and janet gaynor later won single oscar for performances in three films with the fourth ceremony the system changed and professionals were honored for specific performance in single film for the first six ceremonies the eligibility period spanned two calendar years at the th ceremony held in the best foreign language film category now known as best international feature film was introduced until then foreign language films had been honored with the special achievement award perhaps the most widely seen streaker in history was year old robert opel who streaked across the stage of the dorothy chandler pavilion in los angeles flashing peace sign on national us television at the th academy awards in bemused host david niven quipped isn it fascinating to think that probably the only laugh that man will ever get in his life is by stripping off and showing his shortcomings later evidence arose suggesting that opel appearance was facilitated as publicity stunt by the show producer jack haley jr robert metzler the show business manager believed that the incident had been planned in some way during the dress rehearsal niven had asked metzler wife to borrow pen so he could write down the famous line which was thus not the ad lib it appeared to be the th academy awards held in presented the first academy award for best animated feature since all academy awards ceremonies except for have ended with the academy award for best picture traditionally the previous year winners for best actor and best supporting actor present the awards for best actress and best supporting actress respectively the previous year winners for best actress and best supporting actress present the awards for best actor and best supporting actor on february parasite became the first foreign language film to win best picture at the nd academy awards that same evening tom hanks announced the opening of the academy museum of motion pictures originally slated for december the museum development started in under kerry brougher but is now led by bill kramer the industry curated exhibits are geared toward the history of motion pictures and the art science of film making exhibiting trailblazing directors actors film makers sound editors and more and the museum houses famous artifacts from acclaimed movies such as dorothy ruby red slippers from the wizard of oz the rd academy awards ceremony honoring the best films of and early was held on april after it was postponed from its original february schedule due to the impact of the covid pandemic on cinema as with the two previous ceremonies there was no host the ceremony was broadcast on abc it took place at the dolby theatre in los angeles california for the th consecutive year along with satellite location taking place at the union station also in los angeles because of the virus impact on films and tv industries academy president david rubin and ceo dawn hudson announced that for the oscar ceremony streaming movies with previously planned theatrical release were eligible the theatrical requirement was reinstated starting with the th academy awards oscar statuette overview the oscar statuette officially the academy award of merit is given to winners of each year awards made of gold plated bronze on black metal base it is in cm tall weighs lb kg and depicts knight rendered in art deco style holding sword standing on reel of film with five spokes the five spokes represent the original branches of the academy actors writers directors producers and technicians ru sculptor george stanley who also did the muse fountain at the hollywood bowl sculpted cedric gibbons design the statuettes presented at the initial ceremonies were gold plated solid bronze within few years the bronze was abandoned in favor of britannia metal pewter like alloy which is then plated in copper nickel silver and finally karat gold due to metal shortage during world war ii oscars were made of painted plaster for three years following the war the academy invited recipients to redeem the plaster figures for gold plated metal ones the only addition to the oscar since it was created is minor streamlining of the base the original oscar mold was cast in at the shumway sons foundry in batavia illinois which also contributed to casting the molds for the vince lombardi trophy and emmy award statuettes from to approximately oscars in tin alloy with gold plating were made each year in chicago by illinois manufacturer owens company it would take between three and four weeks to manufacture statuettes in the academy returned to bronze as the core metal of the statuettes handing manufacturing duties to walden new york based polich tallix fine art foundry now owned and operated by uap urban art projects while based on digital scan of an original oscar the statuettes retain their modern era dimensions and black pedestal cast in liquid bronze from printed ceramic molds and polished they are then electroplated in karat gold by brooklyn new york based epner technology the time required to produce such statuettes is roughly three months owens is expected to continue producing other awards for the academy and service existing oscars that need replating naming the origin of the nickname of the trophy has been disputed as multiple people have taken credit for naming the trophy oscar margaret herrick librarian and president of the academy may have said she named it after her supposed uncle oscar in the only corroboration was clipping from the los angeles examiner in which herrick told story of her and her husband joking with each other using the phrase how your uncle oscar bette davis in her autobiography claimed she named it in after her first husband harmon oscar nelson of whom the statue rear end reminded her but the term had been in use at least two years before in biography written by whitney stine with commentary from davis davis wrote relinquish once and for all any claim that was the one so academy of motion picture arts and sciences the honor is all yours columnist sidney skolsky wrote in his memoir that he came up with the term in under pressure for deadline mocking vaudeville comedians who asked will you have cigar oscar the academy credits skolsky with the first confirmed newspaper reference to oscar in his column on march which was written about that year th academy awards but in the newspaper clipping that skolsky referred to he wrote that these statues are called oscars meaning that the name was already in use bruce davis former executive director of the academy credited eleanore lilleberg secretary at the academy when the award was first introduced for the nickname she had overseen the pre ceremony handling of the awards davis credits lilleberg because he found in an autobiography of einar lilleberg eleanore brother that einar had referenced norwegian army veteran named oscar that the two knew in chicago whom einar described as having always stood straight and tall he asserts credit should almost certainly belong to lilleberg in brazilian researcher dr waldemar dalenogare neto found the probable first public mention of the name oscar in journalist relman morin cinematters column in the los angeles evening post record on december since the awards didn take place that year he said what happened to the annual academy banquet as rule the banquet and the awarding of oscar the bronze statuette given for best performances is all over long before this this information changes the version of sidney skolsky as the first to publicly mention the name engraving to prevent information identifying the oscar winners from leaking ahead of the ceremony oscar statuettes presented at the ceremony have blank baseplates until winners returned their statuettes to the academy and had to wait several weeks to have their names inscribed on their respective oscars since winners have had the option of having engraved nameplates applied to their statuettes at an inscription processing station at the governor ball party held immediately after the oscar ceremony the owens company has engraved nameplates made before the ceremony bearing the name of every potential winner the nameplates for the non winning nominees are later recycled ownership of oscar statuettes prior to oscar statuettes were and remain the property of the recipient since then the statuettes have been legally encumbered by the requirement that the statuette be first offered for sale back to the academy for us if winner refuses to agree to this stipulation then the academy keeps the statuette academy awards predating this agreement have been sold in public auctions and private deals for six figure sums in michael todd grandson tried to sell todd best picture oscar for his production of around the world in days to movie prop collector the academy earned enforcement of its statuette contract by gaining permanent injunction against the sale in harold russell consigned his oscar for best supporting actor for the best years of our lives to auction to raise money for his wife medical expenses though his decision caused controversy the first oscar ever to be sold passed to private collector on august for today russell defended his action saying don know why anybody would be critical my wife health is much more important than sentimental reasons the movie will be here even if oscar isn in december orson welles oscar for citizen kane academy award for best original screenplay was put up for auction after his heirs won court decision contending that welles did not sign any agreement to return the statue to the academy on december it sold in an online auction for us today some buyers have subsequently returned the statuettes to the academy which keeps them in its treasury other awards presented by the academy in addition to the academy award of merit oscar award there are nine honorary non competitive awards presented by the academy from time to time except for the academy honorary award the technical achievement award and the student academy awards which are presented annually governors awards the academy honorary award annual which may or may not be in the form of an oscar statuette the irving thalberg memorial award since in the form of bust of thalberg the jean hersholt humanitarian award since in the form of an oscar statuette the academy scientific and technical awards academy award of merit non competitive in the form of an oscar statuette scientific and engineering award in the form of bronze tablet technical achievement award annual in the form of certificate the john bonner medal of commendation since in the form of medal the gordon sawyer award since and the academy student academy awards annual the academy also awards nicholl fellowships in screenwriting nomination from to the academy award nomination results were announced to the public in mid january prior to that the results were announced in early february in the nominees were announced in march in the nominees were announced in early february for the first time since voters the academy of motion picture arts and sciences ampas professional honorary organization maintains voting membership of academy membership is divided into different branches with each representing different discipline in film production actors constitute the largest bloc numbering of the voting body votes have been certified by the auditing firm and its predecessor price waterhouse since the th academy awards in in may the academy sent letter advising its or so voting members that an online system for oscar voting would be implemented in replacing mailed paper ballots all ampas members must be invited to join by the board of governors on behalf of academy branch executive committees membership eligibility may be achieved by competitive nomination or an existing member may submit name based on other significant contributions to the field of motion pictures new membership proposals are considered annually the academy does not publicly disclose its membership although as recently as press releases have announced the names of those who have been invited to join in the results of study conducted by the los angeles times were published describing the demographic breakdown of approximately of ampas voting membership of the active voters confirmed were caucasian were male and were found to be over the age of of voting members are former nominees and winners in the academy launched an initiative to expand its membership and increase diversity in voting membership stood at rules according to rules and of the official academy awards rules film must open in the previous calendar year from midnight at the start of january to midnight at the end of december in los angeles county california and play for seven consecutive days to qualify except for the best international feature film best documentary feature and awards in short film categories the film must be shown at least three times on each day of its qualifying run with at least one of the daily showings starting between pm and pm local time for example the best picture winner the hurt locker was originally first released in but did not qualify for the awards as it did not play its oscar qualifying run in los angeles until mid thus qualifying for the awards foreign films must include english subtitles each country can submit only one film for consideration in the international feature film category per year rule states that film must be feature length defined as minimum of minutes except for short subject awards it must exist either on mm or mm film print or in frame or frame progressive scan digital cinema format with minimum projector resolution of by pixels since the th academy awards presented in multi part and limited series have been ineligible for the best documentary feature award this followed the win of made in america an eight hour presentation that was screened in limited release before being broadcast in five parts on abc and espn in that category in the academy announcement of the new rule made no direct mention of that film the best international feature film award does not require release it requires the film to be submitted as its country official selection the best documentary feature award requires either week long releases in both los angeles county and any of the five boroughs of new york city during the previous calendar year or qualifying award at competitive film festival from the documentary feature qualifying festival list regardless of any public exhibition or distribution or submission in the international feature film category as its country official selection the qualifying theatrical runs must meet the same requirements as those for non documentary films regarding numbers and times of screenings film must have been reviewed by critic from the new york times time out new york the los angeles times or la weekly producers must submit an official screen credits online form before the deadline in case it is not submitted by the defined deadline the film will be ineligible for academy awards in any year the form includes the production credits for all related categories then each form is checked and put in reminder list of eligible releases awards in short film categories best documentary short subject best animated short film and best live action short film have noticeably different eligibility rules from most other competitive awards first the qualifying period for release does not coincide with calendar year instead covering one year starting on october and ending on september of the calendar year before the ceremony second there are multiple methods of qualification the main method is week long theatrical release in either new york city or los angeles county during the eligibility period films also can qualify by winning specified awards at one of several competitive film festivals designated by the academy also without regard to prior public distribution film that is selected as gold silver or bronze medal winner in an appropriate category of the immediately previous student academy awards is also eligible documentary category for that award and animation narrative alternative or international for the other awards the requirements for the qualifying theatrical run are also different from those for other awards only one screening per day is required for the documentary award the screening must start between noon and pm local time for other awards no specific start time is required but the film must appear in regular theater listings with dates and screening times in late december ballots and copies of the reminder list of eligible releases are mailed to around active members for most categories members from each of the branches vote to determine the nominees only in their respective categories only directors vote for directors writers for writers actors for actors etc in the special case of best picture all voting members are eligible to select the nominees in all major categories variant of the single transferable vote is used with each member casting ballot with up to five nominees ten for best picture ranked preferentially in certain categories including international feature film documentary and animated feature nominees are selected by special screening committees made up of members from all branches in most categories the winner is selected from among the nominees by plurality voting of all members since the best picture winner has been chosen by instant runoff voting since re weighted range voting has been used to select the nominees for the best visual effects film companies will spend as much as several million dollars on marketing to awards voters for movie in the running for best picture in attempts to improve chances of receiving oscars and other movie awards conferred in oscar season the academy enforces rules to limit overt campaigning by its members to try to eliminate excesses and prevent the process from becoming undignified it has an awards czar on staff who advises members on allowed practices and levies penalties on offenders for example producer of the best picture nominee the hurt locker was disqualified as producer in the category when he contacted associates urging them to vote for his film and not another that was seen as the front runner the hurt locker eventually won academy screening room the academy screening room or academy digital screening room is secure streaming platform which allows voting members of the academy to view all eligible films except initially those in the international category in one place it was introduced in for the oscars dvd screeners and academy in person screenings were still provided for films to be included on the platform the north american distributor must pay including watermarking fee and digital copy of the film to be prepared for streaming by the academy the platform can be accessed via apple tv and roku players the watermarking process involved several video security firms creating forensic watermark and restricting the ability to take screenshots or screen recordings in for the oscars the academy banned all physical screeners and in person screenings restricting official membership viewing to the academy screening room films eligible in the documentary and international categories were made available in different sections of the platform distributors can also pay an extra fee to add video featurettes to promote their films on the platform the in person screenings were said to be cancelled because of the covid pandemic eligible films do not have to be added to the platform but the academy advertises them to voting members when they are awards ceremonies telecast the st academy awards hollywood pantages theatre the st academy awards dolby theatre the th academy awards dolby theatre the major awards are presented at live televised ceremony commonly in late february or early march following the relevant calendar year and six weeks after the announcement of the nominees it is the culmination of the film awards season which usually begins during november or december of the previous year this is an elaborate extravaganza with the invited guests walking up the red carpet in the creations of the most prominent fashion designers of the day black tie dress is the most common outfit for men fashion may dictate not wearing bow tie and musical performers are sometimes not required to adhere to this the artists who recorded the nominees for best original song quite often perform those songs live at the awards ceremony and the fact that they are performing is often used to promote the television broadcast the academy awards is the world longest running awards show televised live from the united states to all time zones in north america and worldwide and gathers billions of viewers elsewhere throughout the world the oscars were first televised in by nbc which continued to broadcast the event until when abc took over televising the festivities including the first color broadcast of the event in to nbc regained the rights for five years then abc resumed broadcast duties in and its current contract with the academy runs through the academy has produced condensed versions of the ceremony for broadcast in international markets especially those outside of the americas in more desirable local timeslots the ceremony was broadcast live internationally for the first time via satellite since but only two south american countries chile and brazil purchased the rights to air the broadcast by that time the television rights to the academy awards had been sold in countries in the rights were sold to countries and by the television rights to the academy awards were licensed in countries in the ceremonies were moved up from late march early april to late february to help disrupt and shorten the intense lobbying and ad campaigns associated with oscar season in the film industry another reason was because of the growing television ratings success coinciding with the ncaa division men basketball tournament which would cut into the academy awards audience in and abc regained oscars were moved from tuesday to monday and went directly opposite the national championship game on nbc the earlier date is also to the advantage of abc as it now usually occurs during the highly profitable and important february sweeps period some years the ceremony is moved into the first sunday of march to avoid clash with the winter olympic games another reason for the move to late february and early march is to avoid the awards ceremony occurring so close to the religious holidays of passover and easter which for decades had been grievance from members and the general public advertising is somewhat restricted as traditionally no movie studios or competitors of official academy award sponsors may advertise during the telecast as of the production of the academy awards telecast held the distinction of winning one the highest number of emmys in history with wins and nominations overall after many years of being held on mondays at pacific pm eastern since the ceremonies it was moved to sundays at pm pt pm et the reasons given for the move were that more viewers would tune in on sundays that los angeles rush hour traffic jams could be avoided and an earlier start time would allow viewers on the east coast to go to bed earlier for many years the film industry opposed sunday broadcast because it would cut into the weekend box office in the academy contemplated moving the ceremony even further back into january citing television viewers fatigue with the film industry long awards season however such an accelerated schedule would dramatically decrease the voting period for its members to the point where some voters would only have time to view the contending films streamed on their computers as opposed to traditionally receiving the films and ballots in the mail furthermore january ceremony on sunday would clash with national football league nfl playoff games in the academy announced that the ceremony would be moved from late february to mid february beginning with the nd academy awards in in the ceremony was moved to an even earlier start time of pm pt et the apparent impetus being the ability for abc to air half hour of primetime programming as lead out program at pt et originally scheduled for april the th academy awards ceremony was postponed for two days because of the assassination of dr martin luther king jr on march the rd academy awards was postponed for one day after the attempted assassination of president ronald reagan and others in washington in an in memoriam segment was introduced honoring those who had made significant contribution to cinema who had died in the preceding months selection compiled by small committee of academy members this segment has drawn criticism over the years for the omission of some names criticism was also levied for many years regarding another aspect with the segment having popularity contest feel as the audience varied their applause to those who had died by the subject cultural impact the applause has since been muted during the telecast and the audience is discouraged from clapping during the segment and giving silent reflection instead this segment was later followed by commercial break in terms of broadcast length the ceremony generally averages three and half hours the first oscars in lasted minutes at the other end of the spectrum the ceremony lasted four hours and twenty three minutes in the organizers of the academy awards announced winners acceptance speeches must not run past seconds this according to organizer bill mechanic was to ensure the elimination of what he termed the single most hated thing on the show overly long and embarrassing displays of emotion in in further effort to streamline speeches winners dedications were displayed on an on screen ticker during the ceremony host jimmy kimmel acknowledged how long the ceremony had become by announcing that he would give brand new jet ski to whoever gave the shortest speech of the night reward won by mark bridges when accepting his best costume design award for phantom thread the wall street journal analyzed the average minutes spent across the telecasts as follows on song performances on the hosts speeches on prerecorded clips and on the awards themselves broken into on the introduction and announcement on winners walking to the stage and on their acceptance speeches although still dominant in ratings the viewership of the academy awards has steadily dropped the th academy awards were the lowest rated in the past eight years although with increases in male and viewership while the show itself also faced mixed reception following the show variety reported that abc was in negotiating an extension to its contract to broadcast the oscars seeking to have more creative control over the broadcast itself currently and nominally ampas is responsible for most aspects of the telecast including the choice of production staff and hosting although abc is allowed to have some input on their decisions in august ampas extended its contract with abc to the contract neither contains any notable changes nor gives abc any further creative control over the telecast tv ratings historically the telecast viewership is higher when box office hits are favored to win the best picture award more than million viewers tuned to the telecast for the th academy awards in the year of titanic which generated box office haul during its initial run of us million in the us box office record that would remain unsurpassed for years the th academy awards ceremony in which the lord of the rings the return of the king pre telecast box office earnings of us million received awards including best picture drew million viewers the most watched ceremony based on nielsen ratings to date was the nd academy awards best picture midnight cowboy which drew household rating on april hoping to reinvigorate the pre show and ratings the oscars organizers hired members of the met gala creative team by contrast ceremonies honoring films that have not performed well at the box office tend to show weaker ratings despite how much critical acclaim those films have received the th academy awards which awarded low budget independent film crash with pre oscar gross of us million generated an audience of million with household rating of in the th academy awards telecast was watched by million viewers on average with an household rating the lowest rated and least watched ceremony at the time in spite of celebrating years of the academy awards the best picture winner of that particular ceremony was another independent film this time the coen brothers no country for old men academy awards viewership in millions whereas the nd academy awards drew an average of million viewers the rd academy awards drew an even lower viewership of million the lowest viewership recorded by nielsen since it started recording audience totals in the th and th editions drew and million viewers respectively still below the audience of the nd edition archive the academy film archive holds copies of every academy awards ceremony since the oscars as well as material on many prior ceremonies along with ancillary material related to more recent shows copies are held in variety of film video and digital formats venues in the first academy awards were presented at banquet dinner at the hollywood roosevelt hotel from to the ceremony alternated between two venues the ambassador hotel on wilshire boulevard and the biltmore hotel in downtown los angeles grauman chinese theatre in hollywood then hosted the awards from to followed by the shrine auditorium in los angeles from to the st academy awards in were held at the academy award theatre at what had been the academy headquarters on melrose avenue in hollywood from to the awards were presented at hollywood pantages theatre with the advent of television the awards from to took place simultaneously in hollywood and new york first at the nbc international theatre and then at the nbc century theatre after which the ceremony took place solely in los angeles in the oscars moved to the santa monica civic auditorium in santa monica california in the academy moved the ceremonies back to downtown los angeles to the dorothy chandler pavilion at the los angeles county music center in the late and early the ceremony returned to the shrine auditorium in hollywood dolby theatre previously known as the kodak theatre became the presentation current venue categories current categories list of current awards of merit categories by year introduced sortable by category year introduced category best picture best director best actor best actress best cinematography best production design best adapted screenplay best sound best animated short film best live action short film best film editing best original score best original song best supporting actor best supporting actress best visual effects best original screenplay best documentary short film best documentary feature film best international feature film best costume design best makeup and hairstyling best animated feature film best casting in the first year of the awards the best directing award was split into two categories drama and comedy at times the best original score award has also been split into separate categories drama and comedy musical from the to the the art direction now production design cinematography and costume design awards were split into two categories black and white films and color films prior to the production design award was called art direction while the makeup and hairstyling award was called makeup in august the academy announced that several categories would not be televised live but recorded during commercial breaks and aired later in the ceremony following dissent from academy members they announced that they would air all categories live this followed several proposals among them the introduction of popular film category that the academy had announced but did not implement discontinued categories list of discontinued awards of merit categories by year introduced sortable by category year introduced year discontinued category best director comedy picture best director dramatic picture best engineering effects best title writing best unique and artistic production best original story best short subject comedy best short subject novelty best assistant director best dance direction best short subject reel best short subject reel best short subject color best sound editing best original musical or comedy score proposed categories the board of governors meets each year and considers new award categories to date the following categories have been proposed best casting rejected in will be implemented for the ceremony best popular film proposed in for presentation at the ceremony postponed until the ceremony at the earliest yet to be implemented best stunt coordination rejected every year from to best title design rejected in special categories the special academy awards are voted on by special committees rather than by the academy membership as whole they are not always presented on an annual basis current special categories academy honorary award since academy scientific and technical award three different awards since gordon sawyer award since jean hersholt humanitarian award since irving thalberg memorial award since academy special achievement award from to and again for discontinued special categories academy juvenile award to criticism and controversies accusations of commercialism due to the positive exposure and prestige of the academy awards many studios spend around million dollars and hire publicists specifically to promote their films during what is typically called the oscar season this has generated accusations of the academy awards being influenced more by marketing and lobbying than by quality william friedkin an academy award winning film director and former producer of the ceremony expressed this sentiment at conference in new york in describing it as the greatest promotion scheme that any industry ever devised for itself tim dirks editor of amc filmsite has written of the academy awards recent technique that has been claimed to be used during the oscar season is the whisper campaign these campaigns are intended to spread negative perceptions of other movies nominated and are believed to be perpetrated by those who were involved in creating the movie examples of whisper campaigns include the allegations against zero dark thirty suggesting that it justifies torture and the claim that lincoln distorts history accusations of bias typical criticism of the academy awards for best picture is that among the winners and nominees there is an over representation of romantic historical epics biographical dramas romantic dramedies and family melodramas most of which are released in the in the last three months of the calendar year the oscars have been infamously known for selecting specific genres of movies to be awarded the term oscar bait was coined to describe such movies this has led at times to more specific criticisms that the academy is disconnected from the audience by favoring oscar bait over audience favorites or favoring historical melodramas over critically acclaimed movies that depict current life issues despite the success of the dark knight the film did not receive best picture nomination at the st academy awards this decision received substantial criticism and was described as snub by many publications the backlash to the decision was such that for the nd academy awards awards in the academy increased the limit for best picture nominees from five to ten change known as the dark knight rule allegations of lack of diversity the academy awards have long received criticism over its lack of diversity among the nominees this criticism is based on the statistics from every academy awards since which show that only of academy award nominees have been non white and since of nominees have been non white with the rate of winners being even more polarizing for variety of reasons including marketability and historical bans on interracial couples number of high profile oscars have been given to yellowface portrayals as well as performances of asian characters rewritten for white characters it took until for an asian woman to win an academy award for best actress when michelle yeoh received the award for her performance in everything everywhere all at once the th awards ceremony became the target of boycott popularized on social media with the hashtag oscarssowhite based on activists perception that its all white acting nominee list reflected bias in response the academy initiated historic changes in membership by some media critics claim the academy efforts to address its purported racial gender and national biases are merely distractions by contrast the golden globe awards already have multiple winners of asian descent in leading actress categories some question whether the academy definition of merit is just or empowering for non americans the academy representation and inclusion standards have been criticized for excluding jews as distinct class of actors the academy has no rules for how to categorize whether performance is leading or supporting and it is up to the discretion of the studios whether given performance is submitted for either best actor actress or best supporting actor actress this has led to situations where film has two or more co leads and one of these is submitted in supporting category to avoid the two leads competing against each other and to increase the film chances of winning this practice has been derisively called category fraud for example rooney mara was nominated for best supporting actress for carol despite her having comparable amount of screentime to cate blanchett who was nominated for best actress another example is once upon time in hollywood where brad pitt was nominated for and won best supporting actor even though he played an equally important role to best actor nominee leonardo dicaprio in both these cases critics argued that the weinstein company the studio behind the former film had placed someone who was actually leading actor or actress into the supporting categories to avoid them competing against their co lead symbolism or acting prizes in certain years have been criticized for not recognizing superior performances so much as being awarded for personal popularity to make up for snub for work that proved in time to be more popular or renowned than the one awarded or presented as career honor to recognize distinguished nominee entire body of work recognition of streaming media film following the st academy awards in february in which the netflix broadcast film roma had been nominated for ten awards including the best picture category steven spielberg and other members of the academy discussed changing the requirements through the board of governors for films as to exclude those from netflix and other media streaming services spielberg had been concerned that netflix as movie production and distribution studio could spend much more than for typical oscar winning films and have much wider and earlier distribution than for other best picture nominated films while still being able to meet the minimal theatrical run status to qualify for an oscar the united states department of justice having heard of this potential rule change wrote letter to the academy in march cautioning them that placing additional restrictions on films that originate from streaming media services without proper justification could raise anti trust concerns against the academy following its april board meeting the academy board of governors agreed to retain the current rules that allow for streaming media films to be eligible for oscars as long as they enjoy limited theatrical runs chris rock and will smith slapping incident during the th academy awards on march chris rock joked about jada pinkett smith shaved head with jane reference will smith walked onstage and slapped rock across the face then returned to his seat and told rock twice to keep my wife name out of your fucking mouth while later accepting the best actor award for king richard smith apologized to the academy and the other nominees but not to rock rock decided not to press charges against smith on april the academy made an announcement via letter sent by president david rubin and ceo dawn hudson informing the public that will smith had received ten year ban from attending the oscars as result of the incident refusals of the award some winners critical of the academy awards have boycotted the ceremonies and refused to accept their oscars the first to do so was screenwriter dudley nichols best writing in for the informer nichols boycotted the th academy awards ceremony because of conflicts between the academy and the writers guild nichols eventually accepted the award three years later at the ceremony nichols was nominated for three further academy awards during his career george scott became the second person to refuse his award best actor in for patton at the rd academy awards ceremony scott described it as meat parade saying don want any part of it the third person to refuse the award was marlon brando who refused his award best actor for the godfather citing the film industry discrimination against and mistreatment of native americans at the th academy awards ceremony brando asked actress and civil rights activist sacheen littlefeather to read page speech in his place detailing his criticisms for which there was booing and cheering by the audience in littlefeather was accused by her sisters of misrepresenting her ancestry as native american seven films have had nominations revoked before the official award ceremony the circus the film was voluntarily removed by the academy from competitive categories to award charlie chaplin special award hondo removed from the best story ballot after letters from the producer and nominee questioned its inclusion in the category high society withdrawn from screenwriting ballot after being mistaken for the movie of the same title the godfather initially nominated for eleven awards its nomination for best original score was revoked after it was discovered that its main theme was very similar to music that the score composer had written for an earlier film none of its other nominations were revoked and it received three oscars including best picture place in the world removed from the best foreign language film ballot after it was discovered that the country which submitted the film exercised insufficient artistic control alone yet not alone the film title song alone yet not alone was removed from the best original song ballot after bruce broughton was found to have improperly contacted other members of the academy musical branch this was the first time that film was removed from ballot for ethical reasons hours the secret soldiers of benghazi sound mixer greg russell nomination was rescinded one day before the awards when it was discovered he had improperly contacted voters by telephone in this case the nominations for the other three nominated sound mixers gary summers jeffrey haboush and mac ruth were allowed to stand one film was disqualified after winning the award and had the winner return the oscar young americans initially won the award for best documentary feature but was later revoked after it was revealed that it had opened theatrically prior to the eligibility period one film had its nomination revoked after the award ceremony when it had not won the oscar tuba atlantic its nomination for best live action short film was revoked when it was discovered that the film had aired on television in before its theatrical release remarks about animated films as children genre at the th academy awards in the award for the best animated feature was presented by three actresses who portrayed disney princess characters in live action remakes of their respective animated films lily james cinderella naomi scott aladdin and halle bailey the little mermaid while introducing the category bailey stated that animated films are formative experiences as kids who watch them as james put it so many kids watch these movies over and over over and over again scott added see some parents who know exactly what we re talking about the remarks were heavily criticized by animation fans and those working in the animation industry as infantilizing the medium and perpetuating the stigma that animated works are strictly for children especially since the industry was credited with sustaining the flow of hollywood content and revenue during the height of the covid pandemic phil lord co producer of one of the nominated films the mitchells vs the machines tweeted that it was super cool to position animation as something that kids watch and adults have to endure the film official social media accounts responded to the joke with an image reading animation is cinema week later lord and his producing partner christopher miller wrote guest column in variety criticizing the academy for the joke and how hollywood has treated animation writing that no one set out to diminish animated films but it high time we set out to elevate them they also suggested to the academy that the category should be presented by filmmaker who respects the art of animation as cinema adding to the controversy was that the award for best animated short film the nominees for which were mostly made up of shorts not aimed at children was one of the eight categories that were not presented during the live broadcast the winner for the best animated short award was the windshield wiper multilingual spanish american film which is adult animated while another nominee in three categories best animated feature best documentary feature film and best international feature film was flee pg rated animated documentary about an afghan refugee alberto mielgo director of the windshield wiper later gave an acceptance speech for the oscar animation is an art that includes every single art that you can imagine animation for adults is fact it happening let call it cinema very honored because this is just the beginning of what we can do with animation some speculations suggested that the speech played role in the decision not to broadcast the award another factor is that numerous animated films have been made for mature audiences or with ranges of pg or more with few of them the triplets of belleville persepolis chico and rita the wind rises anomalisa my life as courgette the breadwinner loving vincent isle of dogs lost my body and flee having been nominated in this category with the boy and the heron being the first adult animated film in this case pg rated to win in the th academy awards these comments came as newdeal animation movement of animation workers demanding equal pay treatment and recognition alongside their contemporaries working in live action was picking up momentum during negotiations for new contract between the animation guild iatse local sag aftra and the alliance of motion picture and television producers and the presentation is being used to rally the movement during the th academy awards in host jimmy kimmel said please raise your hand if you let your kid fill out this part of the ballot these remarks would again prompt backlash with christopher miller producer of that year nominated spider man across the spider verse tweeting out that the joke was tired and lazy the pg rated the boy and the heron would subsequently win the award associated events the following events are closely associated with the annual academy awards governors awards which include the presentation of the academy honorary award the jean hersholt humanitarian award and the irving thalberg memorial award the th independent spirit awards usually held in santa monica california the saturday before the oscars marked the first time it was moved to friday and change of venue to live the annual night before traditionally held at the beverly hills hotel begun in and generally known as the party of the season benefits the motion picture television fund which operates retirement home for sag actors in the san fernando valley elton john aids foundation academy award party airs the awards live at the nearby pacific design center the governors ball is the academy official after party including dinner until and is adjacent to the awards presentation venue the vanity fair after party historically at the former morton restaurant has been at the sunset tower since presenter and performer gifts it has become tradition to give out gift bags to the presenters and performers at the oscars in recent years these gifts have been extended to award nominees and winners the value of each of these gift bags can reach into the tens of thousands of dollars in the value was reported to be as high as us the value has risen to the point where the internal revenue service issued statement regarding the gifts and their taxable status oscar gift bags have included vacation packages to hawaii and mexico and japan private dinner party for the recipient and friends at restaurant videophones four night stay at hotel watches bracelets spa treatments bottles of vodka maple salad dressing weight loss gummie candy and up to worth of cosmetic treatments and rejuvenation procedures such as lip fillers and chemical peels from new york city facial plastic surgeon konstantin vasyukevich some of the gifts have even had risque element to them in the adult products retailer adam eve had secret room gifting suite celebrities visiting the gifting suite included judith hoag carolyn hennesy kate linder chris mulkey jim heir and john salley television ratings and advertisement prices from onwards results are live sd all previous years are live viewing year viewers millions ad price usd millions adjusted price usd millions tba not available not available not available not available not available not available not available not available not available not available not available not available not available not available not available not available not available not available not available not available not available not available not available not available not available not available not available not available not available not available not available not available not available not available not available not available notable highest wins and nominees by films the following nominees received at least nominations nominations title all about eve titanic la la land gone with the wind from here to eternity mary poppins who afraid of virginia woolf forrest gump shakespeare in love the lord of the rings the fellowship of the ring chicago the curious case of benjamin button the shape of water oppenheimer ben hur mrs miniver the song of bernadette johnny belinda streetcar named desire on the waterfront my fair lady becket oliver reds dances with wolves schindler list the english patient gladiator the king speech lincoln the revenant the power of the dog mr smith goes to washington rebecca sergeant york the pride of the yankees sunset boulevard west side story judgment at nuremberg the godfather part ii chinatown the turning point out of africa the color purple julia gandhi terms of endearment amadeus passage to india saving private ryan the lord of the rings the return of the king the aviator hugo life of pi joker everything everywhere all at once poor things the life of emile zola how green was my valley going my way wilson roman holiday giant sayonara the apartment lawrence of arabia tom jones the sound of music doctor zhivago bonnie and clyde guess who coming to dinner anne of the thousand days patton airport the godfather cabaret the sting the exorcist rocky network star wars on golden pond tootsie bugsy braveheart crouching tiger hidden dragon gangs of new york master and commander the far side of the world slumdog millionaire true grit the artist american hustle gravity mad max fury road the favourite roma the irishman once upon time in hollywood mank dune killers of the flower moon the following winners received at least awards including non competitive awards title ben hur titanic the lord of the rings the return of the king west side story gigi the last emperor the english patient gone with the wind from here to eternity on the waterfront my fair lady cabaret gandhi amadeus slumdog millionaire going my way the best years of our lives the bridge on the river kwai lawrence of arabia patton the sting star wars out of africa dances with wolves schindler list shakespeare in love gravity everything everywhere all at once oppenheimer mrs miniver all about eve an american in paris place in the sun man for all seasons oliver the godfather part ii forrest gump chicago the hurt locker mad max fury road la la land dune it happened one night how green was my valley wilson the bad and the beautiful around the world in days the king and the apartment mary poppins the sound of music doctor zhivago who afraid of virginia woolf in the heat of the night the french connection one flew over the cuckoo nest the deer hunter kramer vs kramer raiders of the lost ark terms of endearment the silence of the lambs braveheart saving private ryan american beauty gladiator the aviator hugo the artist by franchises the following nominees received at least nominations nominations title no of films star wars middle earth consists of the lord of the rings and the hobbit batman the godfather marvel cinematic universe james bond star trek indiana jones wizarding world avatar tom and jerry rocky pirates of the caribbean the sting top gun alien mickey mouse shrek spider man blade runner transformers wallace and gromit shrek back to the future the incredibles the thin man the following winners received at least awards awards title no of films the lord of the rings star wars the godfather tom and jerry indiana jones james bond batman toy story avatar marvel cinematic universe wallace and gromit alien pinocchio rocky by people the following nominees received at least nominations nominations title role walt disney producer animator and voice actor john williams composer alfred newman composer cedric gibbons production designer edith head costume designer edwin willis production designer lyle wheeler art director sammy cahn songwriter max steiner composer woody allen filmmaker andy nelson sound engineer hans dreier art director hal pereira art director and production designer randy newman composer and songwriter samuel comer art director dimitri tiomkin composer victor young composer steven spielberg filmmaker kevin connell sound mixer meryl streep actress billy wilder filmmaker gary rydstrom sound designer and film director alan menken composer and songwriter henry mancini composer and songwriter gordon hollingshead film producer fred quimby animator greg russell sound engineer roger deakins cinematographer irene sharaff costume designer and art director thomas newman composer alex north composer christopher boyes sound engineer sandy powell costume designer william wyler filmmaker warren beatty actor and filmmaker diane warren songwriter ethan and joel coen filmmakers francis ford coppola filmmaker martin scorsese filmmaker richard day art director stanley kubrick filmmaker colleen atwood costume designer federico fellini filmmaker katharine hepburn actress jack nicholson actor hans zimmer composer paul thomas anderson filmmaker rick baker special make up effects artist laurence olivier actor and filmmaker joe letteri visual effects artist alfonso cuarón filmmaker alexandre desplat composer clint eastwood actor filmmaker and composer george stevens filmmaker bette davis actress anna behlmer sound mixer dante ferretti art director production designer and costume designer denzel washington actor and filmmaker ingmar bergman filmmaker milena canonero costume designer bradley cooper actor and filmmaker nancy haigh set decorator scott millan sound mixer pete docter filmmaker animator and voice actor stanley kramer filmmaker scott rudin film producer alejandro gonzález iñárritu filmmaker peter jackson filmmaker sherman brothers composers and songwriters cate blanchett actress kenneth branagh actor and filmmaker marlon brando actor james brooks filmmaker george clooney actor and filmmaker glenn close actress judi dench actress michael kahn film editor kathleen kennedy film producer jack lemmon actor francesca lo schiavo set decorator emmanuel lubezki cinematographer frances mcdormand actress and film producer peter toole actor ken ralston visual effects supervisor thelma schoonmaker film editor wes anderson filmmaker howard ashman lyricist ingrid bergman actress dennis gassner production designer jeff bridges actor richard burton actor james cameron filmmaker leonardo dicaprio actor and film producer jane fonda actress dede gardner film producer catherine martin costume and production designer and film producer martin mcdonagh filmmaker brad pitt actor and film producer sydney pollack filmmaker kate winslet actress amy adams actress and film producer richard taylor filmmaker ellen burstyn actress daniel day lewis actor guillermo del toro filmmaker eric fellner film producer tom hanks actor and film producer jeremy kleiner film producer yorgos lanthimos filmmaker nick park animator ennio morricone composer maggie smith actress andrew stanton animator and filmmaker tim bevan film producer brad bird animator and filmmaker todd field filmmaker alfred hitchcock filmmaker frank marshall film producer gregory peck actor sean penn actor david russell filmmaker susan sarandon actress nicole kidman actress christopher nolan filmmaker emma stone actress and film producer barbra streisand actress songwriter and film producer michelle williams actress the following winners received at least awards including non competitive awards title role walt disney producer animator and voice actor cedric gibbons production designer farciot edouart special effects artist and innovator dennis muren special effects artist and supervisor alfred newman composer edith head costume designer alan menken composer and songwriter edwin willis production designer rick baker special make up effects artist richard day art director fred quimby animator gary rydstrom sound designer editor and mixer douglas shearer sound engineer billy wilder director producer and writer john ford director and producer gordon hollingshead producer john barry composer and songwriter francis ford coppola director producer and writer clint eastwood actor director and producer johnny green composer music supervisor and producer alejandro gonzález iñárritu director producer and writer fred hynes sound engineer gordon jennings special effects supervisor joe letteri visual effects artist thomas moulton sound engineer ken ralston visual effects supervisor richard taylor costume designer special makeup artist and visual effects supervisor lyle wheeler art director john williams composer woody allen filmmaker mark berger sound engineer john box production designer and art director christopher boyes sound engineer ben burtt sound designer editor and mixer sammy cahn songwriter ethan and joel coen filmmakers samuel comer art director alfonso cuarón filmmaker katharine hepburn actress richard king sound designer and editor henry mancini composer and songwriter catherine martin costume and production designer frances mcdormand actress and producer johnny mercer songwriter scott millan sound mixer laurence olivier actor and filmmaker nick park animator andré previn composer and music supervisor dimitri tiomkin composer jimmy van heusen songwriter robert wise director and producer william wyler director and producer cecil beaton production and costume designer jenny beavan costume designer alan and marilyn bergman songwriters ingrid bergman actress bong joon ho filmmaker stephen bosustow producer walter brennan actor and singer james brooks filmmaker saul chaplin composer and music supervisor daniels directors producers and writers daniel day lewis actor adolph deutsch composer and music supervisor pete docter director writer animator and voice actor ken darby composer and music supervisor ralph dawson film editor hans dreier art director roger edens composer and music supervisor john hubley director and animator marvin hamlisch composer and songwriter peter jackson filmmaker maurice jarre composer michael kahn film editor paul lambert visual effects supervisor michel legrand composer and songwriter daniel mandell film editor jack nicholson actor thelma schoonmaker film editor stephen schwartz songwriter steven spielberg filmmaker max steiner composer meryl streep actress guillermo del toro director producer and writer fran walsh producer and writer ned washington songwriter paul francis webster songwriter richard williams director and animator see also list of film awards list of academy award nominated films list of actors with academy award nominations list of superlative academy award winners and nominees footnotes references further reading german language book review of the book external links\n"
          ]
        }
      ],
      "source": [
        "# Check the first ten lines of the combined file\n",
        "!head -n 10 wiki_texts_combined.txt"
      ]
    },
    {
      "cell_type": "markdown",
      "metadata": {
        "id": "Hfwx92QCEhrq"
      },
      "source": [
        "Please note that we used the default parameters of [`gensim.corpora.wikicorpus.WikiCorpus`](https://radimrehurek.com/gensim/corpora/wikicorpus.html#gensim.corpora.wikicorpus.WikiCorpus) for cleaning the Wiki raw file. Thus, words with one character were discarded."
      ]
    },
    {
      "cell_type": "code",
      "execution_count": 23,
      "metadata": {
        "colab": {
          "base_uri": "https://localhost:8080/"
        },
        "id": "vUAzButoP03w",
        "outputId": "7bb36de6-515c-475e-f08e-95fce31a513f"
      },
      "outputs": [
        {
          "name": "stdout",
          "output_type": "stream",
          "text": [
            "Total articles: 5623655\n",
            "\n",
            "Sample length of articles (20.0)%: 1124731.0\n",
            "Length sampled indices 1124731\n"
          ]
        },
        {
          "name": "stderr",
          "output_type": "stream",
          "text": [
            "Writing sampled articles to file...: 100%|██████████| 5623655/5623655 [00:20<00:00, 278296.32it/s]\n"
          ]
        }
      ],
      "source": [
        "# Now you need to do sampling because the corpus is too big.\n",
        "# You can further perform analysis with a greater sampling ratio.\n",
        "\n",
        "import random\n",
        "from tqdm import tqdm\n",
        "\n",
        "wiki_txt_path = \"wiki_texts_combined.txt\"\n",
        "# wiki_texts_combined.txt is a text file separated by linebreaks (\\n).\n",
        "# Each row in wiki_texts_combined.txt indicates a Wikipedia article.\n",
        "\n",
        "# Defining variables\n",
        "output_path = \"wiki_texts_combined_sample_20_prcnt.txt\"\n",
        "article_list = []\n",
        "sample_percentage = 0.2\n",
        "with open(wiki_txt_path, \"r\", encoding=\"utf-8\") as f:\n",
        "    # We obtain the length of the articles\n",
        "    total=sum(1 for line in f)\n",
        "    print(f\"Total articles: {total}\")\n",
        "    f.seek(0) # after counting moving pointer to the beginning\n",
        "    with open(output_path, \"w\", encoding=\"utf-8\") as output_file:\n",
        "      # TODO4: Sample `20%` Wikipedia articles\n",
        "      # Write your code here\n",
        "\n",
        "      # We obtain the length of the sample\n",
        "      sample_len = sample_percentage * total\n",
        "      print(f\"\\nSample length of articles ({sample_percentage*100})%: {sample_len}\")\n",
        "      sampled_indices_articles = random.sample(range(total), int(sample_len))\n",
        "\n",
        "      # I was having problems processing the lines of the articles fast\n",
        "      # So I asked Gemini what is the bottleneck in my code, and it was that before I was using a list\n",
        "      # to validate the sampled_indices_articles, but Gemini suggested to use a set instead for faster lookup\n",
        "\n",
        "      # for lookup we use a set\n",
        "      sampled_indices_set = set(sampled_indices_articles)\n",
        "      print(f\"Length sampled indices {len(sampled_indices_articles)}\")\n",
        "      for index, line in tqdm(zip(range(total), f), desc=\"Writing sampled articles to file...\", total=total):\n",
        "        if index in sampled_indices_set:\n",
        "          output_file.write(line)\n"
      ]
    },
    {
      "cell_type": "code",
      "execution_count": 3,
      "metadata": {
        "colab": {
          "base_uri": "https://localhost:8080/"
        },
        "id": "G7q1Xzunxkdc",
        "outputId": "28d49e7f-d821-433b-bc14-4947e057d657"
      },
      "outputs": [
        {
          "name": "stderr",
          "output_type": "stream",
          "text": [
            "Appending sampled articles...: 1124731it [00:42, 26665.94it/s]\n"
          ]
        }
      ],
      "source": [
        "# TODO5: Train your own word embeddings with the sampled articles\n",
        "# https://radimrehurek.com/gensim/models/word2vec.html#gensim.models.word2vec.Word2Vec\n",
        "# Hint: You should perform some pre-processing before training.\n",
        "# Preprocessing\n",
        "sample_article_lst = []\n",
        "sample_path = \"wiki_texts_combined_sample_20_prcnt.txt\"\n",
        "with open(sample_path, \"r\", encoding=\"utf-8\") as f:\n",
        "    for line in tqdm(f, desc=\"Appending sampled articles...\"):\n",
        "      sample_article_lst.append(line)"
      ]
    },
    {
      "cell_type": "code",
      "execution_count": 4,
      "metadata": {
        "colab": {
          "base_uri": "https://localhost:8080/"
        },
        "id": "_LCtdBgovirT",
        "outputId": "2443dfa1-cad9-4960-d041-2dfa3a20cf23"
      },
      "outputs": [
        {
          "data": {
            "text/plain": [
              "1124731"
            ]
          },
          "execution_count": 4,
          "metadata": {},
          "output_type": "execute_result"
        }
      ],
      "source": [
        "len(sample_article_lst)"
      ]
    },
    {
      "cell_type": "code",
      "execution_count": 5,
      "metadata": {
        "id": "oIPrUtRkv5nC"
      },
      "outputs": [],
      "source": [
        "# Converting the list into pandas dataframe\n",
        "import pandas as pd\n",
        "sample_articles_df = pd.DataFrame(\n",
        "    {\n",
        "        \"Articles\": sample_article_lst,\n",
        "    }\n",
        ")"
      ]
    },
    {
      "cell_type": "code",
      "execution_count": 20,
      "metadata": {
        "colab": {
          "base_uri": "https://localhost:8080/",
          "height": 101,
          "referenced_widgets": [
            "e47bbbf41e2042c7ac73833775b47ac4",
            "03fa3a08947c43d986b677195ce55c38",
            "afb90426e03e48c2b5850ccc1f297697",
            "04066a1513eb45c0872bb8492fc14802",
            "b5d5ec3a793048ff94fd4aff9a2ee4d8",
            "eafb53f02cad41ce8e6f6dd0cb33c535",
            "b8fe19eb72e949f686f4962022a0486c",
            "a022786a6add48c7a1aedb0d7a28d4ae",
            "b228aff8c07f400c9db57fbfdbfd9de4",
            "95b260a00a2f4a76a2016f993fce0f42",
            "767a267f04394736a9ca94250cff2e6c"
          ]
        },
        "id": "qBUA9ty536gx",
        "outputId": "cb0e8921-22be-44f8-b8c5-3edf698b1d46"
      },
      "outputs": [
        {
          "name": "stderr",
          "output_type": "stream",
          "text": [
            "[\u001b[36m2025-10-02 03:53:19,087\u001b[0m][\u001b[32mINFO\u001b[0m] - Downloading https://dl.fbaipublicfiles.com/fasttext/supervised-models/lid.176.bin to lid.176.bin (125.2M)\u001b[0m\n"
          ]
        },
        {
          "data": {
            "application/vnd.jupyter.widget-view+json": {
              "model_id": "01aaa02b95544b35b2b5484e960e5ab3",
              "version_major": 2,
              "version_minor": 0
            },
            "text/plain": [
              "  0%|          | 0.00/125M [00:00<?, ?B/s]"
            ]
          },
          "metadata": {},
          "output_type": "display_data"
        },
        {
          "name": "stdout",
          "output_type": "stream",
          "text": [
            "[{'lang': 'en', 'score': 0.336122989654541}]\n"
          ]
        }
      ],
      "source": [
        "from fast_langdetect import detect\n",
        "\n",
        "print(detect(\"Hello, world!\", model=\"auto\", k=1))"
      ]
    },
    {
      "cell_type": "code",
      "execution_count": null,
      "metadata": {
        "colab": {
          "base_uri": "https://localhost:8080/",
          "height": 36
        },
        "id": "7-N7S3F_3_qu",
        "outputId": "8fbbdcfd-ffb3-4416-ec43-0f20b5e078b5"
      },
      "outputs": [
        {
          "data": {
            "application/vnd.google.colaboratory.intrinsic+json": {
              "type": "string"
            },
            "text/plain": [
              "'en'"
            ]
          },
          "execution_count": 31,
          "metadata": {},
          "output_type": "execute_result"
        }
      ],
      "source": [
        "detect(\"Hello, world!\", model=\"auto\", k=1)[0]['lang']"
      ]
    },
    {
      "cell_type": "code",
      "execution_count": null,
      "metadata": {
        "id": "tCCs8m9B4UIT"
      },
      "outputs": [
        {
          "name": "stdout",
          "output_type": "stream",
          "text": [
            "en\n"
          ]
        }
      ],
      "source": [
        "from fast_langdetect import detect\n",
        "\n",
        "def detect_english(text: str)->str:\n",
        "    return detect(text, model=\"auto\", k=1)[0]['lang']\n",
        "\n",
        "print(detect_english(\"Hello my friend!\"))"
      ]
    },
    {
      "cell_type": "code",
      "execution_count": 7,
      "metadata": {
        "colab": {
          "base_uri": "https://localhost:8080/"
        },
        "id": "WgvSR2qnREYg",
        "outputId": "63beadb9-1c59-4598-8866-8995f6a1c4bc"
      },
      "outputs": [
        {
          "name": "stdout",
          "output_type": "stream",
          "text": [
            "Found 1115791 English articles.\n"
          ]
        }
      ],
      "source": [
        "tqdm.pandas()\n",
        "# Gemini helped me in articulating the lambda function\n",
        "sample_articles_df['lang'] = sample_articles_df['Articles'].apply(lambda x: detect_english(x))\n",
        "\n",
        "# Filter for English articles\n",
        "english_articles_df = sample_articles_df[sample_articles_df['lang'] == 'en'].copy()\n",
        "print(f\"Found {len(english_articles_df)} English articles.\")"
      ]
    },
    {
      "cell_type": "code",
      "execution_count": 8,
      "metadata": {
        "colab": {
          "base_uri": "https://localhost:8080/",
          "height": 424
        },
        "id": "6Z--_gof4x4b",
        "outputId": "92e542df-e3ce-4134-914b-86ea5ca4c32f"
      },
      "outputs": [
        {
          "data": {
            "text/html": [
              "<div>\n",
              "<style scoped>\n",
              "    .dataframe tbody tr th:only-of-type {\n",
              "        vertical-align: middle;\n",
              "    }\n",
              "\n",
              "    .dataframe tbody tr th {\n",
              "        vertical-align: top;\n",
              "    }\n",
              "\n",
              "    .dataframe thead th {\n",
              "        text-align: right;\n",
              "    }\n",
              "</style>\n",
              "<table border=\"1\" class=\"dataframe\">\n",
              "  <thead>\n",
              "    <tr style=\"text-align: right;\">\n",
              "      <th></th>\n",
              "      <th>Articles</th>\n",
              "      <th>lang</th>\n",
              "      <th>Tokenized_Articles</th>\n",
              "    </tr>\n",
              "  </thead>\n",
              "  <tbody>\n",
              "    <tr>\n",
              "      <th>0</th>\n",
              "      <td>actresses catalan actrius is catalan language ...</td>\n",
              "      <td>en</td>\n",
              "      <td>None</td>\n",
              "    </tr>\n",
              "    <tr>\n",
              "      <th>1</th>\n",
              "      <td>agricultural science or agriscience for short ...</td>\n",
              "      <td>en</td>\n",
              "      <td>None</td>\n",
              "    </tr>\n",
              "    <tr>\n",
              "      <th>2</th>\n",
              "      <td>alien primarily refers to alien law person in ...</td>\n",
              "      <td>en</td>\n",
              "      <td>None</td>\n",
              "    </tr>\n",
              "    <tr>\n",
              "      <th>3</th>\n",
              "      <td>apollo god of light eloquence poetry and the f...</td>\n",
              "      <td>en</td>\n",
              "      <td>None</td>\n",
              "    </tr>\n",
              "    <tr>\n",
              "      <th>4</th>\n",
              "      <td>the american football conference afc is one of...</td>\n",
              "      <td>en</td>\n",
              "      <td>None</td>\n",
              "    </tr>\n",
              "    <tr>\n",
              "      <th>...</th>\n",
              "      <td>...</td>\n",
              "      <td>...</td>\n",
              "      <td>...</td>\n",
              "    </tr>\n",
              "    <tr>\n",
              "      <th>1124726</th>\n",
              "      <td>josé ignacio rodríguez november february was c...</td>\n",
              "      <td>en</td>\n",
              "      <td>None</td>\n",
              "    </tr>\n",
              "    <tr>\n",
              "      <th>1124727</th>\n",
              "      <td>the offaly senior hurling championship was the...</td>\n",
              "      <td>en</td>\n",
              "      <td>None</td>\n",
              "    </tr>\n",
              "    <tr>\n",
              "      <th>1124728</th>\n",
              "      <td>firefighters in front of bellmore cinema court...</td>\n",
              "      <td>en</td>\n",
              "      <td>None</td>\n",
              "    </tr>\n",
              "    <tr>\n",
              "      <th>1124729</th>\n",
              "      <td>the offaly senior hurling championship was the...</td>\n",
              "      <td>en</td>\n",
              "      <td>None</td>\n",
              "    </tr>\n",
              "    <tr>\n",
              "      <th>1124730</th>\n",
              "      <td>insan aur aadmi is pakistan urdu film directed...</td>\n",
              "      <td>en</td>\n",
              "      <td>None</td>\n",
              "    </tr>\n",
              "  </tbody>\n",
              "</table>\n",
              "<p>1115791 rows × 3 columns</p>\n",
              "</div>"
            ],
            "text/plain": [
              "                                                  Articles lang  \\\n",
              "0        actresses catalan actrius is catalan language ...   en   \n",
              "1        agricultural science or agriscience for short ...   en   \n",
              "2        alien primarily refers to alien law person in ...   en   \n",
              "3        apollo god of light eloquence poetry and the f...   en   \n",
              "4        the american football conference afc is one of...   en   \n",
              "...                                                    ...  ...   \n",
              "1124726  josé ignacio rodríguez november february was c...   en   \n",
              "1124727  the offaly senior hurling championship was the...   en   \n",
              "1124728  firefighters in front of bellmore cinema court...   en   \n",
              "1124729  the offaly senior hurling championship was the...   en   \n",
              "1124730  insan aur aadmi is pakistan urdu film directed...   en   \n",
              "\n",
              "        Tokenized_Articles  \n",
              "0                     None  \n",
              "1                     None  \n",
              "2                     None  \n",
              "3                     None  \n",
              "4                     None  \n",
              "...                    ...  \n",
              "1124726               None  \n",
              "1124727               None  \n",
              "1124728               None  \n",
              "1124729               None  \n",
              "1124730               None  \n",
              "\n",
              "[1115791 rows x 3 columns]"
            ]
          },
          "execution_count": 8,
          "metadata": {},
          "output_type": "execute_result"
        }
      ],
      "source": [
        "english_articles_df[\"Tokenized_Articles\"] = None\n",
        "english_articles_df"
      ]
    },
    {
      "cell_type": "code",
      "execution_count": 10,
      "metadata": {},
      "outputs": [],
      "source": [
        "english_articles_df.to_pickle(\"sampled_20_prcnt_english_articles.pkl\")"
      ]
    },
    {
      "cell_type": "code",
      "execution_count": 1,
      "metadata": {},
      "outputs": [],
      "source": [
        "import pandas as pd\n",
        "english_articles_df = pd.read_pickle('sampled_20_prcnt_english_articles.pkl')"
      ]
    },
    {
      "cell_type": "code",
      "execution_count": null,
      "metadata": {},
      "outputs": [],
      "source": [
        "from tqdm import tqdm\n",
        "import spacy\n",
        "\n",
        "spacy.require_gpu() # To use GPU\n",
        "nlp = spacy.load(\"en_core_web_sm\", disable=['tagger', 'parser', 'ner', 'senter', 'attribute_ruler'], exclude=['tagger', 'parser', 'ner', 'senter', 'attribute_ruler'])\n",
        "nlp.add_pipe(\"doc_cleaner\", last=True) \n",
        "\n",
        "def validate_pipe(doc):\n",
        "    lemma_list = [token.lemma_.lower() for token in doc if not token.is_stop]\n",
        "    return lemma_list\n",
        "\n",
        "def preprocess_pipe(texts, batch_size=110):\n",
        "    processed_docs = []\n",
        "    for doc in tqdm(nlp.pipe(texts, batch_size=batch_size), desc=\"Tokenizing articles...\", total = int(len(texts)/batch_size)):\n",
        "        processed_docs.append(validate_pipe(doc))\n",
        "\n",
        "    return processed_docs"
      ]
    },
    {
      "cell_type": "code",
      "execution_count": 8,
      "metadata": {
        "colab": {
          "base_uri": "https://localhost:8080/",
          "height": 793
        },
        "id": "zUeoD8esDvcs",
        "outputId": "d0efc9bb-d16b-44c3-8823-7810670b8154"
      },
      "outputs": [
        {
          "name": "stderr",
          "output_type": "stream",
          "text": [
            "Tokenizing articles...:   0%|          | 0/10143 [00:00<?, ?it/s]/home/didiersalest/NLP_HW1/.venv/lib/python3.12/site-packages/spacy/pipeline/lemmatizer.py:188: UserWarning: [W108] The rule-based lemmatizer did not find POS annotation for one or more tokens. Check that your pipeline includes components that assign token.pos, typically 'tagger'+'attribute_ruler' or 'morphologizer'.\n",
            "  warnings.warn(Warnings.W108)\n",
            "Tokenizing articles...: 1115791it [59:41, 311.50it/s]                         \n"
          ]
        }
      ],
      "source": [
        "english_articles_df[\"Tokenized_Articles\"] = preprocess_pipe(english_articles_df[\"Articles\"])\n",
        "# preprocess_pipe(english_articles_df[\"Articles\"])"
      ]
    },
    {
      "cell_type": "code",
      "execution_count": 9,
      "metadata": {},
      "outputs": [],
      "source": [
        "english_articles_df.to_pickle(\"sampled_20_prcnt_tknzd_eng_articles.pkl\")"
      ]
    },
    {
      "cell_type": "code",
      "execution_count": 11,
      "metadata": {},
      "outputs": [
        {
          "name": "stderr",
          "output_type": "stream",
          "text": [
            "Counting unique words...:   0%|          | 0/1115791 [00:00<?, ?it/s]"
          ]
        },
        {
          "name": "stderr",
          "output_type": "stream",
          "text": [
            "Counting unique words...: 100%|██████████| 1115791/1115791 [00:26<00:00, 42344.41it/s]\n"
          ]
        },
        {
          "name": "stdout",
          "output_type": "stream",
          "text": [
            "Amount of unique words: 4281480\n",
            "Model loss: 16527603.0\n"
          ]
        }
      ],
      "source": [
        "from gensim.models import Word2Vec\n",
        "from gensim.models.callbacks import CallbackAny2Vec\n",
        "import logging  # Setting up the loggings to monitor gensim\n",
        "logging.basicConfig(filename='gensim.log', format=\"%(levelname)s - %(asctime)s: %(message)s\", datefmt= '%H:%M:%S', level=logging.INFO, force=True)\n",
        "\n",
        "class MonitorCallback(CallbackAny2Vec):\n",
        "    def __init__(self, test_words):\n",
        "        self._test_words = test_words\n",
        "\n",
        "    def on_epoch_end(self, model):\n",
        "        print(\"Model loss:\", model.get_latest_training_loss())  # print loss\n",
        "        # for word in self._test_words:  # show wv logic changes\n",
        "        #     print(model.wv.most_similar(word))\n",
        "def get_unique_words(tokenized_articles):\n",
        "    unique_words = set()\n",
        "    for article in tqdm(tokenized_articles, desc=\"Counting unique words...\"):\n",
        "        for word in article:\n",
        "            unique_words.add(word)\n",
        "    return unique_words\n",
        "\n",
        "unique_words = list(get_unique_words(english_articles_df[\"Tokenized_Articles\"]))\n",
        "print(f\"Amount of unique words: {len(unique_words)}\")\n",
        "monitor = MonitorCallback([\"happy\", \"angry\", \"news\"])\n",
        "# setting\n",
        "vector_dim = 100\n",
        "window_size = 5\n",
        "min_count = 20\n",
        "training_epochs = 1\n",
        "cpu_cores = 32\n",
        "\n",
        "# model\n",
        "word2vec_model = Word2Vec(sentences=english_articles_df[\"Tokenized_Articles\"], \n",
        "                          vector_size=vector_dim, window=window_size, workers=cpu_cores,\n",
        "                          min_count=min_count, epochs=training_epochs, callbacks=[monitor], compute_loss=True)"
      ]
    },
    {
      "cell_type": "code",
      "execution_count": 38,
      "metadata": {},
      "outputs": [],
      "source": [
        "word2vec_model.save(\"wiki_sample_20_prcnt_model\")"
      ]
    },
    {
      "cell_type": "code",
      "execution_count": 45,
      "metadata": {},
      "outputs": [],
      "source": [
        "# If we want to load\n",
        "word2vec_model = Word2Vec.load(\"wiki_sample_20_prcnt_model\")"
      ]
    },
    {
      "cell_type": "code",
      "execution_count": 46,
      "metadata": {
        "id": "qWiQF70izxP7"
      },
      "outputs": [],
      "source": [
        "data = pd.read_csv(\"questions-words.csv\")"
      ]
    },
    {
      "cell_type": "code",
      "execution_count": 49,
      "metadata": {
        "id": "q6xpqgdIy5x1"
      },
      "outputs": [
        {
          "name": "stderr",
          "output_type": "stream",
          "text": [
            " 43%|████▎     | 8387/19544 [01:14<01:33, 118.94it/s]"
          ]
        },
        {
          "name": "stdout",
          "output_type": "stream",
          "text": [
            "Couldn't predict the question: \"Key 'he' not present\"\n",
            "Couldn't predict the question: \"Key 'his' not present\"\n",
            "Couldn't predict the question: \"Key 'he' not present\"\n",
            "Couldn't predict the question: \"Key 'his' not present\"\n"
          ]
        },
        {
          "name": "stderr",
          "output_type": "stream",
          "text": [
            " 43%|████▎     | 8427/19544 [01:14<01:28, 125.26it/s]"
          ]
        },
        {
          "name": "stdout",
          "output_type": "stream",
          "text": [
            "Couldn't predict the question: \"Key 'he' not present\"\n",
            "Couldn't predict the question: \"Key 'his' not present\"\n",
            "Couldn't predict the question: \"Key 'he' not present\"\n",
            "Couldn't predict the question: \"Key 'his' not present\"\n"
          ]
        },
        {
          "name": "stderr",
          "output_type": "stream",
          "text": [
            " 43%|████▎     | 8482/19544 [01:15<01:24, 131.10it/s]"
          ]
        },
        {
          "name": "stdout",
          "output_type": "stream",
          "text": [
            "Couldn't predict the question: \"Key 'he' not present\"\n",
            "Couldn't predict the question: \"Key 'his' not present\"\n",
            "Couldn't predict the question: \"Key 'he' not present\"\n",
            "Couldn't predict the question: \"Key 'his' not present\"\n"
          ]
        },
        {
          "name": "stderr",
          "output_type": "stream",
          "text": [
            " 44%|████▎     | 8524/19544 [01:15<01:23, 132.64it/s]"
          ]
        },
        {
          "name": "stdout",
          "output_type": "stream",
          "text": [
            "Couldn't predict the question: \"Key 'he' not present\"\n",
            "Couldn't predict the question: \"Key 'his' not present\"\n",
            "Couldn't predict the question: \"Key 'he' not present\"\n",
            "Couldn't predict the question: \"Key 'his' not present\"\n"
          ]
        },
        {
          "name": "stderr",
          "output_type": "stream",
          "text": [
            " 44%|████▍     | 8552/19544 [01:15<01:24, 129.48it/s]"
          ]
        },
        {
          "name": "stdout",
          "output_type": "stream",
          "text": [
            "Couldn't predict the question: \"Key 'he' not present\"\n",
            "Couldn't predict the question: \"Key 'his' not present\"\n",
            "Couldn't predict the question: \"Key 'she' not present\"\n",
            "Couldn't predict the question: \"Key 'she' not present\"\n",
            "Couldn't predict the question: \"Key 'she' not present\"\n",
            "Couldn't predict the question: \"Key 'she' not present\"\n",
            "Couldn't predict the question: \"Key 'she' not present\"\n",
            "Couldn't predict the question: \"Key 'she' not present\"\n",
            "Couldn't predict the question: \"Key 'she' not present\"\n",
            "Couldn't predict the question: \"Key 'she' not present\"\n",
            "Couldn't predict the question: \"Key 'she' not present\"\n",
            "Couldn't predict the question: \"Key 'she' not present\"\n",
            "Couldn't predict the question: \"Key 'she' not present\"\n",
            "Couldn't predict the question: \"Key 'she' not present\"\n",
            "Couldn't predict the question: \"Key 'she' not present\"\n",
            "Couldn't predict the question: \"Key 'she' not present\"\n",
            "Couldn't predict the question: \"Key 'she' not present\"\n",
            "Couldn't predict the question: \"Key 'she' not present\"\n",
            "Couldn't predict the question: \"Key 'she' not present\"\n",
            "Couldn't predict the question: \"Key 'she' not present\"\n",
            "Couldn't predict the question: \"Key 'she' not present\"\n",
            "Couldn't predict the question: \"Key 'she' not present\"\n",
            "Couldn't predict the question: \"Key 'she' not present\"\n",
            "Couldn't predict the question: \"Key 'she' not present\"\n",
            "Couldn't predict the question: \"Key 'her' not present\"\n",
            "Couldn't predict the question: \"Key 'her' not present\"\n",
            "Couldn't predict the question: \"Key 'her' not present\"\n",
            "Couldn't predict the question: \"Key 'her' not present\"\n",
            "Couldn't predict the question: \"Key 'her' not present\"\n",
            "Couldn't predict the question: \"Key 'her' not present\"\n",
            "Couldn't predict the question: \"Key 'her' not present\"\n",
            "Couldn't predict the question: \"Key 'her' not present\"\n",
            "Couldn't predict the question: \"Key 'her' not present\"\n",
            "Couldn't predict the question: \"Key 'her' not present\"\n",
            "Couldn't predict the question: \"Key 'her' not present\"\n",
            "Couldn't predict the question: \"Key 'her' not present\"\n",
            "Couldn't predict the question: \"Key 'her' not present\"\n",
            "Couldn't predict the question: \"Key 'her' not present\"\n",
            "Couldn't predict the question: \"Key 'her' not present\"\n",
            "Couldn't predict the question: \"Key 'her' not present\"\n",
            "Couldn't predict the question: \"Key 'her' not present\"\n",
            "Couldn't predict the question: \"Key 'her' not present\"\n",
            "Couldn't predict the question: \"Key 'her' not present\"\n",
            "Couldn't predict the question: \"Key 'her' not present\"\n",
            "Couldn't predict the question: \"Key 'her' not present\"\n",
            "Couldn't predict the question: \"Key 'her' not present\"\n"
          ]
        },
        {
          "name": "stderr",
          "output_type": "stream",
          "text": [
            " 44%|████▍     | 8632/19544 [01:15<00:57, 191.37it/s]"
          ]
        },
        {
          "name": "stdout",
          "output_type": "stream",
          "text": [
            "Couldn't predict the question: \"Key 'he' not present\"\n",
            "Couldn't predict the question: \"Key 'his' not present\"\n",
            "Couldn't predict the question: \"Key 'he' not present\"\n",
            "Couldn't predict the question: \"Key 'his' not present\"\n"
          ]
        },
        {
          "name": "stderr",
          "output_type": "stream",
          "text": [
            " 44%|████▍     | 8690/19544 [01:16<01:11, 151.22it/s]"
          ]
        },
        {
          "name": "stdout",
          "output_type": "stream",
          "text": [
            "Couldn't predict the question: \"Key 'he' not present\"\n",
            "Couldn't predict the question: \"Key 'his' not present\"\n",
            "Couldn't predict the question: \"Key 'he' not present\"\n",
            "Couldn't predict the question: \"Key 'his' not present\"\n"
          ]
        },
        {
          "name": "stderr",
          "output_type": "stream",
          "text": [
            " 45%|████▍     | 8735/19544 [01:16<01:22, 131.76it/s]"
          ]
        },
        {
          "name": "stdout",
          "output_type": "stream",
          "text": [
            "Couldn't predict the question: \"Key 'he' not present\"\n",
            "Couldn't predict the question: \"Key 'his' not present\"\n",
            "Couldn't predict the question: \"Key 'he' not present\"\n",
            "Couldn't predict the question: \"Key 'his' not present\"\n"
          ]
        },
        {
          "name": "stderr",
          "output_type": "stream",
          "text": [
            " 45%|████▍     | 8777/19544 [01:17<01:24, 127.53it/s]"
          ]
        },
        {
          "name": "stdout",
          "output_type": "stream",
          "text": [
            "Couldn't predict the question: \"Key 'he' not present\"\n",
            "Couldn't predict the question: \"Key 'his' not present\"\n",
            "Couldn't predict the question: \"Key 'he' not present\"\n",
            "Couldn't predict the question: \"Key 'his' not present\"\n"
          ]
        },
        {
          "name": "stderr",
          "output_type": "stream",
          "text": [
            " 45%|████▌     | 8816/19544 [01:17<01:25, 124.91it/s]"
          ]
        },
        {
          "name": "stdout",
          "output_type": "stream",
          "text": [
            "Couldn't predict the question: \"Key 'he' not present\"\n",
            "Couldn't predict the question: \"Key 'his' not present\"\n",
            "Couldn't predict the question: \"Key 'he' not present\"\n",
            "Couldn't predict the question: \"Key 'his' not present\"\n"
          ]
        },
        {
          "name": "stderr",
          "output_type": "stream",
          "text": [
            " 45%|████▌     | 8855/19544 [01:17<01:29, 119.14it/s]"
          ]
        },
        {
          "name": "stdout",
          "output_type": "stream",
          "text": [
            "Couldn't predict the question: \"Key 'he' not present\"\n",
            "Couldn't predict the question: \"Key 'his' not present\"\n",
            "Couldn't predict the question: \"Key 'he' not present\"\n",
            "Couldn't predict the question: \"Key 'his' not present\"\n"
          ]
        },
        {
          "name": "stderr",
          "output_type": "stream",
          "text": [
            " 46%|████▌     | 8905/19544 [01:18<01:30, 117.87it/s]"
          ]
        },
        {
          "name": "stdout",
          "output_type": "stream",
          "text": [
            "Couldn't predict the question: \"Key 'most' not present\"\n",
            "Couldn't predict the question: \"Key 'serious' not present\"\n"
          ]
        },
        {
          "name": "stderr",
          "output_type": "stream",
          "text": [
            " 46%|████▌     | 8930/19544 [01:18<01:28, 119.32it/s]"
          ]
        },
        {
          "name": "stdout",
          "output_type": "stream",
          "text": [
            "Couldn't predict the question: \"Key 'most' not present\"\n",
            "Couldn't predict the question: \"Key 'serious' not present\"\n"
          ]
        },
        {
          "name": "stderr",
          "output_type": "stream",
          "text": [
            " 46%|████▌     | 8956/19544 [01:18<01:32, 114.35it/s]"
          ]
        },
        {
          "name": "stdout",
          "output_type": "stream",
          "text": [
            "Couldn't predict the question: \"Key 'most' not present\"\n",
            "Couldn't predict the question: \"Key 'serious' not present\"\n"
          ]
        },
        {
          "name": "stderr",
          "output_type": "stream",
          "text": [
            " 46%|████▌     | 8993/19544 [01:18<01:33, 113.25it/s]"
          ]
        },
        {
          "name": "stdout",
          "output_type": "stream",
          "text": [
            "Couldn't predict the question: \"Key 'most' not present\"\n",
            "Couldn't predict the question: \"Key 'serious' not present\"\n"
          ]
        },
        {
          "name": "stderr",
          "output_type": "stream",
          "text": [
            " 46%|████▌     | 9018/19544 [01:19<01:29, 117.32it/s]"
          ]
        },
        {
          "name": "stdout",
          "output_type": "stream",
          "text": [
            "Couldn't predict the question: \"Key 'most' not present\"\n",
            "Couldn't predict the question: \"Key 'serious' not present\"\n"
          ]
        },
        {
          "name": "stderr",
          "output_type": "stream",
          "text": [
            " 46%|████▋     | 9055/19544 [01:19<01:28, 117.95it/s]"
          ]
        },
        {
          "name": "stdout",
          "output_type": "stream",
          "text": [
            "Couldn't predict the question: \"Key 'most' not present\"\n",
            "Couldn't predict the question: \"Key 'serious' not present\"\n"
          ]
        },
        {
          "name": "stderr",
          "output_type": "stream",
          "text": [
            " 46%|████▋     | 9080/19544 [01:19<01:28, 118.48it/s]"
          ]
        },
        {
          "name": "stdout",
          "output_type": "stream",
          "text": [
            "Couldn't predict the question: \"Key 'most' not present\"\n",
            "Couldn't predict the question: \"Key 'serious' not present\"\n"
          ]
        },
        {
          "name": "stderr",
          "output_type": "stream",
          "text": [
            " 47%|████▋     | 9106/19544 [01:19<01:26, 121.29it/s]"
          ]
        },
        {
          "name": "stdout",
          "output_type": "stream",
          "text": [
            "Couldn't predict the question: \"Key 'most' not present\"\n",
            "Couldn't predict the question: \"Key 'serious' not present\"\n"
          ]
        },
        {
          "name": "stderr",
          "output_type": "stream",
          "text": [
            " 47%|████▋     | 9145/19544 [01:20<01:26, 120.14it/s]"
          ]
        },
        {
          "name": "stdout",
          "output_type": "stream",
          "text": [
            "Couldn't predict the question: \"Key 'most' not present\"\n",
            "Couldn't predict the question: \"Key 'serious' not present\"\n"
          ]
        },
        {
          "name": "stderr",
          "output_type": "stream",
          "text": [
            " 47%|████▋     | 9171/19544 [01:20<01:25, 121.21it/s]"
          ]
        },
        {
          "name": "stdout",
          "output_type": "stream",
          "text": [
            "Couldn't predict the question: \"Key 'most' not present\"\n",
            "Couldn't predict the question: \"Key 'serious' not present\"\n"
          ]
        },
        {
          "name": "stderr",
          "output_type": "stream",
          "text": [
            " 47%|████▋     | 9197/19544 [01:20<01:23, 124.40it/s]"
          ]
        },
        {
          "name": "stdout",
          "output_type": "stream",
          "text": [
            "Couldn't predict the question: \"Key 'most' not present\"\n",
            "Couldn't predict the question: \"Key 'serious' not present\"\n"
          ]
        },
        {
          "name": "stderr",
          "output_type": "stream",
          "text": [
            " 47%|████▋     | 9223/19544 [01:20<01:23, 124.05it/s]"
          ]
        },
        {
          "name": "stdout",
          "output_type": "stream",
          "text": [
            "Couldn't predict the question: \"Key 'most' not present\"\n",
            "Couldn't predict the question: \"Key 'serious' not present\"\n"
          ]
        },
        {
          "name": "stderr",
          "output_type": "stream",
          "text": [
            " 47%|████▋     | 9262/19544 [01:21<01:22, 125.08it/s]"
          ]
        },
        {
          "name": "stdout",
          "output_type": "stream",
          "text": [
            "Couldn't predict the question: \"Key 'most' not present\"\n",
            "Couldn't predict the question: \"Key 'serious' not present\"\n"
          ]
        },
        {
          "name": "stderr",
          "output_type": "stream",
          "text": [
            " 48%|████▊     | 9326/19544 [01:21<00:59, 172.48it/s]"
          ]
        },
        {
          "name": "stdout",
          "output_type": "stream",
          "text": [
            "Couldn't predict the question: \"Key 'mostly' not present\"\n",
            "Couldn't predict the question: \"Key 'mostly' not present\"\n",
            "Couldn't predict the question: \"Key 'mostly' not present\"\n",
            "Couldn't predict the question: \"Key 'mostly' not present\"\n",
            "Couldn't predict the question: \"Key 'mostly' not present\"\n",
            "Couldn't predict the question: \"Key 'mostly' not present\"\n",
            "Couldn't predict the question: \"Key 'mostly' not present\"\n",
            "Couldn't predict the question: \"Key 'mostly' not present\"\n",
            "Couldn't predict the question: \"Key 'mostly' not present\"\n",
            "Couldn't predict the question: \"Key 'mostly' not present\"\n",
            "Couldn't predict the question: \"Key 'mostly' not present\"\n",
            "Couldn't predict the question: \"Key 'mostly' not present\"\n",
            "Couldn't predict the question: \"Key 'mostly' not present\"\n",
            "Couldn't predict the question: \"Key 'mostly' not present\"\n",
            "Couldn't predict the question: \"Key 'mostly' not present\"\n",
            "Couldn't predict the question: \"Key 'mostly' not present\"\n",
            "Couldn't predict the question: \"Key 'mostly' not present\"\n",
            "Couldn't predict the question: \"Key 'mostly' not present\"\n",
            "Couldn't predict the question: \"Key 'mostly' not present\"\n",
            "Couldn't predict the question: \"Key 'mostly' not present\"\n",
            "Couldn't predict the question: \"Key 'mostly' not present\"\n",
            "Couldn't predict the question: \"Key 'mostly' not present\"\n",
            "Couldn't predict the question: \"Key 'mostly' not present\"\n",
            "Couldn't predict the question: \"Key 'mostly' not present\"\n",
            "Couldn't predict the question: \"Key 'mostly' not present\"\n",
            "Couldn't predict the question: \"Key 'mostly' not present\"\n",
            "Couldn't predict the question: \"Key 'mostly' not present\"\n",
            "Couldn't predict the question: \"Key 'mostly' not present\"\n",
            "Couldn't predict the question: \"Key 'mostly' not present\"\n",
            "Couldn't predict the question: \"Key 'mostly' not present\"\n",
            "Couldn't predict the question: \"Key 'mostly' not present\"\n",
            "Couldn't predict the question: \"Key 'serious' not present\"\n"
          ]
        },
        {
          "name": "stderr",
          "output_type": "stream",
          "text": [
            " 48%|████▊     | 9345/19544 [01:21<01:06, 154.49it/s]"
          ]
        },
        {
          "name": "stdout",
          "output_type": "stream",
          "text": [
            "Couldn't predict the question: \"Key 'most' not present\"\n",
            "Couldn't predict the question: \"Key 'serious' not present\"\n"
          ]
        },
        {
          "name": "stderr",
          "output_type": "stream",
          "text": [
            " 48%|████▊     | 9377/19544 [01:21<01:14, 135.96it/s]"
          ]
        },
        {
          "name": "stdout",
          "output_type": "stream",
          "text": [
            "Couldn't predict the question: \"Key 'most' not present\"\n",
            "Couldn't predict the question: \"Key 'serious' not present\"\n"
          ]
        },
        {
          "name": "stderr",
          "output_type": "stream",
          "text": [
            " 48%|████▊     | 9406/19544 [01:22<01:16, 132.31it/s]"
          ]
        },
        {
          "name": "stdout",
          "output_type": "stream",
          "text": [
            "Couldn't predict the question: \"Key 'most' not present\"\n",
            "Couldn't predict the question: \"Key 'serious' not present\"\n"
          ]
        },
        {
          "name": "stderr",
          "output_type": "stream",
          "text": [
            " 48%|████▊     | 9448/19544 [01:22<01:19, 126.42it/s]"
          ]
        },
        {
          "name": "stdout",
          "output_type": "stream",
          "text": [
            "Couldn't predict the question: \"Key 'most' not present\"\n",
            "Couldn't predict the question: \"Key 'serious' not present\"\n"
          ]
        },
        {
          "name": "stderr",
          "output_type": "stream",
          "text": [
            " 48%|████▊     | 9474/19544 [01:22<01:20, 124.93it/s]"
          ]
        },
        {
          "name": "stdout",
          "output_type": "stream",
          "text": [
            "Couldn't predict the question: \"Key 'most' not present\"\n",
            "Couldn't predict the question: \"Key 'serious' not present\"\n"
          ]
        },
        {
          "name": "stderr",
          "output_type": "stream",
          "text": [
            " 49%|████▊     | 9500/19544 [01:22<01:19, 126.05it/s]"
          ]
        },
        {
          "name": "stdout",
          "output_type": "stream",
          "text": [
            "Couldn't predict the question: \"Key 'most' not present\"\n",
            "Couldn't predict the question: \"Key 'serious' not present\"\n"
          ]
        },
        {
          "name": "stderr",
          "output_type": "stream",
          "text": [
            " 49%|████▊     | 9527/19544 [01:23<01:19, 126.42it/s]"
          ]
        },
        {
          "name": "stdout",
          "output_type": "stream",
          "text": [
            "Couldn't predict the question: \"Key 'most' not present\"\n",
            "Couldn't predict the question: \"Key 'serious' not present\"\n"
          ]
        },
        {
          "name": "stderr",
          "output_type": "stream",
          "text": [
            " 49%|████▉     | 9566/19544 [01:23<01:20, 123.90it/s]"
          ]
        },
        {
          "name": "stdout",
          "output_type": "stream",
          "text": [
            "Couldn't predict the question: \"Key 'most' not present\"\n",
            "Couldn't predict the question: \"Key 'serious' not present\"\n"
          ]
        },
        {
          "name": "stderr",
          "output_type": "stream",
          "text": [
            " 49%|████▉     | 9592/19544 [01:23<01:20, 124.32it/s]"
          ]
        },
        {
          "name": "stdout",
          "output_type": "stream",
          "text": [
            "Couldn't predict the question: \"Key 'most' not present\"\n",
            "Couldn't predict the question: \"Key 'serious' not present\"\n"
          ]
        },
        {
          "name": "stderr",
          "output_type": "stream",
          "text": [
            " 49%|████▉     | 9618/19544 [01:23<01:19, 125.09it/s]"
          ]
        },
        {
          "name": "stdout",
          "output_type": "stream",
          "text": [
            "Couldn't predict the question: \"Key 'most' not present\"\n",
            "Couldn't predict the question: \"Key 'serious' not present\"\n"
          ]
        },
        {
          "name": "stderr",
          "output_type": "stream",
          "text": [
            " 49%|████▉     | 9644/19544 [01:24<01:22, 120.41it/s]"
          ]
        },
        {
          "name": "stdout",
          "output_type": "stream",
          "text": [
            "Couldn't predict the question: \"Key 'most' not present\"\n",
            "Couldn't predict the question: \"Key 'serious' not present\"\n",
            "Couldn't predict the question: \"Key 'serious' not present\"\n",
            "Couldn't predict the question: \"Key 'serious' not present\"\n",
            "Couldn't predict the question: \"Key 'serious' not present\"\n",
            "Couldn't predict the question: \"Key 'serious' not present\"\n",
            "Couldn't predict the question: \"Key 'serious' not present\"\n",
            "Couldn't predict the question: \"Key 'serious' not present\"\n",
            "Couldn't predict the question: \"Key 'serious' not present\"\n",
            "Couldn't predict the question: \"Key 'serious' not present\"\n",
            "Couldn't predict the question: \"Key 'serious' not present\"\n",
            "Couldn't predict the question: \"Key 'serious' not present\"\n",
            "Couldn't predict the question: \"Key 'serious' not present\"\n",
            "Couldn't predict the question: \"Key 'serious' not present\"\n",
            "Couldn't predict the question: \"Key 'serious' not present\"\n",
            "Couldn't predict the question: \"Key 'serious' not present\"\n",
            "Couldn't predict the question: \"Key 'serious' not present\"\n",
            "Couldn't predict the question: \"Key 'serious' not present\"\n",
            "Couldn't predict the question: \"Key 'serious' not present\"\n",
            "Couldn't predict the question: \"Key 'serious' not present\"\n",
            "Couldn't predict the question: \"Key 'most' not present\"\n",
            "Couldn't predict the question: \"Key 'serious' not present\"\n",
            "Couldn't predict the question: \"Key 'serious' not present\"\n",
            "Couldn't predict the question: \"Key 'serious' not present\"\n",
            "Couldn't predict the question: \"Key 'serious' not present\"\n",
            "Couldn't predict the question: \"Key 'serious' not present\"\n",
            "Couldn't predict the question: \"Key 'serious' not present\"\n",
            "Couldn't predict the question: \"Key 'serious' not present\"\n",
            "Couldn't predict the question: \"Key 'serious' not present\"\n",
            "Couldn't predict the question: \"Key 'serious' not present\"\n",
            "Couldn't predict the question: \"Key 'serious' not present\"\n",
            "Couldn't predict the question: \"Key 'serious' not present\"\n"
          ]
        },
        {
          "name": "stderr",
          "output_type": "stream",
          "text": [
            " 50%|████▉     | 9708/19544 [01:24<00:57, 171.60it/s]"
          ]
        },
        {
          "name": "stdout",
          "output_type": "stream",
          "text": [
            "Couldn't predict the question: \"Key 'most' not present\"\n",
            "Couldn't predict the question: \"Key 'serious' not present\"\n"
          ]
        },
        {
          "name": "stderr",
          "output_type": "stream",
          "text": [
            " 50%|████▉     | 9744/19544 [01:24<01:11, 137.33it/s]"
          ]
        },
        {
          "name": "stdout",
          "output_type": "stream",
          "text": [
            "Couldn't predict the question: \"Key 'most' not present\"\n",
            "Couldn't predict the question: \"Key 'serious' not present\"\n"
          ]
        },
        {
          "name": "stderr",
          "output_type": "stream",
          "text": [
            " 50%|█████     | 9773/19544 [01:24<01:14, 131.17it/s]"
          ]
        },
        {
          "name": "stdout",
          "output_type": "stream",
          "text": [
            "Couldn't predict the question: \"Key 'most' not present\"\n",
            "Couldn't predict the question: \"Key 'serious' not present\"\n"
          ]
        },
        {
          "name": "stderr",
          "output_type": "stream",
          "text": [
            " 50%|█████     | 9800/19544 [01:25<01:21, 118.85it/s]"
          ]
        },
        {
          "name": "stdout",
          "output_type": "stream",
          "text": [
            "Couldn't predict the question: \"Key 'most' not present\"\n",
            "Couldn't predict the question: \"Key 'serious' not present\"\n"
          ]
        },
        {
          "name": "stderr",
          "output_type": "stream",
          "text": [
            " 50%|█████     | 9825/19544 [01:25<01:24, 114.80it/s]"
          ]
        },
        {
          "name": "stdout",
          "output_type": "stream",
          "text": [
            "Couldn't predict the question: \"Key 'most' not present\"\n",
            "Couldn't predict the question: \"Key 'serious' not present\"\n"
          ]
        },
        {
          "name": "stderr",
          "output_type": "stream",
          "text": [
            " 50%|█████     | 9861/19544 [01:25<01:26, 112.44it/s]"
          ]
        },
        {
          "name": "stdout",
          "output_type": "stream",
          "text": [
            "Couldn't predict the question: \"Key 'most' not present\"\n",
            "Couldn't predict the question: \"Key 'serious' not present\"\n"
          ]
        },
        {
          "name": "stderr",
          "output_type": "stream",
          "text": [
            " 66%|██████▋   | 12969/19544 [01:54<00:32, 202.05it/s]"
          ]
        },
        {
          "name": "stdout",
          "output_type": "stream",
          "text": [
            "Couldn't predict the question: \"Key 'tastiest' not present\"\n",
            "Couldn't predict the question: \"Key 'tastiest' not present\"\n",
            "Couldn't predict the question: \"Key 'tastiest' not present\"\n",
            "Couldn't predict the question: \"Key 'tastiest' not present\"\n",
            "Couldn't predict the question: \"Key 'tastiest' not present\"\n",
            "Couldn't predict the question: \"Key 'tastiest' not present\"\n",
            "Couldn't predict the question: \"Key 'tastiest' not present\"\n",
            "Couldn't predict the question: \"Key 'tastiest' not present\"\n",
            "Couldn't predict the question: \"Key 'tastiest' not present\"\n",
            "Couldn't predict the question: \"Key 'tastiest' not present\"\n",
            "Couldn't predict the question: \"Key 'tastiest' not present\"\n",
            "Couldn't predict the question: \"Key 'tastiest' not present\"\n",
            "Couldn't predict the question: \"Key 'tastiest' not present\"\n",
            "Couldn't predict the question: \"Key 'tastiest' not present\"\n",
            "Couldn't predict the question: \"Key 'tastiest' not present\"\n",
            "Couldn't predict the question: \"Key 'tastiest' not present\"\n",
            "Couldn't predict the question: \"Key 'tastiest' not present\"\n",
            "Couldn't predict the question: \"Key 'tastiest' not present\"\n",
            "Couldn't predict the question: \"Key 'tastiest' not present\"\n",
            "Couldn't predict the question: \"Key 'tastiest' not present\"\n",
            "Couldn't predict the question: \"Key 'tastiest' not present\"\n",
            "Couldn't predict the question: \"Key 'tastiest' not present\"\n",
            "Couldn't predict the question: \"Key 'tastiest' not present\"\n",
            "Couldn't predict the question: \"Key 'tastiest' not present\"\n",
            "Couldn't predict the question: \"Key 'tastiest' not present\"\n",
            "Couldn't predict the question: \"Key 'tastiest' not present\"\n",
            "Couldn't predict the question: \"Key 'tastiest' not present\"\n",
            "Couldn't predict the question: \"Key 'tastiest' not present\"\n",
            "Couldn't predict the question: \"Key 'tastiest' not present\"\n",
            "Couldn't predict the question: \"Key 'tastiest' not present\"\n",
            "Couldn't predict the question: \"Key 'tastiest' not present\"\n",
            "Couldn't predict the question: \"Key 'tastiest' not present\"\n",
            "Couldn't predict the question: \"Key 'tastiest' not present\"\n"
          ]
        },
        {
          "name": "stderr",
          "output_type": "stream",
          "text": [
            " 67%|██████▋   | 13160/19544 [01:56<00:50, 126.02it/s]"
          ]
        },
        {
          "name": "stdout",
          "output_type": "stream",
          "text": [
            "Couldn't predict the question: \"Key 'go' not present\"\n",
            "Couldn't predict the question: \"Key 'move' not present\"\n",
            "Couldn't predict the question: \"Key 'say' not present\"\n",
            "Couldn't predict the question: \"Key 'see' not present\"\n"
          ]
        },
        {
          "name": "stderr",
          "output_type": "stream",
          "text": [
            " 67%|██████▋   | 13188/19544 [01:56<00:48, 129.81it/s]"
          ]
        },
        {
          "name": "stdout",
          "output_type": "stream",
          "text": [
            "Couldn't predict the question: \"Key 'go' not present\"\n",
            "Couldn't predict the question: \"Key 'move' not present\"\n",
            "Couldn't predict the question: \"Key 'say' not present\"\n",
            "Couldn't predict the question: \"Key 'see' not present\"\n"
          ]
        },
        {
          "name": "stderr",
          "output_type": "stream",
          "text": [
            " 68%|██████▊   | 13217/19544 [01:56<00:48, 129.84it/s]"
          ]
        },
        {
          "name": "stdout",
          "output_type": "stream",
          "text": [
            "Couldn't predict the question: \"Key 'go' not present\"\n",
            "Couldn't predict the question: \"Key 'move' not present\"\n",
            "Couldn't predict the question: \"Key 'say' not present\"\n",
            "Couldn't predict the question: \"Key 'see' not present\"\n"
          ]
        },
        {
          "name": "stderr",
          "output_type": "stream",
          "text": [
            " 68%|██████▊   | 13246/19544 [01:56<00:49, 126.60it/s]"
          ]
        },
        {
          "name": "stdout",
          "output_type": "stream",
          "text": [
            "Couldn't predict the question: \"Key 'go' not present\"\n",
            "Couldn't predict the question: \"Key 'move' not present\"\n",
            "Couldn't predict the question: \"Key 'say' not present\"\n",
            "Couldn't predict the question: \"Key 'see' not present\"\n"
          ]
        },
        {
          "name": "stderr",
          "output_type": "stream",
          "text": [
            " 68%|██████▊   | 13273/19544 [01:56<00:49, 126.72it/s]"
          ]
        },
        {
          "name": "stdout",
          "output_type": "stream",
          "text": [
            "Couldn't predict the question: \"Key 'go' not present\"\n",
            "Couldn't predict the question: \"Key 'move' not present\"\n",
            "Couldn't predict the question: \"Key 'say' not present\"\n",
            "Couldn't predict the question: \"Key 'see' not present\"\n"
          ]
        },
        {
          "name": "stderr",
          "output_type": "stream",
          "text": [
            " 68%|██████▊   | 13314/19544 [01:57<00:47, 130.09it/s]"
          ]
        },
        {
          "name": "stdout",
          "output_type": "stream",
          "text": [
            "Couldn't predict the question: \"Key 'go' not present\"\n",
            "Couldn't predict the question: \"Key 'move' not present\"\n",
            "Couldn't predict the question: \"Key 'say' not present\"\n",
            "Couldn't predict the question: \"Key 'see' not present\"\n"
          ]
        },
        {
          "name": "stderr",
          "output_type": "stream",
          "text": [
            " 68%|██████▊   | 13343/19544 [01:57<00:46, 132.39it/s]"
          ]
        },
        {
          "name": "stdout",
          "output_type": "stream",
          "text": [
            "Couldn't predict the question: \"Key 'go' not present\"\n",
            "Couldn't predict the question: \"Key 'move' not present\"\n",
            "Couldn't predict the question: \"Key 'say' not present\"\n",
            "Couldn't predict the question: \"Key 'see' not present\"\n"
          ]
        },
        {
          "name": "stderr",
          "output_type": "stream",
          "text": [
            " 68%|██████▊   | 13372/19544 [01:57<00:47, 131.19it/s]"
          ]
        },
        {
          "name": "stdout",
          "output_type": "stream",
          "text": [
            "Couldn't predict the question: \"Key 'go' not present\"\n",
            "Couldn't predict the question: \"Key 'move' not present\"\n",
            "Couldn't predict the question: \"Key 'say' not present\"\n",
            "Couldn't predict the question: \"Key 'see' not present\"\n"
          ]
        },
        {
          "name": "stderr",
          "output_type": "stream",
          "text": [
            " 69%|██████▊   | 13401/19544 [01:57<00:46, 132.75it/s]"
          ]
        },
        {
          "name": "stdout",
          "output_type": "stream",
          "text": [
            "Couldn't predict the question: \"Key 'go' not present\"\n",
            "Couldn't predict the question: \"Key 'move' not present\"\n",
            "Couldn't predict the question: \"Key 'say' not present\"\n",
            "Couldn't predict the question: \"Key 'see' not present\"\n"
          ]
        },
        {
          "name": "stderr",
          "output_type": "stream",
          "text": [
            " 69%|██████▉   | 13461/19544 [01:58<00:27, 218.22it/s]"
          ]
        },
        {
          "name": "stdout",
          "output_type": "stream",
          "text": [
            "Couldn't predict the question: \"Key 'go' not present\"\n",
            "Couldn't predict the question: \"Key 'go' not present\"\n",
            "Couldn't predict the question: \"Key 'go' not present\"\n",
            "Couldn't predict the question: \"Key 'go' not present\"\n",
            "Couldn't predict the question: \"Key 'go' not present\"\n",
            "Couldn't predict the question: \"Key 'go' not present\"\n",
            "Couldn't predict the question: \"Key 'move' not present\"\n",
            "Couldn't predict the question: \"Key 'go' not present\"\n",
            "Couldn't predict the question: \"Key 'go' not present\"\n",
            "Couldn't predict the question: \"Key 'go' not present\"\n",
            "Couldn't predict the question: \"Key 'go' not present\"\n",
            "Couldn't predict the question: \"Key 'say' not present\"\n",
            "Couldn't predict the question: \"Key 'go' not present\"\n",
            "Couldn't predict the question: \"Key 'see' not present\"\n",
            "Couldn't predict the question: \"Key 'go' not present\"\n",
            "Couldn't predict the question: \"Key 'go' not present\"\n",
            "Couldn't predict the question: \"Key 'go' not present\"\n",
            "Couldn't predict the question: \"Key 'go' not present\"\n",
            "Couldn't predict the question: \"Key 'go' not present\"\n",
            "Couldn't predict the question: \"Key 'go' not present\"\n",
            "Couldn't predict the question: \"Key 'go' not present\"\n",
            "Couldn't predict the question: \"Key 'go' not present\"\n",
            "Couldn't predict the question: \"Key 'go' not present\"\n",
            "Couldn't predict the question: \"Key 'go' not present\"\n",
            "Couldn't predict the question: \"Key 'go' not present\"\n",
            "Couldn't predict the question: \"Key 'go' not present\"\n",
            "Couldn't predict the question: \"Key 'go' not present\"\n",
            "Couldn't predict the question: \"Key 'go' not present\"\n",
            "Couldn't predict the question: \"Key 'go' not present\"\n",
            "Couldn't predict the question: \"Key 'go' not present\"\n",
            "Couldn't predict the question: \"Key 'go' not present\"\n",
            "Couldn't predict the question: \"Key 'go' not present\"\n",
            "Couldn't predict the question: \"Key 'move' not present\"\n",
            "Couldn't predict the question: \"Key 'say' not present\"\n",
            "Couldn't predict the question: \"Key 'see' not present\"\n"
          ]
        },
        {
          "name": "stderr",
          "output_type": "stream",
          "text": [
            " 69%|██████▉   | 13504/19544 [01:58<00:36, 164.21it/s]"
          ]
        },
        {
          "name": "stdout",
          "output_type": "stream",
          "text": [
            "Couldn't predict the question: \"Key 'go' not present\"\n",
            "Couldn't predict the question: \"Key 'move' not present\"\n",
            "Couldn't predict the question: \"Key 'say' not present\"\n",
            "Couldn't predict the question: \"Key 'see' not present\"\n"
          ]
        },
        {
          "name": "stderr",
          "output_type": "stream",
          "text": [
            " 69%|██████▉   | 13522/19544 [01:58<00:37, 159.95it/s]"
          ]
        },
        {
          "name": "stdout",
          "output_type": "stream",
          "text": [
            "Couldn't predict the question: \"Key 'go' not present\"\n",
            "Couldn't predict the question: \"Key 'move' not present\"\n",
            "Couldn't predict the question: \"Key 'say' not present\"\n",
            "Couldn't predict the question: \"Key 'see' not present\"\n"
          ]
        },
        {
          "name": "stderr",
          "output_type": "stream",
          "text": [
            " 69%|██████▉   | 13555/19544 [01:58<00:40, 148.49it/s]"
          ]
        },
        {
          "name": "stdout",
          "output_type": "stream",
          "text": [
            "Couldn't predict the question: \"Key 'go' not present\"\n",
            "Couldn't predict the question: \"Key 'move' not present\"\n",
            "Couldn't predict the question: \"Key 'say' not present\"\n",
            "Couldn't predict the question: \"Key 'see' not present\"\n"
          ]
        },
        {
          "name": "stderr",
          "output_type": "stream",
          "text": [
            " 70%|██████▉   | 13586/19544 [01:59<00:42, 141.30it/s]"
          ]
        },
        {
          "name": "stdout",
          "output_type": "stream",
          "text": [
            "Couldn't predict the question: \"Key 'go' not present\"\n",
            "Couldn't predict the question: \"Key 'move' not present\"\n",
            "Couldn't predict the question: \"Key 'say' not present\"\n",
            "Couldn't predict the question: \"Key 'see' not present\"\n"
          ]
        },
        {
          "name": "stderr",
          "output_type": "stream",
          "text": [
            " 70%|██████▉   | 13617/19544 [01:59<00:43, 137.74it/s]"
          ]
        },
        {
          "name": "stdout",
          "output_type": "stream",
          "text": [
            "Couldn't predict the question: \"Key 'go' not present\"\n",
            "Couldn't predict the question: \"Key 'move' not present\"\n",
            "Couldn't predict the question: \"Key 'say' not present\"\n",
            "Couldn't predict the question: \"Key 'see' not present\"\n"
          ]
        },
        {
          "name": "stderr",
          "output_type": "stream",
          "text": [
            " 70%|██████▉   | 13676/19544 [01:59<00:27, 211.54it/s]"
          ]
        },
        {
          "name": "stdout",
          "output_type": "stream",
          "text": [
            "Couldn't predict the question: \"Key 'go' not present\"\n",
            "Couldn't predict the question: \"Key 'move' not present\"\n",
            "Couldn't predict the question: \"Key 'move' not present\"\n",
            "Couldn't predict the question: \"Key 'move' not present\"\n",
            "Couldn't predict the question: \"Key 'move' not present\"\n",
            "Couldn't predict the question: \"Key 'say' not present\"\n",
            "Couldn't predict the question: \"Key 'move' not present\"\n",
            "Couldn't predict the question: \"Key 'see' not present\"\n",
            "Couldn't predict the question: \"Key 'move' not present\"\n",
            "Couldn't predict the question: \"Key 'move' not present\"\n",
            "Couldn't predict the question: \"Key 'move' not present\"\n",
            "Couldn't predict the question: \"Key 'move' not present\"\n",
            "Couldn't predict the question: \"Key 'move' not present\"\n",
            "Couldn't predict the question: \"Key 'move' not present\"\n",
            "Couldn't predict the question: \"Key 'move' not present\"\n",
            "Couldn't predict the question: \"Key 'move' not present\"\n",
            "Couldn't predict the question: \"Key 'move' not present\"\n",
            "Couldn't predict the question: \"Key 'move' not present\"\n",
            "Couldn't predict the question: \"Key 'move' not present\"\n",
            "Couldn't predict the question: \"Key 'move' not present\"\n",
            "Couldn't predict the question: \"Key 'move' not present\"\n",
            "Couldn't predict the question: \"Key 'move' not present\"\n",
            "Couldn't predict the question: \"Key 'move' not present\"\n",
            "Couldn't predict the question: \"Key 'move' not present\"\n",
            "Couldn't predict the question: \"Key 'move' not present\"\n",
            "Couldn't predict the question: \"Key 'move' not present\"\n",
            "Couldn't predict the question: \"Key 'go' not present\"\n",
            "Couldn't predict the question: \"Key 'move' not present\"\n",
            "Couldn't predict the question: \"Key 'move' not present\"\n",
            "Couldn't predict the question: \"Key 'move' not present\"\n",
            "Couldn't predict the question: \"Key 'move' not present\"\n",
            "Couldn't predict the question: \"Key 'move' not present\"\n",
            "Couldn't predict the question: \"Key 'move' not present\"\n",
            "Couldn't predict the question: \"Key 'say' not present\"\n",
            "Couldn't predict the question: \"Key 'see' not present\"\n"
          ]
        },
        {
          "name": "stderr",
          "output_type": "stream",
          "text": [
            " 70%|███████   | 13719/19544 [01:59<00:36, 159.29it/s]"
          ]
        },
        {
          "name": "stdout",
          "output_type": "stream",
          "text": [
            "Couldn't predict the question: \"Key 'go' not present\"\n",
            "Couldn't predict the question: \"Key 'move' not present\"\n",
            "Couldn't predict the question: \"Key 'say' not present\"\n",
            "Couldn't predict the question: \"Key 'see' not present\"\n"
          ]
        },
        {
          "name": "stderr",
          "output_type": "stream",
          "text": [
            " 70%|███████   | 13737/19544 [02:00<00:38, 150.12it/s]"
          ]
        },
        {
          "name": "stdout",
          "output_type": "stream",
          "text": [
            "Couldn't predict the question: \"Key 'go' not present\"\n",
            "Couldn't predict the question: \"Key 'move' not present\"\n",
            "Couldn't predict the question: \"Key 'say' not present\"\n",
            "Couldn't predict the question: \"Key 'see' not present\"\n"
          ]
        },
        {
          "name": "stderr",
          "output_type": "stream",
          "text": [
            " 70%|███████   | 13768/19544 [02:00<00:42, 135.20it/s]"
          ]
        },
        {
          "name": "stdout",
          "output_type": "stream",
          "text": [
            "Couldn't predict the question: \"Key 'go' not present\"\n",
            "Couldn't predict the question: \"Key 'move' not present\"\n",
            "Couldn't predict the question: \"Key 'say' not present\"\n",
            "Couldn't predict the question: \"Key 'see' not present\"\n"
          ]
        },
        {
          "name": "stderr",
          "output_type": "stream",
          "text": [
            " 71%|███████   | 13836/19544 [02:00<00:29, 191.98it/s]"
          ]
        },
        {
          "name": "stdout",
          "output_type": "stream",
          "text": [
            "Couldn't predict the question: \"Key 'go' not present\"\n",
            "Couldn't predict the question: \"Key 'move' not present\"\n",
            "Couldn't predict the question: \"Key 'say' not present\"\n",
            "Couldn't predict the question: \"Key 'see' not present\"\n",
            "Couldn't predict the question: \"Key 'say' not present\"\n",
            "Couldn't predict the question: \"Key 'say' not present\"\n",
            "Couldn't predict the question: \"Key 'say' not present\"\n",
            "Couldn't predict the question: \"Key 'say' not present\"\n",
            "Couldn't predict the question: \"Key 'say' not present\"\n",
            "Couldn't predict the question: \"Key 'say' not present\"\n",
            "Couldn't predict the question: \"Key 'say' not present\"\n",
            "Couldn't predict the question: \"Key 'say' not present\"\n",
            "Couldn't predict the question: \"Key 'say' not present\"\n",
            "Couldn't predict the question: \"Key 'say' not present\"\n",
            "Couldn't predict the question: \"Key 'say' not present\"\n",
            "Couldn't predict the question: \"Key 'say' not present\"\n",
            "Couldn't predict the question: \"Key 'say' not present\"\n",
            "Couldn't predict the question: \"Key 'say' not present\"\n",
            "Couldn't predict the question: \"Key 'say' not present\"\n",
            "Couldn't predict the question: \"Key 'say' not present\"\n",
            "Couldn't predict the question: \"Key 'say' not present\"\n",
            "Couldn't predict the question: \"Key 'say' not present\"\n",
            "Couldn't predict the question: \"Key 'go' not present\"\n",
            "Couldn't predict the question: \"Key 'say' not present\"\n",
            "Couldn't predict the question: \"Key 'say' not present\"\n",
            "Couldn't predict the question: \"Key 'say' not present\"\n",
            "Couldn't predict the question: \"Key 'say' not present\"\n",
            "Couldn't predict the question: \"Key 'say' not present\"\n",
            "Couldn't predict the question: \"Key 'say' not present\"\n",
            "Couldn't predict the question: \"Key 'move' not present\"\n",
            "Couldn't predict the question: \"Key 'say' not present\"\n",
            "Couldn't predict the question: \"Key 'say' not present\"\n",
            "Couldn't predict the question: \"Key 'say' not present\"\n",
            "Couldn't predict the question: \"Key 'say' not present\"\n",
            "Couldn't predict the question: \"Key 'see' not present\"\n"
          ]
        },
        {
          "name": "stderr",
          "output_type": "stream",
          "text": [
            " 71%|███████   | 13901/19544 [02:00<00:24, 226.83it/s]"
          ]
        },
        {
          "name": "stdout",
          "output_type": "stream",
          "text": [
            "Couldn't predict the question: \"Key 'go' not present\"\n",
            "Couldn't predict the question: \"Key 'move' not present\"\n",
            "Couldn't predict the question: \"Key 'say' not present\"\n",
            "Couldn't predict the question: \"Key 'see' not present\"\n",
            "Couldn't predict the question: \"Key 'see' not present\"\n",
            "Couldn't predict the question: \"Key 'see' not present\"\n",
            "Couldn't predict the question: \"Key 'see' not present\"\n",
            "Couldn't predict the question: \"Key 'see' not present\"\n",
            "Couldn't predict the question: \"Key 'see' not present\"\n",
            "Couldn't predict the question: \"Key 'see' not present\"\n",
            "Couldn't predict the question: \"Key 'see' not present\"\n",
            "Couldn't predict the question: \"Key 'see' not present\"\n",
            "Couldn't predict the question: \"Key 'see' not present\"\n",
            "Couldn't predict the question: \"Key 'see' not present\"\n",
            "Couldn't predict the question: \"Key 'see' not present\"\n",
            "Couldn't predict the question: \"Key 'see' not present\"\n",
            "Couldn't predict the question: \"Key 'see' not present\"\n",
            "Couldn't predict the question: \"Key 'see' not present\"\n",
            "Couldn't predict the question: \"Key 'see' not present\"\n",
            "Couldn't predict the question: \"Key 'see' not present\"\n",
            "Couldn't predict the question: \"Key 'see' not present\"\n",
            "Couldn't predict the question: \"Key 'go' not present\"\n",
            "Couldn't predict the question: \"Key 'see' not present\"\n",
            "Couldn't predict the question: \"Key 'see' not present\"\n",
            "Couldn't predict the question: \"Key 'see' not present\"\n",
            "Couldn't predict the question: \"Key 'see' not present\"\n",
            "Couldn't predict the question: \"Key 'see' not present\"\n",
            "Couldn't predict the question: \"Key 'see' not present\"\n",
            "Couldn't predict the question: \"Key 'move' not present\"\n",
            "Couldn't predict the question: \"Key 'see' not present\"\n",
            "Couldn't predict the question: \"Key 'see' not present\"\n",
            "Couldn't predict the question: \"Key 'see' not present\"\n",
            "Couldn't predict the question: \"Key 'see' not present\"\n",
            "Couldn't predict the question: \"Key 'say' not present\"\n",
            "Couldn't predict the question: \"Key 'see' not present\"\n"
          ]
        },
        {
          "name": "stderr",
          "output_type": "stream",
          "text": [
            " 71%|███████▏  | 13927/19544 [02:01<00:30, 186.36it/s]"
          ]
        },
        {
          "name": "stdout",
          "output_type": "stream",
          "text": [
            "Couldn't predict the question: \"Key 'go' not present\"\n",
            "Couldn't predict the question: \"Key 'move' not present\"\n",
            "Couldn't predict the question: \"Key 'say' not present\"\n",
            "Couldn't predict the question: \"Key 'see' not present\"\n"
          ]
        },
        {
          "name": "stderr",
          "output_type": "stream",
          "text": [
            " 71%|███████▏  | 13949/19544 [02:01<00:34, 160.46it/s]"
          ]
        },
        {
          "name": "stdout",
          "output_type": "stream",
          "text": [
            "Couldn't predict the question: \"Key 'go' not present\"\n",
            "Couldn't predict the question: \"Key 'move' not present\"\n",
            "Couldn't predict the question: \"Key 'say' not present\"\n",
            "Couldn't predict the question: \"Key 'see' not present\"\n"
          ]
        },
        {
          "name": "stderr",
          "output_type": "stream",
          "text": [
            " 72%|███████▏  | 13985/19544 [02:01<00:38, 142.95it/s]"
          ]
        },
        {
          "name": "stdout",
          "output_type": "stream",
          "text": [
            "Couldn't predict the question: \"Key 'go' not present\"\n",
            "Couldn't predict the question: \"Key 'move' not present\"\n",
            "Couldn't predict the question: \"Key 'say' not present\"\n",
            "Couldn't predict the question: \"Key 'see' not present\"\n"
          ]
        },
        {
          "name": "stderr",
          "output_type": "stream",
          "text": [
            " 72%|███████▏  | 14031/19544 [02:01<00:40, 136.97it/s]"
          ]
        },
        {
          "name": "stdout",
          "output_type": "stream",
          "text": [
            "Couldn't predict the question: \"Key 'go' not present\"\n",
            "Couldn't predict the question: \"Key 'move' not present\"\n",
            "Couldn't predict the question: \"Key 'say' not present\"\n",
            "Couldn't predict the question: \"Key 'see' not present\"\n"
          ]
        },
        {
          "name": "stderr",
          "output_type": "stream",
          "text": [
            " 72%|███████▏  | 14060/19544 [02:02<00:42, 128.46it/s]"
          ]
        },
        {
          "name": "stdout",
          "output_type": "stream",
          "text": [
            "Couldn't predict the question: \"Key 'go' not present\"\n",
            "Couldn't predict the question: \"Key 'move' not present\"\n",
            "Couldn't predict the question: \"Key 'say' not present\"\n",
            "Couldn't predict the question: \"Key 'see' not present\"\n"
          ]
        },
        {
          "name": "stderr",
          "output_type": "stream",
          "text": [
            " 72%|███████▏  | 14087/19544 [02:02<00:46, 116.91it/s]"
          ]
        },
        {
          "name": "stdout",
          "output_type": "stream",
          "text": [
            "Couldn't predict the question: \"Key 'go' not present\"\n",
            "Couldn't predict the question: \"Key 'move' not present\"\n",
            "Couldn't predict the question: \"Key 'say' not present\"\n",
            "Couldn't predict the question: \"Key 'see' not present\"\n"
          ]
        },
        {
          "name": "stderr",
          "output_type": "stream",
          "text": [
            " 72%|███████▏  | 14111/19544 [02:02<00:52, 103.46it/s]"
          ]
        },
        {
          "name": "stdout",
          "output_type": "stream",
          "text": [
            "Couldn't predict the question: \"Key 'go' not present\"\n",
            "Couldn't predict the question: \"Key 'move' not present\"\n",
            "Couldn't predict the question: \"Key 'say' not present\"\n",
            "Couldn't predict the question: \"Key 'see' not present\"\n"
          ]
        },
        {
          "name": "stderr",
          "output_type": "stream",
          "text": [
            " 72%|███████▏  | 14145/19544 [02:03<00:51, 104.63it/s]"
          ]
        },
        {
          "name": "stdout",
          "output_type": "stream",
          "text": [
            "Couldn't predict the question: \"Key 'go' not present\"\n",
            "Couldn't predict the question: \"Key 'move' not present\"\n",
            "Couldn't predict the question: \"Key 'say' not present\"\n",
            "Couldn't predict the question: \"Key 'see' not present\"\n"
          ]
        },
        {
          "name": "stderr",
          "output_type": "stream",
          "text": [
            " 73%|███████▎  | 14180/19544 [02:03<00:51, 104.99it/s]"
          ]
        },
        {
          "name": "stdout",
          "output_type": "stream",
          "text": [
            "Couldn't predict the question: \"Key 'go' not present\"\n",
            "Couldn't predict the question: \"Key 'move' not present\"\n",
            "Couldn't predict the question: \"Key 'say' not present\"\n",
            "Couldn't predict the question: \"Key 'see' not present\"\n"
          ]
        },
        {
          "name": "stderr",
          "output_type": "stream",
          "text": [
            " 96%|█████████▌| 18698/19544 [02:44<00:07, 120.74it/s]"
          ]
        },
        {
          "name": "stdout",
          "output_type": "stream",
          "text": [
            "Couldn't predict the question: \"Key 'go' not present\"\n",
            "Couldn't predict the question: \"Key 'say' not present\"\n",
            "Couldn't predict the question: \"Key 'see' not present\"\n"
          ]
        },
        {
          "name": "stderr",
          "output_type": "stream",
          "text": [
            " 96%|█████████▌| 18725/19544 [02:44<00:06, 126.27it/s]"
          ]
        },
        {
          "name": "stdout",
          "output_type": "stream",
          "text": [
            "Couldn't predict the question: \"Key 'go' not present\"\n",
            "Couldn't predict the question: \"Key 'say' not present\"\n",
            "Couldn't predict the question: \"Key 'see' not present\"\n"
          ]
        },
        {
          "name": "stderr",
          "output_type": "stream",
          "text": [
            " 96%|█████████▌| 18751/19544 [02:44<00:06, 124.70it/s]"
          ]
        },
        {
          "name": "stdout",
          "output_type": "stream",
          "text": [
            "Couldn't predict the question: \"Key 'go' not present\"\n",
            "Couldn't predict the question: \"Key 'say' not present\"\n",
            "Couldn't predict the question: \"Key 'see' not present\"\n"
          ]
        },
        {
          "name": "stderr",
          "output_type": "stream",
          "text": [
            " 96%|█████████▌| 18778/19544 [02:44<00:06, 126.00it/s]"
          ]
        },
        {
          "name": "stdout",
          "output_type": "stream",
          "text": [
            "Couldn't predict the question: \"Key 'go' not present\"\n",
            "Couldn't predict the question: \"Key 'say' not present\"\n",
            "Couldn't predict the question: \"Key 'see' not present\"\n"
          ]
        },
        {
          "name": "stderr",
          "output_type": "stream",
          "text": [
            " 96%|█████████▌| 18806/19544 [02:45<00:05, 129.12it/s]"
          ]
        },
        {
          "name": "stdout",
          "output_type": "stream",
          "text": [
            "Couldn't predict the question: \"Key 'go' not present\"\n",
            "Couldn't predict the question: \"Key 'say' not present\"\n",
            "Couldn't predict the question: \"Key 'see' not present\"\n"
          ]
        },
        {
          "name": "stderr",
          "output_type": "stream",
          "text": [
            " 96%|█████████▋| 18834/19544 [02:45<00:05, 131.62it/s]"
          ]
        },
        {
          "name": "stdout",
          "output_type": "stream",
          "text": [
            "Couldn't predict the question: \"Key 'go' not present\"\n",
            "Couldn't predict the question: \"Key 'say' not present\"\n",
            "Couldn't predict the question: \"Key 'see' not present\"\n"
          ]
        },
        {
          "name": "stderr",
          "output_type": "stream",
          "text": [
            " 97%|█████████▋| 18862/19544 [02:45<00:05, 130.32it/s]"
          ]
        },
        {
          "name": "stdout",
          "output_type": "stream",
          "text": [
            "Couldn't predict the question: \"Key 'go' not present\"\n",
            "Couldn't predict the question: \"Key 'say' not present\"\n",
            "Couldn't predict the question: \"Key 'see' not present\"\n"
          ]
        },
        {
          "name": "stderr",
          "output_type": "stream",
          "text": [
            " 97%|█████████▋| 18917/19544 [02:45<00:03, 204.15it/s]"
          ]
        },
        {
          "name": "stdout",
          "output_type": "stream",
          "text": [
            "Couldn't predict the question: \"Key 'go' not present\"\n",
            "Couldn't predict the question: \"Key 'go' not present\"\n",
            "Couldn't predict the question: \"Key 'go' not present\"\n",
            "Couldn't predict the question: \"Key 'go' not present\"\n",
            "Couldn't predict the question: \"Key 'go' not present\"\n",
            "Couldn't predict the question: \"Key 'go' not present\"\n",
            "Couldn't predict the question: \"Key 'say' not present\"\n",
            "Couldn't predict the question: \"Key 'go' not present\"\n",
            "Couldn't predict the question: \"Key 'go' not present\"\n",
            "Couldn't predict the question: \"Key 'see' not present\"\n",
            "Couldn't predict the question: \"Key 'go' not present\"\n",
            "Couldn't predict the question: \"Key 'go' not present\"\n",
            "Couldn't predict the question: \"Key 'go' not present\"\n",
            "Couldn't predict the question: \"Key 'go' not present\"\n",
            "Couldn't predict the question: \"Key 'go' not present\"\n",
            "Couldn't predict the question: \"Key 'go' not present\"\n",
            "Couldn't predict the question: \"Key 'go' not present\"\n",
            "Couldn't predict the question: \"Key 'go' not present\"\n",
            "Couldn't predict the question: \"Key 'go' not present\"\n",
            "Couldn't predict the question: \"Key 'go' not present\"\n",
            "Couldn't predict the question: \"Key 'go' not present\"\n",
            "Couldn't predict the question: \"Key 'go' not present\"\n",
            "Couldn't predict the question: \"Key 'go' not present\"\n",
            "Couldn't predict the question: \"Key 'go' not present\"\n",
            "Couldn't predict the question: \"Key 'go' not present\"\n",
            "Couldn't predict the question: \"Key 'go' not present\"\n",
            "Couldn't predict the question: \"Key 'go' not present\"\n",
            "Couldn't predict the question: \"Key 'go' not present\"\n",
            "Couldn't predict the question: \"Key 'go' not present\"\n",
            "Couldn't predict the question: \"Key 'say' not present\"\n",
            "Couldn't predict the question: \"Key 'see' not present\"\n"
          ]
        },
        {
          "name": "stderr",
          "output_type": "stream",
          "text": [
            " 97%|█████████▋| 18939/19544 [02:46<00:03, 170.47it/s]"
          ]
        },
        {
          "name": "stdout",
          "output_type": "stream",
          "text": [
            "Couldn't predict the question: \"Key 'go' not present\"\n",
            "Couldn't predict the question: \"Key 'say' not present\"\n",
            "Couldn't predict the question: \"Key 'see' not present\"\n"
          ]
        },
        {
          "name": "stderr",
          "output_type": "stream",
          "text": [
            " 97%|█████████▋| 18975/19544 [02:46<00:03, 144.59it/s]"
          ]
        },
        {
          "name": "stdout",
          "output_type": "stream",
          "text": [
            "Couldn't predict the question: \"Key 'go' not present\"\n",
            "Couldn't predict the question: \"Key 'say' not present\"\n",
            "Couldn't predict the question: \"Key 'see' not present\"\n"
          ]
        },
        {
          "name": "stderr",
          "output_type": "stream",
          "text": [
            " 97%|█████████▋| 19006/19544 [02:46<00:03, 135.69it/s]"
          ]
        },
        {
          "name": "stdout",
          "output_type": "stream",
          "text": [
            "Couldn't predict the question: \"Key 'go' not present\"\n",
            "Couldn't predict the question: \"Key 'say' not present\"\n",
            "Couldn't predict the question: \"Key 'see' not present\"\n"
          ]
        },
        {
          "name": "stderr",
          "output_type": "stream",
          "text": [
            " 97%|█████████▋| 19034/19544 [02:46<00:03, 129.82it/s]"
          ]
        },
        {
          "name": "stdout",
          "output_type": "stream",
          "text": [
            "Couldn't predict the question: \"Key 'go' not present\"\n",
            "Couldn't predict the question: \"Key 'say' not present\"\n",
            "Couldn't predict the question: \"Key 'see' not present\"\n"
          ]
        },
        {
          "name": "stderr",
          "output_type": "stream",
          "text": [
            " 98%|█████████▊| 19062/19544 [02:46<00:03, 128.12it/s]"
          ]
        },
        {
          "name": "stdout",
          "output_type": "stream",
          "text": [
            "Couldn't predict the question: \"Key 'go' not present\"\n",
            "Couldn't predict the question: \"Key 'say' not present\"\n",
            "Couldn't predict the question: \"Key 'see' not present\"\n"
          ]
        },
        {
          "name": "stderr",
          "output_type": "stream",
          "text": [
            " 98%|█████████▊| 19116/19544 [02:47<00:02, 201.58it/s]"
          ]
        },
        {
          "name": "stdout",
          "output_type": "stream",
          "text": [
            "Couldn't predict the question: \"Key 'go' not present\"\n",
            "Couldn't predict the question: \"Key 'say' not present\"\n",
            "Couldn't predict the question: \"Key 'say' not present\"\n",
            "Couldn't predict the question: \"Key 'see' not present\"\n",
            "Couldn't predict the question: \"Key 'say' not present\"\n",
            "Couldn't predict the question: \"Key 'say' not present\"\n",
            "Couldn't predict the question: \"Key 'say' not present\"\n",
            "Couldn't predict the question: \"Key 'say' not present\"\n",
            "Couldn't predict the question: \"Key 'say' not present\"\n",
            "Couldn't predict the question: \"Key 'say' not present\"\n",
            "Couldn't predict the question: \"Key 'say' not present\"\n",
            "Couldn't predict the question: \"Key 'say' not present\"\n",
            "Couldn't predict the question: \"Key 'say' not present\"\n",
            "Couldn't predict the question: \"Key 'say' not present\"\n",
            "Couldn't predict the question: \"Key 'say' not present\"\n",
            "Couldn't predict the question: \"Key 'say' not present\"\n",
            "Couldn't predict the question: \"Key 'say' not present\"\n",
            "Couldn't predict the question: \"Key 'say' not present\"\n",
            "Couldn't predict the question: \"Key 'say' not present\"\n",
            "Couldn't predict the question: \"Key 'say' not present\"\n",
            "Couldn't predict the question: \"Key 'say' not present\"\n",
            "Couldn't predict the question: \"Key 'say' not present\"\n",
            "Couldn't predict the question: \"Key 'say' not present\"\n",
            "Couldn't predict the question: \"Key 'go' not present\"\n",
            "Couldn't predict the question: \"Key 'say' not present\"\n",
            "Couldn't predict the question: \"Key 'say' not present\"\n",
            "Couldn't predict the question: \"Key 'say' not present\"\n",
            "Couldn't predict the question: \"Key 'say' not present\"\n",
            "Couldn't predict the question: \"Key 'say' not present\"\n",
            "Couldn't predict the question: \"Key 'say' not present\"\n",
            "Couldn't predict the question: \"Key 'see' not present\"\n"
          ]
        },
        {
          "name": "stderr",
          "output_type": "stream",
          "text": [
            " 98%|█████████▊| 19156/19544 [02:47<00:02, 156.85it/s]"
          ]
        },
        {
          "name": "stdout",
          "output_type": "stream",
          "text": [
            "Couldn't predict the question: \"Key 'go' not present\"\n",
            "Couldn't predict the question: \"Key 'say' not present\"\n",
            "Couldn't predict the question: \"Key 'see' not present\"\n"
          ]
        },
        {
          "name": "stderr",
          "output_type": "stream",
          "text": [
            " 98%|█████████▊| 19198/19544 [02:47<00:01, 219.29it/s]"
          ]
        },
        {
          "name": "stdout",
          "output_type": "stream",
          "text": [
            "Couldn't predict the question: \"Key 'go' not present\"\n",
            "Couldn't predict the question: \"Key 'say' not present\"\n",
            "Couldn't predict the question: \"Key 'see' not present\"\n",
            "Couldn't predict the question: \"Key 'see' not present\"\n",
            "Couldn't predict the question: \"Key 'see' not present\"\n",
            "Couldn't predict the question: \"Key 'see' not present\"\n",
            "Couldn't predict the question: \"Key 'see' not present\"\n",
            "Couldn't predict the question: \"Key 'see' not present\"\n",
            "Couldn't predict the question: \"Key 'see' not present\"\n",
            "Couldn't predict the question: \"Key 'see' not present\"\n",
            "Couldn't predict the question: \"Key 'see' not present\"\n",
            "Couldn't predict the question: \"Key 'see' not present\"\n",
            "Couldn't predict the question: \"Key 'see' not present\"\n",
            "Couldn't predict the question: \"Key 'see' not present\"\n",
            "Couldn't predict the question: \"Key 'see' not present\"\n",
            "Couldn't predict the question: \"Key 'see' not present\"\n",
            "Couldn't predict the question: \"Key 'see' not present\"\n",
            "Couldn't predict the question: \"Key 'see' not present\"\n",
            "Couldn't predict the question: \"Key 'see' not present\"\n",
            "Couldn't predict the question: \"Key 'see' not present\"\n",
            "Couldn't predict the question: \"Key 'see' not present\"\n",
            "Couldn't predict the question: \"Key 'go' not present\"\n",
            "Couldn't predict the question: \"Key 'see' not present\"\n",
            "Couldn't predict the question: \"Key 'see' not present\"\n",
            "Couldn't predict the question: \"Key 'see' not present\"\n",
            "Couldn't predict the question: \"Key 'see' not present\"\n",
            "Couldn't predict the question: \"Key 'see' not present\"\n",
            "Couldn't predict the question: \"Key 'see' not present\"\n",
            "Couldn't predict the question: \"Key 'say' not present\"\n",
            "Couldn't predict the question: \"Key 'see' not present\"\n",
            "Couldn't predict the question: \"Key 'see' not present\"\n"
          ]
        },
        {
          "name": "stderr",
          "output_type": "stream",
          "text": [
            " 98%|█████████▊| 19222/19544 [02:47<00:01, 180.28it/s]"
          ]
        },
        {
          "name": "stdout",
          "output_type": "stream",
          "text": [
            "Couldn't predict the question: \"Key 'go' not present\"\n",
            "Couldn't predict the question: \"Key 'say' not present\"\n",
            "Couldn't predict the question: \"Key 'see' not present\"\n"
          ]
        },
        {
          "name": "stderr",
          "output_type": "stream",
          "text": [
            " 99%|█████████▊| 19262/19544 [02:48<00:01, 153.73it/s]"
          ]
        },
        {
          "name": "stdout",
          "output_type": "stream",
          "text": [
            "Couldn't predict the question: \"Key 'go' not present\"\n",
            "Couldn't predict the question: \"Key 'say' not present\"\n",
            "Couldn't predict the question: \"Key 'see' not present\"\n"
          ]
        },
        {
          "name": "stderr",
          "output_type": "stream",
          "text": [
            " 99%|█████████▊| 19295/19544 [02:48<00:01, 137.96it/s]"
          ]
        },
        {
          "name": "stdout",
          "output_type": "stream",
          "text": [
            "Couldn't predict the question: \"Key 'go' not present\"\n",
            "Couldn't predict the question: \"Key 'say' not present\"\n",
            "Couldn't predict the question: \"Key 'see' not present\"\n"
          ]
        },
        {
          "name": "stderr",
          "output_type": "stream",
          "text": [
            " 99%|█████████▉| 19310/19544 [02:48<00:01, 138.94it/s]"
          ]
        },
        {
          "name": "stdout",
          "output_type": "stream",
          "text": [
            "Couldn't predict the question: \"Key 'go' not present\"\n",
            "Couldn't predict the question: \"Key 'say' not present\"\n",
            "Couldn't predict the question: \"Key 'see' not present\"\n"
          ]
        },
        {
          "name": "stderr",
          "output_type": "stream",
          "text": [
            " 99%|█████████▉| 19340/19544 [02:48<00:01, 134.68it/s]"
          ]
        },
        {
          "name": "stdout",
          "output_type": "stream",
          "text": [
            "Couldn't predict the question: \"Key 'go' not present\"\n",
            "Couldn't predict the question: \"Key 'say' not present\"\n",
            "Couldn't predict the question: \"Key 'see' not present\"\n"
          ]
        },
        {
          "name": "stderr",
          "output_type": "stream",
          "text": [
            " 99%|█████████▉| 19369/19544 [02:48<00:01, 134.12it/s]"
          ]
        },
        {
          "name": "stdout",
          "output_type": "stream",
          "text": [
            "Couldn't predict the question: \"Key 'go' not present\"\n",
            "Couldn't predict the question: \"Key 'say' not present\"\n",
            "Couldn't predict the question: \"Key 'see' not present\"\n"
          ]
        },
        {
          "name": "stderr",
          "output_type": "stream",
          "text": [
            " 99%|█████████▉| 19397/19544 [02:49<00:01, 131.57it/s]"
          ]
        },
        {
          "name": "stdout",
          "output_type": "stream",
          "text": [
            "Couldn't predict the question: \"Key 'go' not present\"\n",
            "Couldn't predict the question: \"Key 'say' not present\"\n",
            "Couldn't predict the question: \"Key 'see' not present\"\n"
          ]
        },
        {
          "name": "stderr",
          "output_type": "stream",
          "text": [
            " 99%|█████████▉| 19425/19544 [02:49<00:00, 129.30it/s]"
          ]
        },
        {
          "name": "stdout",
          "output_type": "stream",
          "text": [
            "Couldn't predict the question: \"Key 'go' not present\"\n",
            "Couldn't predict the question: \"Key 'say' not present\"\n",
            "Couldn't predict the question: \"Key 'see' not present\"\n"
          ]
        },
        {
          "name": "stderr",
          "output_type": "stream",
          "text": [
            "100%|█████████▉| 19453/19544 [02:49<00:00, 130.83it/s]"
          ]
        },
        {
          "name": "stdout",
          "output_type": "stream",
          "text": [
            "Couldn't predict the question: \"Key 'go' not present\"\n",
            "Couldn't predict the question: \"Key 'say' not present\"\n",
            "Couldn't predict the question: \"Key 'see' not present\"\n"
          ]
        },
        {
          "name": "stderr",
          "output_type": "stream",
          "text": [
            "100%|█████████▉| 19481/19544 [02:49<00:00, 130.39it/s]"
          ]
        },
        {
          "name": "stdout",
          "output_type": "stream",
          "text": [
            "Couldn't predict the question: \"Key 'go' not present\"\n",
            "Couldn't predict the question: \"Key 'say' not present\"\n",
            "Couldn't predict the question: \"Key 'see' not present\"\n"
          ]
        },
        {
          "name": "stderr",
          "output_type": "stream",
          "text": [
            "100%|█████████▉| 19509/19544 [02:50<00:00, 128.77it/s]"
          ]
        },
        {
          "name": "stdout",
          "output_type": "stream",
          "text": [
            "Couldn't predict the question: \"Key 'go' not present\"\n",
            "Couldn't predict the question: \"Key 'say' not present\"\n",
            "Couldn't predict the question: \"Key 'see' not present\"\n"
          ]
        },
        {
          "name": "stderr",
          "output_type": "stream",
          "text": [
            "100%|██████████| 19544/19544 [02:50<00:00, 114.70it/s]"
          ]
        },
        {
          "name": "stdout",
          "output_type": "stream",
          "text": [
            "Couldn't predict the question: \"Key 'go' not present\"\n",
            "Couldn't predict the question: \"Key 'say' not present\"\n",
            "Couldn't predict the question: \"Key 'see' not present\"\n"
          ]
        },
        {
          "name": "stderr",
          "output_type": "stream",
          "text": [
            "\n"
          ]
        }
      ],
      "source": [
        "import pandas as pd\n",
        "# Do predictions and preserve the gold answers (word_D)\n",
        "preds = []\n",
        "golds = []\n",
        "\n",
        "data_predictions = data.copy()\n",
        "data_predictions[\"Gold\"] = None\n",
        "data_predictions[\"Prediction\"] = None\n",
        "\n",
        "for index, analogy in tqdm(enumerate(data[\"Question\"]), total = len(data[\"Question\"])):\n",
        "      # TODO6: Write your code here to use your trained word embeddings for getting predictions of the analogy task.\n",
        "      # You should also preserve the gold answers during iterations for evaluations later.\n",
        "      \"\"\" Hints\n",
        "      # Unpack the analogy (e.g., \"man\", \"woman\", \"king\", \"queen\")\n",
        "      # Perform vector arithmetic: word_b + word_c - word_a should be close to word_d\n",
        "      # Source: https://github.com/piskvorky/gensim/blob/develop/gensim/models/keyedvectors.py#L776\n",
        "      # Mikolov et al., 2013: big - biggest and small - smallest\n",
        "      # Mikolov et al., 2013: X = vector(”biggest”) − vector(”big”) + vector(”small”).\n",
        "      \"\"\"\n",
        "      word_a = analogy.split(\" \")[0].lower()\n",
        "      word_b = analogy.split(\" \")[1].lower()\n",
        "      word_c = analogy.split(\" \")[2].lower()\n",
        "      word_d = analogy.split(\" \")[3].lower()\n",
        "      try:\n",
        "            pred = word2vec_model.wv[word_b] + word2vec_model.wv[word_c] - word2vec_model.wv[word_a]\n",
        "            most_similar = word2vec_model.wv.most_similar(positive = pred, topn = 1)[0][0]\n",
        "            preds.append(most_similar)\n",
        "            golds.append(word_d)\n",
        "            data_predictions.loc[data_predictions.index[index], \"Prediction\"] = most_similar\n",
        "            data_predictions.loc[data_predictions.index[index], \"Gold\"] = word_d\n",
        "      except Exception as e:\n",
        "            print(f\"Couldn't predict the question: {e}\")\n",
        "            data_predictions.loc[data_predictions.index[index], \"Prediction\"] = None\n",
        "            data_predictions.loc[data_predictions.index[index], \"Gold\"] = None"
      ]
    },
    {
      "cell_type": "code",
      "execution_count": 26,
      "metadata": {},
      "outputs": [
        {
          "name": "stdout",
          "output_type": "stream",
          "text": [
            "Total amount of data predicted: 18891/19544\n"
          ]
        }
      ],
      "source": [
        "# There were many questions that could not be answer this time due to either the word being filtered as it is considered a stopword\n",
        "# Or maybe because it was infrequent (filtered min freq of 20) or because it was not inside the sampled part of the corpus\n",
        "\n",
        "print(f\"Total amount of data predicted: {len(preds)}/{len(data[\"Question\"])}\")"
      ]
    },
    {
      "cell_type": "code",
      "execution_count": 51,
      "metadata": {},
      "outputs": [
        {
          "name": "stdout",
          "output_type": "stream",
          "text": [
            "Category: Semantic, Count of Nones: 86\n",
            "Category: Syntactic, Count of Nones: 567\n",
            "Sub-Category: capital-common-countries, Count of Nones: 0\n",
            "Sub-Category: capital-world, Count of Nones: 0\n",
            "Sub-Category: currency, Count of Nones: 0\n",
            "Sub-Category: city-in-state, Count of Nones: 0\n",
            "Sub-Category: family, Count of Nones: 86\n",
            "Sub-Category: gram1-adjective-to-adverb, Count of Nones: 122\n",
            "Sub-Category: gram2-opposite, Count of Nones: 0\n",
            "Sub-Category: gram3-comparative, Count of Nones: 0\n",
            "Sub-Category: gram4-superlative, Count of Nones: 33\n",
            "Sub-Category: gram5-present-participle, Count of Nones: 244\n",
            "Sub-Category: gram6-nationality-adjective, Count of Nones: 0\n",
            "Sub-Category: gram7-past-tense, Count of Nones: 0\n",
            "Sub-Category: gram8-plural, Count of Nones: 0\n",
            "Sub-Category: gram9-plural-verbs, Count of Nones: 168\n"
          ]
        }
      ],
      "source": [
        "# Gemini helped me code this to get the data on the Nones per category and subcategory: \n",
        "for category in data_predictions[\"Category\"].unique():\n",
        "    masked_df = data_predictions.loc[data_predictions[\"Category\"]==category]\n",
        "    \n",
        "    # Count of Nones for the category\n",
        "    nones_per_category = masked_df['Prediction'].isnull().sum()\n",
        "    print(f\"Category: {category}, Count of Nones: {nones_per_category}\")\n",
        "\n",
        "for subcategory in data_predictions[\"SubCategory\"].unique():\n",
        "    masked_df = data_predictions.loc[data_predictions[\"SubCategory\"]==subcategory]\n",
        "    \n",
        "    # Count of Nones for the category\n",
        "    nones_per_subcategory = masked_df['Prediction'].isnull().sum()\n",
        "    print(f\"Sub-Category{subcategory}, Count of Nones: {nones_per_subcategory}\")"
      ]
    },
    {
      "cell_type": "code",
      "execution_count": 27,
      "metadata": {},
      "outputs": [
        {
          "data": {
            "text/html": [
              "<div>\n",
              "<style scoped>\n",
              "    .dataframe tbody tr th:only-of-type {\n",
              "        vertical-align: middle;\n",
              "    }\n",
              "\n",
              "    .dataframe tbody tr th {\n",
              "        vertical-align: top;\n",
              "    }\n",
              "\n",
              "    .dataframe thead th {\n",
              "        text-align: right;\n",
              "    }\n",
              "</style>\n",
              "<table border=\"1\" class=\"dataframe\">\n",
              "  <thead>\n",
              "    <tr style=\"text-align: right;\">\n",
              "      <th></th>\n",
              "      <th>Question</th>\n",
              "      <th>Category</th>\n",
              "      <th>SubCategory</th>\n",
              "      <th>Gold</th>\n",
              "      <th>Prediction</th>\n",
              "    </tr>\n",
              "  </thead>\n",
              "  <tbody>\n",
              "    <tr>\n",
              "      <th>0</th>\n",
              "      <td>Athens Greece Baghdad Iraq</td>\n",
              "      <td>Semantic</td>\n",
              "      <td>: capital-common-countries</td>\n",
              "      <td>iraq</td>\n",
              "      <td>syria</td>\n",
              "    </tr>\n",
              "    <tr>\n",
              "      <th>1</th>\n",
              "      <td>Athens Greece Bangkok Thailand</td>\n",
              "      <td>Semantic</td>\n",
              "      <td>: capital-common-countries</td>\n",
              "      <td>thailand</td>\n",
              "      <td>thailand</td>\n",
              "    </tr>\n",
              "    <tr>\n",
              "      <th>2</th>\n",
              "      <td>Athens Greece Beijing China</td>\n",
              "      <td>Semantic</td>\n",
              "      <td>: capital-common-countries</td>\n",
              "      <td>china</td>\n",
              "      <td>china</td>\n",
              "    </tr>\n",
              "    <tr>\n",
              "      <th>3</th>\n",
              "      <td>Athens Greece Berlin Germany</td>\n",
              "      <td>Semantic</td>\n",
              "      <td>: capital-common-countries</td>\n",
              "      <td>germany</td>\n",
              "      <td>germany</td>\n",
              "    </tr>\n",
              "    <tr>\n",
              "      <th>4</th>\n",
              "      <td>Athens Greece Bern Switzerland</td>\n",
              "      <td>Semantic</td>\n",
              "      <td>: capital-common-countries</td>\n",
              "      <td>switzerland</td>\n",
              "      <td>bern</td>\n",
              "    </tr>\n",
              "    <tr>\n",
              "      <th>...</th>\n",
              "      <td>...</td>\n",
              "      <td>...</td>\n",
              "      <td>...</td>\n",
              "      <td>...</td>\n",
              "      <td>...</td>\n",
              "    </tr>\n",
              "    <tr>\n",
              "      <th>19539</th>\n",
              "      <td>write writes talk talks</td>\n",
              "      <td>Syntactic</td>\n",
              "      <td>: gram9-plural-verbs</td>\n",
              "      <td>talks</td>\n",
              "      <td>talk</td>\n",
              "    </tr>\n",
              "    <tr>\n",
              "      <th>19540</th>\n",
              "      <td>write writes think thinks</td>\n",
              "      <td>Syntactic</td>\n",
              "      <td>: gram9-plural-verbs</td>\n",
              "      <td>thinks</td>\n",
              "      <td>think</td>\n",
              "    </tr>\n",
              "    <tr>\n",
              "      <th>19541</th>\n",
              "      <td>write writes vanish vanishes</td>\n",
              "      <td>Syntactic</td>\n",
              "      <td>: gram9-plural-verbs</td>\n",
              "      <td>vanishes</td>\n",
              "      <td>observes</td>\n",
              "    </tr>\n",
              "    <tr>\n",
              "      <th>19542</th>\n",
              "      <td>write writes walk walks</td>\n",
              "      <td>Syntactic</td>\n",
              "      <td>: gram9-plural-verbs</td>\n",
              "      <td>walks</td>\n",
              "      <td>walking</td>\n",
              "    </tr>\n",
              "    <tr>\n",
              "      <th>19543</th>\n",
              "      <td>write writes work works</td>\n",
              "      <td>Syntactic</td>\n",
              "      <td>: gram9-plural-verbs</td>\n",
              "      <td>works</td>\n",
              "      <td>work</td>\n",
              "    </tr>\n",
              "  </tbody>\n",
              "</table>\n",
              "<p>19544 rows × 5 columns</p>\n",
              "</div>"
            ],
            "text/plain": [
              "                             Question   Category                 SubCategory  \\\n",
              "0          Athens Greece Baghdad Iraq   Semantic  : capital-common-countries   \n",
              "1      Athens Greece Bangkok Thailand   Semantic  : capital-common-countries   \n",
              "2         Athens Greece Beijing China   Semantic  : capital-common-countries   \n",
              "3        Athens Greece Berlin Germany   Semantic  : capital-common-countries   \n",
              "4      Athens Greece Bern Switzerland   Semantic  : capital-common-countries   \n",
              "...                               ...        ...                         ...   \n",
              "19539         write writes talk talks  Syntactic        : gram9-plural-verbs   \n",
              "19540       write writes think thinks  Syntactic        : gram9-plural-verbs   \n",
              "19541    write writes vanish vanishes  Syntactic        : gram9-plural-verbs   \n",
              "19542         write writes walk walks  Syntactic        : gram9-plural-verbs   \n",
              "19543         write writes work works  Syntactic        : gram9-plural-verbs   \n",
              "\n",
              "              Gold Prediction  \n",
              "0             iraq      syria  \n",
              "1         thailand   thailand  \n",
              "2            china      china  \n",
              "3          germany    germany  \n",
              "4      switzerland       bern  \n",
              "...            ...        ...  \n",
              "19539        talks       talk  \n",
              "19540       thinks      think  \n",
              "19541     vanishes   observes  \n",
              "19542        walks    walking  \n",
              "19543        works       work  \n",
              "\n",
              "[19544 rows x 5 columns]"
            ]
          },
          "execution_count": 27,
          "metadata": {},
          "output_type": "execute_result"
        }
      ],
      "source": [
        "data_predictions"
      ]
    },
    {
      "cell_type": "code",
      "execution_count": 29,
      "metadata": {},
      "outputs": [
        {
          "name": "stdout",
          "output_type": "stream",
          "text": [
            "None values per column:\n",
            "Question         0\n",
            "Category         0\n",
            "SubCategory      0\n",
            "Gold           653\n",
            "Prediction     653\n",
            "dtype: int64\n"
          ]
        }
      ],
      "source": [
        "none_counts_per_column = data_predictions.isna().sum()\n",
        "print(\"None values per column:\")\n",
        "print(none_counts_per_column)"
      ]
    },
    {
      "cell_type": "code",
      "execution_count": 32,
      "metadata": {},
      "outputs": [
        {
          "name": "stdout",
          "output_type": "stream",
          "text": [
            "Category: Semantic, Accuracy: 24.72657571315819%\n",
            "Category: Syntactic, Accuracy: 19.971896955503514%\n",
            "Sub-Category: capital-common-countries, Accuracy: 61.26482213438735%\n",
            "Sub-Category: capital-world, Accuracy: 30.636604774535808%\n",
            "Sub-Category: currency, Accuracy: 0.5773672055427251%\n",
            "Sub-Category: city-in-state, Accuracy: 10.620186461289014%\n",
            "Sub-Category: family, Accuracy: 45.45454545454545%\n",
            "Sub-Category: gram1-adjective-to-adverb, Accuracy: 14.616935483870968%\n",
            "Sub-Category: gram2-opposite, Accuracy: 0.6157635467980296%\n",
            "Sub-Category: gram3-comparative, Accuracy: 7.657657657657657%\n",
            "Sub-Category: gram4-superlative, Accuracy: 6.23885918003565%\n",
            "Sub-Category: gram5-present-participle, Accuracy: 24.90530303030303%\n",
            "Sub-Category: gram6-nationality-adjective, Accuracy: 70.35647279549718%\n",
            "Sub-Category: gram7-past-tense, Accuracy: 7.179487179487179%\n",
            "Sub-Category: gram8-plural, Accuracy: 5.63063063063063%\n",
            "Sub-Category: gram9-plural-verbs, Accuracy: 27.011494252873565%\n"
          ]
        }
      ],
      "source": [
        "import numpy as np\n",
        "# Perform evaluations. You do not need to modify this block!!\n",
        "\n",
        "def calculate_accuracy(gold: np.ndarray, pred: np.ndarray) -> float:\n",
        "    return np.mean(gold == pred)\n",
        "\n",
        "golds_np, preds_np = np.array(golds), np.array(preds)\n",
        "# data = pd.read_csv(\"questions-words.csv\")\n",
        "\n",
        "# Evaluation: categories\n",
        "for category in data_predictions[\"Category\"].unique():\n",
        "    # mask = data_predictions[\"Category\"] == category \n",
        "    masked_df = data_predictions.loc[data_predictions[\"Category\"]==category]\n",
        "    # golds_cat = masked_df.loc[~masked_df[\"Gold\"].isna()].to_numpy()\n",
        "    # preds_cat = masked_df.loc[~masked_df[\"Prediction\"].isna()].to_numpy()\n",
        "    golds_cat = masked_df[\"Gold\"].to_numpy()\n",
        "    preds_cat = masked_df[\"Prediction\"].to_numpy()\n",
        "    # golds_cat, preds_cat = golds_np[mask], preds_np[mask]\n",
        "    acc_cat = calculate_accuracy(golds_cat, preds_cat)\n",
        "    print(f\"Category: {category}, Accuracy: {acc_cat * 100}%\")\n",
        "\n",
        "# Evaluation: sub-categories\n",
        "for sub_category in data_predictions[\"SubCategory\"].unique():\n",
        "    # mask = data_predictions[\"SubCategory\"] == sub_category\n",
        "    # golds_subcat, preds_subcat = golds_np[mask], preds_np[mask]\n",
        "    masked_df = data_predictions.loc[data_predictions[\"SubCategory\"]==sub_category]\n",
        "    golds_subcat = masked_df[\"Gold\"].to_numpy()\n",
        "    preds_subcat = masked_df[\"Prediction\"].to_numpy()\n",
        "    acc_subcat = calculate_accuracy(golds_subcat, preds_subcat)\n",
        "    print(f\"Sub-Category{sub_category}, Accuracy: {acc_subcat * 100}%\")"
      ]
    },
    {
      "cell_type": "code",
      "execution_count": null,
      "metadata": {
        "id": "AjZ14dQL0mhf"
      },
      "outputs": [
        {
          "name": "stdout",
          "output_type": "stream",
          "text": [
            "Couldn't get the embeddings: \"Key 'her' not present\"\n",
            "Couldn't get the embeddings: \"Key 'he' not present\"\n",
            "Couldn't get the embeddings: \"Key 'his' not present\"\n",
            "Couldn't get the embeddings: \"Key 'she' not present\"\n"
          ]
        },
        {
          "data": {
            "image/png": "[encoded data removed]",
            "text/plain": [
              "<Figure size 1000x1000 with 1 Axes>"
            ]
          },
          "metadata": {},
          "output_type": "display_data"
        },
        {
          "data": {
            "text/plain": [
              "<Figure size 640x480 with 0 Axes>"
            ]
          },
          "metadata": {},
          "output_type": "display_data"
        }
      ],
      "source": [
        "# Collect words from Google Analogy dataset\n",
        "SUB_CATEGORY = \": family\"\n",
        "\n",
        "# TODO7: Plot t-SNE for the words in the SUB_CATEGORY `: family`\n",
        "from sklearn.manifold import TSNE\n",
        "\n",
        "# Definint the t-SNE 2D representation\n",
        "tsne = TSNE(n_components=2, metric='cosine', random_state=42)\n",
        "\n",
        "family_vect_data = []\n",
        "words_to_plot = set()\n",
        "\n",
        "# Obtaining all the unique words from the analogies in the 'family' subcategory\n",
        "for analogy in data[data['SubCategory'] == \": family\"].iloc[:][\"Question\"]:\n",
        "    for word in analogy.split(\" \"):\n",
        "        words_to_plot.add(word.lower())\n",
        "\n",
        "# Obtaining the embedding vectors of the unique words in the subcategory\n",
        "for word in words_to_plot:\n",
        "    # Some words are not in the vocabulary, so I needed to filter them\n",
        "    try:\n",
        "        family_vect_data.append(word2vec_model.wv[word.lower()])\n",
        "    except Exception as e:\n",
        "        print(f\"Couldn't get the embeddings: {e}\")\n",
        "\n",
        "# Obtaining the tsne 2D representation of the embeddings\n",
        "converted_vec = tsne.fit_transform(np.array(family_vect_data))\n",
        "\n",
        "\n",
        "# Plotting the figure\n",
        "plt.figure(figsize=(10, 10), dpi=100)\n",
        "plt.scatter(converted_vec[:, 0], converted_vec[:, 1])\n",
        "\n",
        "# Labeling each point with the related word\n",
        "for label, x, y in zip(words_to_plot, converted_vec[:, 0], converted_vec[:, 1]):\n",
        "    plt.annotate(label, xy=(x,y), xytext=(0,0),  textcoords='offset points')\n",
        "plt.title(\"Word Relationships from Google Analogy Task\")\n",
        "plt.show()\n",
        "plt.savefig(\"word_relationships_new_model.png\", bbox_inches=\"tight\")"
      ]
    }
  ],
  "metadata": {
    "colab": {
      "provenance": []
    },
    "kernelspec": {
      "display_name": "NLP_HW1",
      "language": "python",
      "name": "python3"
    },
    "language_info": {
      "codemirror_mode": {
        "name": "ipython",
        "version": 3
      },
      "file_extension": ".py",
      "mimetype": "text/x-python",
      "name": "python",
      "nbconvert_exporter": "python",
      "pygments_lexer": "ipython3",
      "version": "3.12.11"
    },
    "widgets": {
      "application/vnd.jupyter.widget-state+json": {
        "03fa3a08947c43d986b677195ce55c38": {
          "model_module": "@jupyter-widgets/controls",
          "model_module_version": "1.5.0",
          "model_name": "HTMLModel",
          "state": {
            "_dom_classes": [],
            "_model_module": "@jupyter-widgets/controls",
            "_model_module_version": "1.5.0",
            "_model_name": "HTMLModel",
            "_view_count": null,
            "_view_module": "@jupyter-widgets/controls",
            "_view_module_version": "1.5.0",
            "_view_name": "HTMLView",
            "description": "",
            "description_tooltip": null,
            "layout": "IPY_MODEL_eafb53f02cad41ce8e6f6dd0cb33c535",
            "placeholder": "​",
            "style": "IPY_MODEL_b8fe19eb72e949f686f4962022a0486c",
            "value": "100%"
          }
        },
        "04066a1513eb45c0872bb8492fc14802": {
          "model_module": "@jupyter-widgets/controls",
          "model_module_version": "1.5.0",
          "model_name": "HTMLModel",
          "state": {
            "_dom_classes": [],
            "_model_module": "@jupyter-widgets/controls",
            "_model_module_version": "1.5.0",
            "_model_name": "HTMLModel",
            "_view_count": null,
            "_view_module": "@jupyter-widgets/controls",
            "_view_module_version": "1.5.0",
            "_view_name": "HTMLView",
            "description": "",
            "description_tooltip": null,
            "layout": "IPY_MODEL_95b260a00a2f4a76a2016f993fce0f42",
            "placeholder": "​",
            "style": "IPY_MODEL_767a267f04394736a9ca94250cff2e6c",
            "value": " 125M/125M [00:02&lt;00:00, 43.2MB/s]"
          }
        },
        "767a267f04394736a9ca94250cff2e6c": {
          "model_module": "@jupyter-widgets/controls",
          "model_module_version": "1.5.0",
          "model_name": "DescriptionStyleModel",
          "state": {
            "_model_module": "@jupyter-widgets/controls",
            "_model_module_version": "1.5.0",
            "_model_name": "DescriptionStyleModel",
            "_view_count": null,
            "_view_module": "@jupyter-widgets/base",
            "_view_module_version": "1.2.0",
            "_view_name": "StyleView",
            "description_width": ""
          }
        },
        "95b260a00a2f4a76a2016f993fce0f42": {
          "model_module": "@jupyter-widgets/base",
          "model_module_version": "1.2.0",
          "model_name": "LayoutModel",
          "state": {
            "_model_module": "@jupyter-widgets/base",
            "_model_module_version": "1.2.0",
            "_model_name": "LayoutModel",
            "_view_count": null,
            "_view_module": "@jupyter-widgets/base",
            "_view_module_version": "1.2.0",
            "_view_name": "LayoutView",
            "align_content": null,
            "align_items": null,
            "align_self": null,
            "border": null,
            "bottom": null,
            "display": null,
            "flex": null,
            "flex_flow": null,
            "grid_area": null,
            "grid_auto_columns": null,
            "grid_auto_flow": null,
            "grid_auto_rows": null,
            "grid_column": null,
            "grid_gap": null,
            "grid_row": null,
            "grid_template_areas": null,
            "grid_template_columns": null,
            "grid_template_rows": null,
            "height": null,
            "justify_content": null,
            "justify_items": null,
            "left": null,
            "margin": null,
            "max_height": null,
            "max_width": null,
            "min_height": null,
            "min_width": null,
            "object_fit": null,
            "object_position": null,
            "order": null,
            "overflow": null,
            "overflow_x": null,
            "overflow_y": null,
            "padding": null,
            "right": null,
            "top": null,
            "visibility": null,
            "width": null
          }
        },
        "a022786a6add48c7a1aedb0d7a28d4ae": {
          "model_module": "@jupyter-widgets/base",
          "model_module_version": "1.2.0",
          "model_name": "LayoutModel",
          "state": {
            "_model_module": "@jupyter-widgets/base",
            "_model_module_version": "1.2.0",
            "_model_name": "LayoutModel",
            "_view_count": null,
            "_view_module": "@jupyter-widgets/base",
            "_view_module_version": "1.2.0",
            "_view_name": "LayoutView",
            "align_content": null,
            "align_items": null,
            "align_self": null,
            "border": null,
            "bottom": null,
            "display": null,
            "flex": null,
            "flex_flow": null,
            "grid_area": null,
            "grid_auto_columns": null,
            "grid_auto_flow": null,
            "grid_auto_rows": null,
            "grid_column": null,
            "grid_gap": null,
            "grid_row": null,
            "grid_template_areas": null,
            "grid_template_columns": null,
            "grid_template_rows": null,
            "height": null,
            "justify_content": null,
            "justify_items": null,
            "left": null,
            "margin": null,
            "max_height": null,
            "max_width": null,
            "min_height": null,
            "min_width": null,
            "object_fit": null,
            "object_position": null,
            "order": null,
            "overflow": null,
            "overflow_x": null,
            "overflow_y": null,
            "padding": null,
            "right": null,
            "top": null,
            "visibility": null,
            "width": null
          }
        },
        "afb90426e03e48c2b5850ccc1f297697": {
          "model_module": "@jupyter-widgets/controls",
          "model_module_version": "1.5.0",
          "model_name": "FloatProgressModel",
          "state": {
            "_dom_classes": [],
            "_model_module": "@jupyter-widgets/controls",
            "_model_module_version": "1.5.0",
            "_model_name": "FloatProgressModel",
            "_view_count": null,
            "_view_module": "@jupyter-widgets/controls",
            "_view_module_version": "1.5.0",
            "_view_name": "ProgressView",
            "bar_style": "success",
            "description": "",
            "description_tooltip": null,
            "layout": "IPY_MODEL_a022786a6add48c7a1aedb0d7a28d4ae",
            "max": 131266198,
            "min": 0,
            "orientation": "horizontal",
            "style": "IPY_MODEL_b228aff8c07f400c9db57fbfdbfd9de4",
            "value": 131266198
          }
        },
        "b228aff8c07f400c9db57fbfdbfd9de4": {
          "model_module": "@jupyter-widgets/controls",
          "model_module_version": "1.5.0",
          "model_name": "ProgressStyleModel",
          "state": {
            "_model_module": "@jupyter-widgets/controls",
            "_model_module_version": "1.5.0",
            "_model_name": "ProgressStyleModel",
            "_view_count": null,
            "_view_module": "@jupyter-widgets/base",
            "_view_module_version": "1.2.0",
            "_view_name": "StyleView",
            "bar_color": null,
            "description_width": ""
          }
        },
        "b5d5ec3a793048ff94fd4aff9a2ee4d8": {
          "model_module": "@jupyter-widgets/base",
          "model_module_version": "1.2.0",
          "model_name": "LayoutModel",
          "state": {
            "_model_module": "@jupyter-widgets/base",
            "_model_module_version": "1.2.0",
            "_model_name": "LayoutModel",
            "_view_count": null,
            "_view_module": "@jupyter-widgets/base",
            "_view_module_version": "1.2.0",
            "_view_name": "LayoutView",
            "align_content": null,
            "align_items": null,
            "align_self": null,
            "border": null,
            "bottom": null,
            "display": null,
            "flex": null,
            "flex_flow": null,
            "grid_area": null,
            "grid_auto_columns": null,
            "grid_auto_flow": null,
            "grid_auto_rows": null,
            "grid_column": null,
            "grid_gap": null,
            "grid_row": null,
            "grid_template_areas": null,
            "grid_template_columns": null,
            "grid_template_rows": null,
            "height": null,
            "justify_content": null,
            "justify_items": null,
            "left": null,
            "margin": null,
            "max_height": null,
            "max_width": null,
            "min_height": null,
            "min_width": null,
            "object_fit": null,
            "object_position": null,
            "order": null,
            "overflow": null,
            "overflow_x": null,
            "overflow_y": null,
            "padding": null,
            "right": null,
            "top": null,
            "visibility": null,
            "width": null
          }
        },
        "b8fe19eb72e949f686f4962022a0486c": {
          "model_module": "@jupyter-widgets/controls",
          "model_module_version": "1.5.0",
          "model_name": "DescriptionStyleModel",
          "state": {
            "_model_module": "@jupyter-widgets/controls",
            "_model_module_version": "1.5.0",
            "_model_name": "DescriptionStyleModel",
            "_view_count": null,
            "_view_module": "@jupyter-widgets/base",
            "_view_module_version": "1.2.0",
            "_view_name": "StyleView",
            "description_width": ""
          }
        },
        "e47bbbf41e2042c7ac73833775b47ac4": {
          "model_module": "@jupyter-widgets/controls",
          "model_module_version": "1.5.0",
          "model_name": "HBoxModel",
          "state": {
            "_dom_classes": [],
            "_model_module": "@jupyter-widgets/controls",
            "_model_module_version": "1.5.0",
            "_model_name": "HBoxModel",
            "_view_count": null,
            "_view_module": "@jupyter-widgets/controls",
            "_view_module_version": "1.5.0",
            "_view_name": "HBoxView",
            "box_style": "",
            "children": [
              "IPY_MODEL_03fa3a08947c43d986b677195ce55c38",
              "IPY_MODEL_afb90426e03e48c2b5850ccc1f297697",
              "IPY_MODEL_04066a1513eb45c0872bb8492fc14802"
            ],
            "layout": "IPY_MODEL_b5d5ec3a793048ff94fd4aff9a2ee4d8"
          }
        },
        "eafb53f02cad41ce8e6f6dd0cb33c535": {
          "model_module": "@jupyter-widgets/base",
          "model_module_version": "1.2.0",
          "model_name": "LayoutModel",
          "state": {
            "_model_module": "@jupyter-widgets/base",
            "_model_module_version": "1.2.0",
            "_model_name": "LayoutModel",
            "_view_count": null,
            "_view_module": "@jupyter-widgets/base",
            "_view_module_version": "1.2.0",
            "_view_name": "LayoutView",
            "align_content": null,
            "align_items": null,
            "align_self": null,
            "border": null,
            "bottom": null,
            "display": null,
            "flex": null,
            "flex_flow": null,
            "grid_area": null,
            "grid_auto_columns": null,
            "grid_auto_flow": null,
            "grid_auto_rows": null,
            "grid_column": null,
            "grid_gap": null,
            "grid_row": null,
            "grid_template_areas": null,
            "grid_template_columns": null,
            "grid_template_rows": null,
            "height": null,
            "justify_content": null,
            "justify_items": null,
            "left": null,
            "margin": null,
            "max_height": null,
            "max_width": null,
            "min_height": null,
            "min_width": null,
            "object_fit": null,
            "object_position": null,
            "order": null,
            "overflow": null,
            "overflow_x": null,
            "overflow_y": null,
            "padding": null,
            "right": null,
            "top": null,
            "visibility": null,
            "width": null
          }
        }
      }
    }
  },
  "nbformat": 4,
  "nbformat_minor": 0
}
